{
 "cells": [
  {
   "cell_type": "code",
   "execution_count": null,
   "id": "884fb562-00ab-4048-952f-ee717e3f9963",
   "metadata": {},
   "outputs": [],
   "source": []
  },
  {
   "cell_type": "markdown",
   "id": "7d33c695-5500-4632-9a9d-3055992d4e56",
   "metadata": {},
   "source": [
    "# Titanic\n",
    "\n",
    "#### 25/10/2023\n",
    "\n",
    "* **1. Importing libriaries.**\n",
    "* **2. Loading data and preprocessing.**\n",
    "    * 2.1 Load data.\n",
    "    * 2.2 Data dictionary.\n",
    "    * 2.3 Outlier detection and removal.\n",
    "* **3. Exploratory Data Analysis (EDA).**\n",
    "    * 3.1 Explore data.\n",
    "    * 3.2 Checking data for duplicates, null and missing values.\n",
    "* **4. Feature analysis.**\n",
    "  \n",
    "        4.1 Describing features.\n",
    "        4.2 Categorical values.\n",
    "        4.3 Numerical values.\n",
    "        4.4 Feature Relationships.\n",
    "        4.5 Ask Questions about the data.\n",
    "  .\n",
    "* **5. Data preprocesing.**\n",
    "    * 5.1 Concatenating train and test set\n",
    "    * 5.2 Filling missing Values\n",
    "\n",
    "* **6 Feature engineering.**\n",
    "    * 6.1 Name/Title\n",
    "    * 6.2 Cabin\n",
    "    * 6.3 Age/Pclass\n",
    "    * 6.4 Family Size\n",
    "* **7 Modeling.**\n",
    "    * 7.1 Encoding features.\n",
    "    \n",
    "    * 7.2 Applying ML models with evaluation (score, f1, precision, recall).\n",
    "        * Logistic Regression.\n",
    "        * SVC Support Vector Machines.\n",
    "        * Linear SVC.\n",
    "        * SGD - Stochastic Gradient Decent.\n",
    "        * K- Nearest Neigbours.\n",
    "        * GNB - Gaussian Naive Base.\n",
    "        * Perceptron.\n",
    "        * DTC - Decision Tree CLassifier.\n",
    "        * RF - Random Forest (ensable method).\n",
    "        * Catboost.\n",
    "        * Adaboost.\n",
    "    * 7.3 Compering all models & chosing the best performing one.\n",
    "    * 7.4 One more look at features, engineered features, Ticket, trying new features and reload models.\n",
    "    * 7.5 Creating a pipeline with selected models, applying PCA, Select-K features, hyperparameter tuning and cross validation.\n",
    "    * 7.6 Simple modeling.\n",
    "        * 7.6.1 Cross validate models.\n",
    "        * 7.6.2 Hyperparamater tunning for best models.\n",
    "        * 7.6.3 Plot learning curves.\n",
    "        * 7.6.4 Feature importance of the tree based classifiers.\n",
    "    * 7.7 Ensemble modeling.\n",
    "        * Combining models.\n",
    "    * 7.8 Prediction.\n",
    "        * Predict and submit the results."
   ]
  },
  {
   "cell_type": "markdown",
   "id": "87042c4a-e2a2-45d7-a60f-f7d8102bdc8b",
   "metadata": {},
   "source": [
    "### 1. Importing libraries."
   ]
  },
  {
   "cell_type": "code",
   "execution_count": 1,
   "id": "f2fc4f3c-0ddd-46ce-b653-25081ac888bf",
   "metadata": {},
   "outputs": [],
   "source": [
    "import pandas as pd\n",
    "import numpy as np\n",
    "import missingno\n",
    "from collections import Counter\n",
    "\n",
    "import matplotlib.pyplot as plt\n",
    "import seaborn as sns\n",
    "\n",
    "import warnings\n",
    "warnings.filterwarnings(\"ignore\")\n",
    "\n",
    "from sklearn.ensemble import RandomForestClassifier, AdaBoostClassifier, GradientBoostingClassifier, ExtraTreesClassifier, VotingClassifier\n",
    "from sklearn.discriminant_analysis import LinearDiscriminantAnalysis\n",
    "from sklearn.linear_model import LogisticRegression\n",
    "from sklearn.neighbors import KNeighborsClassifier\n",
    "from sklearn.tree import DecisionTreeClassifier\n",
    "from sklearn.neural_network import MLPClassifier\n",
    "from sklearn.svm import SVC\n",
    "from sklearn.model_selection import GridSearchCV, cross_val_score, StratifiedKFold, learning_curve\n",
    "\n",
    "sns.set(style='white', context='notebook', palette='deep')\n"
   ]
  },
  {
   "cell_type": "markdown",
   "id": "8f6cb4ad-3435-4263-9cd7-752836061a83",
   "metadata": {},
   "source": [
    "##### 2.1 Loading data."
   ]
  },
  {
   "cell_type": "code",
   "execution_count": 2,
   "id": "a7985b49-5322-4c3d-b27c-2b44dfdd9eb1",
   "metadata": {},
   "outputs": [],
   "source": [
    "train = pd.read_csv('train.csv')\n",
    "test = pd.read_csv('test.csv')\n",
    "testId = test.PassengerId\n",
    "submission = pd.read_csv('gender_submission.csv')"
   ]
  },
  {
   "cell_type": "code",
   "execution_count": 3,
   "id": "50007815-7993-4dca-9b4b-2b8998c3c561",
   "metadata": {},
   "outputs": [
    {
     "data": {
      "text/html": [
       "<div>\n",
       "<style scoped>\n",
       "    .dataframe tbody tr th:only-of-type {\n",
       "        vertical-align: middle;\n",
       "    }\n",
       "\n",
       "    .dataframe tbody tr th {\n",
       "        vertical-align: top;\n",
       "    }\n",
       "\n",
       "    .dataframe thead th {\n",
       "        text-align: right;\n",
       "    }\n",
       "</style>\n",
       "<table border=\"1\" class=\"dataframe\">\n",
       "  <thead>\n",
       "    <tr style=\"text-align: right;\">\n",
       "      <th></th>\n",
       "      <th>PassengerId</th>\n",
       "      <th>Survived</th>\n",
       "      <th>Pclass</th>\n",
       "      <th>Name</th>\n",
       "      <th>Sex</th>\n",
       "      <th>Age</th>\n",
       "      <th>SibSp</th>\n",
       "      <th>Parch</th>\n",
       "      <th>Ticket</th>\n",
       "      <th>Fare</th>\n",
       "      <th>Cabin</th>\n",
       "      <th>Embarked</th>\n",
       "    </tr>\n",
       "  </thead>\n",
       "  <tbody>\n",
       "    <tr>\n",
       "      <th>0</th>\n",
       "      <td>1</td>\n",
       "      <td>0</td>\n",
       "      <td>3</td>\n",
       "      <td>Braund, Mr. Owen Harris</td>\n",
       "      <td>male</td>\n",
       "      <td>22.0</td>\n",
       "      <td>1</td>\n",
       "      <td>0</td>\n",
       "      <td>A/5 21171</td>\n",
       "      <td>7.2500</td>\n",
       "      <td>NaN</td>\n",
       "      <td>S</td>\n",
       "    </tr>\n",
       "    <tr>\n",
       "      <th>1</th>\n",
       "      <td>2</td>\n",
       "      <td>1</td>\n",
       "      <td>1</td>\n",
       "      <td>Cumings, Mrs. John Bradley (Florence Briggs Th...</td>\n",
       "      <td>female</td>\n",
       "      <td>38.0</td>\n",
       "      <td>1</td>\n",
       "      <td>0</td>\n",
       "      <td>PC 17599</td>\n",
       "      <td>71.2833</td>\n",
       "      <td>C85</td>\n",
       "      <td>C</td>\n",
       "    </tr>\n",
       "    <tr>\n",
       "      <th>2</th>\n",
       "      <td>3</td>\n",
       "      <td>1</td>\n",
       "      <td>3</td>\n",
       "      <td>Heikkinen, Miss. Laina</td>\n",
       "      <td>female</td>\n",
       "      <td>26.0</td>\n",
       "      <td>0</td>\n",
       "      <td>0</td>\n",
       "      <td>STON/O2. 3101282</td>\n",
       "      <td>7.9250</td>\n",
       "      <td>NaN</td>\n",
       "      <td>S</td>\n",
       "    </tr>\n",
       "    <tr>\n",
       "      <th>3</th>\n",
       "      <td>4</td>\n",
       "      <td>1</td>\n",
       "      <td>1</td>\n",
       "      <td>Futrelle, Mrs. Jacques Heath (Lily May Peel)</td>\n",
       "      <td>female</td>\n",
       "      <td>35.0</td>\n",
       "      <td>1</td>\n",
       "      <td>0</td>\n",
       "      <td>113803</td>\n",
       "      <td>53.1000</td>\n",
       "      <td>C123</td>\n",
       "      <td>S</td>\n",
       "    </tr>\n",
       "    <tr>\n",
       "      <th>4</th>\n",
       "      <td>5</td>\n",
       "      <td>0</td>\n",
       "      <td>3</td>\n",
       "      <td>Allen, Mr. William Henry</td>\n",
       "      <td>male</td>\n",
       "      <td>35.0</td>\n",
       "      <td>0</td>\n",
       "      <td>0</td>\n",
       "      <td>373450</td>\n",
       "      <td>8.0500</td>\n",
       "      <td>NaN</td>\n",
       "      <td>S</td>\n",
       "    </tr>\n",
       "  </tbody>\n",
       "</table>\n",
       "</div>"
      ],
      "text/plain": [
       "   PassengerId  Survived  Pclass  \\\n",
       "0            1         0       3   \n",
       "1            2         1       1   \n",
       "2            3         1       3   \n",
       "3            4         1       1   \n",
       "4            5         0       3   \n",
       "\n",
       "                                                Name     Sex   Age  SibSp  \\\n",
       "0                            Braund, Mr. Owen Harris    male  22.0      1   \n",
       "1  Cumings, Mrs. John Bradley (Florence Briggs Th...  female  38.0      1   \n",
       "2                             Heikkinen, Miss. Laina  female  26.0      0   \n",
       "3       Futrelle, Mrs. Jacques Heath (Lily May Peel)  female  35.0      1   \n",
       "4                           Allen, Mr. William Henry    male  35.0      0   \n",
       "\n",
       "   Parch            Ticket     Fare Cabin Embarked  \n",
       "0      0         A/5 21171   7.2500   NaN        S  \n",
       "1      0          PC 17599  71.2833   C85        C  \n",
       "2      0  STON/O2. 3101282   7.9250   NaN        S  \n",
       "3      0            113803  53.1000  C123        S  \n",
       "4      0            373450   8.0500   NaN        S  "
      ]
     },
     "execution_count": 3,
     "metadata": {},
     "output_type": "execute_result"
    }
   ],
   "source": [
    "train.head()"
   ]
  },
  {
   "cell_type": "code",
   "execution_count": 4,
   "id": "6688166d-607a-4127-a23e-a0c40c25086c",
   "metadata": {},
   "outputs": [
    {
     "data": {
      "text/html": [
       "<div>\n",
       "<style scoped>\n",
       "    .dataframe tbody tr th:only-of-type {\n",
       "        vertical-align: middle;\n",
       "    }\n",
       "\n",
       "    .dataframe tbody tr th {\n",
       "        vertical-align: top;\n",
       "    }\n",
       "\n",
       "    .dataframe thead th {\n",
       "        text-align: right;\n",
       "    }\n",
       "</style>\n",
       "<table border=\"1\" class=\"dataframe\">\n",
       "  <thead>\n",
       "    <tr style=\"text-align: right;\">\n",
       "      <th></th>\n",
       "      <th>PassengerId</th>\n",
       "      <th>Pclass</th>\n",
       "      <th>Name</th>\n",
       "      <th>Sex</th>\n",
       "      <th>Age</th>\n",
       "      <th>SibSp</th>\n",
       "      <th>Parch</th>\n",
       "      <th>Ticket</th>\n",
       "      <th>Fare</th>\n",
       "      <th>Cabin</th>\n",
       "      <th>Embarked</th>\n",
       "    </tr>\n",
       "  </thead>\n",
       "  <tbody>\n",
       "    <tr>\n",
       "      <th>0</th>\n",
       "      <td>892</td>\n",
       "      <td>3</td>\n",
       "      <td>Kelly, Mr. James</td>\n",
       "      <td>male</td>\n",
       "      <td>34.5</td>\n",
       "      <td>0</td>\n",
       "      <td>0</td>\n",
       "      <td>330911</td>\n",
       "      <td>7.8292</td>\n",
       "      <td>NaN</td>\n",
       "      <td>Q</td>\n",
       "    </tr>\n",
       "    <tr>\n",
       "      <th>1</th>\n",
       "      <td>893</td>\n",
       "      <td>3</td>\n",
       "      <td>Wilkes, Mrs. James (Ellen Needs)</td>\n",
       "      <td>female</td>\n",
       "      <td>47.0</td>\n",
       "      <td>1</td>\n",
       "      <td>0</td>\n",
       "      <td>363272</td>\n",
       "      <td>7.0000</td>\n",
       "      <td>NaN</td>\n",
       "      <td>S</td>\n",
       "    </tr>\n",
       "    <tr>\n",
       "      <th>2</th>\n",
       "      <td>894</td>\n",
       "      <td>2</td>\n",
       "      <td>Myles, Mr. Thomas Francis</td>\n",
       "      <td>male</td>\n",
       "      <td>62.0</td>\n",
       "      <td>0</td>\n",
       "      <td>0</td>\n",
       "      <td>240276</td>\n",
       "      <td>9.6875</td>\n",
       "      <td>NaN</td>\n",
       "      <td>Q</td>\n",
       "    </tr>\n",
       "    <tr>\n",
       "      <th>3</th>\n",
       "      <td>895</td>\n",
       "      <td>3</td>\n",
       "      <td>Wirz, Mr. Albert</td>\n",
       "      <td>male</td>\n",
       "      <td>27.0</td>\n",
       "      <td>0</td>\n",
       "      <td>0</td>\n",
       "      <td>315154</td>\n",
       "      <td>8.6625</td>\n",
       "      <td>NaN</td>\n",
       "      <td>S</td>\n",
       "    </tr>\n",
       "    <tr>\n",
       "      <th>4</th>\n",
       "      <td>896</td>\n",
       "      <td>3</td>\n",
       "      <td>Hirvonen, Mrs. Alexander (Helga E Lindqvist)</td>\n",
       "      <td>female</td>\n",
       "      <td>22.0</td>\n",
       "      <td>1</td>\n",
       "      <td>1</td>\n",
       "      <td>3101298</td>\n",
       "      <td>12.2875</td>\n",
       "      <td>NaN</td>\n",
       "      <td>S</td>\n",
       "    </tr>\n",
       "  </tbody>\n",
       "</table>\n",
       "</div>"
      ],
      "text/plain": [
       "   PassengerId  Pclass                                          Name     Sex  \\\n",
       "0          892       3                              Kelly, Mr. James    male   \n",
       "1          893       3              Wilkes, Mrs. James (Ellen Needs)  female   \n",
       "2          894       2                     Myles, Mr. Thomas Francis    male   \n",
       "3          895       3                              Wirz, Mr. Albert    male   \n",
       "4          896       3  Hirvonen, Mrs. Alexander (Helga E Lindqvist)  female   \n",
       "\n",
       "    Age  SibSp  Parch   Ticket     Fare Cabin Embarked  \n",
       "0  34.5      0      0   330911   7.8292   NaN        Q  \n",
       "1  47.0      1      0   363272   7.0000   NaN        S  \n",
       "2  62.0      0      0   240276   9.6875   NaN        Q  \n",
       "3  27.0      0      0   315154   8.6625   NaN        S  \n",
       "4  22.0      1      1  3101298  12.2875   NaN        S  "
      ]
     },
     "execution_count": 4,
     "metadata": {},
     "output_type": "execute_result"
    }
   ],
   "source": [
    "test.head()"
   ]
  },
  {
   "cell_type": "code",
   "execution_count": 5,
   "id": "7ed82331-6be5-4da6-838c-76dd8d48eaeb",
   "metadata": {
    "scrolled": true
   },
   "outputs": [
    {
     "data": {
      "text/html": [
       "<div>\n",
       "<style scoped>\n",
       "    .dataframe tbody tr th:only-of-type {\n",
       "        vertical-align: middle;\n",
       "    }\n",
       "\n",
       "    .dataframe tbody tr th {\n",
       "        vertical-align: top;\n",
       "    }\n",
       "\n",
       "    .dataframe thead th {\n",
       "        text-align: right;\n",
       "    }\n",
       "</style>\n",
       "<table border=\"1\" class=\"dataframe\">\n",
       "  <thead>\n",
       "    <tr style=\"text-align: right;\">\n",
       "      <th></th>\n",
       "      <th>PassengerId</th>\n",
       "      <th>Survived</th>\n",
       "    </tr>\n",
       "  </thead>\n",
       "  <tbody>\n",
       "    <tr>\n",
       "      <th>0</th>\n",
       "      <td>892</td>\n",
       "      <td>0</td>\n",
       "    </tr>\n",
       "    <tr>\n",
       "      <th>1</th>\n",
       "      <td>893</td>\n",
       "      <td>1</td>\n",
       "    </tr>\n",
       "    <tr>\n",
       "      <th>2</th>\n",
       "      <td>894</td>\n",
       "      <td>0</td>\n",
       "    </tr>\n",
       "    <tr>\n",
       "      <th>3</th>\n",
       "      <td>895</td>\n",
       "      <td>0</td>\n",
       "    </tr>\n",
       "    <tr>\n",
       "      <th>4</th>\n",
       "      <td>896</td>\n",
       "      <td>1</td>\n",
       "    </tr>\n",
       "  </tbody>\n",
       "</table>\n",
       "</div>"
      ],
      "text/plain": [
       "   PassengerId  Survived\n",
       "0          892         0\n",
       "1          893         1\n",
       "2          894         0\n",
       "3          895         0\n",
       "4          896         1"
      ]
     },
     "execution_count": 5,
     "metadata": {},
     "output_type": "execute_result"
    }
   ],
   "source": [
    "submission.head()"
   ]
  },
  {
   "cell_type": "markdown",
   "id": "02fb3a06-3281-449e-83f6-a55508424822",
   "metadata": {},
   "source": [
    "##### 2.2  Data Dictionary:\n",
    "\n",
    "* Survival: 0 = No, 1 = Yes\n",
    "* Pclass: Ticket class 1 = 1st, 2 = 2nd  3 = rd\n",
    "* SibSp: # of siblings / spouses aboard the Titanic\n",
    "* Parch: # of parents / children aboard the Titanic\n",
    "* Ticket: Ticket number\n",
    "* Fare: Passenger fare\n",
    "* Cabin: Cabin numer\n",
    "* Age: Age in years \n",
    "* Sex: Sex of the passengers\n",
    "* Embarked: Port of Embarkation C = Cherbourg, Q = Queenstown, S = Southampton"
   ]
  },
  {
   "cell_type": "markdown",
   "id": "3d954d47-4da8-45d4-9d3d-906e32cdf601",
   "metadata": {},
   "source": [
    "##### 2.3 Outlier detection."
   ]
  },
  {
   "cell_type": "code",
   "execution_count": 6,
   "id": "4235cba9-a89c-4c9a-84c9-2e113f2fe069",
   "metadata": {},
   "outputs": [
    {
     "name": "stdout",
     "output_type": "stream",
     "text": [
      "Counter({27: 3, 88: 3, 159: 3, 180: 3, 201: 3, 324: 3, 341: 3, 792: 3, 846: 3, 863: 3, 7: 2, 16: 2, 24: 2, 50: 2, 59: 2, 63: 2, 68: 2, 71: 2, 119: 2, 164: 2, 171: 2, 176: 2, 182: 2, 229: 2, 233: 2, 261: 2, 266: 2, 278: 2, 374: 2, 386: 2, 409: 2, 480: 2, 485: 2, 541: 2, 542: 2, 634: 2, 642: 2, 683: 2, 686: 2, 787: 2, 813: 2, 819: 2, 824: 2, 850: 2, 102: 2, 118: 2, 124: 2, 262: 2, 268: 2, 297: 2, 299: 2, 305: 2, 311: 2, 318: 2, 319: 2, 332: 2, 377: 2, 390: 2, 435: 2, 438: 2, 445: 2, 498: 2, 540: 2, 550: 2, 558: 2, 581: 2, 585: 2, 587: 2, 659: 2, 679: 2, 689: 2, 698: 2, 742: 2, 745: 2, 763: 2, 779: 2, 802: 2, 820: 2, 835: 2, 856: 2, 879: 2, 85: 1, 726: 1, 8: 1, 10: 1, 13: 1, 25: 1, 43: 1, 54: 1, 58: 1, 65: 1, 78: 1, 86: 1, 93: 1, 97: 1, 98: 1, 128: 1, 136: 1, 140: 1, 145: 1, 147: 1, 148: 1, 153: 1, 155: 1, 160: 1, 165: 1, 166: 1, 167: 1, 172: 1, 175: 1, 183: 1, 184: 1, 188: 1, 193: 1, 197: 1, 205: 1, 237: 1, 247: 1, 248: 1, 251: 1, 254: 1, 255: 1, 259: 1, 272: 1, 273: 1, 279: 1, 312: 1, 314: 1, 323: 1, 328: 1, 329: 1, 340: 1, 348: 1, 352: 1, 356: 1, 360: 1, 362: 1, 381: 1, 394: 1, 407: 1, 416: 1, 417: 1, 419: 1, 423: 1, 424: 1, 436: 1, 437: 1, 440: 1, 446: 1, 448: 1, 450: 1, 469: 1, 472: 1, 479: 1, 489: 1, 506: 1, 523: 1, 529: 1, 530: 1, 532: 1, 533: 1, 535: 1, 539: 1, 548: 1, 549: 1, 567: 1, 580: 1, 593: 1, 595: 1, 600: 1, 608: 1, 610: 1, 615: 1, 616: 1, 618: 1, 622: 1, 637: 1, 638: 1, 644: 1, 651: 1, 657: 1, 670: 1, 678: 1, 684: 1, 685: 1, 691: 1, 702: 1, 709: 1, 720: 1, 736: 1, 746: 1, 750: 1, 751: 1, 754: 1, 755: 1, 774: 1, 783: 1, 788: 1, 799: 1, 801: 1, 803: 1, 817: 1, 823: 1, 827: 1, 831: 1, 848: 1, 852: 1, 853: 1, 855: 1, 858: 1, 869: 1, 871: 1, 880: 1, 885: 1, 888: 1, 1: 1, 31: 1, 34: 1, 52: 1, 61: 1, 62: 1, 72: 1, 120: 1, 139: 1, 151: 1, 195: 1, 215: 1, 218: 1, 224: 1, 230: 1, 245: 1, 256: 1, 257: 1, 258: 1, 269: 1, 275: 1, 290: 1, 291: 1, 306: 1, 307: 1, 310: 1, 325: 1, 334: 1, 336: 1, 337: 1, 366: 1, 369: 1, 373: 1, 375: 1, 380: 1, 385: 1, 393: 1, 412: 1, 453: 1, 484: 1, 486: 1, 496: 1, 504: 1, 505: 1, 520: 1, 527: 1, 537: 1, 544: 1, 557: 1, 591: 1, 609: 1, 627: 1, 641: 1, 645: 1, 655: 1, 660: 1, 665: 1, 681: 1, 700: 1, 708: 1, 716: 1, 730: 1, 737: 1, 741: 1, 759: 1, 765: 1, 789: 1, 829: 1, 849: 1})\n"
     ]
    }
   ],
   "source": [
    "def detect_outliers(df, n, features):\n",
    "    outlier_indices = []\n",
    "    for col in features:\n",
    "        Q1 = np.percentile(df[col], 25)\n",
    "        Q3 = np.percentile(df[col], 75)\n",
    "        IQR = Q3 - Q1\n",
    "        outlier_step = 1.5 * IQR\n",
    "        outlier_list_col = df[(df[col] < Q1 - outlier_step) | (df[col] > Q3 + outlier_step)].index\n",
    "        outlier_indices.extend(outlier_list_col)\n",
    "    outlier_indices = Counter(outlier_indices)\n",
    "    print(outlier_indices)\n",
    "    multiple_outliers = list(key for key, value in outlier_indices.items() if value > n)\n",
    "    return multiple_outliers\n",
    "\n",
    "outliers = detect_outliers(train, 2, ['Age', 'SibSp', 'Parch', 'Fare'])"
   ]
  },
  {
   "cell_type": "code",
   "execution_count": 7,
   "id": "ca49782d-64df-48c2-bdcf-4356c04fe49c",
   "metadata": {},
   "outputs": [
    {
     "data": {
      "text/plain": [
       "[27, 88, 159, 180, 201, 324, 341, 792, 846, 863]"
      ]
     },
     "execution_count": 7,
     "metadata": {},
     "output_type": "execute_result"
    }
   ],
   "source": [
    "outliers"
   ]
  },
  {
   "cell_type": "code",
   "execution_count": 8,
   "id": "ae771467-0cb9-41ee-834c-0aa1c93fe054",
   "metadata": {},
   "outputs": [
    {
     "name": "stdout",
     "output_type": "stream",
     "text": [
      "891\n"
     ]
    },
    {
     "data": {
      "text/plain": [
       "881"
      ]
     },
     "execution_count": 8,
     "metadata": {},
     "output_type": "execute_result"
    }
   ],
   "source": [
    "print(len(train))\n",
    "train = train.drop(outliers, axis=0).reset_index(drop=True)\n",
    "len(train)"
   ]
  },
  {
   "cell_type": "markdown",
   "id": "ce9c0148-bc99-4b4d-952b-adc758690908",
   "metadata": {},
   "source": [
    "### 3. Exploratory Data Analysis (EDA)\n"
   ]
  },
  {
   "cell_type": "markdown",
   "id": "3a574608-82a5-46ad-87c0-b1ee8d63be67",
   "metadata": {},
   "source": [
    "#### 3.1 Exploring the data."
   ]
  },
  {
   "cell_type": "code",
   "execution_count": 9,
   "id": "1e970c19-3489-4f15-99df-99244b64587c",
   "metadata": {},
   "outputs": [
    {
     "data": {
      "text/html": [
       "<div>\n",
       "<style scoped>\n",
       "    .dataframe tbody tr th:only-of-type {\n",
       "        vertical-align: middle;\n",
       "    }\n",
       "\n",
       "    .dataframe tbody tr th {\n",
       "        vertical-align: top;\n",
       "    }\n",
       "\n",
       "    .dataframe thead th {\n",
       "        text-align: right;\n",
       "    }\n",
       "</style>\n",
       "<table border=\"1\" class=\"dataframe\">\n",
       "  <thead>\n",
       "    <tr style=\"text-align: right;\">\n",
       "      <th></th>\n",
       "      <th>PassengerId</th>\n",
       "      <th>Survived</th>\n",
       "      <th>Pclass</th>\n",
       "      <th>Name</th>\n",
       "      <th>Sex</th>\n",
       "      <th>Age</th>\n",
       "      <th>SibSp</th>\n",
       "      <th>Parch</th>\n",
       "      <th>Ticket</th>\n",
       "      <th>Fare</th>\n",
       "      <th>Cabin</th>\n",
       "      <th>Embarked</th>\n",
       "    </tr>\n",
       "  </thead>\n",
       "  <tbody>\n",
       "    <tr>\n",
       "      <th>0</th>\n",
       "      <td>1</td>\n",
       "      <td>0</td>\n",
       "      <td>3</td>\n",
       "      <td>Braund, Mr. Owen Harris</td>\n",
       "      <td>male</td>\n",
       "      <td>22.0</td>\n",
       "      <td>1</td>\n",
       "      <td>0</td>\n",
       "      <td>A/5 21171</td>\n",
       "      <td>7.2500</td>\n",
       "      <td>NaN</td>\n",
       "      <td>S</td>\n",
       "    </tr>\n",
       "    <tr>\n",
       "      <th>1</th>\n",
       "      <td>2</td>\n",
       "      <td>1</td>\n",
       "      <td>1</td>\n",
       "      <td>Cumings, Mrs. John Bradley (Florence Briggs Th...</td>\n",
       "      <td>female</td>\n",
       "      <td>38.0</td>\n",
       "      <td>1</td>\n",
       "      <td>0</td>\n",
       "      <td>PC 17599</td>\n",
       "      <td>71.2833</td>\n",
       "      <td>C85</td>\n",
       "      <td>C</td>\n",
       "    </tr>\n",
       "    <tr>\n",
       "      <th>2</th>\n",
       "      <td>3</td>\n",
       "      <td>1</td>\n",
       "      <td>3</td>\n",
       "      <td>Heikkinen, Miss. Laina</td>\n",
       "      <td>female</td>\n",
       "      <td>26.0</td>\n",
       "      <td>0</td>\n",
       "      <td>0</td>\n",
       "      <td>STON/O2. 3101282</td>\n",
       "      <td>7.9250</td>\n",
       "      <td>NaN</td>\n",
       "      <td>S</td>\n",
       "    </tr>\n",
       "    <tr>\n",
       "      <th>3</th>\n",
       "      <td>4</td>\n",
       "      <td>1</td>\n",
       "      <td>1</td>\n",
       "      <td>Futrelle, Mrs. Jacques Heath (Lily May Peel)</td>\n",
       "      <td>female</td>\n",
       "      <td>35.0</td>\n",
       "      <td>1</td>\n",
       "      <td>0</td>\n",
       "      <td>113803</td>\n",
       "      <td>53.1000</td>\n",
       "      <td>C123</td>\n",
       "      <td>S</td>\n",
       "    </tr>\n",
       "    <tr>\n",
       "      <th>4</th>\n",
       "      <td>5</td>\n",
       "      <td>0</td>\n",
       "      <td>3</td>\n",
       "      <td>Allen, Mr. William Henry</td>\n",
       "      <td>male</td>\n",
       "      <td>35.0</td>\n",
       "      <td>0</td>\n",
       "      <td>0</td>\n",
       "      <td>373450</td>\n",
       "      <td>8.0500</td>\n",
       "      <td>NaN</td>\n",
       "      <td>S</td>\n",
       "    </tr>\n",
       "  </tbody>\n",
       "</table>\n",
       "</div>"
      ],
      "text/plain": [
       "   PassengerId  Survived  Pclass  \\\n",
       "0            1         0       3   \n",
       "1            2         1       1   \n",
       "2            3         1       3   \n",
       "3            4         1       1   \n",
       "4            5         0       3   \n",
       "\n",
       "                                                Name     Sex   Age  SibSp  \\\n",
       "0                            Braund, Mr. Owen Harris    male  22.0      1   \n",
       "1  Cumings, Mrs. John Bradley (Florence Briggs Th...  female  38.0      1   \n",
       "2                             Heikkinen, Miss. Laina  female  26.0      0   \n",
       "3       Futrelle, Mrs. Jacques Heath (Lily May Peel)  female  35.0      1   \n",
       "4                           Allen, Mr. William Henry    male  35.0      0   \n",
       "\n",
       "   Parch            Ticket     Fare Cabin Embarked  \n",
       "0      0         A/5 21171   7.2500   NaN        S  \n",
       "1      0          PC 17599  71.2833   C85        C  \n",
       "2      0  STON/O2. 3101282   7.9250   NaN        S  \n",
       "3      0            113803  53.1000  C123        S  \n",
       "4      0            373450   8.0500   NaN        S  "
      ]
     },
     "execution_count": 9,
     "metadata": {},
     "output_type": "execute_result"
    }
   ],
   "source": [
    "train.head()"
   ]
  },
  {
   "cell_type": "code",
   "execution_count": 10,
   "id": "9c530613-67a1-4079-a44d-02d88daa24e9",
   "metadata": {
    "scrolled": true
   },
   "outputs": [
    {
     "name": "stdout",
     "output_type": "stream",
     "text": [
      "<class 'pandas.core.frame.DataFrame'>\n",
      "RangeIndex: 881 entries, 0 to 880\n",
      "Data columns (total 12 columns):\n",
      " #   Column       Non-Null Count  Dtype  \n",
      "---  ------       --------------  -----  \n",
      " 0   PassengerId  881 non-null    int64  \n",
      " 1   Survived     881 non-null    int64  \n",
      " 2   Pclass       881 non-null    int64  \n",
      " 3   Name         881 non-null    object \n",
      " 4   Sex          881 non-null    object \n",
      " 5   Age          711 non-null    float64\n",
      " 6   SibSp        881 non-null    int64  \n",
      " 7   Parch        881 non-null    int64  \n",
      " 8   Ticket       881 non-null    object \n",
      " 9   Fare         881 non-null    float64\n",
      " 10  Cabin        201 non-null    object \n",
      " 11  Embarked     879 non-null    object \n",
      "dtypes: float64(2), int64(5), object(5)\n",
      "memory usage: 82.7+ KB\n"
     ]
    }
   ],
   "source": [
    "train.info()"
   ]
  },
  {
   "cell_type": "code",
   "execution_count": 11,
   "id": "bb6d62d4-c83f-4f8a-9e96-ebb9afa12f8e",
   "metadata": {},
   "outputs": [
    {
     "name": "stdout",
     "output_type": "stream",
     "text": [
      "<class 'pandas.core.frame.DataFrame'>\n",
      "RangeIndex: 418 entries, 0 to 417\n",
      "Data columns (total 11 columns):\n",
      " #   Column       Non-Null Count  Dtype  \n",
      "---  ------       --------------  -----  \n",
      " 0   PassengerId  418 non-null    int64  \n",
      " 1   Pclass       418 non-null    int64  \n",
      " 2   Name         418 non-null    object \n",
      " 3   Sex          418 non-null    object \n",
      " 4   Age          332 non-null    float64\n",
      " 5   SibSp        418 non-null    int64  \n",
      " 6   Parch        418 non-null    int64  \n",
      " 7   Ticket       418 non-null    object \n",
      " 8   Fare         417 non-null    float64\n",
      " 9   Cabin        91 non-null     object \n",
      " 10  Embarked     418 non-null    object \n",
      "dtypes: float64(2), int64(4), object(5)\n",
      "memory usage: 36.0+ KB\n"
     ]
    }
   ],
   "source": [
    "test.info()"
   ]
  },
  {
   "cell_type": "code",
   "execution_count": 12,
   "id": "b1c1753c-5c5d-4549-b5a6-b40c874d522a",
   "metadata": {
    "scrolled": true
   },
   "outputs": [
    {
     "data": {
      "text/html": [
       "<div>\n",
       "<style scoped>\n",
       "    .dataframe tbody tr th:only-of-type {\n",
       "        vertical-align: middle;\n",
       "    }\n",
       "\n",
       "    .dataframe tbody tr th {\n",
       "        vertical-align: top;\n",
       "    }\n",
       "\n",
       "    .dataframe thead th {\n",
       "        text-align: right;\n",
       "    }\n",
       "</style>\n",
       "<table border=\"1\" class=\"dataframe\">\n",
       "  <thead>\n",
       "    <tr style=\"text-align: right;\">\n",
       "      <th></th>\n",
       "      <th>PassengerId</th>\n",
       "      <th>Survived</th>\n",
       "      <th>Pclass</th>\n",
       "      <th>Age</th>\n",
       "      <th>SibSp</th>\n",
       "      <th>Parch</th>\n",
       "      <th>Fare</th>\n",
       "    </tr>\n",
       "  </thead>\n",
       "  <tbody>\n",
       "    <tr>\n",
       "      <th>count</th>\n",
       "      <td>881.000000</td>\n",
       "      <td>881.000000</td>\n",
       "      <td>881.000000</td>\n",
       "      <td>711.000000</td>\n",
       "      <td>881.000000</td>\n",
       "      <td>881.000000</td>\n",
       "      <td>881.000000</td>\n",
       "    </tr>\n",
       "    <tr>\n",
       "      <th>mean</th>\n",
       "      <td>446.713961</td>\n",
       "      <td>0.385925</td>\n",
       "      <td>2.307605</td>\n",
       "      <td>29.731603</td>\n",
       "      <td>0.455165</td>\n",
       "      <td>0.363224</td>\n",
       "      <td>31.121566</td>\n",
       "    </tr>\n",
       "    <tr>\n",
       "      <th>std</th>\n",
       "      <td>256.617021</td>\n",
       "      <td>0.487090</td>\n",
       "      <td>0.835055</td>\n",
       "      <td>14.547835</td>\n",
       "      <td>0.871571</td>\n",
       "      <td>0.791839</td>\n",
       "      <td>47.996249</td>\n",
       "    </tr>\n",
       "    <tr>\n",
       "      <th>min</th>\n",
       "      <td>1.000000</td>\n",
       "      <td>0.000000</td>\n",
       "      <td>1.000000</td>\n",
       "      <td>0.420000</td>\n",
       "      <td>0.000000</td>\n",
       "      <td>0.000000</td>\n",
       "      <td>0.000000</td>\n",
       "    </tr>\n",
       "    <tr>\n",
       "      <th>25%</th>\n",
       "      <td>226.000000</td>\n",
       "      <td>0.000000</td>\n",
       "      <td>2.000000</td>\n",
       "      <td>20.250000</td>\n",
       "      <td>0.000000</td>\n",
       "      <td>0.000000</td>\n",
       "      <td>7.895800</td>\n",
       "    </tr>\n",
       "    <tr>\n",
       "      <th>50%</th>\n",
       "      <td>448.000000</td>\n",
       "      <td>0.000000</td>\n",
       "      <td>3.000000</td>\n",
       "      <td>28.000000</td>\n",
       "      <td>0.000000</td>\n",
       "      <td>0.000000</td>\n",
       "      <td>14.454200</td>\n",
       "    </tr>\n",
       "    <tr>\n",
       "      <th>75%</th>\n",
       "      <td>668.000000</td>\n",
       "      <td>1.000000</td>\n",
       "      <td>3.000000</td>\n",
       "      <td>38.000000</td>\n",
       "      <td>1.000000</td>\n",
       "      <td>0.000000</td>\n",
       "      <td>30.500000</td>\n",
       "    </tr>\n",
       "    <tr>\n",
       "      <th>max</th>\n",
       "      <td>891.000000</td>\n",
       "      <td>1.000000</td>\n",
       "      <td>3.000000</td>\n",
       "      <td>80.000000</td>\n",
       "      <td>5.000000</td>\n",
       "      <td>6.000000</td>\n",
       "      <td>512.329200</td>\n",
       "    </tr>\n",
       "  </tbody>\n",
       "</table>\n",
       "</div>"
      ],
      "text/plain": [
       "       PassengerId    Survived      Pclass         Age       SibSp  \\\n",
       "count   881.000000  881.000000  881.000000  711.000000  881.000000   \n",
       "mean    446.713961    0.385925    2.307605   29.731603    0.455165   \n",
       "std     256.617021    0.487090    0.835055   14.547835    0.871571   \n",
       "min       1.000000    0.000000    1.000000    0.420000    0.000000   \n",
       "25%     226.000000    0.000000    2.000000   20.250000    0.000000   \n",
       "50%     448.000000    0.000000    3.000000   28.000000    0.000000   \n",
       "75%     668.000000    1.000000    3.000000   38.000000    1.000000   \n",
       "max     891.000000    1.000000    3.000000   80.000000    5.000000   \n",
       "\n",
       "            Parch        Fare  \n",
       "count  881.000000  881.000000  \n",
       "mean     0.363224   31.121566  \n",
       "std      0.791839   47.996249  \n",
       "min      0.000000    0.000000  \n",
       "25%      0.000000    7.895800  \n",
       "50%      0.000000   14.454200  \n",
       "75%      0.000000   30.500000  \n",
       "max      6.000000  512.329200  "
      ]
     },
     "execution_count": 12,
     "metadata": {},
     "output_type": "execute_result"
    }
   ],
   "source": [
    "train.describe()"
   ]
  },
  {
   "cell_type": "code",
   "execution_count": 13,
   "id": "bb04106e-5c45-45b6-b393-8e3eb8152c57",
   "metadata": {},
   "outputs": [
    {
     "data": {
      "text/html": [
       "<div>\n",
       "<style scoped>\n",
       "    .dataframe tbody tr th:only-of-type {\n",
       "        vertical-align: middle;\n",
       "    }\n",
       "\n",
       "    .dataframe tbody tr th {\n",
       "        vertical-align: top;\n",
       "    }\n",
       "\n",
       "    .dataframe thead th {\n",
       "        text-align: right;\n",
       "    }\n",
       "</style>\n",
       "<table border=\"1\" class=\"dataframe\">\n",
       "  <thead>\n",
       "    <tr style=\"text-align: right;\">\n",
       "      <th></th>\n",
       "      <th>PassengerId</th>\n",
       "      <th>Pclass</th>\n",
       "      <th>Age</th>\n",
       "      <th>SibSp</th>\n",
       "      <th>Parch</th>\n",
       "      <th>Fare</th>\n",
       "    </tr>\n",
       "  </thead>\n",
       "  <tbody>\n",
       "    <tr>\n",
       "      <th>count</th>\n",
       "      <td>418.000000</td>\n",
       "      <td>418.000000</td>\n",
       "      <td>332.000000</td>\n",
       "      <td>418.000000</td>\n",
       "      <td>418.000000</td>\n",
       "      <td>417.000000</td>\n",
       "    </tr>\n",
       "    <tr>\n",
       "      <th>mean</th>\n",
       "      <td>1100.500000</td>\n",
       "      <td>2.265550</td>\n",
       "      <td>30.272590</td>\n",
       "      <td>0.447368</td>\n",
       "      <td>0.392344</td>\n",
       "      <td>35.627188</td>\n",
       "    </tr>\n",
       "    <tr>\n",
       "      <th>std</th>\n",
       "      <td>120.810458</td>\n",
       "      <td>0.841838</td>\n",
       "      <td>14.181209</td>\n",
       "      <td>0.896760</td>\n",
       "      <td>0.981429</td>\n",
       "      <td>55.907576</td>\n",
       "    </tr>\n",
       "    <tr>\n",
       "      <th>min</th>\n",
       "      <td>892.000000</td>\n",
       "      <td>1.000000</td>\n",
       "      <td>0.170000</td>\n",
       "      <td>0.000000</td>\n",
       "      <td>0.000000</td>\n",
       "      <td>0.000000</td>\n",
       "    </tr>\n",
       "    <tr>\n",
       "      <th>25%</th>\n",
       "      <td>996.250000</td>\n",
       "      <td>1.000000</td>\n",
       "      <td>21.000000</td>\n",
       "      <td>0.000000</td>\n",
       "      <td>0.000000</td>\n",
       "      <td>7.895800</td>\n",
       "    </tr>\n",
       "    <tr>\n",
       "      <th>50%</th>\n",
       "      <td>1100.500000</td>\n",
       "      <td>3.000000</td>\n",
       "      <td>27.000000</td>\n",
       "      <td>0.000000</td>\n",
       "      <td>0.000000</td>\n",
       "      <td>14.454200</td>\n",
       "    </tr>\n",
       "    <tr>\n",
       "      <th>75%</th>\n",
       "      <td>1204.750000</td>\n",
       "      <td>3.000000</td>\n",
       "      <td>39.000000</td>\n",
       "      <td>1.000000</td>\n",
       "      <td>0.000000</td>\n",
       "      <td>31.500000</td>\n",
       "    </tr>\n",
       "    <tr>\n",
       "      <th>max</th>\n",
       "      <td>1309.000000</td>\n",
       "      <td>3.000000</td>\n",
       "      <td>76.000000</td>\n",
       "      <td>8.000000</td>\n",
       "      <td>9.000000</td>\n",
       "      <td>512.329200</td>\n",
       "    </tr>\n",
       "  </tbody>\n",
       "</table>\n",
       "</div>"
      ],
      "text/plain": [
       "       PassengerId      Pclass         Age       SibSp       Parch        Fare\n",
       "count   418.000000  418.000000  332.000000  418.000000  418.000000  417.000000\n",
       "mean   1100.500000    2.265550   30.272590    0.447368    0.392344   35.627188\n",
       "std     120.810458    0.841838   14.181209    0.896760    0.981429   55.907576\n",
       "min     892.000000    1.000000    0.170000    0.000000    0.000000    0.000000\n",
       "25%     996.250000    1.000000   21.000000    0.000000    0.000000    7.895800\n",
       "50%    1100.500000    3.000000   27.000000    0.000000    0.000000   14.454200\n",
       "75%    1204.750000    3.000000   39.000000    1.000000    0.000000   31.500000\n",
       "max    1309.000000    3.000000   76.000000    8.000000    9.000000  512.329200"
      ]
     },
     "execution_count": 13,
     "metadata": {},
     "output_type": "execute_result"
    }
   ],
   "source": [
    "test.describe()"
   ]
  },
  {
   "cell_type": "markdown",
   "id": "f84002a5-b645-4a9b-8745-00cdf4059cea",
   "metadata": {},
   "source": [
    "#### 3.2 Checking data for duplicates null and missing values."
   ]
  },
  {
   "cell_type": "code",
   "execution_count": 14,
   "id": "77e267f7-ea59-4ac2-94e1-8f822b6672b3",
   "metadata": {},
   "outputs": [
    {
     "data": {
      "text/plain": [
       "0"
      ]
     },
     "execution_count": 14,
     "metadata": {},
     "output_type": "execute_result"
    }
   ],
   "source": [
    "train.duplicated().sum()"
   ]
  },
  {
   "cell_type": "code",
   "execution_count": 15,
   "id": "0f0ecd81-6801-47e0-b427-78be2accea91",
   "metadata": {},
   "outputs": [
    {
     "data": {
      "text/plain": [
       "0      False\n",
       "1      False\n",
       "2      False\n",
       "3      False\n",
       "4      False\n",
       "       ...  \n",
       "876    False\n",
       "877    False\n",
       "878    False\n",
       "879    False\n",
       "880    False\n",
       "Length: 881, dtype: bool"
      ]
     },
     "execution_count": 15,
     "metadata": {},
     "output_type": "execute_result"
    }
   ],
   "source": [
    "train.duplicated(subset=['Name'])"
   ]
  },
  {
   "cell_type": "code",
   "execution_count": 16,
   "id": "ee5cd826-6778-4767-b321-8b2ce1c24993",
   "metadata": {},
   "outputs": [
    {
     "data": {
      "text/plain": [
       "Cabin          680\n",
       "Age            170\n",
       "Embarked         2\n",
       "PassengerId      0\n",
       "Survived         0\n",
       "Pclass           0\n",
       "Name             0\n",
       "Sex              0\n",
       "SibSp            0\n",
       "Parch            0\n",
       "Ticket           0\n",
       "Fare             0\n",
       "dtype: int64"
      ]
     },
     "execution_count": 16,
     "metadata": {},
     "output_type": "execute_result"
    }
   ],
   "source": [
    "train.isnull().sum().sort_values(ascending=False)"
   ]
  },
  {
   "cell_type": "code",
   "execution_count": 17,
   "id": "7131ac4a-1c77-41f1-85cd-b55f5ee360a3",
   "metadata": {},
   "outputs": [
    {
     "data": {
      "text/plain": [
       "Cabin          327\n",
       "Age             86\n",
       "Fare             1\n",
       "PassengerId      0\n",
       "Pclass           0\n",
       "Name             0\n",
       "Sex              0\n",
       "SibSp            0\n",
       "Parch            0\n",
       "Ticket           0\n",
       "Embarked         0\n",
       "dtype: int64"
      ]
     },
     "execution_count": 17,
     "metadata": {},
     "output_type": "execute_result"
    }
   ],
   "source": [
    "test.isnull().sum().sort_values(ascending=False)"
   ]
  },
  {
   "cell_type": "code",
   "execution_count": 18,
   "id": "eee11a75-6cc9-487f-8b11-9e3de2035482",
   "metadata": {},
   "outputs": [
    {
     "data": {
      "text/plain": [
       "<AxesSubplot:>"
      ]
     },
     "execution_count": 18,
     "metadata": {},
     "output_type": "execute_result"
    },
    {
     "data": {
      "image/png": "[encoded data removed]",
      "text/plain": [
       "<Figure size 1800x720 with 2 Axes>"
      ]
     },
     "metadata": {},
     "output_type": "display_data"
    }
   ],
   "source": [
    "missingno.matrix(train)"
   ]
  },
  {
   "cell_type": "code",
   "execution_count": 19,
   "id": "69e5203f-f809-4e9d-a306-2f3141903aa5",
   "metadata": {
    "scrolled": true
   },
   "outputs": [
    {
     "data": {
      "text/plain": [
       "<AxesSubplot:>"
      ]
     },
     "execution_count": 19,
     "metadata": {},
     "output_type": "execute_result"
    },
    {
     "data": {
      "image/png": "[encoded data removed]",
      "text/plain": [
       "<Figure size 1800x720 with 2 Axes>"
      ]
     },
     "metadata": {},
     "output_type": "display_data"
    }
   ],
   "source": [
    "missingno.matrix(test)"
   ]
  },
  {
   "cell_type": "code",
   "execution_count": 22,
   "id": "b117c174-c237-41c1-bee9-0c31d933219d",
   "metadata": {},
   "outputs": [
    {
     "data": {
      "text/plain": [
       "<AxesSubplot:>"
      ]
     },
     "execution_count": 22,
     "metadata": {},
     "output_type": "execute_result"
    },
    {
     "data": {
      "image/png": "[encoded data removed]",
      "text/plain": [
       "<Figure size 1800x720 with 2 Axes>"
      ]
     },
     "metadata": {},
     "output_type": "display_data"
    }
   ],
   "source": [
    "sorted = train.sort_values('Age')\n",
    "missingno.matrix(sorted)"
   ]
  },
  {
   "cell_type": "markdown",
   "id": "78492f29-83c1-44cb-8bbd-72df7e278c4e",
   "metadata": {},
   "source": [
    "### 4. Feature analysis.\n",
    "\n",
    "In the context of data analysis and statistics, variables are typically categorized into two main types: numerical and categorical.\n",
    "\n",
    "Numerical Variables (Quantitative Variables): These variables represent measurable quantities and can be further classified into two subtypes:\n",
    "\n",
    "Continuous Variables: These variables can take on any value within a certain range. There are no gaps between possible values. Examples include height, weight, temperature, and time.\n",
    "Discrete Variables: These variables represent counts or finite values and can only take on specific numerical values. There are clear gaps between values. Examples include the number of siblings, number of pets, and number of cars owned.\n",
    "Categorical Variables (Qualitative Variables): These variables represent categories or groups and can be further classified into two subtypes:\n",
    "\n",
    "Nominal Variables: These variables represent categories with no inherent order or ranking. Examples include gender, ethnicity, and type of car.\n",
    "Ordinal Variables: These variables represent categories with a clear order or ranking. Examples include education level (e.g., high school, bachelor's degree, master's degree) or satisfaction level (e.g., very satisfied, satisfied, neutral, dissatisfied, very dissatisfied)."
   ]
  },
  {
   "cell_type": "markdown",
   "id": "04f53c21-4407-4cd3-9b94-76d28efdf042",
   "metadata": {},
   "source": [
    "## 4.1 Describing features. (Data Cleaning)"
   ]
  },
  {
   "cell_type": "markdown",
   "id": "4f686592-286e-4062-a2de-96485fa6e261",
   "metadata": {},
   "source": [
    "#### **4.2 Categorical:**\n",
    "- **Nominal**(variables that have two or more categories, but which do not have an intrinsic order).\n",
    "   > - **Cabin**\n",
    "   > - **Embarked**(Port of Embarkation)\n",
    "            C(Cherbourg)\n",
    "            Q(Queenstown) \n",
    "            S(Southampton)\n",
    "   > - **Sex**\n",
    "            Female,\n",
    "            Male.\n",
    "   > - **Ticket** -Ticket number for passenger.\n",
    "- **Ordinal**(variables that have two or more categories just like nominal variables. Only the categories can also be ordered or ranked).\n",
    "   > - **Pclass** (A proxy for socio-economic status (SES)) \n",
    "            1(Upper)\n",
    "            2(Middle) \n",
    "            3(Lower)\n",
    "***\n",
    "#### **4.3 Numerical:**\n",
    "- **Discrete**\n",
    "  >  - **Passenger ID**(Unique identifing # for each passenger)\n",
    "  >  - **SibSp**\n",
    "  >  - **Parch**\n",
    "  >  - **Survived** (Our outcome or dependent variable)\n",
    "            0,1.\n",
    "- **Continous**\n",
    ">  - **Age**\n",
    ">  - **Fare**\n",
    "***\n",
    "\n",
    "***\n",
    "**4.5 Feature Relationships.**\n",
    "\n",
    "**4.6 Ask Questions about the data.**\n",
    "> -**Name** (Name of the passengers.) "
   ]
  },
  {
   "cell_type": "markdown",
   "id": "17c5e723-24a7-478e-b760-2d31d25ba7b0",
   "metadata": {},
   "source": [
    "#### 4.2 Categorical features\n",
    "\n",
    "* 4.2.1 Cabin\n",
    "* 4.2.2 Point of Embarkation\n",
    "* 4.2.3 Sex\n",
    "* 4.2.1 Pclass"
   ]
  },
  {
   "cell_type": "markdown",
   "id": "838a3119-2be6-414a-bb43-4f64b4afbe18",
   "metadata": {},
   "source": [
    "##### 4.2.1 Cabin"
   ]
  },
  {
   "cell_type": "code",
   "execution_count": 1,
   "id": "202eb756-ff54-440c-b982-4fb391687336",
   "metadata": {},
   "outputs": [
    {
     "ename": "SyntaxError",
     "evalue": "invalid syntax (2192797798.py, line 1)",
     "output_type": "error",
     "traceback": [
      "\u001b[1;36m  Cell \u001b[1;32mIn[1], line 1\u001b[1;36m\u001b[0m\n\u001b[1;33m    train.['Cabin'].isnull().sum()\u001b[0m\n\u001b[1;37m          ^\u001b[0m\n\u001b[1;31mSyntaxError\u001b[0m\u001b[1;31m:\u001b[0m invalid syntax\n"
     ]
    }
   ],
   "source": [
    "train.['Cabin'].isnull().sum()"
   ]
  },
  {
   "cell_type": "code",
   "execution_count": 23,
   "id": "f057ebc2-100d-4d02-92d8-743a131c81e7",
   "metadata": {},
   "outputs": [],
   "source": [
    "train['Cabin'] = train['Cabin'].astype(str)\n",
    "test['Cabin'] = test['Cabin'].astype(str)\n"
   ]
  },
  {
   "cell_type": "code",
   "execution_count": 24,
   "id": "80c54882-b9e1-47f6-bd96-87683868e1e8",
   "metadata": {
    "scrolled": true
   },
   "outputs": [
    {
     "data": {
      "text/html": [
       "<div>\n",
       "<style scoped>\n",
       "    .dataframe tbody tr th:only-of-type {\n",
       "        vertical-align: middle;\n",
       "    }\n",
       "\n",
       "    .dataframe tbody tr th {\n",
       "        vertical-align: top;\n",
       "    }\n",
       "\n",
       "    .dataframe thead th {\n",
       "        text-align: right;\n",
       "    }\n",
       "</style>\n",
       "<table border=\"1\" class=\"dataframe\">\n",
       "  <thead>\n",
       "    <tr style=\"text-align: right;\">\n",
       "      <th></th>\n",
       "      <th>PassengerId</th>\n",
       "      <th>Survived</th>\n",
       "      <th>Pclass</th>\n",
       "      <th>Name</th>\n",
       "      <th>Sex</th>\n",
       "      <th>Age</th>\n",
       "      <th>SibSp</th>\n",
       "      <th>Parch</th>\n",
       "      <th>Ticket</th>\n",
       "      <th>Fare</th>\n",
       "      <th>Cabin</th>\n",
       "      <th>Embarked</th>\n",
       "    </tr>\n",
       "  </thead>\n",
       "  <tbody>\n",
       "    <tr>\n",
       "      <th>576</th>\n",
       "      <td>584</td>\n",
       "      <td>0</td>\n",
       "      <td>1</td>\n",
       "      <td>Ross, Mr. John Hugo</td>\n",
       "      <td>male</td>\n",
       "      <td>36.0</td>\n",
       "      <td>0</td>\n",
       "      <td>0</td>\n",
       "      <td>13049</td>\n",
       "      <td>40.125</td>\n",
       "      <td>A10</td>\n",
       "      <td>C</td>\n",
       "    </tr>\n",
       "  </tbody>\n",
       "</table>\n",
       "</div>"
      ],
      "text/plain": [
       "     PassengerId  Survived  Pclass                 Name   Sex   Age  SibSp  \\\n",
       "576          584         0       1  Ross, Mr. John Hugo  male  36.0      0   \n",
       "\n",
       "     Parch Ticket    Fare Cabin Embarked  \n",
       "576      0  13049  40.125   A10        C  "
      ]
     },
     "execution_count": 24,
     "metadata": {},
     "output_type": "execute_result"
    }
   ],
   "source": [
    "train[train['Cabin'] == 'A10']"
   ]
  },
  {
   "cell_type": "code",
   "execution_count": 25,
   "id": "e7113279-1a39-42a9-abfa-5239004c3b1d",
   "metadata": {},
   "outputs": [],
   "source": [
    "cabin_counts = train.query('Cabin.notnull()').groupby('Cabin').size()"
   ]
  },
  {
   "cell_type": "code",
   "execution_count": 26,
   "id": "f718ef11-6ed4-41ba-bcbc-6808ebfaf7ed",
   "metadata": {},
   "outputs": [],
   "source": [
    "# Filtering out cabins with more than one entry\n",
    "filtered_cabins = cabin_counts[cabin_counts > 1].index\n",
    "\n",
    "# Filtering the original DataFrame to include only rows where 'Cabin' is in the filtered cabins list\n",
    "filtered_train = train[train['Cabin'].isin(filtered_cabins)]"
   ]
  },
  {
   "cell_type": "code",
   "execution_count": null,
   "id": "6e78e93c-cf11-4a21-b5d2-a0597c1df3b5",
   "metadata": {},
   "outputs": [],
   "source": [
    "filtered_train"
   ]
  },
  {
   "cell_type": "code",
   "execution_count": 27,
   "id": "cc32ed80-7c67-4eec-b4a8-1fe90dbde396",
   "metadata": {},
   "outputs": [
    {
     "data": {
      "text/plain": [
       "Cabin\n",
       "nan        680\n",
       "G6           4\n",
       "B96 B98      4\n",
       "C22 C26      3\n",
       "E101         3\n",
       "          ... \n",
       "C54          1\n",
       "B39          1\n",
       "C50          1\n",
       "C49          1\n",
       "A10          1\n",
       "Length: 148, dtype: int64"
      ]
     },
     "execution_count": 27,
     "metadata": {},
     "output_type": "execute_result"
    }
   ],
   "source": [
    "cabin_counts.sort_values(ascending=False)"
   ]
  },
  {
   "cell_type": "code",
   "execution_count": 28,
   "id": "cba06f68-4bbb-4411-97c5-934ae9800faa",
   "metadata": {},
   "outputs": [
    {
     "data": {
      "text/plain": [
       "Cabin\n",
       "A10    0.000000\n",
       "A14    0.000000\n",
       "A16    1.000000\n",
       "A19    0.000000\n",
       "A20    1.000000\n",
       "         ...   \n",
       "F38    0.000000\n",
       "F4     1.000000\n",
       "G6     0.500000\n",
       "T      0.000000\n",
       "nan    0.302941\n",
       "Name: Survived, Length: 148, dtype: float64"
      ]
     },
     "execution_count": 28,
     "metadata": {},
     "output_type": "execute_result"
    }
   ],
   "source": [
    "train.query('Cabin.notnull()').groupby('Cabin')['Survived'].mean()"
   ]
  },
  {
   "cell_type": "markdown",
   "id": "ea956c95-ba95-4967-a80c-0311b2d34975",
   "metadata": {},
   "source": [
    "##### 4.2.2 Point of Embarkation"
   ]
  },
  {
   "cell_type": "code",
   "execution_count": 29,
   "id": "4e0ee158-0cd6-448f-b468-ac7b984c86d1",
   "metadata": {},
   "outputs": [
    {
     "data": {
      "text/plain": [
       "2"
      ]
     },
     "execution_count": 29,
     "metadata": {},
     "output_type": "execute_result"
    }
   ],
   "source": [
    "train.Embarked.isnull().sum()"
   ]
  },
  {
   "cell_type": "code",
   "execution_count": 30,
   "id": "8b2db0a0-927c-4d7f-bfea-c35e5da3f985",
   "metadata": {},
   "outputs": [
    {
     "data": {
      "text/plain": [
       "S    634\n",
       "C    168\n",
       "Q     77\n",
       "Name: Embarked, dtype: int64"
      ]
     },
     "execution_count": 30,
     "metadata": {},
     "output_type": "execute_result"
    }
   ],
   "source": [
    "train.Embarked.value_counts()"
   ]
  },
  {
   "cell_type": "code",
   "execution_count": 31,
   "id": "c5568ce2-c5db-48a3-82ff-92f3b17695a9",
   "metadata": {},
   "outputs": [
    {
     "data": {
      "text/plain": [
       "Embarked\n",
       "C    0.553571\n",
       "Q    0.389610\n",
       "S    0.339117\n",
       "Name: Survived, dtype: float64"
      ]
     },
     "execution_count": 31,
     "metadata": {},
     "output_type": "execute_result"
    }
   ],
   "source": [
    "train.query('Embarked.notnull()').groupby('Embarked')['Survived'].mean()"
   ]
  },
  {
   "cell_type": "code",
   "execution_count": 32,
   "id": "1eef5f0a-0cdb-444e-b9e2-585646cc59f9",
   "metadata": {},
   "outputs": [
    {
     "data": {
      "text/plain": [
       "<seaborn.axisgrid.FacetGrid at 0x152909e17f0>"
      ]
     },
     "execution_count": 32,
     "metadata": {},
     "output_type": "execute_result"
    },
    {
     "data": {
      "image/png": "[encoded data removed]",
      "text/plain": [
       "<Figure size 765.725x360 with 2 Axes>"
      ]
     },
     "metadata": {},
     "output_type": "display_data"
    }
   ],
   "source": [
    "sns.catplot(data=train, x='Embarked', col='Survived', hue='Pclass' , kind='count' )"
   ]
  },
  {
   "cell_type": "markdown",
   "id": "d3c76a65-cacd-44f6-a2a7-8ba1000bed1c",
   "metadata": {},
   "source": [
    "##### 4.2.3 Sex"
   ]
  },
  {
   "cell_type": "code",
   "execution_count": 33,
   "id": "1904a8c8-841e-41f2-9dbb-90f3b243e46d",
   "metadata": {},
   "outputs": [
    {
     "data": {
      "text/plain": [
       "0"
      ]
     },
     "execution_count": 33,
     "metadata": {},
     "output_type": "execute_result"
    }
   ],
   "source": [
    "train.Sex.isnull().sum()"
   ]
  },
  {
   "cell_type": "code",
   "execution_count": 34,
   "id": "5814b53f-361c-4fc8-9514-e89f4d704159",
   "metadata": {},
   "outputs": [
    {
     "data": {
      "text/plain": [
       "Sex\n",
       "female    0.747573\n",
       "male      0.190559\n",
       "Name: Survived, dtype: float64"
      ]
     },
     "execution_count": 34,
     "metadata": {},
     "output_type": "execute_result"
    }
   ],
   "source": [
    "survival_by_sex = train.groupby('Sex')['Survived'].mean()\n",
    "survival_by_sex"
   ]
  },
  {
   "cell_type": "code",
   "execution_count": 35,
   "id": "bc804a9a-0d16-49d6-bc8d-8ff153ee2ae3",
   "metadata": {},
   "outputs": [
    {
     "data": {
      "text/plain": [
       "<AxesSubplot:xlabel='Sex', ylabel='Survived'>"
      ]
     },
     "execution_count": 35,
     "metadata": {},
     "output_type": "execute_result"
    },
    {
     "data": {
      "image/png": "[encoded data removed]",
      "text/plain": [
       "<Figure size 432x288 with 1 Axes>"
      ]
     },
     "metadata": {},
     "output_type": "display_data"
    }
   ],
   "source": [
    "sns.barplot(data=train, x='Sex', y='Survived')"
   ]
  },
  {
   "cell_type": "code",
   "execution_count": 36,
   "id": "55adafd7-a605-40d9-a5ae-346d1b74515c",
   "metadata": {
    "scrolled": true
   },
   "outputs": [
    {
     "data": {
      "text/plain": [
       "<seaborn.axisgrid.FacetGrid at 0x152909dfdf0>"
      ]
     },
     "execution_count": 36,
     "metadata": {},
     "output_type": "execute_result"
    },
    {
     "data": {
      "image/png": "[encoded data removed]",
      "text/plain": [
       "<Figure size 405.725x360 with 1 Axes>"
      ]
     },
     "metadata": {},
     "output_type": "display_data"
    }
   ],
   "source": [
    "sns.catplot(data=train, x='Sex', y='Survived', hue='Pclass', kind='bar')"
   ]
  },
  {
   "cell_type": "markdown",
   "id": "20e19a65-2b83-4f74-8e01-2840622d4d06",
   "metadata": {},
   "source": [
    "##### 4.2.4 Pclass."
   ]
  },
  {
   "cell_type": "code",
   "execution_count": 37,
   "id": "b59ea3b1-79f2-4de0-bca7-4a4bac5664d6",
   "metadata": {},
   "outputs": [
    {
     "data": {
      "text/plain": [
       "0"
      ]
     },
     "execution_count": 37,
     "metadata": {},
     "output_type": "execute_result"
    }
   ],
   "source": [
    "train.Pclass.isnull().sum()"
   ]
  },
  {
   "cell_type": "code",
   "execution_count": 38,
   "id": "08edac81-70d3-4196-a1e1-521ab9b10877",
   "metadata": {},
   "outputs": [
    {
     "data": {
      "text/plain": [
       "3    484\n",
       "1    213\n",
       "2    184\n",
       "Name: Pclass, dtype: int64"
      ]
     },
     "execution_count": 38,
     "metadata": {},
     "output_type": "execute_result"
    }
   ],
   "source": [
    "train.Pclass.value_counts()"
   ]
  },
  {
   "cell_type": "code",
   "execution_count": 39,
   "id": "3b70224c-f391-47e6-b440-e46ade4bb971",
   "metadata": {
    "scrolled": true
   },
   "outputs": [
    {
     "data": {
      "text/html": [
       "<div>\n",
       "<style scoped>\n",
       "    .dataframe tbody tr th:only-of-type {\n",
       "        vertical-align: middle;\n",
       "    }\n",
       "\n",
       "    .dataframe tbody tr th {\n",
       "        vertical-align: top;\n",
       "    }\n",
       "\n",
       "    .dataframe thead th {\n",
       "        text-align: right;\n",
       "    }\n",
       "</style>\n",
       "<table border=\"1\" class=\"dataframe\">\n",
       "  <thead>\n",
       "    <tr style=\"text-align: right;\">\n",
       "      <th></th>\n",
       "      <th>Parch</th>\n",
       "      <th>SibSp</th>\n",
       "      <th>Age</th>\n",
       "      <th>Survived</th>\n",
       "    </tr>\n",
       "    <tr>\n",
       "      <th>Pclass</th>\n",
       "      <th></th>\n",
       "      <th></th>\n",
       "      <th></th>\n",
       "      <th></th>\n",
       "    </tr>\n",
       "  </thead>\n",
       "  <tbody>\n",
       "    <tr>\n",
       "      <th>1</th>\n",
       "      <td>0.333333</td>\n",
       "      <td>0.380282</td>\n",
       "      <td>38.499563</td>\n",
       "      <td>0.629108</td>\n",
       "    </tr>\n",
       "    <tr>\n",
       "      <th>2</th>\n",
       "      <td>0.380435</td>\n",
       "      <td>0.402174</td>\n",
       "      <td>29.877630</td>\n",
       "      <td>0.472826</td>\n",
       "    </tr>\n",
       "    <tr>\n",
       "      <th>3</th>\n",
       "      <td>0.369835</td>\n",
       "      <td>0.508264</td>\n",
       "      <td>25.140620</td>\n",
       "      <td>0.245868</td>\n",
       "    </tr>\n",
       "  </tbody>\n",
       "</table>\n",
       "</div>"
      ],
      "text/plain": [
       "           Parch     SibSp        Age  Survived\n",
       "Pclass                                         \n",
       "1       0.333333  0.380282  38.499563  0.629108\n",
       "2       0.380435  0.402174  29.877630  0.472826\n",
       "3       0.369835  0.508264  25.140620  0.245868"
      ]
     },
     "execution_count": 39,
     "metadata": {},
     "output_type": "execute_result"
    }
   ],
   "source": [
    "train[['Parch','SibSp','Age','Pclass','Survived']].groupby('Pclass').mean().sort_values('Survived', ascending=False)"
   ]
  },
  {
   "cell_type": "code",
   "execution_count": 40,
   "id": "6ea32a0d-1ffa-43b5-b973-a43f8b0b34cb",
   "metadata": {},
   "outputs": [],
   "source": [
    "Pclass_sur_mean = train.groupby('Pclass')['Survived'].mean()"
   ]
  },
  {
   "cell_type": "code",
   "execution_count": 41,
   "id": "e8da7937-38a1-40fa-88e2-bbd30fc0b2ef",
   "metadata": {},
   "outputs": [
    {
     "data": {
      "image/png": "[encoded data removed]",
      "text/plain": [
       "<Figure size 432x288 with 1 Axes>"
      ]
     },
     "metadata": {},
     "output_type": "display_data"
    }
   ],
   "source": [
    "Pclass_sur_mean.plot(marker='o', linestyle='-', color='c')\n",
    "plt.title('Pclass vs Survived Mean')\n",
    "plt.xlabel('Pclass')\n",
    "plt.ylabel('Survived Mean')\n",
    "\n",
    "plt.show()"
   ]
  },
  {
   "cell_type": "code",
   "execution_count": 42,
   "id": "d46a98ed-bc22-4f89-9f40-c58049d3e062",
   "metadata": {
    "scrolled": true
   },
   "outputs": [
    {
     "data": {
      "text/plain": [
       "<seaborn.axisgrid.FacetGrid at 0x15291e2edf0>"
      ]
     },
     "execution_count": 42,
     "metadata": {},
     "output_type": "execute_result"
    },
    {
     "data": {
      "image/png": "[encoded data removed]",
      "text/plain": [
       "<Figure size 432.85x360 with 1 Axes>"
      ]
     },
     "metadata": {},
     "output_type": "display_data"
    }
   ],
   "source": [
    "sns.catplot(data=train, x='Pclass', y='Survived', hue='Sex', kind='bar')"
   ]
  },
  {
   "cell_type": "code",
   "execution_count": 52,
   "id": "d15ce0ed-0d8e-4190-ba80-1b4dd3e2de94",
   "metadata": {},
   "outputs": [
    {
     "data": {
      "text/html": [
       "<div>\n",
       "<style scoped>\n",
       "    .dataframe tbody tr th:only-of-type {\n",
       "        vertical-align: middle;\n",
       "    }\n",
       "\n",
       "    .dataframe tbody tr th {\n",
       "        vertical-align: top;\n",
       "    }\n",
       "\n",
       "    .dataframe thead th {\n",
       "        text-align: right;\n",
       "    }\n",
       "</style>\n",
       "<table border=\"1\" class=\"dataframe\">\n",
       "  <thead>\n",
       "    <tr style=\"text-align: right;\">\n",
       "      <th>Sex</th>\n",
       "      <th>female</th>\n",
       "      <th>male</th>\n",
       "    </tr>\n",
       "    <tr>\n",
       "      <th>Pclass</th>\n",
       "      <th></th>\n",
       "      <th></th>\n",
       "    </tr>\n",
       "  </thead>\n",
       "  <tbody>\n",
       "    <tr>\n",
       "      <th>1</th>\n",
       "      <td>92</td>\n",
       "      <td>121</td>\n",
       "    </tr>\n",
       "    <tr>\n",
       "      <th>2</th>\n",
       "      <td>76</td>\n",
       "      <td>108</td>\n",
       "    </tr>\n",
       "    <tr>\n",
       "      <th>3</th>\n",
       "      <td>141</td>\n",
       "      <td>343</td>\n",
       "    </tr>\n",
       "  </tbody>\n",
       "</table>\n",
       "</div>"
      ],
      "text/plain": [
       "Sex     female  male\n",
       "Pclass              \n",
       "1           92   121\n",
       "2           76   108\n",
       "3          141   343"
      ]
     },
     "execution_count": 52,
     "metadata": {},
     "output_type": "execute_result"
    }
   ],
   "source": [
    "train[['Pclass', 'Sex']].groupby(['Pclass', 'Sex']).size().unstack(fill_value=0)"
   ]
  },
  {
   "cell_type": "code",
   "execution_count": 53,
   "id": "79ed63e5-6914-410d-83a8-2564afe25bab",
   "metadata": {},
   "outputs": [
    {
     "data": {
      "text/plain": [
       "0.19055944055944055"
      ]
     },
     "execution_count": 53,
     "metadata": {},
     "output_type": "execute_result"
    }
   ],
   "source": [
    "men = train.query('Sex == \"male\"')['Survived']\n",
    "men_ratio = sum(men) / len(men)\n",
    "men_ratio"
   ]
  },
  {
   "cell_type": "code",
   "execution_count": 54,
   "id": "4fd2a6ce-b87a-46de-b7ce-2b9ea309c0dd",
   "metadata": {
    "scrolled": true
   },
   "outputs": [
    {
     "data": {
      "text/plain": [
       "<seaborn.axisgrid.FacetGrid at 0x152923d3e20>"
      ]
     },
     "execution_count": 54,
     "metadata": {},
     "output_type": "execute_result"
    },
    {
     "data": {
      "image/png": "[encoded data removed]",
      "text/plain": [
       "<Figure size 792.85x360 with 2 Axes>"
      ]
     },
     "metadata": {},
     "output_type": "display_data"
    }
   ],
   "source": [
    "sns.catplot(data=train, x='Pclass', col='Survived', hue='Sex', kind='count')"
   ]
  },
  {
   "cell_type": "markdown",
   "id": "f2c48578-9c2f-4792-8ddd-d79c8401a5a5",
   "metadata": {},
   "source": [
    "#### 4.3 Numerical features.\n",
    "* 4.3.1 Pearson corelation matrix.\n",
    "* 4.3.2 Age\n",
    "* 4.3.3 SibSp\n",
    "* 4.3.4 Parch\n",
    "* 4.3.5 Fare"
   ]
  },
  {
   "cell_type": "markdown",
   "id": "6cfcbc6e-0830-4f35-9859-7b08c535f2cc",
   "metadata": {},
   "source": [
    "##### 4.3.1 Pearson corelation matrix."
   ]
  },
  {
   "cell_type": "code",
   "execution_count": 55,
   "id": "cce312e6-03a8-48b1-bb17-5a004243ab75",
   "metadata": {},
   "outputs": [
    {
     "data": {
      "image/png": "[encoded data removed]",
      "text/plain": [
       "<Figure size 432x288 with 2 Axes>"
      ]
     },
     "metadata": {},
     "output_type": "display_data"
    }
   ],
   "source": [
    "# Correlation matrix between numerical values (SibSp Parch Age and Fare values) and Survived \n",
    "g = sns.heatmap(train[[\"Survived\",\"SibSp\",\"Parch\",\"Age\",\"Fare\"]].corr(),annot=True, fmt = \".2f\", cmap = \"coolwarm\")"
   ]
  },
  {
   "cell_type": "markdown",
   "id": "86f16b0a-bf27-4155-9c60-c61b4e0fd750",
   "metadata": {},
   "source": [
    "##### 4.3.2 Age."
   ]
  },
  {
   "cell_type": "code",
   "execution_count": 56,
   "id": "37731a01-dca7-4268-ad9f-523a1b485f90",
   "metadata": {},
   "outputs": [
    {
     "data": {
      "text/plain": [
       "170"
      ]
     },
     "execution_count": 56,
     "metadata": {},
     "output_type": "execute_result"
    }
   ],
   "source": [
    "train.Age.isnull().sum()"
   ]
  },
  {
   "cell_type": "code",
   "execution_count": 57,
   "id": "25aa3ff5-a09b-4364-95b6-4070e73db04f",
   "metadata": {},
   "outputs": [],
   "source": [
    "# ax = train.Age.plot(kind='hist', bins=20, title='Histogram of Age')\n",
    "\n",
    "# ax.set_xlabel('')\n",
    "# ax.set_ylabel('')"
   ]
  },
  {
   "cell_type": "code",
   "execution_count": 58,
   "id": "93c422f1-533a-4572-8d5e-a5e54ae40a5a",
   "metadata": {},
   "outputs": [],
   "source": [
    "# ax = train.Age.plot(kind='kde', bins=20, title='Histogram of Age')\n",
    "\n",
    "# ax.set_xlabel('')\n",
    "# ax.set_ylabel('')"
   ]
  },
  {
   "cell_type": "code",
   "execution_count": 59,
   "id": "6c7cc880-e297-4bd1-a9c1-69854014490e",
   "metadata": {},
   "outputs": [
    {
     "data": {
      "text/plain": [
       "<matplotlib.legend.Legend at 0x152938a6100>"
      ]
     },
     "execution_count": 59,
     "metadata": {},
     "output_type": "execute_result"
    },
    {
     "data": {
      "image/png": "[encoded data removed]",
      "text/plain": [
       "<Figure size 360x360 with 1 Axes>"
      ]
     },
     "metadata": {},
     "output_type": "display_data"
    }
   ],
   "source": [
    "sns.displot(data=train, x='Age', kde=True, label='Skewness: %.2f'%(train['Age'].skew()))\n",
    "plt.legend(loc='best')"
   ]
  },
  {
   "cell_type": "code",
   "execution_count": 60,
   "id": "daee6fbb-196a-4273-b8af-a8d4600a6f44",
   "metadata": {},
   "outputs": [
    {
     "data": {
      "text/plain": [
       "Age\n",
       "0.42     1.0\n",
       "0.67     1.0\n",
       "0.75     1.0\n",
       "0.83     1.0\n",
       "0.92     1.0\n",
       "        ... \n",
       "70.00    0.0\n",
       "70.50    0.0\n",
       "71.00    0.0\n",
       "74.00    0.0\n",
       "80.00    1.0\n",
       "Name: Survived, Length: 88, dtype: float64"
      ]
     },
     "execution_count": 60,
     "metadata": {},
     "output_type": "execute_result"
    }
   ],
   "source": [
    "train.groupby('Age')['Survived'].mean()"
   ]
  },
  {
   "cell_type": "code",
   "execution_count": 61,
   "id": "30091f3a-124a-4f4d-afa8-c05552f270df",
   "metadata": {},
   "outputs": [
    {
     "data": {
      "text/plain": [
       "<seaborn.axisgrid.FacetGrid at 0x15291e4d040>"
      ]
     },
     "execution_count": 61,
     "metadata": {},
     "output_type": "execute_result"
    },
    {
     "data": {
      "image/png": "[encoded data removed]",
      "text/plain": [
       "<Figure size 432x216 with 2 Axes>"
      ]
     },
     "metadata": {},
     "output_type": "display_data"
    }
   ],
   "source": [
    "g = sns.FacetGrid(train, col='Survived')\n",
    "\n",
    "g.map(sns.distplot, 'Age')"
   ]
  },
  {
   "cell_type": "markdown",
   "id": "29fbce80-5747-4ff1-b4e7-e5b7b6db813f",
   "metadata": {},
   "source": [
    "##### 4.3.3 SibSp."
   ]
  },
  {
   "cell_type": "code",
   "execution_count": 62,
   "id": "f2a6b539-812b-443c-a300-bb758648c0a1",
   "metadata": {},
   "outputs": [
    {
     "data": {
      "text/plain": [
       "0"
      ]
     },
     "execution_count": 62,
     "metadata": {},
     "output_type": "execute_result"
    }
   ],
   "source": [
    "train.SibSp.isnull().sum()"
   ]
  },
  {
   "cell_type": "code",
   "execution_count": 63,
   "id": "881dd50b-4eff-4550-93ce-b61432afeab8",
   "metadata": {},
   "outputs": [
    {
     "data": {
      "text/plain": [
       "0    608\n",
       "1    209\n",
       "2     28\n",
       "4     18\n",
       "3     13\n",
       "5      5\n",
       "Name: SibSp, dtype: int64"
      ]
     },
     "execution_count": 63,
     "metadata": {},
     "output_type": "execute_result"
    }
   ],
   "source": [
    "train.SibSp.value_counts(dropna=False)"
   ]
  },
  {
   "cell_type": "code",
   "execution_count": 64,
   "id": "f8e14a65-af78-4427-8e55-48bbe4d284a7",
   "metadata": {},
   "outputs": [
    {
     "data": {
      "text/plain": [
       "Text(0, 0.5, 'Count')"
      ]
     },
     "execution_count": 64,
     "metadata": {},
     "output_type": "execute_result"
    },
    {
     "data": {
      "image/png": "[encoded data removed]",
      "text/plain": [
       "<Figure size 432x288 with 1 Axes>"
      ]
     },
     "metadata": {},
     "output_type": "display_data"
    }
   ],
   "source": [
    "ax = train.SibSp.value_counts(dropna=False) \\\n",
    ".plot(kind='bar', title='Count of SibSp')\n",
    "ax.set_xlabel('SibSp')\n",
    "ax.set_ylabel('Count')"
   ]
  },
  {
   "cell_type": "code",
   "execution_count": 69,
   "id": "4fbe1250-62e4-4a49-a91b-ea24eff6b6fc",
   "metadata": {},
   "outputs": [
    {
     "data": {
      "text/html": [
       "<div>\n",
       "<style scoped>\n",
       "    .dataframe tbody tr th:only-of-type {\n",
       "        vertical-align: middle;\n",
       "    }\n",
       "\n",
       "    .dataframe tbody tr th {\n",
       "        vertical-align: top;\n",
       "    }\n",
       "\n",
       "    .dataframe thead th {\n",
       "        text-align: right;\n",
       "    }\n",
       "</style>\n",
       "<table border=\"1\" class=\"dataframe\">\n",
       "  <thead>\n",
       "    <tr style=\"text-align: right;\">\n",
       "      <th>Sex</th>\n",
       "      <th>female</th>\n",
       "      <th>male</th>\n",
       "    </tr>\n",
       "    <tr>\n",
       "      <th>SibSp</th>\n",
       "      <th></th>\n",
       "      <th></th>\n",
       "    </tr>\n",
       "  </thead>\n",
       "  <tbody>\n",
       "    <tr>\n",
       "      <th>0</th>\n",
       "      <td>0.787356</td>\n",
       "      <td>0.168203</td>\n",
       "    </tr>\n",
       "    <tr>\n",
       "      <th>1</th>\n",
       "      <td>0.754717</td>\n",
       "      <td>0.310680</td>\n",
       "    </tr>\n",
       "    <tr>\n",
       "      <th>2</th>\n",
       "      <td>0.769231</td>\n",
       "      <td>0.200000</td>\n",
       "    </tr>\n",
       "    <tr>\n",
       "      <th>3</th>\n",
       "      <td>0.222222</td>\n",
       "      <td>0.000000</td>\n",
       "    </tr>\n",
       "    <tr>\n",
       "      <th>4</th>\n",
       "      <td>0.333333</td>\n",
       "      <td>0.083333</td>\n",
       "    </tr>\n",
       "    <tr>\n",
       "      <th>5</th>\n",
       "      <td>0.000000</td>\n",
       "      <td>0.000000</td>\n",
       "    </tr>\n",
       "  </tbody>\n",
       "</table>\n",
       "</div>"
      ],
      "text/plain": [
       "Sex      female      male\n",
       "SibSp                    \n",
       "0      0.787356  0.168203\n",
       "1      0.754717  0.310680\n",
       "2      0.769231  0.200000\n",
       "3      0.222222  0.000000\n",
       "4      0.333333  0.083333\n",
       "5      0.000000  0.000000"
      ]
     },
     "execution_count": 69,
     "metadata": {},
     "output_type": "execute_result"
    }
   ],
   "source": [
    "train[['SibSp', 'Sex', 'Survived']].groupby(['SibSp', 'Sex'])['Survived'].mean().unstack()"
   ]
  },
  {
   "cell_type": "code",
   "execution_count": 66,
   "id": "9ca1cff3-7392-4819-81b6-e8e863d8cbb2",
   "metadata": {},
   "outputs": [
    {
     "data": {
      "image/png": "[encoded data removed]",
      "text/plain": [
       "<Figure size 432x288 with 1 Axes>"
      ]
     },
     "metadata": {},
     "output_type": "display_data"
    }
   ],
   "source": [
    "sns.barplot(data=train, x='SibSp', y='Survived')\n",
    "plt.show()"
   ]
  },
  {
   "cell_type": "markdown",
   "id": "9dc1497f-0bf6-4937-8f89-9b314424aacb",
   "metadata": {},
   "source": [
    "#### 4.3.4 Parch."
   ]
  },
  {
   "cell_type": "code",
   "execution_count": 70,
   "id": "23ac3683-a53b-4dc0-bcb7-229e4aafc492",
   "metadata": {},
   "outputs": [
    {
     "data": {
      "text/plain": [
       "0"
      ]
     },
     "execution_count": 70,
     "metadata": {},
     "output_type": "execute_result"
    }
   ],
   "source": [
    "train.Parch.isnull().sum()"
   ]
  },
  {
   "cell_type": "code",
   "execution_count": 71,
   "id": "8cb30cd1-2ea1-4d11-a02c-ef5f22fad41b",
   "metadata": {},
   "outputs": [
    {
     "data": {
      "text/plain": [
       "0    678\n",
       "1    118\n",
       "2     70\n",
       "5      5\n",
       "3      5\n",
       "4      4\n",
       "6      1\n",
       "Name: Parch, dtype: int64"
      ]
     },
     "execution_count": 71,
     "metadata": {},
     "output_type": "execute_result"
    }
   ],
   "source": [
    "train.Parch.value_counts(dropna=False)"
   ]
  },
  {
   "cell_type": "code",
   "execution_count": 72,
   "id": "2a06e23a-771c-4294-8753-0c6f0825648e",
   "metadata": {},
   "outputs": [
    {
     "data": {
      "text/plain": [
       "Parch\n",
       "0    0.343658\n",
       "1    0.550847\n",
       "2    0.542857\n",
       "3    0.600000\n",
       "4    0.000000\n",
       "5    0.200000\n",
       "6    0.000000\n",
       "Name: Survived, dtype: float64"
      ]
     },
     "execution_count": 72,
     "metadata": {},
     "output_type": "execute_result"
    }
   ],
   "source": [
    "train.groupby('Parch')['Survived'].mean()"
   ]
  },
  {
   "cell_type": "code",
   "execution_count": 73,
   "id": "e4980412-b03e-4a93-b4ee-60bddbc12f82",
   "metadata": {},
   "outputs": [
    {
     "data": {
      "image/png": "[encoded data removed]",
      "text/plain": [
       "<Figure size 432x288 with 1 Axes>"
      ]
     },
     "metadata": {},
     "output_type": "display_data"
    }
   ],
   "source": [
    "sns.barplot(data=train, x='Parch', y='Survived')\n",
    "plt.show()"
   ]
  },
  {
   "cell_type": "code",
   "execution_count": 74,
   "id": "84ef6833-1072-4606-bcb3-d0b80da16bef",
   "metadata": {},
   "outputs": [
    {
     "data": {
      "text/plain": [
       "<seaborn.axisgrid.FacetGrid at 0x15297a50340>"
      ]
     },
     "execution_count": 74,
     "metadata": {},
     "output_type": "execute_result"
    },
    {
     "data": {
      "image/png": "[encoded data removed]",
      "text/plain": [
       "<Figure size 765.725x360 with 2 Axes>"
      ]
     },
     "metadata": {},
     "output_type": "display_data"
    }
   ],
   "source": [
    "sns.catplot(data=train, x='Parch', col='Survived', hue='Pclass', kind='count')"
   ]
  },
  {
   "cell_type": "markdown",
   "id": "1d0f5b0b-5acf-432f-87fa-69c02444400c",
   "metadata": {},
   "source": [
    "##### 4.3.5 Fare"
   ]
  },
  {
   "cell_type": "code",
   "execution_count": 75,
   "id": "a5e1c799-d811-46aa-aacf-cf44c7d4acff",
   "metadata": {},
   "outputs": [
    {
     "name": "stdout",
     "output_type": "stream",
     "text": [
      "Highest Fare was: 512.3292\n",
      "Lowest Fare was: 0.0\n",
      "Average Fare was: 31.121565607264436\n"
     ]
    }
   ],
   "source": [
    "print('Highest Fare was:',train['Fare'].max())\n",
    "print('Lowest Fare was:',train['Fare'].min())\n",
    "print('Average Fare was:',train['Fare'].mean())"
   ]
  },
  {
   "cell_type": "code",
   "execution_count": 76,
   "id": "b3e4003f-9f97-4b86-b934-ecaaf610572e",
   "metadata": {},
   "outputs": [
    {
     "data": {
      "text/plain": [
       "<matplotlib.legend.Legend at 0x152941a36a0>"
      ]
     },
     "execution_count": 76,
     "metadata": {},
     "output_type": "execute_result"
    },
    {
     "data": {
      "image/png": "[encoded data removed]",
      "text/plain": [
       "<Figure size 360x360 with 1 Axes>"
      ]
     },
     "metadata": {},
     "output_type": "display_data"
    }
   ],
   "source": [
    "sns.displot(data=train, x='Fare', kde='True', label='Skewness: %.2f'%(train['Fare'].skew()))\n",
    "plt.legend(loc='best')"
   ]
  },
  {
   "cell_type": "code",
   "execution_count": 77,
   "id": "079d9299-13b3-4cab-ae51-3421b00444c6",
   "metadata": {
    "scrolled": true
   },
   "outputs": [
    {
     "data": {
      "image/png": "[encoded data removed]",
      "text/plain": [
       "<Figure size 1440x576 with 3 Axes>"
      ]
     },
     "metadata": {},
     "output_type": "display_data"
    }
   ],
   "source": [
    "f,ax=plt.subplots(1,3,figsize=(20,8))\n",
    "sns.distplot(train.query('Pclass == 1')['Fare'],ax=ax[0])\n",
    "ax[0].set_title('Fares in Pclass 1')\n",
    "sns.distplot(train.query('Pclass == 2')['Fare'],ax=ax[1])\n",
    "ax[1].set_title('Fares in Pclass 2')\n",
    "sns.distplot(train.query('Pclass == 3')['Fare'],ax=ax[2])\n",
    "ax[2].set_title('Fares in Pclass 3')\n",
    "plt.show()"
   ]
  },
  {
   "cell_type": "code",
   "execution_count": 83,
   "id": "7b266d52",
   "metadata": {},
   "outputs": [
    {
     "data": {
      "image/png": "[encoded data removed]",
      "text/plain": [
       "<Figure size 1440x576 with 3 Axes>"
      ]
     },
     "metadata": {},
     "output_type": "display_data"
    }
   ],
   "source": [
    "# Define the number of bins and the bin ranges\n",
    "num_bins = 15\n",
    "fare_ranges = pd.cut(train['Fare'], bins=num_bins)\n",
    "\n",
    "# Create subplots\n",
    "f, ax = plt.subplots(1, 3, figsize=(20, 8))\n",
    "\n",
    "# Plot countplot for each passenger class\n",
    "for i in range(3):\n",
    "    sns.countplot(x=fare_ranges[train['Pclass'] == i+1], ax=ax[i])\n",
    "    ax[i].set_title(f'Fares in Pclass {i+1}')\n",
    "    ax[i].set_xlabel('Fare Range')\n",
    "    ax[i].tick_params(axis='x', rotation=45)  # Rotate x-axis labels\n",
    "    ax[i].tick_params(axis='x', labelsize=16)  # Adjust label font size\n",
    "\n",
    "# Rotate x-axis labels for better readability\n",
    "plt.xticks(rotation=45)\n",
    "\n",
    "# Show the plot\n",
    "plt.tight_layout()\n",
    "plt.show()"
   ]
  },
  {
   "cell_type": "markdown",
   "id": "867bf458-9cff-4f9d-ac90-ce7a5a6e49ee",
   "metadata": {},
   "source": [
    "#### 4.5 Feature Relationships."
   ]
  },
  {
   "cell_type": "code",
   "execution_count": 84,
   "id": "f7da1324-d805-4ad2-bc94-ff5b20ffc5cb",
   "metadata": {},
   "outputs": [
    {
     "data": {
      "image/png": "[encoded data removed]",
      "text/plain": [
       "<Figure size 432x288 with 1 Axes>"
      ]
     },
     "metadata": {},
     "output_type": "display_data"
    }
   ],
   "source": [
    "sns.scatterplot(x='Fare', y='Pclass',hue='Sex', data=train)\n",
    "\n",
    "plt.show()\n",
    "\n"
   ]
  },
  {
   "cell_type": "code",
   "execution_count": 85,
   "id": "01ee80d0-6c8f-4d9c-8a63-2aafbca7d4ac",
   "metadata": {},
   "outputs": [
    {
     "data": {
      "image/png": "[encoded data removed]",
      "text/plain": [
       "<Figure size 792.85x720 with 20 Axes>"
      ]
     },
     "metadata": {},
     "output_type": "display_data"
    }
   ],
   "source": [
    "sns.pairplot(train, vars=['Age', 'SibSp', 'Parch', 'Fare'],\n",
    "            hue='Sex')\n",
    "plt.show()"
   ]
  },
  {
   "cell_type": "code",
   "execution_count": 86,
   "id": "5c699203-8c00-43a5-8e63-aaac312e0e28",
   "metadata": {},
   "outputs": [
    {
     "data": {
      "text/html": [
       "<div>\n",
       "<style scoped>\n",
       "    .dataframe tbody tr th:only-of-type {\n",
       "        vertical-align: middle;\n",
       "    }\n",
       "\n",
       "    .dataframe tbody tr th {\n",
       "        vertical-align: top;\n",
       "    }\n",
       "\n",
       "    .dataframe thead th {\n",
       "        text-align: right;\n",
       "    }\n",
       "</style>\n",
       "<table border=\"1\" class=\"dataframe\">\n",
       "  <thead>\n",
       "    <tr style=\"text-align: right;\">\n",
       "      <th></th>\n",
       "      <th>Age</th>\n",
       "      <th>SibSp</th>\n",
       "      <th>Parch</th>\n",
       "      <th>Fare</th>\n",
       "    </tr>\n",
       "  </thead>\n",
       "  <tbody>\n",
       "    <tr>\n",
       "      <th>Age</th>\n",
       "      <td>1.000000</td>\n",
       "      <td>-0.307129</td>\n",
       "      <td>-0.186457</td>\n",
       "      <td>0.110219</td>\n",
       "    </tr>\n",
       "    <tr>\n",
       "      <th>SibSp</th>\n",
       "      <td>-0.307129</td>\n",
       "      <td>1.000000</td>\n",
       "      <td>0.371317</td>\n",
       "      <td>0.094749</td>\n",
       "    </tr>\n",
       "    <tr>\n",
       "      <th>Parch</th>\n",
       "      <td>-0.186457</td>\n",
       "      <td>0.371317</td>\n",
       "      <td>1.000000</td>\n",
       "      <td>0.180072</td>\n",
       "    </tr>\n",
       "    <tr>\n",
       "      <th>Fare</th>\n",
       "      <td>0.110219</td>\n",
       "      <td>0.094749</td>\n",
       "      <td>0.180072</td>\n",
       "      <td>1.000000</td>\n",
       "    </tr>\n",
       "  </tbody>\n",
       "</table>\n",
       "</div>"
      ],
      "text/plain": [
       "            Age     SibSp     Parch      Fare\n",
       "Age    1.000000 -0.307129 -0.186457  0.110219\n",
       "SibSp -0.307129  1.000000  0.371317  0.094749\n",
       "Parch -0.186457  0.371317  1.000000  0.180072\n",
       "Fare   0.110219  0.094749  0.180072  1.000000"
      ]
     },
     "execution_count": 86,
     "metadata": {},
     "output_type": "execute_result"
    }
   ],
   "source": [
    "train[['Age', 'SibSp', 'Parch', 'Fare']].dropna().corr()"
   ]
  },
  {
   "cell_type": "markdown",
   "id": "cb223d99-0927-474c-bf4f-2d95e0f129ec",
   "metadata": {},
   "source": [
    "#### 5.4 Ask Questions about the data.\n",
    "* Try to post and answer a question you have about the data using plot or statistic.\n",
    "* Find the mean age of all women from all classes."
   ]
  },
  {
   "cell_type": "code",
   "execution_count": 87,
   "id": "aebac3f5-ba10-44ce-9d77-3422bfef942e",
   "metadata": {},
   "outputs": [
    {
     "data": {
      "text/html": [
       "<div>\n",
       "<style scoped>\n",
       "    .dataframe tbody tr th:only-of-type {\n",
       "        vertical-align: middle;\n",
       "    }\n",
       "\n",
       "    .dataframe tbody tr th {\n",
       "        vertical-align: top;\n",
       "    }\n",
       "\n",
       "    .dataframe thead th {\n",
       "        text-align: right;\n",
       "    }\n",
       "</style>\n",
       "<table border=\"1\" class=\"dataframe\">\n",
       "  <thead>\n",
       "    <tr style=\"text-align: right;\">\n",
       "      <th></th>\n",
       "      <th>PassengerId</th>\n",
       "      <th>Survived</th>\n",
       "      <th>Pclass</th>\n",
       "      <th>Name</th>\n",
       "      <th>Sex</th>\n",
       "      <th>Age</th>\n",
       "      <th>SibSp</th>\n",
       "      <th>Parch</th>\n",
       "      <th>Ticket</th>\n",
       "      <th>Fare</th>\n",
       "      <th>Cabin</th>\n",
       "      <th>Embarked</th>\n",
       "    </tr>\n",
       "  </thead>\n",
       "  <tbody>\n",
       "    <tr>\n",
       "      <th>0</th>\n",
       "      <td>1</td>\n",
       "      <td>0</td>\n",
       "      <td>3</td>\n",
       "      <td>Braund, Mr. Owen Harris</td>\n",
       "      <td>male</td>\n",
       "      <td>22.0</td>\n",
       "      <td>1</td>\n",
       "      <td>0</td>\n",
       "      <td>A/5 21171</td>\n",
       "      <td>7.2500</td>\n",
       "      <td>nan</td>\n",
       "      <td>S</td>\n",
       "    </tr>\n",
       "    <tr>\n",
       "      <th>1</th>\n",
       "      <td>2</td>\n",
       "      <td>1</td>\n",
       "      <td>1</td>\n",
       "      <td>Cumings, Mrs. John Bradley (Florence Briggs Th...</td>\n",
       "      <td>female</td>\n",
       "      <td>38.0</td>\n",
       "      <td>1</td>\n",
       "      <td>0</td>\n",
       "      <td>PC 17599</td>\n",
       "      <td>71.2833</td>\n",
       "      <td>C85</td>\n",
       "      <td>C</td>\n",
       "    </tr>\n",
       "    <tr>\n",
       "      <th>2</th>\n",
       "      <td>3</td>\n",
       "      <td>1</td>\n",
       "      <td>3</td>\n",
       "      <td>Heikkinen, Miss. Laina</td>\n",
       "      <td>female</td>\n",
       "      <td>26.0</td>\n",
       "      <td>0</td>\n",
       "      <td>0</td>\n",
       "      <td>STON/O2. 3101282</td>\n",
       "      <td>7.9250</td>\n",
       "      <td>nan</td>\n",
       "      <td>S</td>\n",
       "    </tr>\n",
       "    <tr>\n",
       "      <th>3</th>\n",
       "      <td>4</td>\n",
       "      <td>1</td>\n",
       "      <td>1</td>\n",
       "      <td>Futrelle, Mrs. Jacques Heath (Lily May Peel)</td>\n",
       "      <td>female</td>\n",
       "      <td>35.0</td>\n",
       "      <td>1</td>\n",
       "      <td>0</td>\n",
       "      <td>113803</td>\n",
       "      <td>53.1000</td>\n",
       "      <td>C123</td>\n",
       "      <td>S</td>\n",
       "    </tr>\n",
       "    <tr>\n",
       "      <th>4</th>\n",
       "      <td>5</td>\n",
       "      <td>0</td>\n",
       "      <td>3</td>\n",
       "      <td>Allen, Mr. William Henry</td>\n",
       "      <td>male</td>\n",
       "      <td>35.0</td>\n",
       "      <td>0</td>\n",
       "      <td>0</td>\n",
       "      <td>373450</td>\n",
       "      <td>8.0500</td>\n",
       "      <td>nan</td>\n",
       "      <td>S</td>\n",
       "    </tr>\n",
       "  </tbody>\n",
       "</table>\n",
       "</div>"
      ],
      "text/plain": [
       "   PassengerId  Survived  Pclass  \\\n",
       "0            1         0       3   \n",
       "1            2         1       1   \n",
       "2            3         1       3   \n",
       "3            4         1       1   \n",
       "4            5         0       3   \n",
       "\n",
       "                                                Name     Sex   Age  SibSp  \\\n",
       "0                            Braund, Mr. Owen Harris    male  22.0      1   \n",
       "1  Cumings, Mrs. John Bradley (Florence Briggs Th...  female  38.0      1   \n",
       "2                             Heikkinen, Miss. Laina  female  26.0      0   \n",
       "3       Futrelle, Mrs. Jacques Heath (Lily May Peel)  female  35.0      1   \n",
       "4                           Allen, Mr. William Henry    male  35.0      0   \n",
       "\n",
       "   Parch            Ticket     Fare Cabin Embarked  \n",
       "0      0         A/5 21171   7.2500   nan        S  \n",
       "1      0          PC 17599  71.2833   C85        C  \n",
       "2      0  STON/O2. 3101282   7.9250   nan        S  \n",
       "3      0            113803  53.1000  C123        S  \n",
       "4      0            373450   8.0500   nan        S  "
      ]
     },
     "execution_count": 87,
     "metadata": {},
     "output_type": "execute_result"
    }
   ],
   "source": [
    "train.head()"
   ]
  },
  {
   "cell_type": "code",
   "execution_count": 92,
   "id": "09857f80-b3f7-4c61-984b-956af12dd4be",
   "metadata": {},
   "outputs": [
    {
     "data": {
      "image/png": "[encoded data removed]",
      "text/plain": [
       "<Figure size 864x360 with 1 Axes>"
      ]
     },
     "metadata": {},
     "output_type": "display_data"
    }
   ],
   "source": [
    "ax = train.query('Sex==\"female\"') \\\n",
    ".groupby('Pclass')['Age'] \\\n",
    ".agg(['mean']) \\\n",
    ".sort_values('mean', ascending=False) \\\n",
    ".plot(kind='barh', figsize=(12,5), title='Mean age of women in all Pclass')\n",
    "ax.set_xlabel(\"Women's Age\")\n",
    "ax.set_ylabel('Passeneger class')\n",
    "plt.show()"
   ]
  },
  {
   "cell_type": "code",
   "execution_count": 93,
   "id": "9d8fdc26-d0e4-45e9-bc7f-d4910b39b1bd",
   "metadata": {},
   "outputs": [
    {
     "data": {
      "image/png": "[encoded data removed]",
      "text/plain": [
       "<Figure size 864x360 with 1 Axes>"
      ]
     },
     "metadata": {},
     "output_type": "display_data"
    }
   ],
   "source": [
    "ax = train.query('Sex == \"male\"')\\\n",
    ".groupby('Pclass')['Age'] \\\n",
    ".agg(['mean']) \\\n",
    ".sort_values('mean',ascending=False) \\\n",
    ".plot(kind = 'barh', figsize = (12, 5), title = \"Mean age of males in Pclass\")"
   ]
  },
  {
   "cell_type": "markdown",
   "id": "9a65fd33-55fc-4b01-a28d-075542bc6dea",
   "metadata": {},
   "source": [
    "### 5. Data preprocesing\n",
    "Data preprocesing is the process of getting our dataset ready for model training.\n",
    "In this section we will perform the following preprocessing steps:\n",
    "* 5.1 Concatenating train and test set\n",
    "* 5.2 Drop and fill missing va in train and test datasets.\n",
    "*      5.2.1 Embarked.\n",
    "*      5.2.2 Fare.\n",
    "*      5.2.3 Age.\n"
   ]
  },
  {
   "cell_type": "markdown",
   "id": "f3160b32-334a-40be-8ef0-46492e12c506",
   "metadata": {},
   "source": [
    "#### 5.1 Concatenating train and test set."
   ]
  },
  {
   "cell_type": "code",
   "execution_count": 95,
   "id": "e1dd95e5-ae61-4401-ba89-2fd1b525c183",
   "metadata": {},
   "outputs": [
    {
     "data": {
      "text/html": [
       "<div>\n",
       "<style scoped>\n",
       "    .dataframe tbody tr th:only-of-type {\n",
       "        vertical-align: middle;\n",
       "    }\n",
       "\n",
       "    .dataframe tbody tr th {\n",
       "        vertical-align: top;\n",
       "    }\n",
       "\n",
       "    .dataframe thead th {\n",
       "        text-align: right;\n",
       "    }\n",
       "</style>\n",
       "<table border=\"1\" class=\"dataframe\">\n",
       "  <thead>\n",
       "    <tr style=\"text-align: right;\">\n",
       "      <th></th>\n",
       "      <th>PassengerId</th>\n",
       "      <th>Pclass</th>\n",
       "      <th>Name</th>\n",
       "      <th>Sex</th>\n",
       "      <th>Age</th>\n",
       "      <th>SibSp</th>\n",
       "      <th>Parch</th>\n",
       "      <th>Ticket</th>\n",
       "      <th>Fare</th>\n",
       "      <th>Cabin</th>\n",
       "      <th>Embarked</th>\n",
       "    </tr>\n",
       "  </thead>\n",
       "  <tbody>\n",
       "    <tr>\n",
       "      <th>0</th>\n",
       "      <td>892</td>\n",
       "      <td>3</td>\n",
       "      <td>Kelly, Mr. James</td>\n",
       "      <td>male</td>\n",
       "      <td>34.5</td>\n",
       "      <td>0</td>\n",
       "      <td>0</td>\n",
       "      <td>330911</td>\n",
       "      <td>7.8292</td>\n",
       "      <td>nan</td>\n",
       "      <td>Q</td>\n",
       "    </tr>\n",
       "    <tr>\n",
       "      <th>1</th>\n",
       "      <td>893</td>\n",
       "      <td>3</td>\n",
       "      <td>Wilkes, Mrs. James (Ellen Needs)</td>\n",
       "      <td>female</td>\n",
       "      <td>47.0</td>\n",
       "      <td>1</td>\n",
       "      <td>0</td>\n",
       "      <td>363272</td>\n",
       "      <td>7.0000</td>\n",
       "      <td>nan</td>\n",
       "      <td>S</td>\n",
       "    </tr>\n",
       "    <tr>\n",
       "      <th>2</th>\n",
       "      <td>894</td>\n",
       "      <td>2</td>\n",
       "      <td>Myles, Mr. Thomas Francis</td>\n",
       "      <td>male</td>\n",
       "      <td>62.0</td>\n",
       "      <td>0</td>\n",
       "      <td>0</td>\n",
       "      <td>240276</td>\n",
       "      <td>9.6875</td>\n",
       "      <td>nan</td>\n",
       "      <td>Q</td>\n",
       "    </tr>\n",
       "    <tr>\n",
       "      <th>3</th>\n",
       "      <td>895</td>\n",
       "      <td>3</td>\n",
       "      <td>Wirz, Mr. Albert</td>\n",
       "      <td>male</td>\n",
       "      <td>27.0</td>\n",
       "      <td>0</td>\n",
       "      <td>0</td>\n",
       "      <td>315154</td>\n",
       "      <td>8.6625</td>\n",
       "      <td>nan</td>\n",
       "      <td>S</td>\n",
       "    </tr>\n",
       "    <tr>\n",
       "      <th>4</th>\n",
       "      <td>896</td>\n",
       "      <td>3</td>\n",
       "      <td>Hirvonen, Mrs. Alexander (Helga E Lindqvist)</td>\n",
       "      <td>female</td>\n",
       "      <td>22.0</td>\n",
       "      <td>1</td>\n",
       "      <td>1</td>\n",
       "      <td>3101298</td>\n",
       "      <td>12.2875</td>\n",
       "      <td>nan</td>\n",
       "      <td>S</td>\n",
       "    </tr>\n",
       "  </tbody>\n",
       "</table>\n",
       "</div>"
      ],
      "text/plain": [
       "   PassengerId  Pclass                                          Name     Sex  \\\n",
       "0          892       3                              Kelly, Mr. James    male   \n",
       "1          893       3              Wilkes, Mrs. James (Ellen Needs)  female   \n",
       "2          894       2                     Myles, Mr. Thomas Francis    male   \n",
       "3          895       3                              Wirz, Mr. Albert    male   \n",
       "4          896       3  Hirvonen, Mrs. Alexander (Helga E Lindqvist)  female   \n",
       "\n",
       "    Age  SibSp  Parch   Ticket     Fare Cabin Embarked  \n",
       "0  34.5      0      0   330911   7.8292   nan        Q  \n",
       "1  47.0      1      0   363272   7.0000   nan        S  \n",
       "2  62.0      0      0   240276   9.6875   nan        Q  \n",
       "3  27.0      0      0   315154   8.6625   nan        S  \n",
       "4  22.0      1      1  3101298  12.2875   nan        S  "
      ]
     },
     "execution_count": 95,
     "metadata": {},
     "output_type": "execute_result"
    }
   ],
   "source": [
    "test.head()"
   ]
  },
  {
   "cell_type": "code",
   "execution_count": 96,
   "id": "c08164e6-358c-4879-be40-f0760962660b",
   "metadata": {},
   "outputs": [],
   "source": [
    "combine = pd.concat([train,test], axis=0, ignore_index=True)"
   ]
  },
  {
   "cell_type": "markdown",
   "id": "c05b5456-6dd6-4632-9fc7-fbcbcb93187a",
   "metadata": {},
   "source": [
    "#### 5.2 Drop and fill missing va in train and test datasets."
   ]
  },
  {
   "cell_type": "markdown",
   "id": "0833bd7f-6631-44ed-9ff6-0198e96142e1",
   "metadata": {},
   "source": [
    "##### 5.2.1 Embarked."
   ]
  },
  {
   "cell_type": "code",
   "execution_count": 101,
   "id": "08bf94f7-d60d-4763-bd69-4a04de9f71ef",
   "metadata": {},
   "outputs": [
    {
     "data": {
      "text/html": [
       "<style type=\"text/css\">\n",
       "#T_d9983_row0_col0, #T_d9983_row1_col2 {\n",
       "  background-color: #fcfe66;\n",
       "  color: #000000;\n",
       "}\n",
       "#T_d9983_row0_col1 {\n",
       "  background-color: #d1e866;\n",
       "  color: #000000;\n",
       "}\n",
       "#T_d9983_row0_col2 {\n",
       "  background-color: #f2f866;\n",
       "  color: #000000;\n",
       "}\n",
       "#T_d9983_row0_col3 {\n",
       "  background-color: #d8ec66;\n",
       "  color: #000000;\n",
       "}\n",
       "#T_d9983_row0_col4 {\n",
       "  background-color: #e7f366;\n",
       "  color: #000000;\n",
       "}\n",
       "#T_d9983_row1_col0, #T_d9983_row3_col0, #T_d9983_row3_col1, #T_d9983_row3_col2, #T_d9983_row3_col3, #T_d9983_row3_col4, #T_d9983_row4_col0, #T_d9983_row4_col2, #T_d9983_row4_col3, #T_d9983_row4_col4 {\n",
       "  background-color: #ffff66;\n",
       "  color: #000000;\n",
       "}\n",
       "#T_d9983_row1_col1, #T_d9983_row6_col0 {\n",
       "  background-color: #f9fc66;\n",
       "  color: #000000;\n",
       "}\n",
       "#T_d9983_row1_col3, #T_d9983_row1_col4 {\n",
       "  background-color: #fbfd66;\n",
       "  color: #000000;\n",
       "}\n",
       "#T_d9983_row2_col0 {\n",
       "  background-color: #e5f266;\n",
       "  color: #000000;\n",
       "}\n",
       "#T_d9983_row2_col1 {\n",
       "  background-color: #f0f866;\n",
       "  color: #000000;\n",
       "}\n",
       "#T_d9983_row2_col2 {\n",
       "  background-color: #eef666;\n",
       "  color: #000000;\n",
       "}\n",
       "#T_d9983_row2_col3 {\n",
       "  background-color: #e8f466;\n",
       "  color: #000000;\n",
       "}\n",
       "#T_d9983_row2_col4 {\n",
       "  background-color: #edf666;\n",
       "  color: #000000;\n",
       "}\n",
       "#T_d9983_row4_col1 {\n",
       "  background-color: #fefe66;\n",
       "  color: #000000;\n",
       "}\n",
       "#T_d9983_row5_col0 {\n",
       "  background-color: #e2f066;\n",
       "  color: #000000;\n",
       "}\n",
       "#T_d9983_row5_col1 {\n",
       "  background-color: #e6f266;\n",
       "  color: #000000;\n",
       "}\n",
       "#T_d9983_row5_col2, #T_d9983_row7_col0 {\n",
       "  background-color: #ecf666;\n",
       "  color: #000000;\n",
       "}\n",
       "#T_d9983_row5_col3 {\n",
       "  background-color: #f8fc66;\n",
       "  color: #000000;\n",
       "}\n",
       "#T_d9983_row5_col4 {\n",
       "  background-color: #ebf566;\n",
       "  color: #000000;\n",
       "}\n",
       "#T_d9983_row6_col1 {\n",
       "  background-color: #cfe766;\n",
       "  color: #000000;\n",
       "}\n",
       "#T_d9983_row6_col2 {\n",
       "  background-color: #e4f266;\n",
       "  color: #000000;\n",
       "}\n",
       "#T_d9983_row6_col3 {\n",
       "  background-color: #bede66;\n",
       "  color: #000000;\n",
       "}\n",
       "#T_d9983_row6_col4, #T_d9983_row7_col3, #T_d9983_row8_col1 {\n",
       "  background-color: #dcee66;\n",
       "  color: #000000;\n",
       "}\n",
       "#T_d9983_row7_col1 {\n",
       "  background-color: #bcde66;\n",
       "  color: #000000;\n",
       "}\n",
       "#T_d9983_row7_col2 {\n",
       "  background-color: #d3e966;\n",
       "  color: #000000;\n",
       "}\n",
       "#T_d9983_row7_col4 {\n",
       "  background-color: #d0e866;\n",
       "  color: #000000;\n",
       "}\n",
       "#T_d9983_row8_col0 {\n",
       "  background-color: #55aa66;\n",
       "  color: #f1f1f1;\n",
       "}\n",
       "#T_d9983_row8_col2 {\n",
       "  background-color: #82c066;\n",
       "  color: #000000;\n",
       "}\n",
       "#T_d9983_row8_col3 {\n",
       "  background-color: #b0d866;\n",
       "  color: #000000;\n",
       "}\n",
       "#T_d9983_row8_col4 {\n",
       "  background-color: #9bcd66;\n",
       "  color: #000000;\n",
       "}\n",
       "#T_d9983_row9_col0, #T_d9983_row9_col1, #T_d9983_row9_col2, #T_d9983_row9_col3, #T_d9983_row9_col4 {\n",
       "  background-color: #008066;\n",
       "  color: #f1f1f1;\n",
       "}\n",
       "</style>\n",
       "<table id=\"T_d9983\">\n",
       "  <thead>\n",
       "    <tr>\n",
       "      <th class=\"blank\" >&nbsp;</th>\n",
       "      <th class=\"index_name level0\" >Sex</th>\n",
       "      <th id=\"T_d9983_level0_col0\" class=\"col_heading level0 col0\" colspan=\"2\">female</th>\n",
       "      <th id=\"T_d9983_level0_col2\" class=\"col_heading level0 col2\" colspan=\"2\">male</th>\n",
       "      <th id=\"T_d9983_level0_col4\" class=\"col_heading level0 col4\" >All</th>\n",
       "    </tr>\n",
       "    <tr>\n",
       "      <th class=\"blank\" >&nbsp;</th>\n",
       "      <th class=\"index_name level1\" >Survived</th>\n",
       "      <th id=\"T_d9983_level1_col0\" class=\"col_heading level1 col0\" >0.000000</th>\n",
       "      <th id=\"T_d9983_level1_col1\" class=\"col_heading level1 col1\" >1.000000</th>\n",
       "      <th id=\"T_d9983_level1_col2\" class=\"col_heading level1 col2\" >0.000000</th>\n",
       "      <th id=\"T_d9983_level1_col3\" class=\"col_heading level1 col3\" >1.000000</th>\n",
       "      <th id=\"T_d9983_level1_col4\" class=\"col_heading level1 col4\" ></th>\n",
       "    </tr>\n",
       "    <tr>\n",
       "      <th class=\"index_name level0\" >Embarked</th>\n",
       "      <th class=\"index_name level1\" >Pclass</th>\n",
       "      <th class=\"blank col0\" >&nbsp;</th>\n",
       "      <th class=\"blank col1\" >&nbsp;</th>\n",
       "      <th class=\"blank col2\" >&nbsp;</th>\n",
       "      <th class=\"blank col3\" >&nbsp;</th>\n",
       "      <th class=\"blank col4\" >&nbsp;</th>\n",
       "    </tr>\n",
       "  </thead>\n",
       "  <tbody>\n",
       "    <tr>\n",
       "      <th id=\"T_d9983_level0_row0\" class=\"row_heading level0 row0\" rowspan=\"3\">C</th>\n",
       "      <th id=\"T_d9983_level1_row0\" class=\"row_heading level1 row0\" >1</th>\n",
       "      <td id=\"T_d9983_row0_col0\" class=\"data row0 col0\" >1</td>\n",
       "      <td id=\"T_d9983_row0_col1\" class=\"data row0 col1\" >42</td>\n",
       "      <td id=\"T_d9983_row0_col2\" class=\"data row0 col2\" >25</td>\n",
       "      <td id=\"T_d9983_row0_col3\" class=\"data row0 col3\" >17</td>\n",
       "      <td id=\"T_d9983_row0_col4\" class=\"data row0 col4\" >85</td>\n",
       "    </tr>\n",
       "    <tr>\n",
       "      <th id=\"T_d9983_level1_row1\" class=\"row_heading level1 row1\" >2</th>\n",
       "      <td id=\"T_d9983_row1_col0\" class=\"data row1 col0\" >0</td>\n",
       "      <td id=\"T_d9983_row1_col1\" class=\"data row1 col1\" >7</td>\n",
       "      <td id=\"T_d9983_row1_col2\" class=\"data row1 col2\" >8</td>\n",
       "      <td id=\"T_d9983_row1_col3\" class=\"data row1 col3\" >2</td>\n",
       "      <td id=\"T_d9983_row1_col4\" class=\"data row1 col4\" >17</td>\n",
       "    </tr>\n",
       "    <tr>\n",
       "      <th id=\"T_d9983_level1_row2\" class=\"row_heading level1 row2\" >3</th>\n",
       "      <td id=\"T_d9983_row2_col0\" class=\"data row2 col0\" >8</td>\n",
       "      <td id=\"T_d9983_row2_col1\" class=\"data row2 col1\" >15</td>\n",
       "      <td id=\"T_d9983_row2_col2\" class=\"data row2 col2\" >33</td>\n",
       "      <td id=\"T_d9983_row2_col3\" class=\"data row2 col3\" >10</td>\n",
       "      <td id=\"T_d9983_row2_col4\" class=\"data row2 col4\" >66</td>\n",
       "    </tr>\n",
       "    <tr>\n",
       "      <th id=\"T_d9983_level0_row3\" class=\"row_heading level0 row3\" rowspan=\"3\">Q</th>\n",
       "      <th id=\"T_d9983_level1_row3\" class=\"row_heading level1 row3\" >1</th>\n",
       "      <td id=\"T_d9983_row3_col0\" class=\"data row3 col0\" >0</td>\n",
       "      <td id=\"T_d9983_row3_col1\" class=\"data row3 col1\" >1</td>\n",
       "      <td id=\"T_d9983_row3_col2\" class=\"data row3 col2\" >1</td>\n",
       "      <td id=\"T_d9983_row3_col3\" class=\"data row3 col3\" >0</td>\n",
       "      <td id=\"T_d9983_row3_col4\" class=\"data row3 col4\" >2</td>\n",
       "    </tr>\n",
       "    <tr>\n",
       "      <th id=\"T_d9983_level1_row4\" class=\"row_heading level1 row4\" >2</th>\n",
       "      <td id=\"T_d9983_row4_col0\" class=\"data row4 col0\" >0</td>\n",
       "      <td id=\"T_d9983_row4_col1\" class=\"data row4 col1\" >2</td>\n",
       "      <td id=\"T_d9983_row4_col2\" class=\"data row4 col2\" >1</td>\n",
       "      <td id=\"T_d9983_row4_col3\" class=\"data row4 col3\" >0</td>\n",
       "      <td id=\"T_d9983_row4_col4\" class=\"data row4 col4\" >3</td>\n",
       "    </tr>\n",
       "    <tr>\n",
       "      <th id=\"T_d9983_level1_row5\" class=\"row_heading level1 row5\" >3</th>\n",
       "      <td id=\"T_d9983_row5_col0\" class=\"data row5 col0\" >9</td>\n",
       "      <td id=\"T_d9983_row5_col1\" class=\"data row5 col1\" >24</td>\n",
       "      <td id=\"T_d9983_row5_col2\" class=\"data row5 col2\" >36</td>\n",
       "      <td id=\"T_d9983_row5_col3\" class=\"data row5 col3\" >3</td>\n",
       "      <td id=\"T_d9983_row5_col4\" class=\"data row5 col4\" >72</td>\n",
       "    </tr>\n",
       "    <tr>\n",
       "      <th id=\"T_d9983_level0_row6\" class=\"row_heading level0 row6\" rowspan=\"3\">S</th>\n",
       "      <th id=\"T_d9983_level1_row6\" class=\"row_heading level1 row6\" >1</th>\n",
       "      <td id=\"T_d9983_row6_col0\" class=\"data row6 col0\" >2</td>\n",
       "      <td id=\"T_d9983_row6_col1\" class=\"data row6 col1\" >44</td>\n",
       "      <td id=\"T_d9983_row6_col2\" class=\"data row6 col2\" >50</td>\n",
       "      <td id=\"T_d9983_row6_col3\" class=\"data row6 col3\" >28</td>\n",
       "      <td id=\"T_d9983_row6_col4\" class=\"data row6 col4\" >124</td>\n",
       "    </tr>\n",
       "    <tr>\n",
       "      <th id=\"T_d9983_level1_row7\" class=\"row_heading level1 row7\" >2</th>\n",
       "      <td id=\"T_d9983_row7_col0\" class=\"data row7 col0\" >6</td>\n",
       "      <td id=\"T_d9983_row7_col1\" class=\"data row7 col1\" >61</td>\n",
       "      <td id=\"T_d9983_row7_col2\" class=\"data row7 col2\" >82</td>\n",
       "      <td id=\"T_d9983_row7_col3\" class=\"data row7 col3\" >15</td>\n",
       "      <td id=\"T_d9983_row7_col4\" class=\"data row7 col4\" >164</td>\n",
       "    </tr>\n",
       "    <tr>\n",
       "      <th id=\"T_d9983_level1_row8\" class=\"row_heading level1 row8\" >3</th>\n",
       "      <td id=\"T_d9983_row8_col0\" class=\"data row8 col0\" >52</td>\n",
       "      <td id=\"T_d9983_row8_col1\" class=\"data row8 col1\" >33</td>\n",
       "      <td id=\"T_d9983_row8_col2\" class=\"data row8 col2\" >227</td>\n",
       "      <td id=\"T_d9983_row8_col3\" class=\"data row8 col3\" >34</td>\n",
       "      <td id=\"T_d9983_row8_col4\" class=\"data row8 col4\" >346</td>\n",
       "    </tr>\n",
       "    <tr>\n",
       "      <th id=\"T_d9983_level0_row9\" class=\"row_heading level0 row9\" >All</th>\n",
       "      <th id=\"T_d9983_level1_row9\" class=\"row_heading level1 row9\" ></th>\n",
       "      <td id=\"T_d9983_row9_col0\" class=\"data row9 col0\" >78</td>\n",
       "      <td id=\"T_d9983_row9_col1\" class=\"data row9 col1\" >229</td>\n",
       "      <td id=\"T_d9983_row9_col2\" class=\"data row9 col2\" >463</td>\n",
       "      <td id=\"T_d9983_row9_col3\" class=\"data row9 col3\" >109</td>\n",
       "      <td id=\"T_d9983_row9_col4\" class=\"data row9 col4\" >879</td>\n",
       "    </tr>\n",
       "  </tbody>\n",
       "</table>\n"
      ],
      "text/plain": [
       "<pandas.io.formats.style.Styler at 0x152995e22e0>"
      ]
     },
     "execution_count": 101,
     "metadata": {},
     "output_type": "execute_result"
    }
   ],
   "source": [
    "pd.crosstab([combine.Embarked, combine.Pclass],[combine.Sex, combine.Survived], margins=True).style.background_gradient(cmap='summer_r')\n",
    "# ekstra param = normalize='index'"
   ]
  },
  {
   "cell_type": "code",
   "execution_count": 105,
   "id": "bf5901b2-77f2-4429-9329-af1432dc215c",
   "metadata": {},
   "outputs": [
    {
     "data": {
      "text/plain": [
       "'S'"
      ]
     },
     "execution_count": 105,
     "metadata": {},
     "output_type": "execute_result"
    }
   ],
   "source": [
    "mode = combine.Embarked.dropna().mode()[0]\n",
    "mode"
   ]
  },
  {
   "cell_type": "code",
   "execution_count": 103,
   "id": "b3b2717c-d8ef-4e6f-b94c-8b067b878256",
   "metadata": {},
   "outputs": [],
   "source": [
    "combine['Embarked'] = combine.Embarked.fillna(mode)"
   ]
  },
  {
   "cell_type": "markdown",
   "id": "3523ec04-e5db-4618-87b0-4ef3ac228934",
   "metadata": {},
   "source": [
    "##### 5.2.2 Fare."
   ]
  },
  {
   "cell_type": "code",
   "execution_count": 106,
   "id": "a9a12c8f-f3de-41fc-9a69-81065d16a8e7",
   "metadata": {},
   "outputs": [
    {
     "data": {
      "text/plain": [
       "1"
      ]
     },
     "execution_count": 106,
     "metadata": {},
     "output_type": "execute_result"
    }
   ],
   "source": [
    "combine.Fare.isnull().sum()"
   ]
  },
  {
   "cell_type": "code",
   "execution_count": 107,
   "id": "04b7176a-c86a-4b2c-9856-be75a347e46e",
   "metadata": {},
   "outputs": [
    {
     "data": {
      "text/html": [
       "<div>\n",
       "<style scoped>\n",
       "    .dataframe tbody tr th:only-of-type {\n",
       "        vertical-align: middle;\n",
       "    }\n",
       "\n",
       "    .dataframe tbody tr th {\n",
       "        vertical-align: top;\n",
       "    }\n",
       "\n",
       "    .dataframe thead th {\n",
       "        text-align: right;\n",
       "    }\n",
       "</style>\n",
       "<table border=\"1\" class=\"dataframe\">\n",
       "  <thead>\n",
       "    <tr style=\"text-align: right;\">\n",
       "      <th></th>\n",
       "      <th>PassengerId</th>\n",
       "      <th>Survived</th>\n",
       "      <th>Pclass</th>\n",
       "      <th>Name</th>\n",
       "      <th>Sex</th>\n",
       "      <th>Age</th>\n",
       "      <th>SibSp</th>\n",
       "      <th>Parch</th>\n",
       "      <th>Ticket</th>\n",
       "      <th>Fare</th>\n",
       "      <th>Cabin</th>\n",
       "      <th>Embarked</th>\n",
       "    </tr>\n",
       "  </thead>\n",
       "  <tbody>\n",
       "    <tr>\n",
       "      <th>1033</th>\n",
       "      <td>1044</td>\n",
       "      <td>NaN</td>\n",
       "      <td>3</td>\n",
       "      <td>Storey, Mr. Thomas</td>\n",
       "      <td>male</td>\n",
       "      <td>60.5</td>\n",
       "      <td>0</td>\n",
       "      <td>0</td>\n",
       "      <td>3701</td>\n",
       "      <td>NaN</td>\n",
       "      <td>nan</td>\n",
       "      <td>S</td>\n",
       "    </tr>\n",
       "  </tbody>\n",
       "</table>\n",
       "</div>"
      ],
      "text/plain": [
       "      PassengerId  Survived  Pclass                Name   Sex   Age  SibSp  \\\n",
       "1033         1044       NaN       3  Storey, Mr. Thomas  male  60.5      0   \n",
       "\n",
       "      Parch Ticket  Fare Cabin Embarked  \n",
       "1033      0   3701   NaN   nan        S  "
      ]
     },
     "execution_count": 107,
     "metadata": {},
     "output_type": "execute_result"
    }
   ],
   "source": [
    "combine.query('Fare.isnull()')"
   ]
  },
  {
   "cell_type": "code",
   "execution_count": 114,
   "id": "1728fa35-7b36-4667-949a-cb8b78ae3ae7",
   "metadata": {},
   "outputs": [
    {
     "data": {
      "text/html": [
       "<div>\n",
       "<style scoped>\n",
       "    .dataframe tbody tr th:only-of-type {\n",
       "        vertical-align: middle;\n",
       "    }\n",
       "\n",
       "    .dataframe tbody tr th {\n",
       "        vertical-align: top;\n",
       "    }\n",
       "\n",
       "    .dataframe thead th {\n",
       "        text-align: right;\n",
       "    }\n",
       "</style>\n",
       "<table border=\"1\" class=\"dataframe\">\n",
       "  <thead>\n",
       "    <tr style=\"text-align: right;\">\n",
       "      <th></th>\n",
       "      <th></th>\n",
       "      <th>Embarked</th>\n",
       "      <th>C</th>\n",
       "      <th>Q</th>\n",
       "      <th>S</th>\n",
       "    </tr>\n",
       "    <tr>\n",
       "      <th>Pclass</th>\n",
       "      <th>Parch</th>\n",
       "      <th>SibSp</th>\n",
       "      <th></th>\n",
       "      <th></th>\n",
       "      <th></th>\n",
       "    </tr>\n",
       "  </thead>\n",
       "  <tbody>\n",
       "    <tr>\n",
       "      <th rowspan=\"11\" valign=\"top\">1</th>\n",
       "      <th rowspan=\"3\" valign=\"top\">0</th>\n",
       "      <th>0</th>\n",
       "      <td>49.50420</td>\n",
       "      <td>0.000</td>\n",
       "      <td>30.00000</td>\n",
       "    </tr>\n",
       "    <tr>\n",
       "      <th>1</th>\n",
       "      <td>78.26670</td>\n",
       "      <td>90.000</td>\n",
       "      <td>58.50000</td>\n",
       "    </tr>\n",
       "    <tr>\n",
       "      <th>2</th>\n",
       "      <td>0.00000</td>\n",
       "      <td>90.000</td>\n",
       "      <td>51.47920</td>\n",
       "    </tr>\n",
       "    <tr>\n",
       "      <th rowspan=\"2\" valign=\"top\">1</th>\n",
       "      <th>0</th>\n",
       "      <td>61.97920</td>\n",
       "      <td>0.000</td>\n",
       "      <td>77.28750</td>\n",
       "    </tr>\n",
       "    <tr>\n",
       "      <th>1</th>\n",
       "      <td>110.88330</td>\n",
       "      <td>0.000</td>\n",
       "      <td>80.75415</td>\n",
       "    </tr>\n",
       "    <tr>\n",
       "      <th rowspan=\"4\" valign=\"top\">2</th>\n",
       "      <th>0</th>\n",
       "      <td>112.07915</td>\n",
       "      <td>0.000</td>\n",
       "      <td>79.65000</td>\n",
       "    </tr>\n",
       "    <tr>\n",
       "      <th>1</th>\n",
       "      <td>0.00000</td>\n",
       "      <td>0.000</td>\n",
       "      <td>120.00000</td>\n",
       "    </tr>\n",
       "    <tr>\n",
       "      <th>2</th>\n",
       "      <td>262.37500</td>\n",
       "      <td>0.000</td>\n",
       "      <td>0.00000</td>\n",
       "    </tr>\n",
       "    <tr>\n",
       "      <th>3</th>\n",
       "      <td>0.00000</td>\n",
       "      <td>0.000</td>\n",
       "      <td>263.00000</td>\n",
       "    </tr>\n",
       "    <tr>\n",
       "      <th>3</th>\n",
       "      <th>1</th>\n",
       "      <td>262.37500</td>\n",
       "      <td>0.000</td>\n",
       "      <td>0.00000</td>\n",
       "    </tr>\n",
       "    <tr>\n",
       "      <th>4</th>\n",
       "      <th>1</th>\n",
       "      <td>0.00000</td>\n",
       "      <td>0.000</td>\n",
       "      <td>263.00000</td>\n",
       "    </tr>\n",
       "    <tr>\n",
       "      <th rowspan=\"12\" valign=\"top\">2</th>\n",
       "      <th rowspan=\"4\" valign=\"top\">0</th>\n",
       "      <th>0</th>\n",
       "      <td>13.86250</td>\n",
       "      <td>12.350</td>\n",
       "      <td>13.00000</td>\n",
       "    </tr>\n",
       "    <tr>\n",
       "      <th>1</th>\n",
       "      <td>25.86040</td>\n",
       "      <td>0.000</td>\n",
       "      <td>26.00000</td>\n",
       "    </tr>\n",
       "    <tr>\n",
       "      <th>2</th>\n",
       "      <td>0.00000</td>\n",
       "      <td>0.000</td>\n",
       "      <td>73.50000</td>\n",
       "    </tr>\n",
       "    <tr>\n",
       "      <th>3</th>\n",
       "      <td>0.00000</td>\n",
       "      <td>0.000</td>\n",
       "      <td>21.00000</td>\n",
       "    </tr>\n",
       "    <tr>\n",
       "      <th rowspan=\"3\" valign=\"top\">1</th>\n",
       "      <th>0</th>\n",
       "      <td>0.00000</td>\n",
       "      <td>0.000</td>\n",
       "      <td>23.00000</td>\n",
       "    </tr>\n",
       "    <tr>\n",
       "      <th>1</th>\n",
       "      <td>37.00420</td>\n",
       "      <td>0.000</td>\n",
       "      <td>26.25000</td>\n",
       "    </tr>\n",
       "    <tr>\n",
       "      <th>2</th>\n",
       "      <td>0.00000</td>\n",
       "      <td>0.000</td>\n",
       "      <td>33.00000</td>\n",
       "    </tr>\n",
       "    <tr>\n",
       "      <th rowspan=\"2\" valign=\"top\">2</th>\n",
       "      <th>0</th>\n",
       "      <td>37.00420</td>\n",
       "      <td>0.000</td>\n",
       "      <td>26.25000</td>\n",
       "    </tr>\n",
       "    <tr>\n",
       "      <th>1</th>\n",
       "      <td>41.57920</td>\n",
       "      <td>0.000</td>\n",
       "      <td>46.37500</td>\n",
       "    </tr>\n",
       "    <tr>\n",
       "      <th rowspan=\"3\" valign=\"top\">3</th>\n",
       "      <th>0</th>\n",
       "      <td>0.00000</td>\n",
       "      <td>0.000</td>\n",
       "      <td>39.00000</td>\n",
       "    </tr>\n",
       "    <tr>\n",
       "      <th>1</th>\n",
       "      <td>0.00000</td>\n",
       "      <td>0.000</td>\n",
       "      <td>23.00000</td>\n",
       "    </tr>\n",
       "    <tr>\n",
       "      <th>2</th>\n",
       "      <td>0.00000</td>\n",
       "      <td>0.000</td>\n",
       "      <td>18.75000</td>\n",
       "    </tr>\n",
       "    <tr>\n",
       "      <th rowspan=\"24\" valign=\"top\">3</th>\n",
       "      <th rowspan=\"4\" valign=\"top\">0</th>\n",
       "      <th>0</th>\n",
       "      <td>7.22920</td>\n",
       "      <td>7.750</td>\n",
       "      <td>7.89580</td>\n",
       "    </tr>\n",
       "    <tr>\n",
       "      <th>1</th>\n",
       "      <td>14.45420</td>\n",
       "      <td>15.500</td>\n",
       "      <td>14.50000</td>\n",
       "    </tr>\n",
       "    <tr>\n",
       "      <th>2</th>\n",
       "      <td>21.67920</td>\n",
       "      <td>23.250</td>\n",
       "      <td>11.38540</td>\n",
       "    </tr>\n",
       "    <tr>\n",
       "      <th>3</th>\n",
       "      <td>0.00000</td>\n",
       "      <td>0.000</td>\n",
       "      <td>16.92500</td>\n",
       "    </tr>\n",
       "    <tr>\n",
       "      <th rowspan=\"5\" valign=\"top\">1</th>\n",
       "      <th>0</th>\n",
       "      <td>13.41670</td>\n",
       "      <td>0.000</td>\n",
       "      <td>11.37500</td>\n",
       "    </tr>\n",
       "    <tr>\n",
       "      <th>1</th>\n",
       "      <td>15.24580</td>\n",
       "      <td>15.500</td>\n",
       "      <td>15.90000</td>\n",
       "    </tr>\n",
       "    <tr>\n",
       "      <th>2</th>\n",
       "      <td>19.25830</td>\n",
       "      <td>0.000</td>\n",
       "      <td>0.00000</td>\n",
       "    </tr>\n",
       "    <tr>\n",
       "      <th>3</th>\n",
       "      <td>0.00000</td>\n",
       "      <td>0.000</td>\n",
       "      <td>22.02500</td>\n",
       "    </tr>\n",
       "    <tr>\n",
       "      <th>4</th>\n",
       "      <td>0.00000</td>\n",
       "      <td>29.125</td>\n",
       "      <td>39.68750</td>\n",
       "    </tr>\n",
       "    <tr>\n",
       "      <th rowspan=\"7\" valign=\"top\">2</th>\n",
       "      <th>0</th>\n",
       "      <td>15.24580</td>\n",
       "      <td>7.750</td>\n",
       "      <td>16.30000</td>\n",
       "    </tr>\n",
       "    <tr>\n",
       "      <th>1</th>\n",
       "      <td>0.00000</td>\n",
       "      <td>0.000</td>\n",
       "      <td>22.01250</td>\n",
       "    </tr>\n",
       "    <tr>\n",
       "      <th>2</th>\n",
       "      <td>0.00000</td>\n",
       "      <td>0.000</td>\n",
       "      <td>34.37500</td>\n",
       "    </tr>\n",
       "    <tr>\n",
       "      <th>3</th>\n",
       "      <td>0.00000</td>\n",
       "      <td>0.000</td>\n",
       "      <td>27.90000</td>\n",
       "    </tr>\n",
       "    <tr>\n",
       "      <th>4</th>\n",
       "      <td>0.00000</td>\n",
       "      <td>0.000</td>\n",
       "      <td>31.27500</td>\n",
       "    </tr>\n",
       "    <tr>\n",
       "      <th>5</th>\n",
       "      <td>0.00000</td>\n",
       "      <td>0.000</td>\n",
       "      <td>46.90000</td>\n",
       "    </tr>\n",
       "    <tr>\n",
       "      <th>8</th>\n",
       "      <td>0.00000</td>\n",
       "      <td>0.000</td>\n",
       "      <td>69.55000</td>\n",
       "    </tr>\n",
       "    <tr>\n",
       "      <th rowspan=\"2\" valign=\"top\">3</th>\n",
       "      <th>0</th>\n",
       "      <td>19.25830</td>\n",
       "      <td>0.000</td>\n",
       "      <td>0.00000</td>\n",
       "    </tr>\n",
       "    <tr>\n",
       "      <th>1</th>\n",
       "      <td>0.00000</td>\n",
       "      <td>0.000</td>\n",
       "      <td>34.37500</td>\n",
       "    </tr>\n",
       "    <tr>\n",
       "      <th rowspan=\"2\" valign=\"top\">4</th>\n",
       "      <th>0</th>\n",
       "      <td>0.00000</td>\n",
       "      <td>0.000</td>\n",
       "      <td>23.27085</td>\n",
       "    </tr>\n",
       "    <tr>\n",
       "      <th>1</th>\n",
       "      <td>0.00000</td>\n",
       "      <td>0.000</td>\n",
       "      <td>27.90000</td>\n",
       "    </tr>\n",
       "    <tr>\n",
       "      <th rowspan=\"2\" valign=\"top\">5</th>\n",
       "      <th>0</th>\n",
       "      <td>0.00000</td>\n",
       "      <td>29.125</td>\n",
       "      <td>39.68750</td>\n",
       "    </tr>\n",
       "    <tr>\n",
       "      <th>1</th>\n",
       "      <td>0.00000</td>\n",
       "      <td>0.000</td>\n",
       "      <td>31.33125</td>\n",
       "    </tr>\n",
       "    <tr>\n",
       "      <th>6</th>\n",
       "      <th>1</th>\n",
       "      <td>0.00000</td>\n",
       "      <td>0.000</td>\n",
       "      <td>46.90000</td>\n",
       "    </tr>\n",
       "    <tr>\n",
       "      <th>9</th>\n",
       "      <th>1</th>\n",
       "      <td>0.00000</td>\n",
       "      <td>0.000</td>\n",
       "      <td>69.55000</td>\n",
       "    </tr>\n",
       "  </tbody>\n",
       "</table>\n",
       "</div>"
      ],
      "text/plain": [
       "Embarked                    C       Q          S\n",
       "Pclass Parch SibSp                              \n",
       "1      0     0       49.50420   0.000   30.00000\n",
       "             1       78.26670  90.000   58.50000\n",
       "             2        0.00000  90.000   51.47920\n",
       "       1     0       61.97920   0.000   77.28750\n",
       "             1      110.88330   0.000   80.75415\n",
       "       2     0      112.07915   0.000   79.65000\n",
       "             1        0.00000   0.000  120.00000\n",
       "             2      262.37500   0.000    0.00000\n",
       "             3        0.00000   0.000  263.00000\n",
       "       3     1      262.37500   0.000    0.00000\n",
       "       4     1        0.00000   0.000  263.00000\n",
       "2      0     0       13.86250  12.350   13.00000\n",
       "             1       25.86040   0.000   26.00000\n",
       "             2        0.00000   0.000   73.50000\n",
       "             3        0.00000   0.000   21.00000\n",
       "       1     0        0.00000   0.000   23.00000\n",
       "             1       37.00420   0.000   26.25000\n",
       "             2        0.00000   0.000   33.00000\n",
       "       2     0       37.00420   0.000   26.25000\n",
       "             1       41.57920   0.000   46.37500\n",
       "       3     0        0.00000   0.000   39.00000\n",
       "             1        0.00000   0.000   23.00000\n",
       "             2        0.00000   0.000   18.75000\n",
       "3      0     0        7.22920   7.750    7.89580\n",
       "             1       14.45420  15.500   14.50000\n",
       "             2       21.67920  23.250   11.38540\n",
       "             3        0.00000   0.000   16.92500\n",
       "       1     0       13.41670   0.000   11.37500\n",
       "             1       15.24580  15.500   15.90000\n",
       "             2       19.25830   0.000    0.00000\n",
       "             3        0.00000   0.000   22.02500\n",
       "             4        0.00000  29.125   39.68750\n",
       "       2     0       15.24580   7.750   16.30000\n",
       "             1        0.00000   0.000   22.01250\n",
       "             2        0.00000   0.000   34.37500\n",
       "             3        0.00000   0.000   27.90000\n",
       "             4        0.00000   0.000   31.27500\n",
       "             5        0.00000   0.000   46.90000\n",
       "             8        0.00000   0.000   69.55000\n",
       "       3     0       19.25830   0.000    0.00000\n",
       "             1        0.00000   0.000   34.37500\n",
       "       4     0        0.00000   0.000   23.27085\n",
       "             1        0.00000   0.000   27.90000\n",
       "       5     0        0.00000  29.125   39.68750\n",
       "             1        0.00000   0.000   31.33125\n",
       "       6     1        0.00000   0.000   46.90000\n",
       "       9     1        0.00000   0.000   69.55000"
      ]
     },
     "execution_count": 114,
     "metadata": {},
     "output_type": "execute_result"
    }
   ],
   "source": [
    "combine.groupby(['Pclass', 'Parch', 'SibSp', 'Embarked']).Fare.median().unstack(fill_value=0)"
   ]
  },
  {
   "cell_type": "code",
   "execution_count": 124,
   "id": "34303f4d-0a89-457d-8c8e-ed6d347ab250",
   "metadata": {},
   "outputs": [],
   "source": [
    "med_fare = combine.groupby(['Pclass', 'Parch', 'SibSp','Embarked']).Fare.median().loc[(3, 0, 0, 'C')]\n",
    "combine['Fare'] = combine['Fare'].fillna(med_fare)"
   ]
  },
  {
   "cell_type": "markdown",
   "id": "3718fd41-3576-4104-a96b-b71925071dc6",
   "metadata": {},
   "source": [
    "##### 5.2.3 Age."
   ]
  },
  {
   "cell_type": "code",
   "execution_count": 126,
   "id": "a17dc0b0-4ba5-48c0-a000-d691507ef8c0",
   "metadata": {},
   "outputs": [
    {
     "data": {
      "text/plain": [
       "Sex     Pclass\n",
       "female  1         37.244275\n",
       "        2         27.499223\n",
       "        3         22.185329\n",
       "male    1         41.176133\n",
       "        2         30.815380\n",
       "        3         25.962264\n",
       "Name: Age, dtype: float64"
      ]
     },
     "execution_count": 126,
     "metadata": {},
     "output_type": "execute_result"
    }
   ],
   "source": [
    "age_by_pclass_sex = combine.groupby(['Sex', 'Pclass'])['Age'].mean()\n",
    "age_by_pclass_sex"
   ]
  },
  {
   "cell_type": "code",
   "execution_count": null,
   "id": "c2d47240-1754-4e9c-9b0f-52df8bb0487f",
   "metadata": {},
   "outputs": [],
   "source": [
    "\n",
    "#     age_avg \t   = dataset['Age'].mean()\n",
    "#     age_std \t   = dataset['Age'].std()\n",
    "#     age_null_count = dataset['Age'].isnull().sum()\n",
    "    \n",
    "#     age_null_random_list = np.random.randint(age_avg - age_std, age_avg + age_std, size=age_null_count)\n",
    "#     dataset['Age'][np.isnan(dataset['Age'])] = age_null_random_list\n",
    "#     dataset['Age'] = dataset['Age'].astype(int)\n",
    "    \n",
    "# train['CategoricalAge'] = pd.cut(train['Age'], 5)\n",
    "\n",
    "# print (train[['CategoricalAge', 'Survived']].groupby(['CategoricalAge'], as_index=False).mean())"
   ]
  },
  {
   "cell_type": "code",
   "execution_count": 127,
   "id": "b5928be0-3238-4401-a8e7-908a787e5f4b",
   "metadata": {
    "scrolled": true
   },
   "outputs": [],
   "source": [
    "age_avg = np.nanmean(combine['Age'])\n",
    "age_std = combine['Age'].std()\n",
    "age_null_count = combine['Age'].isnull().sum()\n",
    "age_null_random_list = np.random.randint(age_avg - age_std, age_avg + age_std, size=age_null_count)\n",
    "combine.loc[combine['Age'].isnull(), ['Age']] = age_null_random_list\n",
    "combine['Age'] = combine['Age'].astype(int)"
   ]
  },
  {
   "cell_type": "code",
   "execution_count": 128,
   "id": "d859ef13-cc48-4007-879a-d42a4310409a",
   "metadata": {},
   "outputs": [
    {
     "data": {
      "text/html": [
       "<div>\n",
       "<style scoped>\n",
       "    .dataframe tbody tr th:only-of-type {\n",
       "        vertical-align: middle;\n",
       "    }\n",
       "\n",
       "    .dataframe tbody tr th {\n",
       "        vertical-align: top;\n",
       "    }\n",
       "\n",
       "    .dataframe thead th {\n",
       "        text-align: right;\n",
       "    }\n",
       "</style>\n",
       "<table border=\"1\" class=\"dataframe\">\n",
       "  <thead>\n",
       "    <tr style=\"text-align: right;\">\n",
       "      <th></th>\n",
       "      <th>Survived</th>\n",
       "    </tr>\n",
       "    <tr>\n",
       "      <th>CategoricalAge</th>\n",
       "      <th></th>\n",
       "    </tr>\n",
       "  </thead>\n",
       "  <tbody>\n",
       "    <tr>\n",
       "      <th>(-0.08, 16.0]</th>\n",
       "      <td>0.537037</td>\n",
       "    </tr>\n",
       "    <tr>\n",
       "      <th>(16.0, 32.0]</th>\n",
       "      <td>0.358796</td>\n",
       "    </tr>\n",
       "    <tr>\n",
       "      <th>(32.0, 48.0]</th>\n",
       "      <td>0.367816</td>\n",
       "    </tr>\n",
       "    <tr>\n",
       "      <th>(48.0, 64.0]</th>\n",
       "      <td>0.434783</td>\n",
       "    </tr>\n",
       "    <tr>\n",
       "      <th>(64.0, 80.0]</th>\n",
       "      <td>0.090909</td>\n",
       "    </tr>\n",
       "  </tbody>\n",
       "</table>\n",
       "</div>"
      ],
      "text/plain": [
       "                Survived\n",
       "CategoricalAge          \n",
       "(-0.08, 16.0]   0.537037\n",
       "(16.0, 32.0]    0.358796\n",
       "(32.0, 48.0]    0.367816\n",
       "(48.0, 64.0]    0.434783\n",
       "(64.0, 80.0]    0.090909"
      ]
     },
     "execution_count": 128,
     "metadata": {},
     "output_type": "execute_result"
    }
   ],
   "source": [
    "combine['CategoricalAge'] = pd.cut(combine['Age'], 5)\n",
    "combine[['CategoricalAge','Survived']].groupby('CategoricalAge').mean()"
   ]
  },
  {
   "cell_type": "code",
   "execution_count": 129,
   "id": "36d8a7d2-c73e-46f5-93db-7065dc20d766",
   "metadata": {
    "scrolled": true
   },
   "outputs": [
    {
     "data": {
      "text/plain": [
       "<matplotlib.legend.Legend at 0x15298ca6610>"
      ]
     },
     "execution_count": 129,
     "metadata": {},
     "output_type": "execute_result"
    },
    {
     "data": {
      "image/png": "[encoded data removed]",
      "text/plain": [
       "<Figure size 360x360 with 1 Axes>"
      ]
     },
     "metadata": {},
     "output_type": "display_data"
    }
   ],
   "source": [
    "sns.displot(data=combine, x='Age', kde=True, label='Skewness: %.2f'%(train['Age'].skew()))\n",
    "plt.legend(loc='best')"
   ]
  },
  {
   "cell_type": "markdown",
   "id": "db002280-bd99-44c2-a44e-d8c3e8ccefa6",
   "metadata": {
    "jp-MarkdownHeadingCollapsed": true
   },
   "source": [
    "####  6. Feature engineering.\n",
    "*      6.1 \"Title\"\n",
    "*      6.2 \"Cabin\"\n",
    "*      6.3 \"Age/Pclass\"\n",
    "*      6.4 Family Size and Is Alone features."
   ]
  },
  {
   "cell_type": "markdown",
   "id": "d0056656-126d-4bbe-ad45-c787cdfbc9b1",
   "metadata": {},
   "source": [
    "#### 6.1 Title."
   ]
  },
  {
   "cell_type": "code",
   "execution_count": null,
   "id": "e50fb707-0b37-408e-8490-abfe4e9e7547",
   "metadata": {},
   "outputs": [],
   "source": [
    "combine.loc[1, 'Name']"
   ]
  },
  {
   "cell_type": "code",
   "execution_count": null,
   "id": "faccaddb-d565-45de-990c-19132ad1a97a",
   "metadata": {},
   "outputs": [],
   "source": [
    "combine['Title'] = [title.split(',')[1].split('.')[0].strip() for title in combine.Name]"
   ]
  },
  {
   "cell_type": "code",
   "execution_count": null,
   "id": "ff8c08c3-f9b6-44f8-b404-0e1e2417eec5",
   "metadata": {},
   "outputs": [],
   "source": [
    "combine.Title.value_counts()"
   ]
  },
  {
   "cell_type": "code",
   "execution_count": null,
   "id": "92badbb1-3d33-459e-aa5e-3ce51c732a0c",
   "metadata": {},
   "outputs": [],
   "source": [
    "# Convert to categorical values Title \n",
    "combine[\"Title\"] = combine[\"Title\"].replace(['Lady', 'the Countess','Countess','Capt', 'Col','Don', 'Dr', 'Major', 'Rev', 'Sir', 'Jonkheer', 'Dona'], 'Rare')\n",
    "combine[\"Title\"] = combine[\"Title\"].map({\"Master\":0, \"Miss\":1, \"Ms\" : 1 , \"Mme\":1, \"Mlle\":1, \"Mrs\":1, \"Mr\":2, \"Rare\":3})\n",
    "combine[\"Title\"] = combine[\"Title\"].astype(int)"
   ]
  },
  {
   "cell_type": "code",
   "execution_count": null,
   "id": "1429fccb-1894-45fa-a6c9-30229ee6f08c",
   "metadata": {},
   "outputs": [],
   "source": [
    "combine.Title.value_counts()"
   ]
  },
  {
   "cell_type": "code",
   "execution_count": null,
   "id": "831325df-cf14-45c8-b3c9-9d4019604a4e",
   "metadata": {
    "scrolled": true
   },
   "outputs": [],
   "source": [
    "combine[['Title','Survived']].groupby('Title', as_index=False).mean().sort_values('Survived', ascending=False)"
   ]
  },
  {
   "cell_type": "markdown",
   "id": "cc328062-86c9-4d6a-9cba-909889320239",
   "metadata": {},
   "source": [
    "#### 6.2 Cabin."
   ]
  },
  {
   "cell_type": "code",
   "execution_count": null,
   "id": "467a3d6d-e538-4b6e-8c61-670c6eea2a4d",
   "metadata": {},
   "outputs": [],
   "source": [
    "combine.query('Cabin != \"nan\"  & Pclass == 3')\n",
    "combine['Cabin_letter'] = combine['Cabin'].str.extract(r'([A-Za-z])')\n",
    "combine['Cabin_letter'].value_counts()\n"
   ]
  },
  {
   "cell_type": "code",
   "execution_count": null,
   "id": "47493140-9995-4346-a3f8-845a702dd993",
   "metadata": {},
   "outputs": [],
   "source": [
    "combine.groupby('Cabin_letter')['Survived'].mean().sort_values(ascending=False)\n"
   ]
  },
  {
   "cell_type": "code",
   "execution_count": null,
   "id": "62cd6692-50d2-4ea5-a1b2-872309b3c416",
   "metadata": {},
   "outputs": [],
   "source": [
    "combine[['Cabin_letter', 'Sex']].groupby(['Cabin_letter', 'Sex']).size().unstack(fill_value=0)\n",
    "\n"
   ]
  },
  {
   "cell_type": "code",
   "execution_count": null,
   "id": "26c49adb-6011-49bd-93e9-ea4265893ca0",
   "metadata": {},
   "outputs": [],
   "source": [
    "    combine.Cabin.fillna('0', inplace=True)\n",
    "    combine.loc[combine.Cabin.str[0] == 'A', 'Cabin'] = 1\n",
    "    combine.loc[combine.Cabin.str[0] == 'B', 'Cabin'] = 2\n",
    "    combine.loc[combine.Cabin.str[0] == 'C', 'Cabin'] = 3\n",
    "    combine.loc[combine.Cabin.str[0] == 'D', 'Cabin'] = 4\n",
    "    combine.loc[combine.Cabin.str[0] == 'E', 'Cabin'] = 5\n",
    "    combine.loc[combine.Cabin.str[0] == 'F', 'Cabin'] = 6\n",
    "    combine.loc[combine.Cabin.str[0] == 'G', 'Cabin'] = 7\n",
    "    combine.loc[combine.Cabin.str[0] == 'T', 'Cabin'] = 8"
   ]
  },
  {
   "cell_type": "code",
   "execution_count": null,
   "id": "b46f10c5-9ba6-426e-a212-ac7672963425",
   "metadata": {},
   "outputs": [],
   "source": [
    "sns.catplot(data=combine, x='Cabin', y='Survived', hue='Sex', kind='bar')"
   ]
  },
  {
   "cell_type": "code",
   "execution_count": null,
   "id": "05a7628d-227e-4567-bfe5-b9d27e6c0b01",
   "metadata": {},
   "outputs": [],
   "source": [
    "combine = combine.drop(['PassengerId', 'Name', 'Cabin_letter','Ticket'],axis=1)"
   ]
  },
  {
   "cell_type": "code",
   "execution_count": null,
   "id": "728f451f-2e90-4ab1-92ba-6cba06c85415",
   "metadata": {
    "scrolled": true
   },
   "outputs": [],
   "source": [
    "sns.catplot(data=train, x='Sex', y='Age', col='Survived', hue='Pclass', kind='box')"
   ]
  },
  {
   "cell_type": "markdown",
   "id": "241c5740-505f-4730-858e-38812bddb825",
   "metadata": {},
   "source": [
    "#### 6.3 Age/Pclass."
   ]
  },
  {
   "cell_type": "code",
   "execution_count": null,
   "id": "cdfcfc82-3575-4df5-a421-229927e32db8",
   "metadata": {},
   "outputs": [],
   "source": [
    "combine['Age'] = combine['Age'].astype(int)\n",
    "combine['Pclass'] = combine['Pclass'].astype(int)"
   ]
  },
  {
   "cell_type": "code",
   "execution_count": null,
   "id": "097f76a2-02c0-4148-a176-109cc5949819",
   "metadata": {},
   "outputs": [],
   "source": [
    "combine['Age/Pclass'] = combine['Age'] / combine['Pclass']"
   ]
  },
  {
   "cell_type": "markdown",
   "id": "949692c3-44fd-4ce3-85eb-6056cadc96cb",
   "metadata": {},
   "source": [
    "#### 6.4 Family Size and Is Alone features."
   ]
  },
  {
   "cell_type": "code",
   "execution_count": null,
   "id": "f09e56a0-5a2d-44f2-9df3-e477665a3060",
   "metadata": {},
   "outputs": [],
   "source": [
    "combine['Family_size'] = combine.SibSp + combine.Parch + 1\n"
   ]
  },
  {
   "cell_type": "code",
   "execution_count": null,
   "id": "2a7ac959-e9d0-4071-8613-7799e572ace3",
   "metadata": {
    "scrolled": true
   },
   "outputs": [],
   "source": [
    "combine['Family_size'].value_counts()"
   ]
  },
  {
   "cell_type": "code",
   "execution_count": null,
   "id": "9eef8b10-a96c-414b-8a28-75c8c6494ca0",
   "metadata": {},
   "outputs": [],
   "source": [
    "combine['Is_Alone'] = 0\n",
    "combine.loc[combine['Family_size']==1, 'Is_Alone'] = 1\n",
    "combine = combine.drop(['SibSp', 'Parch', 'Family_size'],axis=1)"
   ]
  },
  {
   "cell_type": "code",
   "execution_count": null,
   "id": "246f4f0b-0a64-45fe-8c71-c4678e99db2f",
   "metadata": {},
   "outputs": [],
   "source": [
    "combine['Sex'] = combine['Sex'].map({'male': 0, 'female': 1})"
   ]
  },
  {
   "cell_type": "code",
   "execution_count": null,
   "id": "5fad54e2-00a2-4a7d-b351-18abe694d19e",
   "metadata": {
    "scrolled": true
   },
   "outputs": [],
   "source": [
    "combine.head()"
   ]
  },
  {
   "cell_type": "markdown",
   "id": "478116bb-23f5-4d07-a09b-cf3daf9c651d",
   "metadata": {},
   "source": [
    "## 7. Modeling.\n",
    "* 7.1 Encoding categorical values.\n",
    "* 7.2 Creating helper function to test all classifiers.\n",
    "* 7.3 Applying ML models with evaluation (accuracy, f1, precision, recall).\n",
    "    * Logistic Regression.\n",
    "    * SVC Support Vector Machines.\n",
    "    * Linear SVC.\n",
    "    * SGD - Stochastic Gradient Decent.\n",
    "    * K- Nearest Neigbours.\n",
    "    * GNB - Gaussian Naive Base.\n",
    "    * Perceptron.\n",
    "    * DTC - Decision Tree CLassifier.\n",
    "    * RF - Random Forest (ensable method).\n",
    "    * Catboost.\n",
    "    * Adaboost.\n",
    "* 7.4 Compering all models.\n",
    "* 7.5 Applying helper  function to test all classifiers.\n",
    "* 7.6 Applying PCA, Select-K features.\n",
    "* 7.7 Creating a pipeline with hyperparameter tuning selected models and cross validation.\n",
    "* 7.8 Modeling with cross-validation for reference.\n",
    "* 7.9 Hyperparameter tunning for 4 selected models."
   ]
  },
  {
   "cell_type": "markdown",
   "id": "16f301c1-aa1a-4bdc-8e47-ed20719aef52",
   "metadata": {},
   "source": [
    "##### 7.1 Encoding categorical values and creating bins for numerical."
   ]
  },
  {
   "cell_type": "code",
   "execution_count": null,
   "id": "3d4c2c4b-bf9b-4346-8ce0-19341f28eee0",
   "metadata": {},
   "outputs": [],
   "source": [
    "combine.head()\n"
   ]
  },
  {
   "cell_type": "code",
   "execution_count": null,
   "id": "df2eb431-1f74-46f1-b1de-bf7ce218e13a",
   "metadata": {},
   "outputs": [],
   "source": [
    "combine = pd.get_dummies(combine, columns=['Embarked'], prefix='Em', dtype=int)\n",
    "combine = pd.get_dummies(combine, columns=['Cabin'],prefix='Cab_l',dtype=int)"
   ]
  },
  {
   "cell_type": "code",
   "execution_count": null,
   "id": "1e43224f-ea67-422f-b706-8fa30dcdc768",
   "metadata": {},
   "outputs": [],
   "source": [
    "combine.loc[combine['Fare'] <= 7.91, 'Fare'] = 0\n",
    "combine.loc[(combine['Fare'] > 7.91) & (combine['Fare'] <= 14.454), 'Fare'] = 1\n",
    "combine.loc[(combine['Fare'] > 14.454) & (combine['Fare'] <= 31), 'Fare']   = 2\n",
    "combine.loc[combine['Fare'] > 31, 'Fare'] \t\t\t\t\t\t\t        = 3\n",
    "combine['Fare'] = combine['Fare'].astype(int)"
   ]
  },
  {
   "cell_type": "code",
   "execution_count": null,
   "id": "eb2e0763-9be9-4136-a11f-7f10f178db84",
   "metadata": {},
   "outputs": [],
   "source": [
    "    # Mapping Age\n",
    "combine.loc[ combine['Age'] <= 16, 'Age'] = 0\n",
    "combine.loc[(combine['Age'] > 16) & (combine['Age'] <= 32), 'Age'] = 1\n",
    "combine.loc[(combine['Age'] > 32) & (combine['Age'] <= 48), 'Age'] = 2\n",
    "combine.loc[(combine['Age'] > 48) & (combine['Age'] <= 64), 'Age'] = 3\n",
    "combine.loc[ combine['Age'] > 64, 'Age'] = 4"
   ]
  },
  {
   "cell_type": "code",
   "execution_count": null,
   "id": "77bd66fb-c86c-45c8-8213-4593d8477f15",
   "metadata": {},
   "outputs": [],
   "source": [
    "combine['Age/Pclass'] = pd.qcut(combine['Age/Pclass'], 5, labels=False)"
   ]
  },
  {
   "cell_type": "code",
   "execution_count": null,
   "id": "3d853d1a-8a6a-4206-825a-aec0739522f3",
   "metadata": {},
   "outputs": [],
   "source": [
    "combine['Age/Pclass'] = combine['Age/Pclass'].map({0: 0, 1: 1, 2: 2, 3: 3, 4: 4}).astype(int)"
   ]
  },
  {
   "cell_type": "code",
   "execution_count": null,
   "id": "b605853e-b606-4fd5-9b70-9a161d0028eb",
   "metadata": {
    "scrolled": true
   },
   "outputs": [],
   "source": [
    "combine.head()"
   ]
  },
  {
   "cell_type": "code",
   "execution_count": null,
   "id": "19a5a58b-f6f4-4603-ab12-5e9cae8afcb0",
   "metadata": {
    "scrolled": true
   },
   "outputs": [],
   "source": [
    "sns.heatmap(combine.corr(),annot=True, fmt='.2f',cmap='RdYlGn',linewidths=0.2)\n",
    "fig=plt.gcf()\n",
    "plt.title('Pearson Correlation of Features', y=1.05, size=15)\n",
    "fig.set_size_inches(18,16)\n",
    "plt.show()"
   ]
  },
  {
   "cell_type": "markdown",
   "id": "6fcd79b9-1405-46b7-bf68-12b72e4a1fbe",
   "metadata": {},
   "source": [
    "One thing that that the Pearson Correlation plot can tell us is that there are not too many features strongly correlated with one another. This is good from a point of view of feeding these features into your learning model because this means that there isn't much redundant or superfluous data in our training set and we are happy that each feature carries with it some unique information. Here are two most correlated features are that of Age/Class and Age."
   ]
  },
  {
   "cell_type": "code",
   "execution_count": null,
   "id": "96f9899d-c591-4bd3-900a-41011aeea522",
   "metadata": {},
   "outputs": [],
   "source": [
    "train = combine[:len(train)]\n",
    "test = combine[len(train):]"
   ]
  },
  {
   "cell_type": "code",
   "execution_count": null,
   "id": "fde77fd4-dccd-45e1-8328-e8fdd7546352",
   "metadata": {},
   "outputs": [],
   "source": [
    "train.shape"
   ]
  },
  {
   "cell_type": "code",
   "execution_count": null,
   "id": "708a73fa-b08f-4951-bdc9-bb5bf14864ba",
   "metadata": {},
   "outputs": [],
   "source": [
    "test.shape"
   ]
  },
  {
   "cell_type": "code",
   "execution_count": null,
   "id": "ed1feef5-65e1-4143-9137-7a647fff755b",
   "metadata": {},
   "outputs": [],
   "source": [
    "features = train.drop('Survived', axis=1)\n",
    "labels = train['Survived']\n",
    "s_test = test"
   ]
  },
  {
   "cell_type": "code",
   "execution_count": null,
   "id": "97225c84-a662-4e31-9cf9-cd4123795bc6",
   "metadata": {},
   "outputs": [],
   "source": [
    "from sklearn.model_selection import train_test_split\n",
    "\n",
    "X_train, X_test, y_train, y_test = train_test_split(features, labels, test_size=0.3, random_state=42)"
   ]
  },
  {
   "cell_type": "markdown",
   "id": "cf5fc7f6-fba6-461f-8e12-c5e3b43c25bc",
   "metadata": {},
   "source": [
    "#### 7.2 Creating helper function to test all classifiers."
   ]
  },
  {
   "cell_type": "code",
   "execution_count": null,
   "id": "6a751296-1bc3-4d4d-acc2-ba96a9c61589",
   "metadata": {},
   "outputs": [],
   "source": [
    "from sklearn.model_selection import StratifiedShuffleSplit\n",
    "PERF_FORMAT_STRING =\"\\tAccuracy: {:>0.{round}f}\\tPrecison: {:>0.{round}f}\\tRecall: {:>0.{round}f}\\tF1: {:>0.{round}f}\"\n",
    "RESULTS_FORMAT_STRING = \"\\tTotal predictions: {:4d}\\tTrue positives: {:4d}\\tFalse positives: {:4d}\\\n",
    "\\tFalse negatives: {:4d}\\tTrue negatives: {:4d}\"\n",
    "def test_classifier(clf, dataset, feature_list, folds = 100):   \n",
    "    labels = dataset['Survived']\n",
    "    features = dataset.drop('Survived', axis=1)\n",
    "    cv = StratifiedShuffleSplit(n_splits=folds, test_size=0.3, random_state=42)\n",
    "    true_positive = 0\n",
    "    true_negative = 0\n",
    "    false_positive = 0\n",
    "    false_negative = 0\n",
    "    for train_idx, test_idx in cv.split(features, labels):\n",
    "        train_features = features.iloc[train_idx]\n",
    "        train_labels = labels.iloc[train_idx]\n",
    "        test_features = features.iloc[test_idx]\n",
    "        test_labels = labels.iloc[test_idx]\n",
    "\n",
    "        clf.fit(train_features, train_labels)\n",
    "        predictions = clf.predict(test_features)\n",
    "\n",
    "        for prediction, truth in zip(predictions, test_labels):\n",
    "            if prediction == 1 and truth == 1:\n",
    "                true_positive+=1\n",
    "            elif prediction == 0 and truth == 0:\n",
    "                true_negative+=1\n",
    "            elif prediction == 1 and truth == 0:\n",
    "                false_positive+=1\n",
    "            elif prediction == 0 and truth == 1:\n",
    "                false_negative+=1\n",
    "\n",
    "    try:\n",
    "        all_predictions = true_positive + true_negative + false_positive + false_negative\n",
    "        accuracy = (true_positive + true_negative) / all_predictions\n",
    "        precision = true_positive / (true_positive + false_positive)\n",
    "        recall = true_positive / (true_positive + false_negative)\n",
    "        f1 = 2.0 * (precision * recall)  / (precision + recall)\n",
    "        print(\"\\n\")\n",
    "        print(clf)\n",
    "        print(PERF_FORMAT_STRING.format(accuracy, precision, recall, f1, round=4))\n",
    "        print(RESULTS_FORMAT_STRING.format(all_predictions, true_positive, false_positive, false_negative, true_negative))\n",
    "    except ZeroDivisionError:\n",
    "        print(\"Warning: Got a divide by zero when trying out:\", clf)"
   ]
  },
  {
   "cell_type": "markdown",
   "id": "1fd71b30-c1c1-40b0-a005-8242f6bc83ef",
   "metadata": {},
   "source": [
    "### 7.3 Applying ML models with evaluation (accuracy, f1, precision, recall)."
   ]
  },
  {
   "cell_type": "code",
   "execution_count": null,
   "id": "394ebc67-29aa-4992-87aa-6075453ec298",
   "metadata": {},
   "outputs": [],
   "source": [
    "from sklearn.linear_model import LogisticRegression\n",
    "from sklearn.metrics import f1_score, recall_score, precision_score\n",
    "PERF_FORMAT_STRING =\" \\tAccuracy: {:>0.{round}f}\\tF1_score: {:>0.{round}f}\\tPrecision: {:>0.{round}f}\\tRecall: {:>0.{round}f} \""
   ]
  },
  {
   "cell_type": "code",
   "execution_count": null,
   "id": "8a53f91f-99e6-42db-a0e6-56914d841abe",
   "metadata": {},
   "outputs": [],
   "source": [
    "lr_clf = LogisticRegression()\n",
    "lr_clf.fit(X_train, y_train)\n",
    "lr_pred = lr_clf.predict(X_test)\n",
    "lr_acc = lr_clf.score(X_train, y_train)\n",
    "lr_f1_score = f1_score(y_test, lr_pred)\n",
    "lr_precision = precision_score(y_test, lr_pred)\n",
    "lr_recall = recall_score(y_test, lr_pred)\n",
    "print(PERF_FORMAT_STRING.format(lr_acc, lr_f1_score, lr_precision, lr_recall, round = 4))\n"
   ]
  },
  {
   "cell_type": "code",
   "execution_count": null,
   "id": "1d446f5b-3bec-436d-9f16-9989a474c89f",
   "metadata": {},
   "outputs": [],
   "source": [
    "from sklearn.svm import SVC\n",
    "svc_clf = SVC()\n",
    "svc_clf.fit(X_train, y_train)\n",
    "svc_pred = svc_clf.predict(X_test)\n",
    "svc_acc = svc_clf.score(X_train, y_train)\n",
    "svc_f1_score = f1_score(y_test, svc_pred)\n",
    "svc_precision = precision_score(y_test, svc_pred)\n",
    "svc_recall = recall_score(y_test, svc_pred)\n",
    "print(PERF_FORMAT_STRING.format(svc_acc, svc_f1_score, svc_precision, svc_recall, round = 4))"
   ]
  },
  {
   "cell_type": "code",
   "execution_count": null,
   "id": "fb1071d8-a158-47b9-9b04-f95f15e8a4c8",
   "metadata": {},
   "outputs": [],
   "source": [
    "from sklearn.neighbors import KNeighborsClassifier\n",
    "knn_clf = KNeighborsClassifier(n_neighbors = 5)\n",
    "knn_clf.fit(X_train, y_train)\n",
    "knn_pred = knn_clf.predict(X_test)\n",
    "knn_acc = knn_clf.score(X_train, y_train)\n",
    "knn_f1_score = f1_score(y_test, knn_pred)\n",
    "knn_precision = precision_score(y_test, knn_pred)\n",
    "knn_recall =recall_score(y_test, knn_pred)\n",
    "print(PERF_FORMAT_STRING.format(knn_acc, knn_f1_score, knn_precision, knn_recall, round = 4))"
   ]
  },
  {
   "cell_type": "code",
   "execution_count": null,
   "id": "7fa5d300-43c4-4928-a978-5099d4af39d5",
   "metadata": {},
   "outputs": [],
   "source": [
    "from sklearn.naive_bayes import GaussianNB\n",
    "gnb_clf = GaussianNB()\n",
    "gnb_clf.fit(X_train, y_train)\n",
    "gnb_pred = gnb_clf.predict(X_test)\n",
    "gnb_acc = gnb_clf.score(X_train, y_train)\n",
    "gnb_f1_score = f1_score(y_test, gnb_pred)\n",
    "gnb_precision = precision_score(y_test, gnb_pred)\n",
    "gnb_recall = recall_score(y_test, gnb_pred)\n",
    "print(PERF_FORMAT_STRING.format(gnb_acc, gnb_f1_score, gnb_precision, gnb_recall, round = 4))"
   ]
  },
  {
   "cell_type": "code",
   "execution_count": null,
   "id": "629dda6b-992c-4cf1-84d2-03681cf6d917",
   "metadata": {},
   "outputs": [],
   "source": [
    "from sklearn.linear_model import Perceptron\n",
    "\n",
    "p_clf = Perceptron()\n",
    "p_clf.fit(X_train, y_train)\n",
    "p_pred = p_clf.predict(X_test)\n",
    "p_acc = gnb_clf.score(X_train, y_train)\n",
    "p_f1_score = f1_score(y_test, p_pred)\n",
    "p_precision = precision_score(y_test, p_pred)\n",
    "p_recall = recall_score(y_test, p_pred)\n",
    "print(PERF_FORMAT_STRING.format(p_acc, p_f1_score, p_precision, p_recall, round = 4))"
   ]
  },
  {
   "cell_type": "code",
   "execution_count": null,
   "id": "c77538f2-b8d8-4eec-871e-b2a6b2320981",
   "metadata": {},
   "outputs": [],
   "source": [
    "from sklearn.svm import LinearSVC\n",
    "lsvc_clf = LinearSVC()\n",
    "lsvc_clf.fit(X_train, y_train)\n",
    "lsvc_pred = lsvc_clf.predict(X_test)\n",
    "lsvc_acc = lsvc_clf.score(X_train, y_train)\n",
    "lsvc_f1_score = f1_score(y_test, lsvc_pred)\n",
    "lsvc_precision = precision_score(y_test, lsvc_pred)\n",
    "lsvc_recall =recall_score(y_test, lsvc_pred)\n",
    "print(PERF_FORMAT_STRING.format(lsvc_acc, lsvc_f1_score, lsvc_precision, lsvc_recall, round = 4))"
   ]
  },
  {
   "cell_type": "code",
   "execution_count": null,
   "id": "7ce9d291-cdde-4bf0-ac57-58fe54c11c2d",
   "metadata": {},
   "outputs": [],
   "source": [
    "from sklearn.linear_model import SGDClassifier\n",
    "sgd_clf = SGDClassifier()\n",
    "sgd_clf.fit(X_train, y_train)\n",
    "sgd_pred = lsvc_clf.predict(X_test)\n",
    "sgd_acc = lsvc_clf.score(X_train, y_train)\n",
    "sgd_f1_score = f1_score(y_test, sgd_pred)\n",
    "sgd_precision = precision_score(y_test, sgd_pred)\n",
    "sgd_recall =recall_score(y_test, sgd_pred)\n",
    "print(PERF_FORMAT_STRING.format(sgd_acc, sgd_f1_score, sgd_precision, sgd_recall, round = 4))"
   ]
  },
  {
   "cell_type": "code",
   "execution_count": null,
   "id": "0dd510cc-1e19-4e35-afb4-06d35e8c9163",
   "metadata": {},
   "outputs": [],
   "source": [
    "from sklearn.tree import DecisionTreeClassifier\n",
    "dt_clf = DecisionTreeClassifier()\n",
    "dt_clf.fit(X_train, y_train)\n",
    "dt_pred = dt_clf.predict(X_test)\n",
    "dt_acc = gnb_clf.score(X_train, y_train)\n",
    "dt_f1_score = f1_score(y_test, dt_pred)\n",
    "dt_precision = precision_score(y_test, dt_pred)\n",
    "dt_recall = recall_score(y_test, dt_pred)\n",
    "print(PERF_FORMAT_STRING.format(dt_acc, dt_f1_score, dt_precision, dt_recall, round = 4))"
   ]
  },
  {
   "cell_type": "code",
   "execution_count": null,
   "id": "0321bcf4-87fa-4242-8218-f69a6f01eccd",
   "metadata": {},
   "outputs": [],
   "source": [
    "from sklearn.ensemble import RandomForestClassifier\n",
    "rf_clf = RandomForestClassifier()\n",
    "rf_clf.fit(X_train, y_train)\n",
    "rf_pred = dt_clf.predict(X_test)\n",
    "rf_acc = gnb_clf.score(X_train, y_train)\n",
    "rf_f1_score = f1_score(y_test, rf_pred)\n",
    "rf_precision = precision_score(y_test, rf_pred)\n",
    "rf_recall = recall_score(y_test, rf_pred)\n",
    "print(PERF_FORMAT_STRING.format(rf_acc, rf_f1_score, rf_precision, rf_recall, round = 4))"
   ]
  },
  {
   "cell_type": "code",
   "execution_count": null,
   "id": "af9429cd-05de-4c12-92cc-e2e404cf80e4",
   "metadata": {},
   "outputs": [],
   "source": [
    "from catboost import CatBoostClassifier\n",
    "cb_clf = CatBoostClassifier()\n",
    "cb_clf.fit(X_train, y_train)\n",
    "cb_pred = dt_clf.predict(X_test)\n",
    "cb_acc = gnb_clf.score(X_train, y_train)\n",
    "cb_f1_score = f1_score(y_test, cb_pred)\n",
    "cb_precision = precision_score(y_test, cb_pred)\n",
    "cb_recall = recall_score(y_test, cb_pred)\n",
    "print(PERF_FORMAT_STRING.format(cb_acc, cb_f1_score, cb_precision, cb_recall, round = 4))"
   ]
  },
  {
   "cell_type": "code",
   "execution_count": null,
   "id": "99d7963c-b14a-48a1-bdad-efea18ca3651",
   "metadata": {
    "scrolled": true
   },
   "outputs": [],
   "source": [
    "from sklearn.ensemble import AdaBoostClassifier\n",
    "ab_clf = AdaBoostClassifier()\n",
    "ab_clf.fit(X_train, y_train)\n",
    "ab_pred = dt_clf.predict(X_test)\n",
    "ab_acc = gnb_clf.score(X_train, y_train)\n",
    "ab_f1_score = f1_score(y_test, ab_pred)\n",
    "ab_precision = precision_score(y_test, ab_pred)\n",
    "ab_recall = recall_score(y_test, ab_pred)\n",
    "print(PERF_FORMAT_STRING.format(ab_acc, ab_f1_score, ab_precision, ab_recall, round = 4))"
   ]
  },
  {
   "cell_type": "code",
   "execution_count": null,
   "id": "21b4d9e7-6ea3-4f24-940c-1c3291be7f1d",
   "metadata": {},
   "outputs": [],
   "source": [
    "# Cross validate model with Kfold stratified cross val\n",
    "kfold = StratifiedKFold(n_splits=10)"
   ]
  },
  {
   "cell_type": "code",
   "execution_count": null,
   "id": "66907205-6c80-4b41-b284-af343a18be2a",
   "metadata": {
    "scrolled": true
   },
   "outputs": [],
   "source": [
    "classifiers = []\n",
    "classifiers.append(LogisticRegression())\n",
    "classifiers.append(SVC())\n",
    "classifiers.append(KNeighborsClassifier(n_neighbors = 5))\n",
    "classifiers.append(GaussianNB())\n",
    "classifiers.append(Perceptron())\n",
    "classifiers.append(LinearSVC())\n",
    "classifiers.append(SGDClassifier())\n",
    "classifiers.append(DecisionTreeClassifier())\n",
    "classifiers.append(RandomForestClassifier())\n",
    "classifiers.append(CatBoostClassifier())\n",
    "classifiers.append(AdaBoostClassifier())\n",
    "\n",
    "cv1_results = []\n",
    "\n",
    "for classifier in classifiers:\n",
    "    cv1_results.append(cross_val_score(classifier, X_train, y = y_train, scoring = \"accuracy\", cv = kfold))\n",
    "    \n",
    "cv1_mean = []\n",
    "cv1_std = []\n",
    "\n",
    "for result in cv1_results:\n",
    "    cv1_mean.append(result.mean())\n",
    "    cv1_std.append(result.std())\n",
    "\n",
    "cv1_res = pd.DataFrame({'Cross Validation Mean': cv1_mean, 'Cross Validation Std': cv1_std, 'Algorithm': ['Logistic Regression', 'Support Vector Machines', 'K-Nearest Neighbours','Gausian Naive Bayes','Perceptron', 'Linear SVC','Stochastic gradnient descent', 'Decision tree', 'Random Forest','CatBoost', 'AdaBoost']})\n",
    "\n",
    "\n"
   ]
  },
  {
   "cell_type": "markdown",
   "id": "76325c73-c9f2-4f64-ba02-f410e1d486b5",
   "metadata": {},
   "source": [
    "#### 7.4 Compering all models"
   ]
  },
  {
   "cell_type": "code",
   "execution_count": null,
   "id": "90c64b1b-0cac-42f7-800b-4363f527678b",
   "metadata": {},
   "outputs": [],
   "source": [
    "models = pd.DataFrame({'Model': ['Logistic Regression', 'SVC Support Vector Machines', 'Linear SVC', 'SGD - Stochastic Gradient Decent',\n",
    "                       'K- Nearest Neigbours', 'GNB - Gaussian Naive Base', 'Perceptron', 'DTC - Decision Tree CLassifier',\n",
    "                       'RF - Random Forest', 'Catboost', 'Adaboost'],\n",
    "                      'Accuracy': [lr_acc, svc_acc, lsvc_acc, sgd_acc, knn_acc, gnb_acc, p_acc, dt_acc, rf_acc, cb_acc, ab_acc],\n",
    "                      'F1':[ lr_f1_score, svc_f1_score, lsvc_f1_score, sgd_f1_score, knn_f1_score, gnb_f1_score, p_f1_score, dt_f1_score, rf_f1_score,\n",
    "                       cb_f1_score, ab_f1_score],\n",
    "                      'Precision': [lr_precision, svc_precision, lsvc_precision, sgd_precision, knn_precision, gnb_precision, p_precision, \n",
    "                       dt_precision, rf_precision, cb_precision, ab_precision],\n",
    "                      'Recall':[ lr_recall, svc_recall, lsvc_recall, sgd_recall, knn_recall, gnb_recall, p_recall, dt_recall, rf_recall,\n",
    "                       cb_recall, ab_recall ]}\n",
    "                     )\n",
    "models.sort_values('F1', ascending=False)"
   ]
  },
  {
   "cell_type": "code",
   "execution_count": null,
   "id": "9b840916-2c41-4b8c-a4e0-b5c9d2ebfa8f",
   "metadata": {},
   "outputs": [],
   "source": [
    "cv1_res.head().sort_values(by='Cross Validation Mean', ascending=False)"
   ]
  },
  {
   "cell_type": "markdown",
   "id": "9acb5e6f-0574-4ed2-9159-8431cce00870",
   "metadata": {},
   "source": [
    "#### 7.5 Applying helper function to test top 3 classifiers."
   ]
  },
  {
   "cell_type": "code",
   "execution_count": null,
   "id": "d6d57de9-fefd-4517-a588-5e4db67f665c",
   "metadata": {},
   "outputs": [],
   "source": [
    "features_list = X_train\n",
    "test_classifier(classifiers[1], train, features_list)"
   ]
  },
  {
   "cell_type": "code",
   "execution_count": null,
   "id": "33ff7f2f-d048-4faa-be7e-be7ee8e1188d",
   "metadata": {},
   "outputs": [],
   "source": [
    "test_classifier(classifiers[2], train, features_list)"
   ]
  },
  {
   "cell_type": "code",
   "execution_count": null,
   "id": "7344078b-af9a-4f2f-a1b3-cd27a391471b",
   "metadata": {},
   "outputs": [],
   "source": [
    "test_classifier(classifiers[0], train, features_list)"
   ]
  },
  {
   "cell_type": "markdown",
   "id": "486b3bd0-0df4-431e-a630-0f0ae41fe687",
   "metadata": {},
   "source": [
    "#### 7.6 Applying PCA, Select-KFeatures techniques"
   ]
  },
  {
   "cell_type": "code",
   "execution_count": null,
   "id": "7be8fe3d-8caa-497d-8345-85ea4d5db796",
   "metadata": {},
   "outputs": [],
   "source": [
    "from sklearn.decomposition import PCA\n",
    "pca = PCA(n_components=8)\n",
    "X_train_pca = pca.fit_transform(X_train)\n",
    "print(pca.explained_variance_ratio_)\n",
    "pca_components = pca.components_\n",
    "first_pca = pca.components_[0]\n",
    "\n"
   ]
  },
  {
   "cell_type": "code",
   "execution_count": null,
   "id": "2787793a-76b8-46f4-8327-ae3e22795a76",
   "metadata": {},
   "outputs": [],
   "source": [
    "features.shape"
   ]
  },
  {
   "cell_type": "code",
   "execution_count": null,
   "id": "58bd9f77-da79-4c6d-8ac2-52da84cb3fc9",
   "metadata": {},
   "outputs": [],
   "source": [
    "features_list = features.columns"
   ]
  },
  {
   "cell_type": "code",
   "execution_count": null,
   "id": "2d86ab9b-18b7-4d9a-8815-ef0deac31830",
   "metadata": {},
   "outputs": [],
   "source": [
    "from sklearn.feature_selection import SelectKBest, f_classif\n",
    "kbest = SelectKBest(f_classif, k=10)\n",
    "kbest.fit_transform(X_train, y_train)\n",
    "\n",
    "selected_features_indices = kbest.get_support(indices=True)\n",
    "features_selected = [features_list[i] for i in selected_features_indices]\n",
    "features_selected"
   ]
  },
  {
   "cell_type": "code",
   "execution_count": null,
   "id": "7ba088cb-9fa3-49cd-b8ac-c072437b039f",
   "metadata": {},
   "outputs": [],
   "source": [
    "test_classifier(lr_clf, train, features_selected)"
   ]
  },
  {
   "cell_type": "markdown",
   "id": "2167c783-c354-410c-8541-0bd3bb35afb7",
   "metadata": {},
   "source": [
    "#### 7.7 Creating a pipeline with hyperparameter tuning for selected models and cross validation."
   ]
  },
  {
   "cell_type": "code",
   "execution_count": null,
   "id": "ffacd7d0-12c0-42d2-9ab3-0892baa6a2e0",
   "metadata": {},
   "outputs": [],
   "source": [
    "# from sklearn.pipeline import Pipeline\n",
    "# from sklearn.model_selection import GridSearchCV\n",
    "# select = SelectKBest()\n",
    "# lr = LogisticRegression()\n",
    "\n",
    "\n",
    "# steps = [('feature_select', select),\n",
    "#          ('classifier', lr)]\n",
    "\n",
    "# param_grid = {'feature_select__k': [4, 8, 12],\n",
    "#              'classifier__C': [0.001, 0.1, 1, 10],\n",
    "#              'classifier__penalty': ['l1', 'l2'],\n",
    "#              'classifier__solver': ['liblinear', 'lbfgs', ],\n",
    "#              'classifier__class_weight': [None, 'balanced'],\n",
    "#              'classifier__multi_class': ['ovr', 'multinomial'],\n",
    "#              'classifier__tol': [1e-4, 1e-3],\n",
    "#              'classifier__max_iter': [100, 1000],\n",
    "#              'classifier__warm_start': [True, False]}\n",
    "# sss = StratifiedShuffleSplit(100, test_size=0.3, random_state=43)\n",
    "# pipe = Pipeline(steps)\n",
    "# gs = GridSearchCV(pipe, param_grid, cv=sss, scoring='f1')\n",
    "# gs.fit(X_train, y_train)\n",
    "# clf = gs.best_estimator_\n",
    "# gs.best_score_"
   ]
  },
  {
   "cell_type": "code",
   "execution_count": null,
   "id": "ea336a94-1c58-42da-ae14-b16db42d46d5",
   "metadata": {
    "scrolled": true
   },
   "outputs": [],
   "source": [
    "# test_classifier(clf, train, features_selected)"
   ]
  },
  {
   "cell_type": "markdown",
   "id": "fb06a27b-9e19-424c-bce7-c005f8881010",
   "metadata": {},
   "source": [
    "##### The best parameters for Logistic Regression found by SearchGridCV:\n",
    "Pipeline(steps=[('feature_select', SelectKBest(k=2)),\n",
    "                ('classifier',\n",
    "                 LogisticRegression(C=0.001, class_weight='balanced',\n",
    "                 multi_class='ovr', solver='liblinear',\n",
    "                 warm_start=True))])"
   ]
  },
  {
   "cell_type": "markdown",
   "id": "a75096c3-0bdc-46bf-9377-a30c55656c97",
   "metadata": {},
   "source": [
    "GridSearchCV results: \n",
    "* Accuracy: 0.7868\t\n",
    "* Precison: 0.7077\t\n",
    "* Recall: 0.7601\t\n",
    "* F1: 0.7329\n",
    "\n",
    "The results before gridsearchcv:\n",
    "* acc: 0.819805\n",
    "* precision:0.781818\n",
    "* recall: 0.754386\n",
    "* f1: 0.811321"
   ]
  },
  {
   "cell_type": "markdown",
   "id": "7482002b-33f4-4a97-bdf8-0ec10347bb76",
   "metadata": {},
   "source": [
    "The results of hyperparamter tunning are for some reason worse than before. It mightbe due to narrowing down the parameters befeore running the GridsearchCV due to cpu performance issued. For some reason I can't use multiple cores and I'm unable to manage full GridSearch with just one core.\n",
    "We will omit those results for now."
   ]
  },
  {
   "cell_type": "markdown",
   "id": "9126db65-8899-4675-bd7d-2fcf9c54005e",
   "metadata": {},
   "source": [
    "#### 7.8 Modeling with cross-validation for reference."
   ]
  },
  {
   "cell_type": "code",
   "execution_count": null,
   "id": "89f72674-1109-4147-a533-9a72eb6a296c",
   "metadata": {},
   "outputs": [],
   "source": [
    "# Modeling step with cross validation to Test differents algorithms \n",
    "random_state = 2\n",
    "classifiers = []\n",
    "classifiers.append(SVC(random_state=random_state))\n",
    "classifiers.append(DecisionTreeClassifier(random_state=random_state))\n",
    "classifiers.append(AdaBoostClassifier(DecisionTreeClassifier(random_state=random_state),random_state=random_state,learning_rate=0.1))\n",
    "classifiers.append(RandomForestClassifier(random_state=random_state))\n",
    "classifiers.append(ExtraTreesClassifier(random_state=random_state))\n",
    "classifiers.append(GradientBoostingClassifier(random_state=random_state))\n",
    "classifiers.append(MLPClassifier(random_state=random_state))\n",
    "classifiers.append(KNeighborsClassifier())\n",
    "classifiers.append(LogisticRegression(random_state = random_state))\n",
    "classifiers.append(LinearDiscriminantAnalysis())\n",
    "\n",
    "cv_results = []\n",
    "\n",
    "for classifier in classifiers :\n",
    "    cv_results.append(cross_val_score(classifier, X_train, y_train, scoring = \"accuracy\", cv = kfold))\n",
    "    \n",
    "cv_means = []\n",
    "cv_std = []\n",
    "\n",
    "for cv_result in cv_results:\n",
    "    cv_means.append(cv_result.mean())\n",
    "    cv_std.append(cv_result.std())\n",
    "\n",
    "cv_res = pd.DataFrame({'Cross Validation Mean':cv_means,'Cross Validation Std': cv_std,'Algorithm':[\"SVC\",\"DecisionTree\",\"AdaBoost\",\n",
    "\"RandomForest\",\"ExtraTrees\",\"GradientBoosting\",\"MultipleLayerPerceptron\",\"KNeighboors\",\"LogisticRegression\",\"LinearDiscriminantAnalysis\"]})\n",
    "\n"
   ]
  },
  {
   "cell_type": "code",
   "execution_count": null,
   "id": "f08be1b5-04f7-443c-b82a-4018c7acd6de",
   "metadata": {},
   "outputs": [],
   "source": [
    "cv_res.head(10).sort_values(by='Cross Validation Mean', ascending=False)"
   ]
  },
  {
   "cell_type": "code",
   "execution_count": null,
   "id": "270c1bc4-d7ab-4a33-a361-3768a1356378",
   "metadata": {
    "scrolled": true
   },
   "outputs": [],
   "source": [
    "sns.barplot(data=cv_res, x='Cross Validation Mean', y='Algorithm', order=cv_res.sort_values(by='Cross Validation Mean', ascending=False)['Algorithm'])\n"
   ]
  },
  {
   "cell_type": "markdown",
   "id": "a62f9d45-c135-4310-8849-c42496378f47",
   "metadata": {},
   "source": [
    "#### 7.9 Hyperparameter tunning for 4 best models.\n",
    "\n",
    " AdaBoost, ExtraTrees , RandomForest, GradientBoosting and SVl on 4 cpu."
   ]
  },
  {
   "cell_type": "code",
   "execution_count": null,
   "id": "5e0b66f4-6f6b-4c27-bf63-03321506f57d",
   "metadata": {},
   "outputs": [],
   "source": [
    "# Adaboost\n",
    "DTC = DecisionTreeClassifier()\n",
    "\n",
    "adaDTC = AdaBoostClassifier(DTC, random_state=7)\n",
    "\n",
    "ada_param_grid = {\"base_estimator__criterion\" : [\"gini\", \"entropy\"],\n",
    "              \"base_estimator__splitter\" :   [\"best\", \"random\"],\n",
    "              \"algorithm\" : [\"SAMME\",\"SAMME.R\"],\n",
    "              \"n_estimators\" :[1,2],\n",
    "              \"learning_rate\":  [0.0001, 0.001, 0.01, 0.1, 0.2, 0.3,1.5]}\n",
    "\n",
    "gsadaDTC = GridSearchCV(adaDTC,param_grid = ada_param_grid, cv=kfold, scoring=\"accuracy\", verbose = 1)\n",
    "\n",
    "gsadaDTC.fit(X_train,y_train)\n",
    "\n",
    "ada_best = gsadaDTC.best_estimator_"
   ]
  },
  {
   "cell_type": "code",
   "execution_count": null,
   "id": "feeb55ec-71d1-4e40-ae76-e9d823d36d7c",
   "metadata": {},
   "outputs": [],
   "source": [
    "gsadaDTC.best_score_"
   ]
  },
  {
   "cell_type": "code",
   "execution_count": null,
   "id": "7ff535dd-418f-4e01-960a-8be4088ea889",
   "metadata": {},
   "outputs": [],
   "source": [
    "#ExtraTrees \n",
    "ExtC = ExtraTreesClassifier()\n",
    "\n",
    "\n",
    "## Search grid for optimal parameters\n",
    "ex_param_grid = {\"max_depth\": [None],\n",
    "              \"max_features\": [1, 3, 10],\n",
    "              \"min_samples_split\": [2, 3, 10],\n",
    "              \"min_samples_leaf\": [1, 3, 10],\n",
    "              \"bootstrap\": [False],\n",
    "              \"n_estimators\" :[100,300],\n",
    "              \"criterion\": [\"gini\"]}\n",
    "\n",
    "\n",
    "gsExtC = GridSearchCV(ExtC,param_grid = ex_param_grid, cv=kfold, scoring=\"accuracy\", verbose = 1)\n",
    "\n",
    "gsExtC.fit(X_train,y_train)\n",
    "\n",
    "ExtC_best = gsExtC.best_estimator_\n",
    "\n",
    "# Best score\n",
    "gsExtC.best_score_\n"
   ]
  },
  {
   "cell_type": "code",
   "execution_count": null,
   "id": "b79d2cfd-4857-4ff8-b09d-4510329c7c68",
   "metadata": {},
   "outputs": [],
   "source": [
    "# RFC Parameters tunning \n",
    "RFC = RandomForestClassifier()\n",
    "\n",
    "\n",
    "## Search grid for optimal parameters\n",
    "rf_param_grid = {\"max_depth\": [None],\n",
    "              \"max_features\": [1, 3, 10],\n",
    "              \"min_samples_split\": [2, 3, 10],\n",
    "              \"min_samples_leaf\": [1, 3, 10],\n",
    "              \"bootstrap\": [False],\n",
    "              \"n_estimators\" :[100,300],\n",
    "              \"criterion\": [\"gini\"]}\n",
    "\n",
    "\n",
    "gsRFC = GridSearchCV(RFC,param_grid = rf_param_grid, cv=kfold, scoring=\"accuracy\", verbose = 1)\n",
    "\n",
    "gsRFC.fit(X_train,y_train)\n",
    "\n",
    "RFC_best = gsRFC.best_estimator_\n",
    "\n",
    "# Best score\n",
    "gsRFC.best_score_"
   ]
  },
  {
   "cell_type": "code",
   "execution_count": null,
   "id": "ddb75124-5b2b-4f6c-b31d-8b1fdf674aaa",
   "metadata": {},
   "outputs": [],
   "source": [
    "# Gradient boosting tunning\n",
    "\n",
    "GBC = GradientBoostingClassifier()\n",
    "gb_param_grid = {'loss' : [\"deviance\", \"exponential\"],\n",
    "              'n_estimators' : [100,200,300],\n",
    "              'learning_rate': [0.1, 0.05, 0.01],\n",
    "              'max_depth': [4, 8],\n",
    "              'min_samples_leaf': [100,150],\n",
    "              'max_features': [0.3, 0.1] \n",
    "              }\n",
    "\n",
    "gsGBC = GridSearchCV(GBC,param_grid = gb_param_grid, cv=kfold, scoring=\"accuracy\", verbose = 1)\n",
    "\n",
    "gsGBC.fit(X_train,y_train)\n",
    "\n",
    "GBC_best = gsGBC.best_estimator_\n",
    "\n",
    "# Best score\n",
    "gsGBC.best_score_\n"
   ]
  },
  {
   "cell_type": "code",
   "execution_count": null,
   "id": "f6e35678-6ebc-4cf6-ae6c-b3e3e74cbfd2",
   "metadata": {},
   "outputs": [],
   "source": [
    "### SVC classifier\n",
    "SVMC = SVC(probability=True)\n",
    "svc_param_grid = {'kernel': ['rbf'], \n",
    "                  'gamma': [ 0.001, 0.01, 0.1, 1],\n",
    "                  'C': [1, 10, 50, 100,200,300, 1000]}\n",
    "\n",
    "gsSVMC = GridSearchCV(SVMC,param_grid = svc_param_grid, cv=kfold, scoring=\"accuracy\", verbose = 1)\n",
    "\n",
    "gsSVMC.fit(X_train,y_train)\n",
    "\n",
    "SVMC_best = gsSVMC.best_estimator_\n",
    "\n",
    "# Best score\n",
    "gsSVMC.best_score_"
   ]
  },
  {
   "cell_type": "markdown",
   "id": "82c91700-9812-48d7-9344-3de7a4df5b76",
   "metadata": {},
   "source": [
    "#### 7.10 Plot learning curves\n",
    "\n",
    "Learning curves are a good way to see the overfitting effect on the training set and the effect of the training size on the accuracy."
   ]
  },
  {
   "cell_type": "code",
   "execution_count": null,
   "id": "11a7039c-3a1e-41a9-af3c-62ea00e6b4d2",
   "metadata": {},
   "outputs": [],
   "source": [
    "train_scores = np.array([[0.8, 0.85, 0.88],\n",
    "       [0.75, 0.82, 0.87],\n",
    "       [0.72, 0.80, 0.86],\n",
    "       [0.70, 0.78, 0.85],\n",
    "       [0.68, 0.75, 0.84]])\n",
    "train_scores_mean = np.mean(train_scores, axis=1)\n",
    "train_scores_mean"
   ]
  },
  {
   "cell_type": "code",
   "execution_count": null,
   "id": "31883347-1607-4a8f-a5d3-91a3c6947560",
   "metadata": {},
   "outputs": [],
   "source": [
    "def plot_learning_curve(estimator, title, X, y, ylim=None, cv=None,\n",
    "                        n_jobs=None, train_sizes=np.linspace(.1, 1.0, 5)):\n",
    "    \"\"\"Generate a simple plot of the test and training learning curve\"\"\"\n",
    "    plt.figure()\n",
    "    plt.title(title)\n",
    "    if ylim is not None:\n",
    "        plt.ylim(*ylim)\n",
    "    plt.xlabel(\"Training examples\")\n",
    "    plt.ylabel(\"Score\")\n",
    "    train_sizes, train_scores, test_scores = learning_curve(\n",
    "        estimator, X, y, cv=cv, n_jobs=n_jobs, train_sizes=train_sizes)\n",
    "    train_scores_mean = np.mean(train_scores, axis=1)\n",
    "    train_scores_std = np.std(train_scores, axis=1)\n",
    "    test_scores_mean = np.mean(test_scores, axis=1)\n",
    "    test_scores_std = np.std(test_scores, axis=1)\n",
    "    plt.grid()\n",
    "\n",
    "    plt.fill_between(train_sizes, train_scores_mean - train_scores_std,\n",
    "                     train_scores_mean + train_scores_std, alpha=0.1,\n",
    "                     color=\"r\")\n",
    "    plt.fill_between(train_sizes, test_scores_mean - test_scores_std,\n",
    "                     test_scores_mean + test_scores_std, alpha=0.1, color=\"g\")\n",
    "    plt.plot(train_sizes, train_scores_mean, 'o-', color=\"r\",\n",
    "             label=\"Training score\")\n",
    "    plt.plot(train_sizes, test_scores_mean, 'o-', color=\"g\",\n",
    "             label=\"Cross-validation score\")\n",
    "\n",
    "    plt.legend(loc=\"best\")\n",
    "    return plt\n",
    "\n"
   ]
  },
  {
   "cell_type": "code",
   "execution_count": null,
   "id": "24a7910b-bd21-44c6-bb5c-f0f1e9288159",
   "metadata": {},
   "outputs": [],
   "source": [
    "g = plot_learning_curve(gsRFC.best_estimator_,\"RF mearning curves\",X_train,y_train,cv=kfold)\n",
    "g = plot_learning_curve(gsExtC.best_estimator_,\"ExtraTrees learning curves\",X_train,y_train,cv=kfold)\n",
    "g = plot_learning_curve(gsSVMC.best_estimator_,\"SVC learning curves\",X_train,y_train,cv=kfold)\n",
    "g = plot_learning_curve(gsadaDTC.best_estimator_,\"AdaBoost learning curves\",X_train,y_train,cv=kfold)\n",
    "g = plot_learning_curve(gsGBC.best_estimator_,\"GradientBoosting learning curves\",X_train,y_train,cv=kfold)"
   ]
  },
  {
   "cell_type": "markdown",
   "id": "1bf953b0-eadd-4ba9-bd8e-49203c4f7898",
   "metadata": {},
   "source": [
    "SVC and Adaboost classifiers tend to overfit the training set. According to the growing cross-validation curves GradientBoosting, Adaboost SVC  and ExtraTrees could perform better with more training examples.\n",
    "GradientBoostinges classifrrs seem to better generalize the prediction since the training and cross-validation curves are close together."
   ]
  },
  {
   "cell_type": "markdown",
   "id": "7c8a3408-c90e-420b-a05a-018c7bb49b4c",
   "metadata": {},
   "source": [
    "#### 7.11 Feature importance of tree based classifiers."
   ]
  },
  {
   "cell_type": "code",
   "execution_count": null,
   "id": "c44f636c-82c9-4947-8b8e-1824ad50f07d",
   "metadata": {},
   "outputs": [],
   "source": [
    "nrows = ncols = 2\n",
    "fig, axes = plt.subplots(nrows = nrows, ncols = ncols, sharex=\"all\", figsize=(15,15))\n",
    "\n",
    "names_classifiers = [(\"AdaBoosting\", ada_best),(\"ExtraTrees\",ExtC_best),(\"RandomForest\",RFC_best),(\"GradientBoosting\",GBC_best)]\n",
    "\n",
    "nclassifier = 0\n",
    "for row in range(nrows):\n",
    "    for col in range(ncols):\n",
    "        name = names_classifiers[nclassifier][0]\n",
    "        classifier = names_classifiers[nclassifier][1]\n",
    "        indices = np.argsort(classifier.feature_importances_)[::-1][:20]\n",
    "        g = sns.barplot(y=X_train.columns[indices][:20],x = classifier.feature_importances_[indices][:20] , orient='h',ax=axes[row][col])\n",
    "        g.set_xlabel(\"Relative importance\",fontsize=12)\n",
    "        g.set_ylabel(\"Features\",fontsize=12)\n",
    "        g.tick_params(labelsize=9)\n",
    "        g.set_title(name + \" feature importance\")\n",
    "        nclassifier += 1"
   ]
  },
  {
   "cell_type": "code",
   "execution_count": null,
   "id": "7c365856-5da4-4860-bda6-b56b5376aa21",
   "metadata": {},
   "outputs": [],
   "source": [
    "test.drop(labels=[\"Survived\"],axis = 1,inplace=True)\n",
    "test_Survived_RFC = pd.Series(RFC_best.predict(test), name=\"RFC\")\n",
    "test_Survived_ExtC = pd.Series(ExtC_best.predict(test), name=\"ExtC\")\n",
    "test_Survived_SVMC = pd.Series(SVMC_best.predict(test), name=\"SVC\")\n",
    "test_Survived_AdaC = pd.Series(ada_best.predict(test), name=\"Ada\")\n",
    "test_Survived_GBC = pd.Series(GBC_best.predict(test), name=\"GBC\")\n",
    "\n",
    "ensemble_results = pd.concat([test_Survived_RFC,test_Survived_ExtC,test_Survived_AdaC,test_Survived_GBC, test_Survived_SVMC],axis=1)\n",
    "ensemble_results"
   ]
  },
  {
   "cell_type": "code",
   "execution_count": null,
   "id": "8ce71c2a-406b-4ef7-8355-e879496d2e95",
   "metadata": {},
   "outputs": [],
   "source": [
    "g= sns.heatmap(ensemble_results.corr(),annot=True)"
   ]
  },
  {
   "cell_type": "markdown",
   "id": "3c91cc10-4850-4e42-b639-43f1c3a16823",
   "metadata": {},
   "source": [
    " prediction seems to be quite similar for the 5 classifiers.\n",
    "\n",
    "The 5 classifiers give more or less the same prediction but there are some differences. \n",
    "Theses differences between the 5 classifier predictions are sufficient to consider an ensembling vote. "
   ]
  },
  {
   "cell_type": "markdown",
   "id": "fde0f947-2524-41f8-a6bd-0f309d1b4968",
   "metadata": {},
   "source": [
    "### 7.12 Ensemble modeling.\n",
    "I choosed a voting classifier to combine the predictions coming from the 5 classifiers."
   ]
  },
  {
   "cell_type": "code",
   "execution_count": null,
   "id": "1e811258-db98-4131-a5f9-19062261b3b1",
   "metadata": {},
   "outputs": [],
   "source": [
    "votingC = VotingClassifier(estimators=[('rfc', RFC_best), ('extc', ExtC_best),\n",
    "('svc', SVMC_best), ('adac',ada_best),('gbc',GBC_best)], voting='soft', n_jobs=1)\n",
    "\n",
    "votingC = votingC.fit(X_train, y_train)"
   ]
  },
  {
   "cell_type": "markdown",
   "id": "5dbd0cf3-26a5-4510-8376-6abb63d84ee7",
   "metadata": {},
   "source": [
    "### 8. Prediction.\n",
    "#### 8.1 Predict and Submit results."
   ]
  },
  {
   "cell_type": "code",
   "execution_count": null,
   "id": "05499865-030d-4c99-abc4-85929d8df190",
   "metadata": {},
   "outputs": [],
   "source": [
    "test_survived = pd.Series(votingC.predict(test), name='Survived')\n",
    "test_survived"
   ]
  },
  {
   "cell_type": "code",
   "execution_count": null,
   "id": "9fb4c1b0-caf3-44c8-8ff7-63a0144d258f",
   "metadata": {},
   "outputs": [],
   "source": [
    "submission_preds = votingC.predict(test)\n",
    "\n",
    "df = pd.DataFrame({'PassengerId': testId.values,\n",
    "                  'Survived': submission_preds,})\n",
    "\n",
    "df"
   ]
  },
  {
   "cell_type": "code",
   "execution_count": null,
   "id": "655f7772-2dd6-40ee-8e5a-964f1cfabce5",
   "metadata": {},
   "outputs": [],
   "source": [
    "df.to_csv('Submission.csv', index=False)"
   ]
  },
  {
   "cell_type": "code",
   "execution_count": null,
   "id": "ecc8c296-28c9-44c6-b71b-17574e2987fc",
   "metadata": {},
   "outputs": [],
   "source": []
  }
 ],
 "metadata": {
  "kernelspec": {
   "display_name": "Python 3 (ipykernel)",
   "language": "python",
   "name": "python3"
  },
  "language_info": {
   "codemirror_mode": {
    "name": "ipython",
    "version": 3
   },
   "file_extension": ".py",
   "mimetype": "text/x-python",
   "name": "python",
   "nbconvert_exporter": "python",
   "pygments_lexer": "ipython3",
   "version": "3.11.3"
  }
 },
 "nbformat": 4,
 "nbformat_minor": 5
}
