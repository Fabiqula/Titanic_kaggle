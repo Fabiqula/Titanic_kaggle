{
 "cells": [
  {
   "cell_type": "markdown",
   "id": "87042c4a-e2a2-45d7-a60f-f7d8102bdc8b",
   "metadata": {},
   "source": [
    "### Importing libraries"
   ]
  },
  {
   "cell_type": "code",
   "execution_count": null,
   "id": "f2fc4f3c-0ddd-46ce-b653-25081ac888bf",
   "metadata": {},
   "outputs": [],
   "source": [
    "import pandas as pd\n",
    "import numpy as np\n",
    "import missingno\n",
    "from collections import Counter\n",
    "\n",
    "import matplotlib.pyplot as plt\n",
    "import seaborn as sns\n",
    "\n",
    "import warnings\n",
    "warnings.filterwarnings(\"ignore\")\n"
   ]
  },
  {
   "cell_type": "markdown",
   "id": "8f6cb4ad-3435-4263-9cd7-752836061a83",
   "metadata": {},
   "source": [
    "### Reading data"
   ]
  },
  {
   "cell_type": "code",
   "execution_count": null,
   "id": "a7985b49-5322-4c3d-b27c-2b44dfdd9eb1",
   "metadata": {},
   "outputs": [],
   "source": [
    "train = pd.read_csv('train.csv')\n",
    "test = pd.read_csv('test.csv')\n",
    "submission = pd.read_csv('gender_submission.csv')"
   ]
  },
  {
   "cell_type": "code",
   "execution_count": null,
   "id": "50007815-7993-4dca-9b4b-2b8998c3c561",
   "metadata": {},
   "outputs": [],
   "source": [
    "train.head()"
   ]
  },
  {
   "cell_type": "code",
   "execution_count": null,
   "id": "6688166d-607a-4127-a23e-a0c40c25086c",
   "metadata": {},
   "outputs": [],
   "source": [
    "test.head()"
   ]
  },
  {
   "cell_type": "code",
   "execution_count": null,
   "id": "7ed82331-6be5-4da6-838c-76dd8d48eaeb",
   "metadata": {
    "scrolled": true
   },
   "outputs": [],
   "source": [
    "submission.head()"
   ]
  },
  {
   "cell_type": "markdown",
   "id": "aae43bdd-52bb-4206-a8f9-f86d58d72bec",
   "metadata": {},
   "source": [
    "### 3.  Data Dictionary:\r",
    "*\n",
    "Survival: 0 = No, 1 = Ye\n",
    "*  pclass: Ticket class 1 = 1st, 2 = 2nd  3 = r\n",
    "* rs sibsp: # of siblings / spouses aboard the Titan\n",
    "* ic parch: # of parents / children aboard the Titan\n",
    "* ic ticket: Ticket numb\n",
    "* er fare: Passenger fa\n",
    "* re cabin: Cabin num\n",
    "* Age: Age in years \n",
    "* sex: Sex\n",
    "* er embarked: Port of Embarkation C = Cherbourg, Q = Queenstown, S = Southampton"
   ]
  },
  {
   "cell_type": "markdown",
   "id": "ce9c0148-bc99-4b4d-952b-adc758690908",
   "metadata": {},
   "source": [
    "### 4. Exploratory Data Analysis (EDA)\r\n",
    "\r\n",
    "* .info()\r\n",
    "* isnull().sum().sort_values()\r\n",
    "* missingno.matrix()\r\n",
    "* describe()"
   ]
  },
  {
   "cell_type": "code",
   "execution_count": null,
   "id": "9c530613-67a1-4079-a44d-02d88daa24e9",
   "metadata": {
    "scrolled": true
   },
   "outputs": [],
   "source": [
    "train.info()"
   ]
  },
  {
   "cell_type": "code",
   "execution_count": null,
   "id": "b1c1753c-5c5d-4549-b5a6-b40c874d522a",
   "metadata": {},
   "outputs": [],
   "source": [
    "train.describe()"
   ]
  },
  {
   "cell_type": "code",
   "execution_count": null,
   "id": "1cd89daf-bb79-43fc-9f4c-661fdd26e781",
   "metadata": {
    "scrolled": true
   },
   "outputs": [],
   "source": [
    "test.info()"
   ]
  },
  {
   "cell_type": "code",
   "execution_count": null,
   "id": "eee11a75-6cc9-487f-8b11-9e3de2035482",
   "metadata": {},
   "outputs": [],
   "source": [
    "missingno.matrix(train)"
   ]
  },
  {
   "cell_type": "code",
   "execution_count": null,
   "id": "69e5203f-f809-4e9d-a306-2f3141903aa5",
   "metadata": {},
   "outputs": [],
   "source": [
    "missingno.matrix(test)"
   ]
  },
  {
   "cell_type": "code",
   "execution_count": null,
   "id": "c55f907f-5ec7-4f06-94be-bc7bcc976818",
   "metadata": {},
   "outputs": [],
   "source": [
    "train.isnull().sum().sort_values(ascending=False)"
   ]
  },
  {
   "cell_type": "code",
   "execution_count": null,
   "id": "84eaff3a-6002-4774-ba3a-9f99b31608dc",
   "metadata": {},
   "outputs": [],
   "source": [
    "test.isnull().sum().sort_values(ascending=False)"
   ]
  },
  {
   "cell_type": "code",
   "execution_count": null,
   "id": "059b1da3-247e-4e8c-9c8d-bd84c42744e1",
   "metadata": {},
   "outputs": [],
   "source": [
    "train.query('Embarked == \"Q\"')"
   ]
  },
  {
   "cell_type": "markdown",
   "id": "73a21feb-bcb1-4253-9b72-4b354957c7e4",
   "metadata": {},
   "source": [
    "#### 4.1 Feature Analysis\n",
    "\n",
    "* PassengerId - index\n",
    "* Survived - target feature\n",
    "\n",
    "##### Categorical features:\n",
    "* Pclass - cat\n",
    "* Name - cat\n",
    "* Sex - cat\n",
    "* Cabin - cat\n",
    "* Embark - cat\n",
    "\n",
    "##### Numerical features\n",
    "* Age - num\n",
    "* SibSp - num\n",
    "* Parch - num\n",
    "* Ticket - num\n",
    "* Fare - num"
   ]
  },
  {
   "cell_type": "markdown",
   "id": "17c5e723-24a7-478e-b760-2d31d25ba7b0",
   "metadata": {},
   "source": [
    "#### 4.2 Categorical features\n",
    "* 4.2.1 Pclass - cat\n",
    "* 4.2.2 Name - cat\n",
    "* 4.2.3 Sex - cat\n",
    "* 4.2.4 Cabin - cat\n",
    "* 4.2.5 Embark - cat\n",
    "* 4.3.5 Ticket - cat"
   ]
  },
  {
   "cell_type": "markdown",
   "id": "20e19a65-2b83-4f74-8e01-2840622d4d06",
   "metadata": {},
   "source": [
    "##### 4.2.1 Pclass"
   ]
  },
  {
   "cell_type": "code",
   "execution_count": null,
   "id": "08edac81-70d3-4196-a1e1-521ab9b10877",
   "metadata": {},
   "outputs": [],
   "source": [
    "train.Pclass.value_counts()"
   ]
  },
  {
   "cell_type": "code",
   "execution_count": null,
   "id": "3b70224c-f391-47e6-b440-e46ade4bb971",
   "metadata": {},
   "outputs": [],
   "source": [
    "train[['Parch','SibSp','Age','Pclass','Survived']].groupby('Pclass').mean().sort_values('Survived', ascending=False)"
   ]
  },
  {
   "cell_type": "code",
   "execution_count": null,
   "id": "6ea32a0d-1ffa-43b5-b973-a43f8b0b34cb",
   "metadata": {},
   "outputs": [],
   "source": [
    "Pclass_sur_mean = train.groupby('Pclass')['Survived'].mean()\n",
    "Pclass_sur_mean"
   ]
  },
  {
   "cell_type": "code",
   "execution_count": null,
   "id": "e8da7937-38a1-40fa-88e2-bbd30fc0b2ef",
   "metadata": {},
   "outputs": [],
   "source": [
    "Pclass_sur_mean.plot(marker='o', linestyle='-', color='c')\n",
    "plt.title('Pclass vs Survived Mean')\n",
    "plt.xlabel('Pclass')\n",
    "plt.ylabel('Survived Mean')\n",
    "\n",
    "plt.show()"
   ]
  },
  {
   "cell_type": "code",
   "execution_count": null,
   "id": "d46a98ed-bc22-4f89-9f40-c58049d3e062",
   "metadata": {
    "scrolled": true
   },
   "outputs": [],
   "source": [
    "sns.catplot(data=train, x='Pclass', y='Survived', hue='Sex', kind='bar')"
   ]
  },
  {
   "cell_type": "code",
   "execution_count": null,
   "id": "d15ce0ed-0d8e-4190-ba80-1b4dd3e2de94",
   "metadata": {},
   "outputs": [],
   "source": [
    "train[['Pclass', 'Sex']].groupby(['Pclass', 'Sex']).size().unstack(fill_value=0)"
   ]
  },
  {
   "cell_type": "code",
   "execution_count": null,
   "id": "79ed63e5-6914-410d-83a8-2564afe25bab",
   "metadata": {},
   "outputs": [],
   "source": [
    "men = train.query('Sex == \"male\"')['Survived']\n",
    "men_ratio = sum(men) / len(men)\n",
    "men_ratio"
   ]
  },
  {
   "cell_type": "code",
   "execution_count": null,
   "id": "abd856fb-2897-4847-a0f1-e18d50575923",
   "metadata": {},
   "outputs": [],
   "source": []
  },
  {
   "cell_type": "code",
   "execution_count": null,
   "id": "4fd2a6ce-b87a-46de-b7ce-2b9ea309c0dd",
   "metadata": {},
   "outputs": [],
   "source": [
    "sns.catplot(data=train, x='Pclass', col='Survived', hue='Sex', kind='count')"
   ]
  },
  {
   "cell_type": "markdown",
   "id": "946ca4b4-b49a-49c0-b97f-43f73ec6f41b",
   "metadata": {},
   "source": [
    "##### 4.2.2 Name"
   ]
  },
  {
   "cell_type": "code",
   "execution_count": null,
   "id": "bb0283b9-fdcb-469a-bdd7-e1264edd77e4",
   "metadata": {},
   "outputs": [],
   "source": [
    "train.Name.isnull().sum()"
   ]
  },
  {
   "cell_type": "code",
   "execution_count": null,
   "id": "4205e9c4-efa2-46db-a478-1612b89d9ec1",
   "metadata": {},
   "outputs": [],
   "source": [
    "train.Name.nunique()"
   ]
  },
  {
   "cell_type": "markdown",
   "id": "c96815b0-1088-4426-affc-c4681a5bf45b",
   "metadata": {},
   "source": [
    "Names wont tell us anything at this stage, but we clearly see that there are titles in each name like: \"Mr\" and \"Miss\" or \"Master\". I think this will be usefull for replacing Nan values in age column, as well as it might be interesting feature to engineer in feature engineering part of this project."
   ]
  },
  {
   "cell_type": "markdown",
   "id": "4743a437-e201-4f4a-b647-5dcf29a19916",
   "metadata": {},
   "source": [
    "##### 4.2.3 Sex"
   ]
  },
  {
   "cell_type": "code",
   "execution_count": null,
   "id": "652a6130-6f70-432d-b407-a75e932de643",
   "metadata": {},
   "outputs": [],
   "source": [
    "train.Sex.isnull().sum()"
   ]
  },
  {
   "cell_type": "code",
   "execution_count": null,
   "id": "e96571c0-5181-4786-8fa0-10bec469a190",
   "metadata": {},
   "outputs": [],
   "source": [
    "train.Sex.value_counts()"
   ]
  },
  {
   "cell_type": "code",
   "execution_count": null,
   "id": "ff9ba7d0-6ffd-4d89-975d-ebbddc1cbf90",
   "metadata": {},
   "outputs": [],
   "source": [
    "survival_by_sex = train.groupby('Sex')['Survived'].mean()\n",
    "survival_by_sex"
   ]
  },
  {
   "cell_type": "code",
   "execution_count": null,
   "id": "e9936166-c48f-4d48-9116-fb40497ce586",
   "metadata": {},
   "outputs": [],
   "source": [
    "sns.barplot(data=train, x='Sex', y='Survived')"
   ]
  },
  {
   "cell_type": "code",
   "execution_count": null,
   "id": "a580458a-e49e-44d5-952b-f6c3ee2acffe",
   "metadata": {},
   "outputs": [],
   "source": [
    "sns.catplot(data=train, x='Sex', y='Survived', hue='Pclass', kind='bar')"
   ]
  },
  {
   "cell_type": "markdown",
   "id": "67b5f529-921c-41f8-bd5d-5ac2a8a5242b",
   "metadata": {},
   "source": [
    "We can clearly see that overall women had highest survival rate, especially those from first and second class. We can assume that when we fill Age NaN's we can get even better picture with enginnered feature \"children\" that we will separate from both male and female features."
   ]
  },
  {
   "cell_type": "markdown",
   "id": "7ce23594-06cc-44dd-8bc8-79dcbc1a9510",
   "metadata": {},
   "source": [
    "##### 4.2.4 Cabin"
   ]
  },
  {
   "cell_type": "code",
   "execution_count": null,
   "id": "5e7de632-ac00-4c65-b74c-0c29821370db",
   "metadata": {},
   "outputs": [],
   "source": [
    "train['Cabin'] = train['Cabin'].astype(str)\n",
    "test['Cabin'] = test['Cabin'].astype(str)"
   ]
  },
  {
   "cell_type": "code",
   "execution_count": null,
   "id": "c41b2bf8-fe09-4187-bd49-0d4b4abcc821",
   "metadata": {
    "scrolled": true
   },
   "outputs": [],
   "source": [
    "train.query('Cabin.notnull()').groupby('Cabin')['Survived'].mean()"
   ]
  },
  {
   "cell_type": "markdown",
   "id": "b8329625-9f57-4f0c-bb94-3d113629e4f5",
   "metadata": {},
   "source": [
    "In Feature engineering part I will try to use cabin feature to vreate a new one."
   ]
  },
  {
   "cell_type": "markdown",
   "id": "f6cd4c77-c263-49e8-b1ec-1a45c7237305",
   "metadata": {},
   "source": [
    "##### 4.2.5 Embarked"
   ]
  },
  {
   "cell_type": "code",
   "execution_count": null,
   "id": "d5bf7c6b-7e47-433f-a9ab-5a9c320e665e",
   "metadata": {},
   "outputs": [],
   "source": [
    "train.Embarked.value_counts()"
   ]
  },
  {
   "cell_type": "code",
   "execution_count": null,
   "id": "c6ea953d-735d-4391-a3b3-b63612b3ad3d",
   "metadata": {},
   "outputs": [],
   "source": [
    "train.Embarked.isnull().sum()"
   ]
  },
  {
   "cell_type": "code",
   "execution_count": null,
   "id": "c38d975a-d5fc-4929-8a03-f752aab12002",
   "metadata": {},
   "outputs": [],
   "source": [
    "train.groupby('Embarked')['Survived'].mean()"
   ]
  },
  {
   "cell_type": "code",
   "execution_count": null,
   "id": "de26ee45-2c9a-4785-99b1-48f0eff49144",
   "metadata": {},
   "outputs": [],
   "source": [
    "sns.catplot(data=train, x='Embarked', col='Survived', hue='Pclass' , kind='count' )"
   ]
  },
  {
   "cell_type": "markdown",
   "id": "b28eef29-2968-4c9c-b971-5da9ced6fb1a",
   "metadata": {},
   "source": [
    "##### 4.3.5 Ticket"
   ]
  },
  {
   "cell_type": "code",
   "execution_count": null,
   "id": "04bbc7ca-a8a4-4d1e-8166-62d8ccf1eabc",
   "metadata": {},
   "outputs": [],
   "source": []
  },
  {
   "cell_type": "code",
   "execution_count": null,
   "id": "2c0f4e90-f654-4d83-89e7-2eaa8ad9acfd",
   "metadata": {},
   "outputs": [],
   "source": []
  },
  {
   "cell_type": "code",
   "execution_count": null,
   "id": "0ca9d099-da73-4d21-8a99-75dd5ddc341b",
   "metadata": {},
   "outputs": [],
   "source": []
  },
  {
   "cell_type": "code",
   "execution_count": null,
   "id": "4d891837-da5b-4cd6-adb5-e05598267b75",
   "metadata": {},
   "outputs": [],
   "source": []
  },
  {
   "cell_type": "code",
   "execution_count": null,
   "id": "8f08bbec-9903-42fa-ab47-4f724f2d0daf",
   "metadata": {},
   "outputs": [],
   "source": []
  },
  {
   "cell_type": "code",
   "execution_count": null,
   "id": "13043812-26be-4459-b58c-df4d66a10eb4",
   "metadata": {},
   "outputs": [],
   "source": []
  },
  {
   "cell_type": "code",
   "execution_count": null,
   "id": "a9f30aec-fc90-46ce-a771-99c1d27e3b56",
   "metadata": {},
   "outputs": [],
   "source": []
  },
  {
   "cell_type": "code",
   "execution_count": null,
   "id": "898b6b45-33a5-48d8-9c94-14c0470ee9ab",
   "metadata": {},
   "outputs": [],
   "source": []
  },
  {
   "cell_type": "code",
   "execution_count": null,
   "id": "b625729d-abed-4cd1-b2d1-5adcee670198",
   "metadata": {},
   "outputs": [],
   "source": []
  },
  {
   "cell_type": "markdown",
   "id": "f2c48578-9c2f-4792-8ddd-d79c8401a5a5",
   "metadata": {},
   "source": [
    "##### 4.3 Numerical features.\n",
    "* 4.3.1 Detecting and removing outliers\n",
    "* 4.3.2 Age - num\n",
    "* 4.3.3 SibSp - num\n",
    "* 4.3.4 Parch - num\n",
    "* 4.3.5 Fare - num"
   ]
  },
  {
   "cell_type": "markdown",
   "id": "6cfcbc6e-0830-4f35-9859-7b08c535f2cc",
   "metadata": {},
   "source": [
    "##### 4.3.1 Detecting and removing outliers."
   ]
  },
  {
   "cell_type": "code",
   "execution_count": null,
   "id": "cce312e6-03a8-48b1-bb17-5a004243ab75",
   "metadata": {},
   "outputs": [],
   "source": [
    "train.head()"
   ]
  },
  {
   "cell_type": "code",
   "execution_count": null,
   "id": "18a0b462-3361-449f-a47d-1f6808827111",
   "metadata": {},
   "outputs": [],
   "source": [
    "def detect_outliers(df, n, features):\n",
    "    outlier_indices = []\n",
    "    for col in features:\n",
    "        Q1 = np.percentile(df[col], 25)\n",
    "        Q3 = np.percentile(df[col], 75)\n",
    "        IQR = Q3 - Q1\n",
    "        outlier_step = 1.5 * IQR\n",
    "        outlier_list_col = df[(df[col] < Q1 - outlier_step) | (df[col] > Q3 + outlier_step)].index\n",
    "        outlier_indices.extend(outlier_list_col)\n",
    "    outlier_indices = Counter(outlier_indices)\n",
    "    multiple_outliers = list(key for key, value in outlier_indices.items() if value > n)\n",
    "    return multiple_outliers\n",
    "\n",
    "outliers = detect_outliers(train, 2, ['Age', 'SibSp', 'Parch', 'Fare'])"
   ]
  },
  {
   "cell_type": "code",
   "execution_count": null,
   "id": "00d0df28-9165-4fae-92a3-3729634d6262",
   "metadata": {},
   "outputs": [],
   "source": [
    "outliers"
   ]
  },
  {
   "cell_type": "code",
   "execution_count": null,
   "id": "cb11f4ef-71fb-49a5-9113-06f70a939a47",
   "metadata": {},
   "outputs": [],
   "source": [
    "print(len(train))\n",
    "train = train.drop(outliers, axis=0).reset_index(drop=True)\n",
    "len(train)"
   ]
  },
  {
   "cell_type": "code",
   "execution_count": null,
   "id": "9d98fd19-9f57-4648-a2df-0334d4c2ec3e",
   "metadata": {
    "scrolled": true
   },
   "outputs": [],
   "source": [
    "train.query('Pclass == 1 & Fare > 150').sort_values('Fare', ascending=False)"
   ]
  },
  {
   "cell_type": "markdown",
   "id": "86f16b0a-bf27-4155-9c60-c61b4e0fd750",
   "metadata": {},
   "source": [
    "##### 4.3.2 Age."
   ]
  },
  {
   "cell_type": "code",
   "execution_count": null,
   "id": "37731a01-dca7-4268-ad9f-523a1b485f90",
   "metadata": {},
   "outputs": [],
   "source": [
    "train.Age.isnull().sum()"
   ]
  },
  {
   "cell_type": "code",
   "execution_count": null,
   "id": "6c7cc880-e297-4bd1-a9c1-69854014490e",
   "metadata": {},
   "outputs": [],
   "source": [
    "sns.displot(data=train, x='Age', kde=True, label='Skewness: %.2f'%(train['Age'].skew()))\n",
    "plt.legend(loc='best')"
   ]
  },
  {
   "cell_type": "code",
   "execution_count": null,
   "id": "daee6fbb-196a-4273-b8af-a8d4600a6f44",
   "metadata": {},
   "outputs": [],
   "source": [
    "train.groupby('Age')['Survived'].mean()"
   ]
  },
  {
   "cell_type": "code",
   "execution_count": null,
   "id": "30091f3a-124a-4f4d-afa8-c05552f270df",
   "metadata": {},
   "outputs": [],
   "source": [
    "g = sns.FacetGrid(train, col='Survived')\n",
    "\n",
    "g.map(sns.distplot, 'Age')"
   ]
  },
  {
   "cell_type": "markdown",
   "id": "29fbce80-5747-4ff1-b4e7-e5b7b6db813f",
   "metadata": {},
   "source": [
    "##### 4.3.3 SibSp."
   ]
  },
  {
   "cell_type": "code",
   "execution_count": null,
   "id": "881dd50b-4eff-4550-93ce-b61432afeab8",
   "metadata": {},
   "outputs": [],
   "source": [
    "train.SibSp.value_counts(dropna=False)"
   ]
  },
  {
   "cell_type": "code",
   "execution_count": null,
   "id": "807c4c79-148b-4a3d-95f0-c0d8abd6bc7a",
   "metadata": {},
   "outputs": [],
   "source": [
    "train.SibSp.isnull().sum()"
   ]
  },
  {
   "cell_type": "code",
   "execution_count": null,
   "id": "4fbe1250-62e4-4a49-a91b-ea24eff6b6fc",
   "metadata": {},
   "outputs": [],
   "source": [
    "train.groupby('SibSp')['Survived'].mean()"
   ]
  },
  {
   "cell_type": "code",
   "execution_count": null,
   "id": "9ca1cff3-7392-4819-81b6-e8e863d8cbb2",
   "metadata": {},
   "outputs": [],
   "source": [
    "sns.barplot(data=train, x='SibSp', y='Survived')\n",
    "plt.show()"
   ]
  },
  {
   "cell_type": "markdown",
   "id": "9dc1497f-0bf6-4937-8f89-9b314424aacb",
   "metadata": {},
   "source": [
    "#### 4.3.4 Parch."
   ]
  },
  {
   "cell_type": "code",
   "execution_count": null,
   "id": "8cb30cd1-2ea1-4d11-a02c-ef5f22fad41b",
   "metadata": {},
   "outputs": [],
   "source": [
    "train.Parch.value_counts(dropna=False)"
   ]
  },
  {
   "cell_type": "code",
   "execution_count": null,
   "id": "23ac3683-a53b-4dc0-bcb7-229e4aafc492",
   "metadata": {},
   "outputs": [],
   "source": [
    "train.Parch.isnull().sum()"
   ]
  },
  {
   "cell_type": "code",
   "execution_count": null,
   "id": "2a06e23a-771c-4294-8753-0c6f0825648e",
   "metadata": {},
   "outputs": [],
   "source": [
    "train.groupby('Parch')['Survived'].mean()"
   ]
  },
  {
   "cell_type": "code",
   "execution_count": null,
   "id": "e4980412-b03e-4a93-b4ee-60bddbc12f82",
   "metadata": {},
   "outputs": [],
   "source": [
    "sns.barplot(data=train, x='Parch', y='Survived')\n",
    "plt.show()"
   ]
  },
  {
   "cell_type": "code",
   "execution_count": null,
   "id": "84ef6833-1072-4606-bcb3-d0b80da16bef",
   "metadata": {},
   "outputs": [],
   "source": [
    "sns.catplot(data=train, x='Parch', col='Survived', hue='Pclass', kind='count')"
   ]
  },
  {
   "cell_type": "markdown",
   "id": "1d0f5b0b-5acf-432f-87fa-69c02444400c",
   "metadata": {},
   "source": [
    "##### 4.3.5 Fare"
   ]
  },
  {
   "cell_type": "code",
   "execution_count": null,
   "id": "b3e4003f-9f97-4b86-b934-ecaaf610572e",
   "metadata": {},
   "outputs": [],
   "source": [
    "sns.displot(data=train, x='Fare', kde='True', label='Skewness: %.2f'%(train['Fare'].skew()))\n",
    "plt.legend(loc='best')"
   ]
  },
  {
   "cell_type": "markdown",
   "id": "9a65fd33-55fc-4b01-a28d-075542bc6dea",
   "metadata": {},
   "source": [
    "### 5. Data preprocesing\r\n",
    "Data preprocesing is the process of getting our dataset ready for model training.\r\n",
    "In this section we will perform the following preprocessing steps:* 5.1\n",
    "\r\n",
    "* Drop and fill missing va in train and test datasets.\n",
    "*  5.1.1 concat datasets train and test.\n",
    "*      5.1.1.1 Embarked.\n",
    "*      5.1.1.2 Age.ati 5.1.2 on\r\n",
    "* Feature engin.\n",
    "*      5.1.2 \"Title\"eering\r\n",
    "* Feature e\n",
    "* Data transformationncoding"
   ]
  },
  {
   "cell_type": "markdown",
   "id": "f3160b32-334a-40be-8ef0-46492e12c506",
   "metadata": {},
   "source": [
    "##### 5.1 Drop and fill missing values in train and test datasets.\n",
    "*  5.1.1 Train dataset.\n"
   ]
  },
  {
   "cell_type": "markdown",
   "id": "0833bd7f-6631-44ed-9ff6-0198e96142e1",
   "metadata": {},
   "source": [
    "##### 5.1.1.1 Embarked."
   ]
  },
  {
   "cell_type": "code",
   "execution_count": null,
   "id": "bf5901b2-77f2-4429-9329-af1432dc215c",
   "metadata": {},
   "outputs": [],
   "source": [
    "mode = train.Embarked.dropna().mode()[0]\n",
    "mode"
   ]
  },
  {
   "cell_type": "code",
   "execution_count": null,
   "id": "b3b2717c-d8ef-4e6f-b94c-8b067b878256",
   "metadata": {},
   "outputs": [],
   "source": [
    "train['Embarked'] = train.Embarked.fillna(mode)"
   ]
  },
  {
   "cell_type": "code",
   "execution_count": null,
   "id": "a3027725-778a-42ef-b896-59a452407e38",
   "metadata": {},
   "outputs": [],
   "source": [
    "median = test.Fare.dropna().median()\n",
    "median"
   ]
  },
  {
   "cell_type": "code",
   "execution_count": null,
   "id": "92987042-de3c-4017-aa55-9e05bab4efaa",
   "metadata": {},
   "outputs": [],
   "source": [
    "test.Fare = test.Fare.fillna(median)"
   ]
  },
  {
   "cell_type": "code",
   "execution_count": null,
   "id": "dd9f4ba7-77e9-4b3c-951a-093917ddc25f",
   "metadata": {},
   "outputs": [],
   "source": [
    "combine = pd.concat([train,test], axis=0).reset_index(drop=True)"
   ]
  },
  {
   "cell_type": "code",
   "execution_count": null,
   "id": "34303f4d-0a89-457d-8c8e-ed6d347ab250",
   "metadata": {},
   "outputs": [],
   "source": [
    "combine['Sex'] = combine['Sex'].map({'male': 0, 'female': 1})\n"
   ]
  },
  {
   "cell_type": "code",
   "execution_count": null,
   "id": "0928d9ba-2487-4d88-9b36-2f599aa2b4c2",
   "metadata": {},
   "outputs": [],
   "source": [
    "combine.head()"
   ]
  },
  {
   "cell_type": "code",
   "execution_count": null,
   "id": "43f27436-bc8c-41b9-a4ed-2225533e9baf",
   "metadata": {},
   "outputs": [],
   "source": [
    "sns.heatmap(combine.drop(['Survived', 'Name', 'PassengerId','Ticket', 'Cabin', 'Fare', 'Embarked'], axis=1).corr(), annot=True, fmt='.2f', cmap='coolwarm')"
   ]
  },
  {
   "cell_type": "markdown",
   "id": "ad2fb88b-6a89-49cd-8269-5d65e18e4ef7",
   "metadata": {},
   "source": [
    "##### 5.1.1.2 Age."
   ]
  },
  {
   "cell_type": "code",
   "execution_count": null,
   "id": "d55d71f4-9eba-4c66-acdf-16ad18037869",
   "metadata": {},
   "outputs": [],
   "source": [
    "combine['Title'] = [title.split(',')[1].split('.')[0].strip() for title in combine.Name]"
   ]
  },
  {
   "cell_type": "code",
   "execution_count": null,
   "id": "54367dd2-1230-41e0-945b-5d6e3b6b5938",
   "metadata": {},
   "outputs": [],
   "source": [
    "combine.Title.value_counts()"
   ]
  },
  {
   "cell_type": "code",
   "execution_count": null,
   "id": "f4f9f961-c3b5-4011-a1ac-4286391cd770",
   "metadata": {
    "scrolled": true
   },
   "outputs": [],
   "source": [
    "nan_idx = combine.query('Age.isnull()').index\n",
    "nan_idx"
   ]
  },
  {
   "cell_type": "code",
   "execution_count": null,
   "id": "1a8151a2-78f2-48ae-a5c5-bd78f0ccfc17",
   "metadata": {},
   "outputs": [],
   "source": [
    "sns.catplot(data=combine, x='Age', y='Title',col='Pclass', kind='bar')"
   ]
  },
  {
   "cell_type": "code",
   "execution_count": null,
   "id": "4f4d7268-77bc-4983-9ff2-6ea70f315262",
   "metadata": {},
   "outputs": [],
   "source": [
    "# no_people = []\n",
    "# for idx in nan_idx:\n",
    "#     age_val = train['Age'][(train['Title'] == train.loc[idx, 'Title'])\n",
    "#                             & (train['Pclass'] == train.loc[idx,'Pclass'])\n",
    "#                             & (train['SibSp'] == train.loc[idx,'SibSp'])\n",
    "#                             & (train['Parch'] == train.loc[idx,'Parch'])]\n",
    "    \n",
    "#     plt.bar(range(len(age_val)), age_val)\n",
    "#     plt.title(f'Ages for Index {idx}')\n",
    "#     plt.xlabel('Person Index')\n",
    "#     plt.ylabel('Age')\n",
    "#     plt.show()\n",
    "#     no_people.append(age_val)\n",
    "\n"
   ]
  },
  {
   "cell_type": "code",
   "execution_count": null,
   "id": "c67de31f-9e0b-454b-93ed-a629f47bfde1",
   "metadata": {},
   "outputs": [],
   "source": [
    "for idx in nan_idx:\n",
    "    median_age = combine['Age'][(combine['Title'] == combine.loc[idx, 'Title'])].median()\n",
    "    sibsp_val = combine.loc[idx, 'SibSp']\n",
    "    pclass_val = combine.loc[idx, 'Pclass']\n",
    "    predicted_age = combine['Age'][ (combine['Title'] == combine.loc[idx, 'Title'])\n",
    "                                & (combine['Pclass'] == pclass_val)\n",
    "                                & (combine['SibSp'] == sibsp_val)\n",
    "                                & (combine['Parch'] == combine.loc[idx,'Parch'])].median()\n",
    "    if np.isnan(predicted_age):\n",
    "        combine.loc[idx,'Age'] = median_age\n",
    "        \n",
    "    else:\n",
    "        combine.loc[idx,'Age'] = predicted_age\n",
    "\n",
    "    "
   ]
  },
  {
   "cell_type": "code",
   "execution_count": null,
   "id": "093e4c27-1a96-4a8f-bc26-24271310afa8",
   "metadata": {},
   "outputs": [],
   "source": [
    "combine.Age.isnull().sum()"
   ]
  },
  {
   "cell_type": "code",
   "execution_count": null,
   "id": "36d8a7d2-c73e-46f5-93db-7065dc20d766",
   "metadata": {},
   "outputs": [],
   "source": [
    "sns.displot(data=combine, x='Age', kde=True, label='Skewness: %.2f'%(train['Age'].skew()))\n",
    "plt.legend(loc='best')"
   ]
  },
  {
   "cell_type": "code",
   "execution_count": null,
   "id": "9707da96-196c-430f-b40b-546028ca9114",
   "metadata": {},
   "outputs": [],
   "source": []
  },
  {
   "cell_type": "markdown",
   "id": "db002280-bd99-44c2-a44e-d8c3e8ccefa6",
   "metadata": {},
   "source": [
    "#####  5.1.2 Feature engineering.\n",
    "*      5.1.2 \"Title\" - Alredy created for filling NaN values in Age feature."
   ]
  },
  {
   "cell_type": "code",
   "execution_count": null,
   "id": "6151e134-f512-4edf-a383-625326e1b40a",
   "metadata": {},
   "outputs": [],
   "source": [
    "combine['Title'] = combine['Title'].replace(['Mlle', 'Ms'], 'Miss')\n",
    "combine['Title'] = combine['Title'].replace('Mme', 'Mrs')"
   ]
  },
  {
   "cell_type": "code",
   "execution_count": null,
   "id": "92badbb1-3d33-459e-aa5e-3ce51c732a0c",
   "metadata": {},
   "outputs": [],
   "source": [
    "combine['Title'] = combine['Title'].replace(['Don','Capt','Jonkheer'], 'Mr')\n",
    "combine['Title'] = combine['Title'].replace(['Dona','Lady'], 'Mrs')\n",
    "combine['Title'] = combine['Title'].replace(['the Countess','Sir','Major','Col'], 'Rare')"
   ]
  },
  {
   "cell_type": "code",
   "execution_count": null,
   "id": "1429fccb-1894-45fa-a6c9-30229ee6f08c",
   "metadata": {},
   "outputs": [],
   "source": [
    "combine.Title.value_counts()"
   ]
  },
  {
   "cell_type": "code",
   "execution_count": null,
   "id": "831325df-cf14-45c8-b3c9-9d4019604a4e",
   "metadata": {},
   "outputs": [],
   "source": [
    "combine[['Title','Survived']].groupby('Title', as_index=False).mean().sort_values('Survived', ascending=False)"
   ]
  },
  {
   "cell_type": "code",
   "execution_count": null,
   "id": "467a3d6d-e538-4b6e-8c61-670c6eea2a4d",
   "metadata": {},
   "outputs": [],
   "source": [
    "combine.query('Cabin != \"nan\"  & Pclass == 3')\n",
    "combine['Cabin_letter'] = combine['Cabin'].str.extract(r'([A-Za-z])')\n",
    "combine['Cabin_letter'].value_counts()\n"
   ]
  },
  {
   "cell_type": "code",
   "execution_count": null,
   "id": "47493140-9995-4346-a3f8-845a702dd993",
   "metadata": {},
   "outputs": [],
   "source": [
    "combine.groupby('Cabin_letter')['Survived'].mean().sort_values(ascending=False)\n"
   ]
  },
  {
   "cell_type": "code",
   "execution_count": null,
   "id": "62cd6692-50d2-4ea5-a1b2-872309b3c416",
   "metadata": {},
   "outputs": [],
   "source": [
    "combine[['Cabin_letter', 'Sex']].groupby(['Cabin_letter', 'Sex']).size().unstack(fill_value=0)\n",
    "\n"
   ]
  },
  {
   "cell_type": "code",
   "execution_count": null,
   "id": "26c49adb-6011-49bd-93e9-ea4265893ca0",
   "metadata": {},
   "outputs": [],
   "source": [
    "combine.groupby(['Cabin_letter', 'Pclass'])['Fare'].mean().sort_values(ascending=False)"
   ]
  },
  {
   "cell_type": "code",
   "execution_count": null,
   "id": "b46f10c5-9ba6-426e-a212-ac7672963425",
   "metadata": {},
   "outputs": [],
   "source": [
    "sns.catplot(data=combine, x='Cabin_letter', y='Survived', hue='Sex', kind='bar')"
   ]
  },
  {
   "cell_type": "code",
   "execution_count": null,
   "id": "05a7628d-227e-4567-bfe5-b9d27e6c0b01",
   "metadata": {},
   "outputs": [],
   "source": [
    "combine = combine.drop(['PassengerId', 'Name', 'Cabin','Ticket'],axis=1)"
   ]
  },
  {
   "cell_type": "code",
   "execution_count": null,
   "id": "728f451f-2e90-4ab1-92ba-6cba06c85415",
   "metadata": {},
   "outputs": [],
   "source": [
    "sns.catplot(data=train, x='Sex', y='Age', col='Survived', hue='Pclass', kind='box')"
   ]
  },
  {
   "cell_type": "code",
   "execution_count": null,
   "id": "cdfcfc82-3575-4df5-a421-229927e32db8",
   "metadata": {},
   "outputs": [],
   "source": [
    "combine['Age'] = combine['Age'].astype(int)\n",
    "combine['Pclass'] = combine['Pclass'].astype(int)"
   ]
  },
  {
   "cell_type": "code",
   "execution_count": null,
   "id": "097f76a2-02c0-4148-a176-109cc5949819",
   "metadata": {},
   "outputs": [],
   "source": [
    "combine['Age/Pclass'] = combine['Age'] / combine['Pclass']"
   ]
  },
  {
   "cell_type": "code",
   "execution_count": null,
   "id": "121b3f37-ccf2-4d6a-a3c8-e74205a178d4",
   "metadata": {},
   "outputs": [],
   "source": [
    "combine.head()"
   ]
  },
  {
   "cell_type": "code",
   "execution_count": null,
   "id": "f09e56a0-5a2d-44f2-9df3-e477665a3060",
   "metadata": {},
   "outputs": [],
   "source": [
    "combine['Family_size'] = combine.SibSp + combine.Parch + 1\n"
   ]
  },
  {
   "cell_type": "code",
   "execution_count": null,
   "id": "2a7ac959-e9d0-4071-8613-7799e572ace3",
   "metadata": {
    "scrolled": true
   },
   "outputs": [],
   "source": [
    "combine['Family_size'].value_counts()"
   ]
  },
  {
   "cell_type": "code",
   "execution_count": null,
   "id": "9eef8b10-a96c-414b-8a28-75c8c6494ca0",
   "metadata": {},
   "outputs": [],
   "source": [
    "combine['Is_Alone'] = 0\n",
    "combine.loc[combine['Family_size']==1, 'Is_Alone'] = 1\n",
    "combine = combine.drop(['SibSp', 'Parch', 'Family_size'],axis=1)"
   ]
  },
  {
   "cell_type": "markdown",
   "id": "478116bb-23f5-4d07-a09b-cf3daf9c651d",
   "metadata": {},
   "source": [
    "##### 6. Modeling.\n",
    "* 6.1 Encoding categorical values.\n",
    "* 6.2 Scaling numerical values.\n",
    "* 6.3 Applying ML models with evaluation (score, f1, precision, recall).\n",
    "    * Logistic Regression.\n",
    "    * SVC Support Vector Machines.\n",
    "    * Linear SVC.\n",
    "    * SGD - Stochastic Gradient Decent.\n",
    "    * K- Nearest Neigbours.\n",
    "    * GNB - Gaussian Naive Base.\n",
    "    * Perceptron.\n",
    "    * DTC - Decision Tree CLassifier.\n",
    "    * RF - Random Forest (ensable method).\n",
    "    * Catboost.\n",
    "    * Adaboost.\n",
    "* 6.4 Compering all models & chosing the best performing one.\n",
    "* 6.5 One more look at features, engineered features, Ticket, trying new features and reload models.\n",
    "* 6.6 Creating a pipeline with selected models, applying PCA, Select-K features, hyperparameter tuning and cross validation."
   ]
  },
  {
   "cell_type": "markdown",
   "id": "16f301c1-aa1a-4bdc-8e47-ed20719aef52",
   "metadata": {},
   "source": [
    "##### 6.1 Encoding categorical values."
   ]
  },
  {
   "cell_type": "code",
   "execution_count": null,
   "id": "df2eb431-1f74-46f1-b1de-bf7ce218e13a",
   "metadata": {},
   "outputs": [],
   "source": [
    "combine = pd.get_dummies(combine, columns=['Title'], dtype=int)\n",
    "combine = pd.get_dummies(combine, columns=['Embarked'], prefix='Em', dtype=int)\n",
    "combine = pd.get_dummies(combine, columns=['Cabin_letter'],prefix='Cl',dtype=int)"
   ]
  },
  {
   "cell_type": "code",
   "execution_count": null,
   "id": "b605853e-b606-4fd5-9b70-9a161d0028eb",
   "metadata": {
    "scrolled": true
   },
   "outputs": [],
   "source": [
    "combine.head()"
   ]
  },
  {
   "cell_type": "markdown",
   "id": "2063f34e-80d6-4a50-8960-7ba5e10c21a4",
   "metadata": {},
   "source": [
    "##### 6.2 Scaling numerical values."
   ]
  },
  {
   "cell_type": "code",
   "execution_count": null,
   "id": "10124481-596b-4f9c-8276-7583be1a2f82",
   "metadata": {},
   "outputs": [],
   "source": [
    "from sklearn.preprocessing import MinMaxScaler"
   ]
  },
  {
   "cell_type": "code",
   "execution_count": null,
   "id": "743bd365-29e3-407c-8ffc-566b6aa3e206",
   "metadata": {},
   "outputs": [],
   "source": [
    "scaler = MinMaxScaler()"
   ]
  },
  {
   "cell_type": "code",
   "execution_count": null,
   "id": "8e1dead6-ce9e-498a-a54c-04e9674fc8aa",
   "metadata": {},
   "outputs": [],
   "source": [
    "features_selected = combine[['Age', 'Fare','Age/Pclass']]"
   ]
  },
  {
   "cell_type": "code",
   "execution_count": null,
   "id": "f0c248a2-3b70-4abb-948d-a09495f62182",
   "metadata": {},
   "outputs": [],
   "source": [
    "combine[['Age', 'Fare', 'Age/Pclass']] = scaler.fit_transform(features_selected)"
   ]
  },
  {
   "cell_type": "code",
   "execution_count": null,
   "id": "5a8fe5cc-38b9-40ed-8ca6-f0bd3173e852",
   "metadata": {
    "scrolled": true
   },
   "outputs": [],
   "source": [
    "combine.head()"
   ]
  },
  {
   "cell_type": "code",
   "execution_count": null,
   "id": "96f9899d-c591-4bd3-900a-41011aeea522",
   "metadata": {},
   "outputs": [],
   "source": [
    "train = combine[:len(train)]\n",
    "test = combine[len(train):]"
   ]
  },
  {
   "cell_type": "code",
   "execution_count": null,
   "id": "fde77fd4-dccd-45e1-8328-e8fdd7546352",
   "metadata": {},
   "outputs": [],
   "source": [
    "train.shape"
   ]
  },
  {
   "cell_type": "code",
   "execution_count": null,
   "id": "708a73fa-b08f-4951-bdc9-bb5bf14864ba",
   "metadata": {},
   "outputs": [],
   "source": [
    "test.shape"
   ]
  },
  {
   "cell_type": "code",
   "execution_count": null,
   "id": "ed1feef5-65e1-4143-9137-7a647fff755b",
   "metadata": {},
   "outputs": [],
   "source": [
    "features = train.drop('Survived', axis=1)\n",
    "labels = train['Survived']\n",
    "s_test = test"
   ]
  },
  {
   "cell_type": "code",
   "execution_count": null,
   "id": "97225c84-a662-4e31-9cf9-cd4123795bc6",
   "metadata": {},
   "outputs": [],
   "source": [
    "from sklearn.model_selection import train_test_split\n",
    "\n",
    "X_train, X_test, y_train, y_test = train_test_split(features, labels, test_size=0.3, random_state=42)"
   ]
  },
  {
   "cell_type": "markdown",
   "id": "1fd71b30-c1c1-40b0-a005-8242f6bc83ef",
   "metadata": {},
   "source": [
    "##### 6.3 Applying ML models with evaluation (score, f1, precision, recall)."
   ]
  },
  {
   "cell_type": "code",
   "execution_count": null,
   "id": "394ebc67-29aa-4992-87aa-6075453ec298",
   "metadata": {},
   "outputs": [],
   "source": [
    "from sklearn.linear_model import LogisticRegression\n",
    "from sklearn.metrics import f1_score, recall_score, precision_score\n",
    "PERF_FORMAT_STRING =\" \\tAccuracy: {:>0.{round}f}\\tF1_score: {:>0.{round}f}\\tPrecision: {:>0.{round}f}\\tRecall: {:>0.{round}f} \""
   ]
  },
  {
   "cell_type": "code",
   "execution_count": null,
   "id": "8a53f91f-99e6-42db-a0e6-56914d841abe",
   "metadata": {},
   "outputs": [],
   "source": [
    "lr_clf = LogisticRegression()\n",
    "lr_clf.fit(X_train, y_train)\n",
    "lr_pred = lr_clf.predict(X_test)\n",
    "lr_acc = lr_clf.score(X_train, y_train)\n",
    "lr_f1_score = f1_score(y_test, lr_pred)\n",
    "lr_precision = precision_score(y_test, lr_pred)\n",
    "lr_recall = recall_score(y_test, lr_pred)\n",
    "print(PERF_FORMAT_STRING.format(lr_acc, lr_f1_score, lr_precision, lr_recall, round = 4))\n"
   ]
  },
  {
   "cell_type": "code",
   "execution_count": null,
   "id": "1d446f5b-3bec-436d-9f16-9989a474c89f",
   "metadata": {},
   "outputs": [],
   "source": [
    "from sklearn.svm import SVC\n",
    "svc_clf = SVC()\n",
    "svc_clf.fit(X_train, y_train)\n",
    "svc_pred = svc_clf.predict(X_test)\n",
    "svc_acc = svc_clf.score(X_train, y_train)\n",
    "svc_f1_score = f1_score(y_test, svc_pred)\n",
    "svc_precision = precision_score(y_test, svc_pred)\n",
    "svc_recall = recall_score(y_test, svc_pred)\n",
    "print(PERF_FORMAT_STRING.format(svc_acc, svc_f1_score, svc_precision, svc_recall, round = 4))"
   ]
  },
  {
   "cell_type": "code",
   "execution_count": null,
   "id": "c77538f2-b8d8-4eec-871e-b2a6b2320981",
   "metadata": {},
   "outputs": [],
   "source": [
    "from sklearn.svm import LinearSVC\n",
    "lsvc_clf = LinearSVC()\n",
    "lsvc_clf.fit(X_train, y_train)\n",
    "lsvc_pred = lsvc_clf.predict(X_test)\n",
    "lsvc_acc = lsvc_clf.score(X_train, y_train)\n",
    "lsvc_f1_score = f1_score(y_test, lsvc_pred)\n",
    "lsvc_precision = precision_score(y_test, lsvc_pred)\n",
    "lsvc_recall =recall_score(y_test, lsvc_pred)\n",
    "print(PERF_FORMAT_STRING.format(lsvc_acc, lsvc_f1_score, lsvc_precision, lsvc_recall, round = 4))"
   ]
  },
  {
   "cell_type": "code",
   "execution_count": null,
   "id": "7ce9d291-cdde-4bf0-ac57-58fe54c11c2d",
   "metadata": {},
   "outputs": [],
   "source": [
    "from sklearn.linear_model import SGDClassifier\n",
    "sgd_clf = SGDClassifier()\n",
    "sgd_clf.fit(X_train, y_train)\n",
    "sgd_pred = lsvc_clf.predict(X_test)\n",
    "sgd_acc = lsvc_clf.score(X_train, y_train)\n",
    "sgd_f1_score = f1_score(y_test, sgd_pred)\n",
    "sgd_precision = precision_score(y_test, sgd_pred)\n",
    "sgd_recall =recall_score(y_test, sgd_pred)\n",
    "print(PERF_FORMAT_STRING.format(sgd_acc, sgd_f1_score, sgd_precision, sgd_recall, round = 4))"
   ]
  },
  {
   "cell_type": "code",
   "execution_count": null,
   "id": "fb1071d8-a158-47b9-9b04-f95f15e8a4c8",
   "metadata": {},
   "outputs": [],
   "source": [
    "from sklearn.neighbors import KNeighborsClassifier\n",
    "knn_clf = KNeighborsClassifier(n_neighbors = 5)\n",
    "knn_clf.fit(X_train, y_train)\n",
    "knn_pred = knn_clf.predict(X_test)\n",
    "knn_acc = knn_clf.score(X_train, y_train)\n",
    "knn_f1_score = f1_score(y_test, knn_pred)\n",
    "knn_precision = precision_score(y_test, knn_pred)\n",
    "knn_recall =recall_score(y_test, knn_pred)\n",
    "print(PERF_FORMAT_STRING.format(knn_acc, knn_f1_score, knn_precision, knn_recall, round = 4))"
   ]
  },
  {
   "cell_type": "code",
   "execution_count": null,
   "id": "7fa5d300-43c4-4928-a978-5099d4af39d5",
   "metadata": {},
   "outputs": [],
   "source": [
    "from sklearn.naive_bayes import GaussianNB\n",
    "gnb_clf = GaussianNB()\n",
    "gnb_clf.fit(X_train, y_train)\n",
    "gnb_pred = gnb_clf.predict(X_test)\n",
    "gnb_acc = gnb_clf.score(X_train, y_train)\n",
    "gnb_f1_score = f1_score(y_test, gnb_pred)\n",
    "gnb_precision = precision_score(y_test, gnb_pred)\n",
    "gnb_recall = recall_score(y_test, gnb_pred)\n",
    "print(PERF_FORMAT_STRING.format(gnb_acc, gnb_f1_score, gnb_precision, gnb_recall, round = 4))"
   ]
  },
  {
   "cell_type": "code",
   "execution_count": null,
   "id": "629dda6b-992c-4cf1-84d2-03681cf6d917",
   "metadata": {},
   "outputs": [],
   "source": [
    "from sklearn.linear_model import Perceptron\n",
    "\n",
    "p_clf = Perceptron()\n",
    "p_clf.fit(X_train, y_train)\n",
    "p_pred = p_clf.predict(X_test)\n",
    "p_acc = gnb_clf.score(X_train, y_train)\n",
    "p_f1_score = f1_score(y_test, p_pred)\n",
    "p_precision = precision_score(y_test, p_pred)\n",
    "p_recall = recall_score(y_test, p_pred)\n",
    "print(PERF_FORMAT_STRING.format(p_acc, p_f1_score, p_precision, p_recall, round = 4))"
   ]
  },
  {
   "cell_type": "code",
   "execution_count": null,
   "id": "0dd510cc-1e19-4e35-afb4-06d35e8c9163",
   "metadata": {},
   "outputs": [],
   "source": [
    "from sklearn.tree import DecisionTreeClassifier\n",
    "dt_clf = DecisionTreeClassifier()\n",
    "dt_clf.fit(X_train, y_train)\n",
    "dt_pred = dt_clf.predict(X_test)\n",
    "dt_acc = gnb_clf.score(X_train, y_train)\n",
    "dt_f1_score = f1_score(y_test, dt_pred)\n",
    "dt_precision = precision_score(y_test, dt_pred)\n",
    "dt_recall = recall_score(y_test, dt_pred)\n",
    "print(PERF_FORMAT_STRING.format(dt_acc, dt_f1_score, dt_precision, dt_recall, round = 4))"
   ]
  },
  {
   "cell_type": "code",
   "execution_count": null,
   "id": "0321bcf4-87fa-4242-8218-f69a6f01eccd",
   "metadata": {},
   "outputs": [],
   "source": [
    "from sklearn.ensemble import RandomForestClassifier\n",
    "rf_clf = RandomForestClassifier()\n",
    "rf_clf.fit(X_train, y_train)\n",
    "rf_pred = dt_clf.predict(X_test)\n",
    "rf_acc = gnb_clf.score(X_train, y_train)\n",
    "rf_f1_score = f1_score(y_test, rf_pred)\n",
    "rf_precision = precision_score(y_test, rf_pred)\n",
    "rf_recall = recall_score(y_test, rf_pred)\n",
    "print(PERF_FORMAT_STRING.format(rf_acc, rf_f1_score, rf_precision, rf_recall, round = 4))"
   ]
  },
  {
   "cell_type": "code",
   "execution_count": null,
   "id": "af9429cd-05de-4c12-92cc-e2e404cf80e4",
   "metadata": {},
   "outputs": [],
   "source": [
    "from catboost import CatBoostClassifier\n",
    "cb_clf = CatBoostClassifier()\n",
    "cb_clf.fit(X_train, y_train)\n",
    "cb_pred = dt_clf.predict(X_test)\n",
    "cb_acc = gnb_clf.score(X_train, y_train)\n",
    "cb_f1_score = f1_score(y_test, cb_pred)\n",
    "cb_precision = precision_score(y_test, cb_pred)\n",
    "cb_recall = recall_score(y_test, cb_pred)\n",
    "print(PERF_FORMAT_STRING.format(cb_acc, cb_f1_score, cb_precision, cb_recall, round = 4))"
   ]
  },
  {
   "cell_type": "code",
   "execution_count": null,
   "id": "99d7963c-b14a-48a1-bdad-efea18ca3651",
   "metadata": {},
   "outputs": [],
   "source": [
    "from sklearn.ensemble import AdaBoostClassifier\n",
    "ab_clf = AdaBoostClassifier()\n",
    "ab_clf.fit(X_train, y_train)\n",
    "ab_pred = dt_clf.predict(X_test)\n",
    "ab_acc = gnb_clf.score(X_train, y_train)\n",
    "ab_f1_score = f1_score(y_test, ab_pred)\n",
    "ab_precision = precision_score(y_test, ab_pred)\n",
    "ab_recall = recall_score(y_test, ab_pred)\n",
    "print(PERF_FORMAT_STRING.format(ab_acc, ab_f1_score, ab_precision, ab_recall, round = 4))"
   ]
  },
  {
   "cell_type": "code",
   "execution_count": null,
   "id": "90c64b1b-0cac-42f7-800b-4363f527678b",
   "metadata": {},
   "outputs": [],
   "source": [
    "models = pd.DataFrame({'Model': ['Logistic Regression', 'SVC Support Vector Machines', 'Linear SVC', 'SGD - Stochastic Gradient Decent',\n",
    "                       'K- Nearest Neigbours', 'GNB - Gaussian Naive Base', 'Perceptron', 'DTC - Decision Tree CLassifier',\n",
    "                       'RF - Random Forest', 'Catboost', 'Adaboost'],\n",
    "                      'Accuracy': [lr_acc, svc_acc, lsvc_acc, sgd_acc, knn_acc, gnb_acc, p_acc, dt_acc, rf_acc, cb_acc, ab_acc],\n",
    "                      'F1':[ lr_f1_score, svc_f1_score, lsvc_f1_score, sgd_f1_score, knn_f1_score, gnb_f1_score, p_f1_score, dt_f1_score, rf_f1_score,\n",
    "                       cb_f1_score, ab_f1_score],\n",
    "                      'Precision': [lr_precision, svc_precision, lsvc_precision, sgd_precision, knn_precision, gnb_precision, p_precision, \n",
    "                       dt_precision, rf_precision, cb_precision, ab_precision],\n",
    "                      'Recall':[ lr_recall, svc_recall, lsvc_recall, sgd_recall, knn_recall, gnb_recall, p_recall, dt_recall, rf_recall,\n",
    "                       cb_recall, ab_recall ]}\n",
    "                     )\n",
    "models.sort_values('F1', ascending=False)"
   ]
  },
  {
   "cell_type": "code",
   "execution_count": null,
   "id": "4e215922-353e-402c-b5fb-65999113d778",
   "metadata": {},
   "outputs": [],
   "source": [
    "from sklearn.model_selection import StratifiedShuffleSplit\n",
    "PERF_FORMAT_STRING =\"\\tAccuracy: {:>0.{round}f}\\tPrecison: {:>0.{round}f}\\tRecall: {:>0.{round}f}\\tF1: {:>0.{round}f}\"\n",
    "def test_classifier(clf, dataset, feature_list, folds = 1000):   \n",
    "    labels = dataset['Survived']\n",
    "    features = dataset.drop('Survived', axis=1)\n",
    "    cv = StratifiedShuffleSplit(n_splits=folds, test_size=0.3, random_state=42)\n",
    "    true_positive = 0\n",
    "    true_negative = 0\n",
    "    false_positive = 0\n",
    "    false_negative = 0\n",
    "    for train_idx, test_idx in cv.split(features, labels):\n",
    "        train_features = features.iloc[train_idx]\n",
    "        train_labels = labels.iloc[train_idx]\n",
    "        test_features = features.iloc[test_idx]\n",
    "        test_labels = labels.iloc[test_idx]\n",
    "\n",
    "        clf.fit(train_features, train_labels)\n",
    "        predictions = clf.predict(test_features)\n",
    "\n",
    "        for prediction, truth in zip(predictions, test_labels):\n",
    "            if prediction == 1 and truth == 1:\n",
    "                true_positive+=1\n",
    "            elif prediction == 0 and truth == 0:\n",
    "                true_negative+=1\n",
    "            elif prediction == 1 and truth == 0:\n",
    "                false_positive+=1\n",
    "            elif prediction == 0 and truth == 1:\n",
    "                false_negative+=1\n",
    "\n",
    "    try:\n",
    "        all_predictions = true_positive + true_negative + false_positive + false_negative\n",
    "        accuracy = (true_positive + true_negative) / all_predictions\n",
    "        precision = true_positive / (true_positive + false_positive)\n",
    "        recall = true_positive / (true_positive + false_negative)\n",
    "        f1 = 2.0 * (precision * recall)  / (precision + recall)\n",
    "        print(PERF_FORMAT_STRING.format(accuracy, precision, recall, f1, round=4))\n",
    "\n",
    "    except ZeroDivisionError:\n",
    "        print(\"Warning: Got a divide by zero when trying out:\", clf)\n",
    "              \n",
    "        "
   ]
  },
  {
   "cell_type": "markdown",
   "id": "486b3bd0-0df4-431e-a630-0f0ae41fe687",
   "metadata": {},
   "source": [
    "### Trying improve our best model by applying PCA, Select-KFeatures techniques"
   ]
  },
  {
   "cell_type": "code",
   "execution_count": null,
   "id": "7be8fe3d-8caa-497d-8345-85ea4d5db796",
   "metadata": {},
   "outputs": [],
   "source": [
    "from sklearn.decomposition import PCA\n",
    "pca = PCA(n_components=8)\n",
    "X_train_pca = pca.fit_transform(X_train)\n",
    "print(pca.explained_variance_ratio_)\n",
    "pca_components = pca.components_\n",
    "first_pca = pca.components_[0]\n",
    "\n"
   ]
  },
  {
   "cell_type": "code",
   "execution_count": null,
   "id": "2787793a-76b8-46f4-8327-ae3e22795a76",
   "metadata": {},
   "outputs": [],
   "source": [
    "features.shape"
   ]
  },
  {
   "cell_type": "code",
   "execution_count": null,
   "id": "58bd9f77-da79-4c6d-8ac2-52da84cb3fc9",
   "metadata": {},
   "outputs": [],
   "source": [
    "features_list = features.columns"
   ]
  },
  {
   "cell_type": "code",
   "execution_count": null,
   "id": "2d86ab9b-18b7-4d9a-8815-ef0deac31830",
   "metadata": {},
   "outputs": [],
   "source": [
    "from sklearn.feature_selection import SelectKBest, f_classif\n",
    "kbest = SelectKBest(f_classif, k=10)\n",
    "kbest.fit_transform(X_train, y_train)\n",
    "print(features_selected.shape)\n",
    "selected_features_indices = kbest.get_support(indices=True)\n",
    "features_selected = [features_list[i] for i in selected_features_indices]\n",
    "features_selected"
   ]
  },
  {
   "cell_type": "code",
   "execution_count": null,
   "id": "7ba088cb-9fa3-49cd-b8ac-c072437b039f",
   "metadata": {},
   "outputs": [],
   "source": [
    "test_classifier(lr_clf, train, features_selected)"
   ]
  },
  {
   "cell_type": "code",
   "execution_count": null,
   "id": "ed4fbe3d-89f4-4b98-99e9-1d824b727b81",
   "metadata": {},
   "outputs": [],
   "source": [
    "test_classifier(lr_clf, train, features_list)"
   ]
  },
  {
   "cell_type": "code",
   "execution_count": null,
   "id": "80915042-c321-4d9f-8bbb-91a917da7324",
   "metadata": {},
   "outputs": [],
   "source": [
    "test_classifier(lsvc_clf, train, features_selected)"
   ]
  },
  {
   "cell_type": "code",
   "execution_count": null,
   "id": "dce55792-a9b3-40da-8fb0-ab8f27864a8a",
   "metadata": {},
   "outputs": [],
   "source": [
    "test_classifier(lsvc_clf, train, features_list)"
   ]
  },
  {
   "cell_type": "markdown",
   "id": "2167c783-c354-410c-8541-0bd3bb35afb7",
   "metadata": {},
   "source": [
    "### Setup a pipeline with hyperparameter tuning"
   ]
  },
  {
   "cell_type": "code",
   "execution_count": null,
   "id": "ffacd7d0-12c0-42d2-9ab3-0892baa6a2e0",
   "metadata": {},
   "outputs": [],
   "source": [
    "from sklearn.pipeline import Pipeline\n",
    "from sklearn.model_selection import GridSearchCV\n",
    "select = SelectKBest()\n",
    "lr = LogisticRegression()\n",
    "\n",
    "\n",
    "steps = [('feature_select', select),\n",
    "         ('classifier', lr)]\n",
    "\n",
    "param_grid = {'feature_select__k': range(0,9),\n",
    "             'classifier__C': [0.001, 0.01, 0.1, 1, 10, 100],\n",
    "             'classifier__penalty': ['l1', 'l2'],\n",
    "             'classifier__solver': ['liblinear', 'lbfgs', 'sag'],\n",
    "             'classifier__class_weight': [None, 'balanced', {0: 1, 1: 5}],\n",
    "             'classifier__multi_class': ['ovr', 'multinomial'],\n",
    "             'classifier__tol': [1e-4, 1e-3, 1e-2],\n",
    "             'classifier__max_iter': [100, 1000, 10000],\n",
    "             'classifier__warm_start': [True, False]}\n",
    "sss = StratifiedShuffleSplit(100, test_size=0.3, random_state=43)\n",
    "pipe = Pipeline(steps)\n",
    "gs = GridSearchCV(pipe, param_grid, cv=sss, scoring='f1')\n",
    "gs.fit(X_train, y_train)\n",
    "clf = gs.best_estimator_"
   ]
  },
  {
   "cell_type": "code",
   "execution_count": null,
   "id": "ea336a94-1c58-42da-ae14-b16db42d46d5",
   "metadata": {},
   "outputs": [],
   "source": []
  },
  {
   "cell_type": "code",
   "execution_count": null,
   "id": "c4a5c8e6-1b98-4ed2-8a64-bbef84e8cd0b",
   "metadata": {},
   "outputs": [],
   "source": []
  },
  {
   "cell_type": "code",
   "execution_count": null,
   "id": "9540a3d0-b1bd-4a7c-9b51-a0162498b2b3",
   "metadata": {},
   "outputs": [],
   "source": []
  },
  {
   "cell_type": "code",
   "execution_count": null,
   "id": "ac009345-f20b-46b8-884d-c5c6299f3b4c",
   "metadata": {},
   "outputs": [],
   "source": []
  }
 ],
 "metadata": {
  "kernelspec": {
   "display_name": "Python 3 (ipykernel)",
   "language": "python",
   "name": "python3"
  },
  "language_info": {
   "codemirror_mode": {
    "name": "ipython",
    "version": 3
   },
   "file_extension": ".py",
   "mimetype": "text/x-python",
   "name": "python",
   "nbconvert_exporter": "python",
   "pygments_lexer": "ipython3",
   "version": "3.11.3"
  }
 },
 "nbformat": 4,
 "nbformat_minor": 5
}
