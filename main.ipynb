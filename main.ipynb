{
 "cells": [
  {
   "cell_type": "markdown",
   "id": "87042c4a-e2a2-45d7-a60f-f7d8102bdc8b",
   "metadata": {},
   "source": [
    "### Importing libraries"
   ]
  },
  {
   "cell_type": "code",
   "execution_count": 4,
   "id": "f2fc4f3c-0ddd-46ce-b653-25081ac888bf",
   "metadata": {},
   "outputs": [],
   "source": [
    "import pandas as pd\n",
    "import numpy as np\n",
    "import missingno\n",
    "from collections import Counter\n",
    "\n",
    "import matplotlib.pyplot as plt\n",
    "import seaborn as sns\n",
    "\n",
    "import warnings\n",
    "warnings.filterwarnings(\"ignore\")\n"
   ]
  },
  {
   "cell_type": "markdown",
   "id": "8f6cb4ad-3435-4263-9cd7-752836061a83",
   "metadata": {},
   "source": [
    "### Reading data"
   ]
  },
  {
   "cell_type": "code",
   "execution_count": 5,
   "id": "a7985b49-5322-4c3d-b27c-2b44dfdd9eb1",
   "metadata": {},
   "outputs": [],
   "source": [
    "train = pd.read_csv('train.csv')\n",
    "test = pd.read_csv('test.csv')\n",
    "submission = pd.read_csv('gender_submission.csv')"
   ]
  },
  {
   "cell_type": "code",
   "execution_count": 6,
   "id": "50007815-7993-4dca-9b4b-2b8998c3c561",
   "metadata": {},
   "outputs": [
    {
     "data": {
      "text/html": [
       "<div>\n",
       "<style scoped>\n",
       "    .dataframe tbody tr th:only-of-type {\n",
       "        vertical-align: middle;\n",
       "    }\n",
       "\n",
       "    .dataframe tbody tr th {\n",
       "        vertical-align: top;\n",
       "    }\n",
       "\n",
       "    .dataframe thead th {\n",
       "        text-align: right;\n",
       "    }\n",
       "</style>\n",
       "<table border=\"1\" class=\"dataframe\">\n",
       "  <thead>\n",
       "    <tr style=\"text-align: right;\">\n",
       "      <th></th>\n",
       "      <th>PassengerId</th>\n",
       "      <th>Survived</th>\n",
       "      <th>Pclass</th>\n",
       "      <th>Name</th>\n",
       "      <th>Sex</th>\n",
       "      <th>Age</th>\n",
       "      <th>SibSp</th>\n",
       "      <th>Parch</th>\n",
       "      <th>Ticket</th>\n",
       "      <th>Fare</th>\n",
       "      <th>Cabin</th>\n",
       "      <th>Embarked</th>\n",
       "    </tr>\n",
       "  </thead>\n",
       "  <tbody>\n",
       "    <tr>\n",
       "      <th>0</th>\n",
       "      <td>1</td>\n",
       "      <td>0</td>\n",
       "      <td>3</td>\n",
       "      <td>Braund, Mr. Owen Harris</td>\n",
       "      <td>male</td>\n",
       "      <td>22.0</td>\n",
       "      <td>1</td>\n",
       "      <td>0</td>\n",
       "      <td>A/5 21171</td>\n",
       "      <td>7.2500</td>\n",
       "      <td>NaN</td>\n",
       "      <td>S</td>\n",
       "    </tr>\n",
       "    <tr>\n",
       "      <th>1</th>\n",
       "      <td>2</td>\n",
       "      <td>1</td>\n",
       "      <td>1</td>\n",
       "      <td>Cumings, Mrs. John Bradley (Florence Briggs Th...</td>\n",
       "      <td>female</td>\n",
       "      <td>38.0</td>\n",
       "      <td>1</td>\n",
       "      <td>0</td>\n",
       "      <td>PC 17599</td>\n",
       "      <td>71.2833</td>\n",
       "      <td>C85</td>\n",
       "      <td>C</td>\n",
       "    </tr>\n",
       "    <tr>\n",
       "      <th>2</th>\n",
       "      <td>3</td>\n",
       "      <td>1</td>\n",
       "      <td>3</td>\n",
       "      <td>Heikkinen, Miss. Laina</td>\n",
       "      <td>female</td>\n",
       "      <td>26.0</td>\n",
       "      <td>0</td>\n",
       "      <td>0</td>\n",
       "      <td>STON/O2. 3101282</td>\n",
       "      <td>7.9250</td>\n",
       "      <td>NaN</td>\n",
       "      <td>S</td>\n",
       "    </tr>\n",
       "    <tr>\n",
       "      <th>3</th>\n",
       "      <td>4</td>\n",
       "      <td>1</td>\n",
       "      <td>1</td>\n",
       "      <td>Futrelle, Mrs. Jacques Heath (Lily May Peel)</td>\n",
       "      <td>female</td>\n",
       "      <td>35.0</td>\n",
       "      <td>1</td>\n",
       "      <td>0</td>\n",
       "      <td>113803</td>\n",
       "      <td>53.1000</td>\n",
       "      <td>C123</td>\n",
       "      <td>S</td>\n",
       "    </tr>\n",
       "    <tr>\n",
       "      <th>4</th>\n",
       "      <td>5</td>\n",
       "      <td>0</td>\n",
       "      <td>3</td>\n",
       "      <td>Allen, Mr. William Henry</td>\n",
       "      <td>male</td>\n",
       "      <td>35.0</td>\n",
       "      <td>0</td>\n",
       "      <td>0</td>\n",
       "      <td>373450</td>\n",
       "      <td>8.0500</td>\n",
       "      <td>NaN</td>\n",
       "      <td>S</td>\n",
       "    </tr>\n",
       "  </tbody>\n",
       "</table>\n",
       "</div>"
      ],
      "text/plain": [
       "   PassengerId  Survived  Pclass  \\\n",
       "0            1         0       3   \n",
       "1            2         1       1   \n",
       "2            3         1       3   \n",
       "3            4         1       1   \n",
       "4            5         0       3   \n",
       "\n",
       "                                                Name     Sex   Age  SibSp  \\\n",
       "0                            Braund, Mr. Owen Harris    male  22.0      1   \n",
       "1  Cumings, Mrs. John Bradley (Florence Briggs Th...  female  38.0      1   \n",
       "2                             Heikkinen, Miss. Laina  female  26.0      0   \n",
       "3       Futrelle, Mrs. Jacques Heath (Lily May Peel)  female  35.0      1   \n",
       "4                           Allen, Mr. William Henry    male  35.0      0   \n",
       "\n",
       "   Parch            Ticket     Fare Cabin Embarked  \n",
       "0      0         A/5 21171   7.2500   NaN        S  \n",
       "1      0          PC 17599  71.2833   C85        C  \n",
       "2      0  STON/O2. 3101282   7.9250   NaN        S  \n",
       "3      0            113803  53.1000  C123        S  \n",
       "4      0            373450   8.0500   NaN        S  "
      ]
     },
     "execution_count": 6,
     "metadata": {},
     "output_type": "execute_result"
    }
   ],
   "source": [
    "train.head()"
   ]
  },
  {
   "cell_type": "code",
   "execution_count": 7,
   "id": "6688166d-607a-4127-a23e-a0c40c25086c",
   "metadata": {},
   "outputs": [
    {
     "data": {
      "text/html": [
       "<div>\n",
       "<style scoped>\n",
       "    .dataframe tbody tr th:only-of-type {\n",
       "        vertical-align: middle;\n",
       "    }\n",
       "\n",
       "    .dataframe tbody tr th {\n",
       "        vertical-align: top;\n",
       "    }\n",
       "\n",
       "    .dataframe thead th {\n",
       "        text-align: right;\n",
       "    }\n",
       "</style>\n",
       "<table border=\"1\" class=\"dataframe\">\n",
       "  <thead>\n",
       "    <tr style=\"text-align: right;\">\n",
       "      <th></th>\n",
       "      <th>PassengerId</th>\n",
       "      <th>Pclass</th>\n",
       "      <th>Name</th>\n",
       "      <th>Sex</th>\n",
       "      <th>Age</th>\n",
       "      <th>SibSp</th>\n",
       "      <th>Parch</th>\n",
       "      <th>Ticket</th>\n",
       "      <th>Fare</th>\n",
       "      <th>Cabin</th>\n",
       "      <th>Embarked</th>\n",
       "    </tr>\n",
       "  </thead>\n",
       "  <tbody>\n",
       "    <tr>\n",
       "      <th>0</th>\n",
       "      <td>892</td>\n",
       "      <td>3</td>\n",
       "      <td>Kelly, Mr. James</td>\n",
       "      <td>male</td>\n",
       "      <td>34.5</td>\n",
       "      <td>0</td>\n",
       "      <td>0</td>\n",
       "      <td>330911</td>\n",
       "      <td>7.8292</td>\n",
       "      <td>NaN</td>\n",
       "      <td>Q</td>\n",
       "    </tr>\n",
       "    <tr>\n",
       "      <th>1</th>\n",
       "      <td>893</td>\n",
       "      <td>3</td>\n",
       "      <td>Wilkes, Mrs. James (Ellen Needs)</td>\n",
       "      <td>female</td>\n",
       "      <td>47.0</td>\n",
       "      <td>1</td>\n",
       "      <td>0</td>\n",
       "      <td>363272</td>\n",
       "      <td>7.0000</td>\n",
       "      <td>NaN</td>\n",
       "      <td>S</td>\n",
       "    </tr>\n",
       "    <tr>\n",
       "      <th>2</th>\n",
       "      <td>894</td>\n",
       "      <td>2</td>\n",
       "      <td>Myles, Mr. Thomas Francis</td>\n",
       "      <td>male</td>\n",
       "      <td>62.0</td>\n",
       "      <td>0</td>\n",
       "      <td>0</td>\n",
       "      <td>240276</td>\n",
       "      <td>9.6875</td>\n",
       "      <td>NaN</td>\n",
       "      <td>Q</td>\n",
       "    </tr>\n",
       "    <tr>\n",
       "      <th>3</th>\n",
       "      <td>895</td>\n",
       "      <td>3</td>\n",
       "      <td>Wirz, Mr. Albert</td>\n",
       "      <td>male</td>\n",
       "      <td>27.0</td>\n",
       "      <td>0</td>\n",
       "      <td>0</td>\n",
       "      <td>315154</td>\n",
       "      <td>8.6625</td>\n",
       "      <td>NaN</td>\n",
       "      <td>S</td>\n",
       "    </tr>\n",
       "    <tr>\n",
       "      <th>4</th>\n",
       "      <td>896</td>\n",
       "      <td>3</td>\n",
       "      <td>Hirvonen, Mrs. Alexander (Helga E Lindqvist)</td>\n",
       "      <td>female</td>\n",
       "      <td>22.0</td>\n",
       "      <td>1</td>\n",
       "      <td>1</td>\n",
       "      <td>3101298</td>\n",
       "      <td>12.2875</td>\n",
       "      <td>NaN</td>\n",
       "      <td>S</td>\n",
       "    </tr>\n",
       "  </tbody>\n",
       "</table>\n",
       "</div>"
      ],
      "text/plain": [
       "   PassengerId  Pclass                                          Name     Sex  \\\n",
       "0          892       3                              Kelly, Mr. James    male   \n",
       "1          893       3              Wilkes, Mrs. James (Ellen Needs)  female   \n",
       "2          894       2                     Myles, Mr. Thomas Francis    male   \n",
       "3          895       3                              Wirz, Mr. Albert    male   \n",
       "4          896       3  Hirvonen, Mrs. Alexander (Helga E Lindqvist)  female   \n",
       "\n",
       "    Age  SibSp  Parch   Ticket     Fare Cabin Embarked  \n",
       "0  34.5      0      0   330911   7.8292   NaN        Q  \n",
       "1  47.0      1      0   363272   7.0000   NaN        S  \n",
       "2  62.0      0      0   240276   9.6875   NaN        Q  \n",
       "3  27.0      0      0   315154   8.6625   NaN        S  \n",
       "4  22.0      1      1  3101298  12.2875   NaN        S  "
      ]
     },
     "execution_count": 7,
     "metadata": {},
     "output_type": "execute_result"
    }
   ],
   "source": [
    "test.head()"
   ]
  },
  {
   "cell_type": "code",
   "execution_count": 8,
   "id": "7ed82331-6be5-4da6-838c-76dd8d48eaeb",
   "metadata": {
    "scrolled": true
   },
   "outputs": [
    {
     "data": {
      "text/html": [
       "<div>\n",
       "<style scoped>\n",
       "    .dataframe tbody tr th:only-of-type {\n",
       "        vertical-align: middle;\n",
       "    }\n",
       "\n",
       "    .dataframe tbody tr th {\n",
       "        vertical-align: top;\n",
       "    }\n",
       "\n",
       "    .dataframe thead th {\n",
       "        text-align: right;\n",
       "    }\n",
       "</style>\n",
       "<table border=\"1\" class=\"dataframe\">\n",
       "  <thead>\n",
       "    <tr style=\"text-align: right;\">\n",
       "      <th></th>\n",
       "      <th>PassengerId</th>\n",
       "      <th>Survived</th>\n",
       "    </tr>\n",
       "  </thead>\n",
       "  <tbody>\n",
       "    <tr>\n",
       "      <th>0</th>\n",
       "      <td>892</td>\n",
       "      <td>0</td>\n",
       "    </tr>\n",
       "    <tr>\n",
       "      <th>1</th>\n",
       "      <td>893</td>\n",
       "      <td>1</td>\n",
       "    </tr>\n",
       "    <tr>\n",
       "      <th>2</th>\n",
       "      <td>894</td>\n",
       "      <td>0</td>\n",
       "    </tr>\n",
       "    <tr>\n",
       "      <th>3</th>\n",
       "      <td>895</td>\n",
       "      <td>0</td>\n",
       "    </tr>\n",
       "    <tr>\n",
       "      <th>4</th>\n",
       "      <td>896</td>\n",
       "      <td>1</td>\n",
       "    </tr>\n",
       "  </tbody>\n",
       "</table>\n",
       "</div>"
      ],
      "text/plain": [
       "   PassengerId  Survived\n",
       "0          892         0\n",
       "1          893         1\n",
       "2          894         0\n",
       "3          895         0\n",
       "4          896         1"
      ]
     },
     "execution_count": 8,
     "metadata": {},
     "output_type": "execute_result"
    }
   ],
   "source": [
    "submission.head()"
   ]
  },
  {
   "cell_type": "markdown",
   "id": "aae43bdd-52bb-4206-a8f9-f86d58d72bec",
   "metadata": {},
   "source": [
    "### 3.  Data Dictionary:\r",
    "*\n",
    "Survival: 0 = No, 1 = Ye\n",
    "*  pclass: Ticket class 1 = 1st, 2 = 2nd  3 = r\n",
    "* rs sibsp: # of siblings / spouses aboard the Titan\n",
    "* ic parch: # of parents / children aboard the Titan\n",
    "* ic ticket: Ticket numb\n",
    "* er fare: Passenger fa\n",
    "* re cabin: Cabin num\n",
    "* Age: Age in years \n",
    "* sex: Sex\n",
    "* er embarked: Port of Embarkation C = Cherbourg, Q = Queenstown, S = Southampton"
   ]
  },
  {
   "cell_type": "markdown",
   "id": "ce9c0148-bc99-4b4d-952b-adc758690908",
   "metadata": {},
   "source": [
    "### 4. Exploratory Data Analysis (EDA)\r\n",
    "\r\n",
    "* .info()\r\n",
    "* isnull().sum().sort_values()\r\n",
    "* missingno.matrix()\r\n",
    "* describe()"
   ]
  },
  {
   "cell_type": "code",
   "execution_count": 9,
   "id": "9c530613-67a1-4079-a44d-02d88daa24e9",
   "metadata": {
    "scrolled": true
   },
   "outputs": [
    {
     "name": "stdout",
     "output_type": "stream",
     "text": [
      "<class 'pandas.core.frame.DataFrame'>\n",
      "RangeIndex: 891 entries, 0 to 890\n",
      "Data columns (total 12 columns):\n",
      " #   Column       Non-Null Count  Dtype  \n",
      "---  ------       --------------  -----  \n",
      " 0   PassengerId  891 non-null    int64  \n",
      " 1   Survived     891 non-null    int64  \n",
      " 2   Pclass       891 non-null    int64  \n",
      " 3   Name         891 non-null    object \n",
      " 4   Sex          891 non-null    object \n",
      " 5   Age          714 non-null    float64\n",
      " 6   SibSp        891 non-null    int64  \n",
      " 7   Parch        891 non-null    int64  \n",
      " 8   Ticket       891 non-null    object \n",
      " 9   Fare         891 non-null    float64\n",
      " 10  Cabin        204 non-null    object \n",
      " 11  Embarked     889 non-null    object \n",
      "dtypes: float64(2), int64(5), object(5)\n",
      "memory usage: 83.7+ KB\n"
     ]
    }
   ],
   "source": [
    "train.info()"
   ]
  },
  {
   "cell_type": "code",
   "execution_count": 10,
   "id": "b1c1753c-5c5d-4549-b5a6-b40c874d522a",
   "metadata": {},
   "outputs": [
    {
     "data": {
      "text/html": [
       "<div>\n",
       "<style scoped>\n",
       "    .dataframe tbody tr th:only-of-type {\n",
       "        vertical-align: middle;\n",
       "    }\n",
       "\n",
       "    .dataframe tbody tr th {\n",
       "        vertical-align: top;\n",
       "    }\n",
       "\n",
       "    .dataframe thead th {\n",
       "        text-align: right;\n",
       "    }\n",
       "</style>\n",
       "<table border=\"1\" class=\"dataframe\">\n",
       "  <thead>\n",
       "    <tr style=\"text-align: right;\">\n",
       "      <th></th>\n",
       "      <th>PassengerId</th>\n",
       "      <th>Survived</th>\n",
       "      <th>Pclass</th>\n",
       "      <th>Age</th>\n",
       "      <th>SibSp</th>\n",
       "      <th>Parch</th>\n",
       "      <th>Fare</th>\n",
       "    </tr>\n",
       "  </thead>\n",
       "  <tbody>\n",
       "    <tr>\n",
       "      <th>count</th>\n",
       "      <td>891.000000</td>\n",
       "      <td>891.000000</td>\n",
       "      <td>891.000000</td>\n",
       "      <td>714.000000</td>\n",
       "      <td>891.000000</td>\n",
       "      <td>891.000000</td>\n",
       "      <td>891.000000</td>\n",
       "    </tr>\n",
       "    <tr>\n",
       "      <th>mean</th>\n",
       "      <td>446.000000</td>\n",
       "      <td>0.383838</td>\n",
       "      <td>2.308642</td>\n",
       "      <td>29.699118</td>\n",
       "      <td>0.523008</td>\n",
       "      <td>0.381594</td>\n",
       "      <td>32.204208</td>\n",
       "    </tr>\n",
       "    <tr>\n",
       "      <th>std</th>\n",
       "      <td>257.353842</td>\n",
       "      <td>0.486592</td>\n",
       "      <td>0.836071</td>\n",
       "      <td>14.526497</td>\n",
       "      <td>1.102743</td>\n",
       "      <td>0.806057</td>\n",
       "      <td>49.693429</td>\n",
       "    </tr>\n",
       "    <tr>\n",
       "      <th>min</th>\n",
       "      <td>1.000000</td>\n",
       "      <td>0.000000</td>\n",
       "      <td>1.000000</td>\n",
       "      <td>0.420000</td>\n",
       "      <td>0.000000</td>\n",
       "      <td>0.000000</td>\n",
       "      <td>0.000000</td>\n",
       "    </tr>\n",
       "    <tr>\n",
       "      <th>25%</th>\n",
       "      <td>223.500000</td>\n",
       "      <td>0.000000</td>\n",
       "      <td>2.000000</td>\n",
       "      <td>20.125000</td>\n",
       "      <td>0.000000</td>\n",
       "      <td>0.000000</td>\n",
       "      <td>7.910400</td>\n",
       "    </tr>\n",
       "    <tr>\n",
       "      <th>50%</th>\n",
       "      <td>446.000000</td>\n",
       "      <td>0.000000</td>\n",
       "      <td>3.000000</td>\n",
       "      <td>28.000000</td>\n",
       "      <td>0.000000</td>\n",
       "      <td>0.000000</td>\n",
       "      <td>14.454200</td>\n",
       "    </tr>\n",
       "    <tr>\n",
       "      <th>75%</th>\n",
       "      <td>668.500000</td>\n",
       "      <td>1.000000</td>\n",
       "      <td>3.000000</td>\n",
       "      <td>38.000000</td>\n",
       "      <td>1.000000</td>\n",
       "      <td>0.000000</td>\n",
       "      <td>31.000000</td>\n",
       "    </tr>\n",
       "    <tr>\n",
       "      <th>max</th>\n",
       "      <td>891.000000</td>\n",
       "      <td>1.000000</td>\n",
       "      <td>3.000000</td>\n",
       "      <td>80.000000</td>\n",
       "      <td>8.000000</td>\n",
       "      <td>6.000000</td>\n",
       "      <td>512.329200</td>\n",
       "    </tr>\n",
       "  </tbody>\n",
       "</table>\n",
       "</div>"
      ],
      "text/plain": [
       "       PassengerId    Survived      Pclass         Age       SibSp  \\\n",
       "count   891.000000  891.000000  891.000000  714.000000  891.000000   \n",
       "mean    446.000000    0.383838    2.308642   29.699118    0.523008   \n",
       "std     257.353842    0.486592    0.836071   14.526497    1.102743   \n",
       "min       1.000000    0.000000    1.000000    0.420000    0.000000   \n",
       "25%     223.500000    0.000000    2.000000   20.125000    0.000000   \n",
       "50%     446.000000    0.000000    3.000000   28.000000    0.000000   \n",
       "75%     668.500000    1.000000    3.000000   38.000000    1.000000   \n",
       "max     891.000000    1.000000    3.000000   80.000000    8.000000   \n",
       "\n",
       "            Parch        Fare  \n",
       "count  891.000000  891.000000  \n",
       "mean     0.381594   32.204208  \n",
       "std      0.806057   49.693429  \n",
       "min      0.000000    0.000000  \n",
       "25%      0.000000    7.910400  \n",
       "50%      0.000000   14.454200  \n",
       "75%      0.000000   31.000000  \n",
       "max      6.000000  512.329200  "
      ]
     },
     "execution_count": 10,
     "metadata": {},
     "output_type": "execute_result"
    }
   ],
   "source": [
    "train.describe()"
   ]
  },
  {
   "cell_type": "code",
   "execution_count": 11,
   "id": "1cd89daf-bb79-43fc-9f4c-661fdd26e781",
   "metadata": {
    "scrolled": true
   },
   "outputs": [
    {
     "name": "stdout",
     "output_type": "stream",
     "text": [
      "<class 'pandas.core.frame.DataFrame'>\n",
      "RangeIndex: 418 entries, 0 to 417\n",
      "Data columns (total 11 columns):\n",
      " #   Column       Non-Null Count  Dtype  \n",
      "---  ------       --------------  -----  \n",
      " 0   PassengerId  418 non-null    int64  \n",
      " 1   Pclass       418 non-null    int64  \n",
      " 2   Name         418 non-null    object \n",
      " 3   Sex          418 non-null    object \n",
      " 4   Age          332 non-null    float64\n",
      " 5   SibSp        418 non-null    int64  \n",
      " 6   Parch        418 non-null    int64  \n",
      " 7   Ticket       418 non-null    object \n",
      " 8   Fare         417 non-null    float64\n",
      " 9   Cabin        91 non-null     object \n",
      " 10  Embarked     418 non-null    object \n",
      "dtypes: float64(2), int64(4), object(5)\n",
      "memory usage: 36.1+ KB\n"
     ]
    }
   ],
   "source": [
    "test.info()"
   ]
  },
  {
   "cell_type": "code",
   "execution_count": 12,
   "id": "eee11a75-6cc9-487f-8b11-9e3de2035482",
   "metadata": {},
   "outputs": [
    {
     "data": {
      "text/plain": [
       "<Axes: >"
      ]
     },
     "execution_count": 12,
     "metadata": {},
     "output_type": "execute_result"
    },
    {
     "data": {
      "image/png": "[encoded data removed]",
      "text/plain": [
       "<Figure size 2500x1000 with 2 Axes>"
      ]
     },
     "metadata": {},
     "output_type": "display_data"
    }
   ],
   "source": [
    "missingno.matrix(train)"
   ]
  },
  {
   "cell_type": "code",
   "execution_count": 13,
   "id": "69e5203f-f809-4e9d-a306-2f3141903aa5",
   "metadata": {},
   "outputs": [
    {
     "data": {
      "text/plain": [
       "<Axes: >"
      ]
     },
     "execution_count": 13,
     "metadata": {},
     "output_type": "execute_result"
    },
    {
     "data": {
      "image/png": "[encoded data removed]",
      "text/plain": [
       "<Figure size 2500x1000 with 2 Axes>"
      ]
     },
     "metadata": {},
     "output_type": "display_data"
    }
   ],
   "source": [
    "missingno.matrix(test)"
   ]
  },
  {
   "cell_type": "code",
   "execution_count": 14,
   "id": "c55f907f-5ec7-4f06-94be-bc7bcc976818",
   "metadata": {},
   "outputs": [
    {
     "data": {
      "text/plain": [
       "Cabin          687\n",
       "Age            177\n",
       "Embarked         2\n",
       "PassengerId      0\n",
       "Survived         0\n",
       "Pclass           0\n",
       "Name             0\n",
       "Sex              0\n",
       "SibSp            0\n",
       "Parch            0\n",
       "Ticket           0\n",
       "Fare             0\n",
       "dtype: int64"
      ]
     },
     "execution_count": 14,
     "metadata": {},
     "output_type": "execute_result"
    }
   ],
   "source": [
    "train.isnull().sum().sort_values(ascending=False)"
   ]
  },
  {
   "cell_type": "code",
   "execution_count": 15,
   "id": "84eaff3a-6002-4774-ba3a-9f99b31608dc",
   "metadata": {},
   "outputs": [
    {
     "data": {
      "text/plain": [
       "Cabin          327\n",
       "Age             86\n",
       "Fare             1\n",
       "PassengerId      0\n",
       "Pclass           0\n",
       "Name             0\n",
       "Sex              0\n",
       "SibSp            0\n",
       "Parch            0\n",
       "Ticket           0\n",
       "Embarked         0\n",
       "dtype: int64"
      ]
     },
     "execution_count": 15,
     "metadata": {},
     "output_type": "execute_result"
    }
   ],
   "source": [
    "test.isnull().sum().sort_values(ascending=False)"
   ]
  },
  {
   "cell_type": "code",
   "execution_count": 16,
   "id": "059b1da3-247e-4e8c-9c8d-bd84c42744e1",
   "metadata": {},
   "outputs": [
    {
     "data": {
      "text/html": [
       "<div>\n",
       "<style scoped>\n",
       "    .dataframe tbody tr th:only-of-type {\n",
       "        vertical-align: middle;\n",
       "    }\n",
       "\n",
       "    .dataframe tbody tr th {\n",
       "        vertical-align: top;\n",
       "    }\n",
       "\n",
       "    .dataframe thead th {\n",
       "        text-align: right;\n",
       "    }\n",
       "</style>\n",
       "<table border=\"1\" class=\"dataframe\">\n",
       "  <thead>\n",
       "    <tr style=\"text-align: right;\">\n",
       "      <th></th>\n",
       "      <th>PassengerId</th>\n",
       "      <th>Survived</th>\n",
       "      <th>Pclass</th>\n",
       "      <th>Name</th>\n",
       "      <th>Sex</th>\n",
       "      <th>Age</th>\n",
       "      <th>SibSp</th>\n",
       "      <th>Parch</th>\n",
       "      <th>Ticket</th>\n",
       "      <th>Fare</th>\n",
       "      <th>Cabin</th>\n",
       "      <th>Embarked</th>\n",
       "    </tr>\n",
       "  </thead>\n",
       "  <tbody>\n",
       "    <tr>\n",
       "      <th>5</th>\n",
       "      <td>6</td>\n",
       "      <td>0</td>\n",
       "      <td>3</td>\n",
       "      <td>Moran, Mr. James</td>\n",
       "      <td>male</td>\n",
       "      <td>NaN</td>\n",
       "      <td>0</td>\n",
       "      <td>0</td>\n",
       "      <td>330877</td>\n",
       "      <td>8.4583</td>\n",
       "      <td>NaN</td>\n",
       "      <td>Q</td>\n",
       "    </tr>\n",
       "    <tr>\n",
       "      <th>16</th>\n",
       "      <td>17</td>\n",
       "      <td>0</td>\n",
       "      <td>3</td>\n",
       "      <td>Rice, Master. Eugene</td>\n",
       "      <td>male</td>\n",
       "      <td>2.0</td>\n",
       "      <td>4</td>\n",
       "      <td>1</td>\n",
       "      <td>382652</td>\n",
       "      <td>29.1250</td>\n",
       "      <td>NaN</td>\n",
       "      <td>Q</td>\n",
       "    </tr>\n",
       "    <tr>\n",
       "      <th>22</th>\n",
       "      <td>23</td>\n",
       "      <td>1</td>\n",
       "      <td>3</td>\n",
       "      <td>McGowan, Miss. Anna \"Annie\"</td>\n",
       "      <td>female</td>\n",
       "      <td>15.0</td>\n",
       "      <td>0</td>\n",
       "      <td>0</td>\n",
       "      <td>330923</td>\n",
       "      <td>8.0292</td>\n",
       "      <td>NaN</td>\n",
       "      <td>Q</td>\n",
       "    </tr>\n",
       "    <tr>\n",
       "      <th>28</th>\n",
       "      <td>29</td>\n",
       "      <td>1</td>\n",
       "      <td>3</td>\n",
       "      <td>O'Dwyer, Miss. Ellen \"Nellie\"</td>\n",
       "      <td>female</td>\n",
       "      <td>NaN</td>\n",
       "      <td>0</td>\n",
       "      <td>0</td>\n",
       "      <td>330959</td>\n",
       "      <td>7.8792</td>\n",
       "      <td>NaN</td>\n",
       "      <td>Q</td>\n",
       "    </tr>\n",
       "    <tr>\n",
       "      <th>32</th>\n",
       "      <td>33</td>\n",
       "      <td>1</td>\n",
       "      <td>3</td>\n",
       "      <td>Glynn, Miss. Mary Agatha</td>\n",
       "      <td>female</td>\n",
       "      <td>NaN</td>\n",
       "      <td>0</td>\n",
       "      <td>0</td>\n",
       "      <td>335677</td>\n",
       "      <td>7.7500</td>\n",
       "      <td>NaN</td>\n",
       "      <td>Q</td>\n",
       "    </tr>\n",
       "    <tr>\n",
       "      <th>...</th>\n",
       "      <td>...</td>\n",
       "      <td>...</td>\n",
       "      <td>...</td>\n",
       "      <td>...</td>\n",
       "      <td>...</td>\n",
       "      <td>...</td>\n",
       "      <td>...</td>\n",
       "      <td>...</td>\n",
       "      <td>...</td>\n",
       "      <td>...</td>\n",
       "      <td>...</td>\n",
       "      <td>...</td>\n",
       "    </tr>\n",
       "    <tr>\n",
       "      <th>790</th>\n",
       "      <td>791</td>\n",
       "      <td>0</td>\n",
       "      <td>3</td>\n",
       "      <td>Keane, Mr. Andrew \"Andy\"</td>\n",
       "      <td>male</td>\n",
       "      <td>NaN</td>\n",
       "      <td>0</td>\n",
       "      <td>0</td>\n",
       "      <td>12460</td>\n",
       "      <td>7.7500</td>\n",
       "      <td>NaN</td>\n",
       "      <td>Q</td>\n",
       "    </tr>\n",
       "    <tr>\n",
       "      <th>825</th>\n",
       "      <td>826</td>\n",
       "      <td>0</td>\n",
       "      <td>3</td>\n",
       "      <td>Flynn, Mr. John</td>\n",
       "      <td>male</td>\n",
       "      <td>NaN</td>\n",
       "      <td>0</td>\n",
       "      <td>0</td>\n",
       "      <td>368323</td>\n",
       "      <td>6.9500</td>\n",
       "      <td>NaN</td>\n",
       "      <td>Q</td>\n",
       "    </tr>\n",
       "    <tr>\n",
       "      <th>828</th>\n",
       "      <td>829</td>\n",
       "      <td>1</td>\n",
       "      <td>3</td>\n",
       "      <td>McCormack, Mr. Thomas Joseph</td>\n",
       "      <td>male</td>\n",
       "      <td>NaN</td>\n",
       "      <td>0</td>\n",
       "      <td>0</td>\n",
       "      <td>367228</td>\n",
       "      <td>7.7500</td>\n",
       "      <td>NaN</td>\n",
       "      <td>Q</td>\n",
       "    </tr>\n",
       "    <tr>\n",
       "      <th>885</th>\n",
       "      <td>886</td>\n",
       "      <td>0</td>\n",
       "      <td>3</td>\n",
       "      <td>Rice, Mrs. William (Margaret Norton)</td>\n",
       "      <td>female</td>\n",
       "      <td>39.0</td>\n",
       "      <td>0</td>\n",
       "      <td>5</td>\n",
       "      <td>382652</td>\n",
       "      <td>29.1250</td>\n",
       "      <td>NaN</td>\n",
       "      <td>Q</td>\n",
       "    </tr>\n",
       "    <tr>\n",
       "      <th>890</th>\n",
       "      <td>891</td>\n",
       "      <td>0</td>\n",
       "      <td>3</td>\n",
       "      <td>Dooley, Mr. Patrick</td>\n",
       "      <td>male</td>\n",
       "      <td>32.0</td>\n",
       "      <td>0</td>\n",
       "      <td>0</td>\n",
       "      <td>370376</td>\n",
       "      <td>7.7500</td>\n",
       "      <td>NaN</td>\n",
       "      <td>Q</td>\n",
       "    </tr>\n",
       "  </tbody>\n",
       "</table>\n",
       "<p>77 rows × 12 columns</p>\n",
       "</div>"
      ],
      "text/plain": [
       "     PassengerId  Survived  Pclass                                  Name  \\\n",
       "5              6         0       3                      Moran, Mr. James   \n",
       "16            17         0       3                  Rice, Master. Eugene   \n",
       "22            23         1       3           McGowan, Miss. Anna \"Annie\"   \n",
       "28            29         1       3         O'Dwyer, Miss. Ellen \"Nellie\"   \n",
       "32            33         1       3              Glynn, Miss. Mary Agatha   \n",
       "..           ...       ...     ...                                   ...   \n",
       "790          791         0       3              Keane, Mr. Andrew \"Andy\"   \n",
       "825          826         0       3                       Flynn, Mr. John   \n",
       "828          829         1       3          McCormack, Mr. Thomas Joseph   \n",
       "885          886         0       3  Rice, Mrs. William (Margaret Norton)   \n",
       "890          891         0       3                   Dooley, Mr. Patrick   \n",
       "\n",
       "        Sex   Age  SibSp  Parch  Ticket     Fare Cabin Embarked  \n",
       "5      male   NaN      0      0  330877   8.4583   NaN        Q  \n",
       "16     male   2.0      4      1  382652  29.1250   NaN        Q  \n",
       "22   female  15.0      0      0  330923   8.0292   NaN        Q  \n",
       "28   female   NaN      0      0  330959   7.8792   NaN        Q  \n",
       "32   female   NaN      0      0  335677   7.7500   NaN        Q  \n",
       "..      ...   ...    ...    ...     ...      ...   ...      ...  \n",
       "790    male   NaN      0      0   12460   7.7500   NaN        Q  \n",
       "825    male   NaN      0      0  368323   6.9500   NaN        Q  \n",
       "828    male   NaN      0      0  367228   7.7500   NaN        Q  \n",
       "885  female  39.0      0      5  382652  29.1250   NaN        Q  \n",
       "890    male  32.0      0      0  370376   7.7500   NaN        Q  \n",
       "\n",
       "[77 rows x 12 columns]"
      ]
     },
     "execution_count": 16,
     "metadata": {},
     "output_type": "execute_result"
    }
   ],
   "source": [
    "train.query('Embarked == \"Q\"')"
   ]
  },
  {
   "cell_type": "markdown",
   "id": "73a21feb-bcb1-4253-9b72-4b354957c7e4",
   "metadata": {},
   "source": [
    "#### 4.1 Feature Analysis\n",
    "\n",
    "* PassengerId - index\n",
    "* Survived - target feature\n",
    "\n",
    "##### Categorical features:\n",
    "* Pclass - cat\n",
    "* Name - cat\n",
    "* Sex - cat\n",
    "* Cabin - cat\n",
    "* Embark - cat\n",
    "\n",
    "##### Numerical features\n",
    "* Age - num\n",
    "* SibSp - num\n",
    "* Parch - num\n",
    "* Ticket - num\n",
    "* Fare - num"
   ]
  },
  {
   "cell_type": "markdown",
   "id": "17c5e723-24a7-478e-b760-2d31d25ba7b0",
   "metadata": {},
   "source": [
    "#### 4.2 Categorical features\n",
    "* 4.2.1 Pclass - cat\n",
    "* 4.2.2 Name - cat\n",
    "* 4.2.3 Sex - cat\n",
    "* 4.2.4 Cabin - cat\n",
    "* 4.2.5 Embark - cat\n",
    "* 4.3.5 Ticket - cat"
   ]
  },
  {
   "cell_type": "markdown",
   "id": "20e19a65-2b83-4f74-8e01-2840622d4d06",
   "metadata": {},
   "source": [
    "##### 4.2.1 Pclass"
   ]
  },
  {
   "cell_type": "code",
   "execution_count": 17,
   "id": "08edac81-70d3-4196-a1e1-521ab9b10877",
   "metadata": {},
   "outputs": [
    {
     "data": {
      "text/plain": [
       "Pclass\n",
       "3    491\n",
       "1    216\n",
       "2    184\n",
       "Name: count, dtype: int64"
      ]
     },
     "execution_count": 17,
     "metadata": {},
     "output_type": "execute_result"
    }
   ],
   "source": [
    "train.Pclass.value_counts()"
   ]
  },
  {
   "cell_type": "code",
   "execution_count": 18,
   "id": "3b70224c-f391-47e6-b440-e46ade4bb971",
   "metadata": {},
   "outputs": [
    {
     "data": {
      "text/html": [
       "<div>\n",
       "<style scoped>\n",
       "    .dataframe tbody tr th:only-of-type {\n",
       "        vertical-align: middle;\n",
       "    }\n",
       "\n",
       "    .dataframe tbody tr th {\n",
       "        vertical-align: top;\n",
       "    }\n",
       "\n",
       "    .dataframe thead th {\n",
       "        text-align: right;\n",
       "    }\n",
       "</style>\n",
       "<table border=\"1\" class=\"dataframe\">\n",
       "  <thead>\n",
       "    <tr style=\"text-align: right;\">\n",
       "      <th></th>\n",
       "      <th>Parch</th>\n",
       "      <th>SibSp</th>\n",
       "      <th>Age</th>\n",
       "      <th>Survived</th>\n",
       "    </tr>\n",
       "    <tr>\n",
       "      <th>Pclass</th>\n",
       "      <th></th>\n",
       "      <th></th>\n",
       "      <th></th>\n",
       "      <th></th>\n",
       "    </tr>\n",
       "  </thead>\n",
       "  <tbody>\n",
       "    <tr>\n",
       "      <th>1</th>\n",
       "      <td>0.356481</td>\n",
       "      <td>0.416667</td>\n",
       "      <td>38.233441</td>\n",
       "      <td>0.629630</td>\n",
       "    </tr>\n",
       "    <tr>\n",
       "      <th>2</th>\n",
       "      <td>0.380435</td>\n",
       "      <td>0.402174</td>\n",
       "      <td>29.877630</td>\n",
       "      <td>0.472826</td>\n",
       "    </tr>\n",
       "    <tr>\n",
       "      <th>3</th>\n",
       "      <td>0.393075</td>\n",
       "      <td>0.615071</td>\n",
       "      <td>25.140620</td>\n",
       "      <td>0.242363</td>\n",
       "    </tr>\n",
       "  </tbody>\n",
       "</table>\n",
       "</div>"
      ],
      "text/plain": [
       "           Parch     SibSp        Age  Survived\n",
       "Pclass                                         \n",
       "1       0.356481  0.416667  38.233441  0.629630\n",
       "2       0.380435  0.402174  29.877630  0.472826\n",
       "3       0.393075  0.615071  25.140620  0.242363"
      ]
     },
     "execution_count": 18,
     "metadata": {},
     "output_type": "execute_result"
    }
   ],
   "source": [
    "train[['Parch','SibSp','Age','Pclass','Survived']].groupby('Pclass').mean().sort_values('Survived', ascending=False)"
   ]
  },
  {
   "cell_type": "code",
   "execution_count": 19,
   "id": "6ea32a0d-1ffa-43b5-b973-a43f8b0b34cb",
   "metadata": {},
   "outputs": [
    {
     "data": {
      "text/plain": [
       "Pclass\n",
       "1    0.629630\n",
       "2    0.472826\n",
       "3    0.242363\n",
       "Name: Survived, dtype: float64"
      ]
     },
     "execution_count": 19,
     "metadata": {},
     "output_type": "execute_result"
    }
   ],
   "source": [
    "Pclass_sur_mean = train.groupby('Pclass')['Survived'].mean()\n",
    "Pclass_sur_mean"
   ]
  },
  {
   "cell_type": "code",
   "execution_count": 20,
   "id": "e8da7937-38a1-40fa-88e2-bbd30fc0b2ef",
   "metadata": {},
   "outputs": [
    {
     "data": {
      "image/png": "[encoded data removed]",
      "text/plain": [
       "<Figure size 640x480 with 1 Axes>"
      ]
     },
     "metadata": {},
     "output_type": "display_data"
    }
   ],
   "source": [
    "Pclass_sur_mean.plot(marker='o', linestyle='-', color='c')\n",
    "plt.title('Pclass vs Survived Mean')\n",
    "plt.xlabel('Pclass')\n",
    "plt.ylabel('Survived Mean')\n",
    "\n",
    "plt.show()"
   ]
  },
  {
   "cell_type": "code",
   "execution_count": 21,
   "id": "d46a98ed-bc22-4f89-9f40-c58049d3e062",
   "metadata": {
    "scrolled": true
   },
   "outputs": [
    {
     "data": {
      "text/plain": [
       "<seaborn.axisgrid.FacetGrid at 0x1f2bd5e9050>"
      ]
     },
     "execution_count": 21,
     "metadata": {},
     "output_type": "execute_result"
    },
    {
     "data": {
      "image/png": "[encoded data removed]",
      "text/plain": [
       "<Figure size 598x500 with 1 Axes>"
      ]
     },
     "metadata": {},
     "output_type": "display_data"
    }
   ],
   "source": [
    "sns.catplot(data=train, x='Pclass', y='Survived', hue='Sex', kind='bar')"
   ]
  },
  {
   "cell_type": "code",
   "execution_count": 22,
   "id": "d15ce0ed-0d8e-4190-ba80-1b4dd3e2de94",
   "metadata": {},
   "outputs": [
    {
     "data": {
      "text/html": [
       "<div>\n",
       "<style scoped>\n",
       "    .dataframe tbody tr th:only-of-type {\n",
       "        vertical-align: middle;\n",
       "    }\n",
       "\n",
       "    .dataframe tbody tr th {\n",
       "        vertical-align: top;\n",
       "    }\n",
       "\n",
       "    .dataframe thead th {\n",
       "        text-align: right;\n",
       "    }\n",
       "</style>\n",
       "<table border=\"1\" class=\"dataframe\">\n",
       "  <thead>\n",
       "    <tr style=\"text-align: right;\">\n",
       "      <th>Sex</th>\n",
       "      <th>female</th>\n",
       "      <th>male</th>\n",
       "    </tr>\n",
       "    <tr>\n",
       "      <th>Pclass</th>\n",
       "      <th></th>\n",
       "      <th></th>\n",
       "    </tr>\n",
       "  </thead>\n",
       "  <tbody>\n",
       "    <tr>\n",
       "      <th>1</th>\n",
       "      <td>94</td>\n",
       "      <td>122</td>\n",
       "    </tr>\n",
       "    <tr>\n",
       "      <th>2</th>\n",
       "      <td>76</td>\n",
       "      <td>108</td>\n",
       "    </tr>\n",
       "    <tr>\n",
       "      <th>3</th>\n",
       "      <td>144</td>\n",
       "      <td>347</td>\n",
       "    </tr>\n",
       "  </tbody>\n",
       "</table>\n",
       "</div>"
      ],
      "text/plain": [
       "Sex     female  male\n",
       "Pclass              \n",
       "1           94   122\n",
       "2           76   108\n",
       "3          144   347"
      ]
     },
     "execution_count": 22,
     "metadata": {},
     "output_type": "execute_result"
    }
   ],
   "source": [
    "train[['Pclass', 'Sex']].groupby(['Pclass', 'Sex']).size().unstack(fill_value=0)"
   ]
  },
  {
   "cell_type": "code",
   "execution_count": 23,
   "id": "4fd2a6ce-b87a-46de-b7ce-2b9ea309c0dd",
   "metadata": {},
   "outputs": [
    {
     "data": {
      "text/plain": [
       "<seaborn.axisgrid.FacetGrid at 0x1f2bc44da50>"
      ]
     },
     "execution_count": 23,
     "metadata": {},
     "output_type": "execute_result"
    },
    {
     "data": {
      "image/png": "[encoded data removed]",
      "text/plain": [
       "<Figure size 1098x500 with 2 Axes>"
      ]
     },
     "metadata": {},
     "output_type": "display_data"
    }
   ],
   "source": [
    "sns.catplot(data=train, x='Pclass', col='Survived', hue='Sex', kind='count')"
   ]
  },
  {
   "cell_type": "markdown",
   "id": "946ca4b4-b49a-49c0-b97f-43f73ec6f41b",
   "metadata": {},
   "source": [
    "##### 4.2.2 Name"
   ]
  },
  {
   "cell_type": "code",
   "execution_count": 24,
   "id": "bb0283b9-fdcb-469a-bdd7-e1264edd77e4",
   "metadata": {},
   "outputs": [
    {
     "data": {
      "text/plain": [
       "0"
      ]
     },
     "execution_count": 24,
     "metadata": {},
     "output_type": "execute_result"
    }
   ],
   "source": [
    "train.Name.isnull().sum()"
   ]
  },
  {
   "cell_type": "code",
   "execution_count": 25,
   "id": "4205e9c4-efa2-46db-a478-1612b89d9ec1",
   "metadata": {},
   "outputs": [
    {
     "data": {
      "text/plain": [
       "891"
      ]
     },
     "execution_count": 25,
     "metadata": {},
     "output_type": "execute_result"
    }
   ],
   "source": [
    "train.Name.nunique()"
   ]
  },
  {
   "cell_type": "markdown",
   "id": "c96815b0-1088-4426-affc-c4681a5bf45b",
   "metadata": {},
   "source": [
    "Names wont tell us anything at this stage, but we clearly see that there are titles in each name like: \"Mr\" and \"Miss\" or \"Master\". I think this will be usefull for replacing Nan values in age column, as well as it might be interesting feature to engineer in feature engineering part of this project."
   ]
  },
  {
   "cell_type": "markdown",
   "id": "4743a437-e201-4f4a-b647-5dcf29a19916",
   "metadata": {},
   "source": [
    "##### 4.2.3 Sex"
   ]
  },
  {
   "cell_type": "code",
   "execution_count": 26,
   "id": "652a6130-6f70-432d-b407-a75e932de643",
   "metadata": {},
   "outputs": [
    {
     "data": {
      "text/plain": [
       "0"
      ]
     },
     "execution_count": 26,
     "metadata": {},
     "output_type": "execute_result"
    }
   ],
   "source": [
    "train.Sex.isnull().sum()"
   ]
  },
  {
   "cell_type": "code",
   "execution_count": 27,
   "id": "e96571c0-5181-4786-8fa0-10bec469a190",
   "metadata": {},
   "outputs": [
    {
     "data": {
      "text/plain": [
       "Sex\n",
       "male      577\n",
       "female    314\n",
       "Name: count, dtype: int64"
      ]
     },
     "execution_count": 27,
     "metadata": {},
     "output_type": "execute_result"
    }
   ],
   "source": [
    "train.Sex.value_counts()"
   ]
  },
  {
   "cell_type": "code",
   "execution_count": 28,
   "id": "ff9ba7d0-6ffd-4d89-975d-ebbddc1cbf90",
   "metadata": {},
   "outputs": [
    {
     "data": {
      "text/plain": [
       "Sex\n",
       "female    0.742038\n",
       "male      0.188908\n",
       "Name: Survived, dtype: float64"
      ]
     },
     "execution_count": 28,
     "metadata": {},
     "output_type": "execute_result"
    }
   ],
   "source": [
    "survival_by_sex = train.groupby('Sex')['Survived'].mean()\n",
    "survival_by_sex"
   ]
  },
  {
   "cell_type": "code",
   "execution_count": 29,
   "id": "e9936166-c48f-4d48-9116-fb40497ce586",
   "metadata": {},
   "outputs": [
    {
     "data": {
      "text/plain": [
       "<Axes: xlabel='Sex', ylabel='Survived'>"
      ]
     },
     "execution_count": 29,
     "metadata": {},
     "output_type": "execute_result"
    },
    {
     "data": {
      "image/png": "[encoded data removed]",
      "text/plain": [
       "<Figure size 640x480 with 1 Axes>"
      ]
     },
     "metadata": {},
     "output_type": "display_data"
    }
   ],
   "source": [
    "sns.barplot(data=train, x='Sex', y='Survived')"
   ]
  },
  {
   "cell_type": "code",
   "execution_count": 30,
   "id": "a580458a-e49e-44d5-952b-f6c3ee2acffe",
   "metadata": {},
   "outputs": [
    {
     "data": {
      "text/plain": [
       "<seaborn.axisgrid.FacetGrid at 0x1f2bc555050>"
      ]
     },
     "execution_count": 30,
     "metadata": {},
     "output_type": "execute_result"
    },
    {
     "data": {
      "image/png": "[encoded data removed]",
      "text/plain": [
       "<Figure size 558.875x500 with 1 Axes>"
      ]
     },
     "metadata": {},
     "output_type": "display_data"
    }
   ],
   "source": [
    "sns.catplot(data=train, x='Sex', y='Survived', hue='Pclass', kind='bar')"
   ]
  },
  {
   "cell_type": "markdown",
   "id": "67b5f529-921c-41f8-bd5d-5ac2a8a5242b",
   "metadata": {},
   "source": [
    "We can clearly see that overall women had highest survival rate, especially those from first and second class. We can assume that when we fill Age NaN's we can get even better picture with enginnered feature \"children\" that we will separate from both male and female features."
   ]
  },
  {
   "cell_type": "markdown",
   "id": "7ce23594-06cc-44dd-8bc8-79dcbc1a9510",
   "metadata": {},
   "source": [
    "##### 4.2.4 Cabin"
   ]
  },
  {
   "cell_type": "code",
   "execution_count": 31,
   "id": "5e7de632-ac00-4c65-b74c-0c29821370db",
   "metadata": {},
   "outputs": [],
   "source": [
    "train['Cabin'] = train['Cabin'].astype(str)\n",
    "test['Cabin'] = test['Cabin'].astype(str)"
   ]
  },
  {
   "cell_type": "code",
   "execution_count": 32,
   "id": "c41b2bf8-fe09-4187-bd49-0d4b4abcc821",
   "metadata": {
    "scrolled": true
   },
   "outputs": [
    {
     "data": {
      "text/plain": [
       "Cabin\n",
       "A10    0.000000\n",
       "A14    0.000000\n",
       "A16    1.000000\n",
       "A19    0.000000\n",
       "A20    1.000000\n",
       "         ...   \n",
       "F38    0.000000\n",
       "F4     1.000000\n",
       "G6     0.500000\n",
       "T      0.000000\n",
       "nan    0.299854\n",
       "Name: Survived, Length: 148, dtype: float64"
      ]
     },
     "execution_count": 32,
     "metadata": {},
     "output_type": "execute_result"
    }
   ],
   "source": [
    "train.query('Cabin.notnull()').groupby('Cabin')['Survived'].mean()"
   ]
  },
  {
   "cell_type": "markdown",
   "id": "b8329625-9f57-4f0c-bb94-3d113629e4f5",
   "metadata": {},
   "source": [
    "In Feature engineering part I will try to use cabin feature to vreate a new one."
   ]
  },
  {
   "cell_type": "markdown",
   "id": "f6cd4c77-c263-49e8-b1ec-1a45c7237305",
   "metadata": {},
   "source": [
    "##### 4.2.5 Embarked"
   ]
  },
  {
   "cell_type": "code",
   "execution_count": 33,
   "id": "d5bf7c6b-7e47-433f-a9ab-5a9c320e665e",
   "metadata": {},
   "outputs": [
    {
     "data": {
      "text/plain": [
       "Embarked\n",
       "S    644\n",
       "C    168\n",
       "Q     77\n",
       "Name: count, dtype: int64"
      ]
     },
     "execution_count": 33,
     "metadata": {},
     "output_type": "execute_result"
    }
   ],
   "source": [
    "train.Embarked.value_counts()"
   ]
  },
  {
   "cell_type": "code",
   "execution_count": 34,
   "id": "c6ea953d-735d-4391-a3b3-b63612b3ad3d",
   "metadata": {},
   "outputs": [
    {
     "data": {
      "text/plain": [
       "2"
      ]
     },
     "execution_count": 34,
     "metadata": {},
     "output_type": "execute_result"
    }
   ],
   "source": [
    "train.Embarked.isnull().sum()"
   ]
  },
  {
   "cell_type": "code",
   "execution_count": 35,
   "id": "c38d975a-d5fc-4929-8a03-f752aab12002",
   "metadata": {},
   "outputs": [
    {
     "data": {
      "text/plain": [
       "Embarked\n",
       "C    0.553571\n",
       "Q    0.389610\n",
       "S    0.336957\n",
       "Name: Survived, dtype: float64"
      ]
     },
     "execution_count": 35,
     "metadata": {},
     "output_type": "execute_result"
    }
   ],
   "source": [
    "train.groupby('Embarked')['Survived'].mean()"
   ]
  },
  {
   "cell_type": "code",
   "execution_count": 36,
   "id": "de26ee45-2c9a-4785-99b1-48f0eff49144",
   "metadata": {},
   "outputs": [
    {
     "data": {
      "text/plain": [
       "<seaborn.axisgrid.FacetGrid at 0x1f2bc609a10>"
      ]
     },
     "execution_count": 36,
     "metadata": {},
     "output_type": "execute_result"
    },
    {
     "data": {
      "image/png": "[encoded data removed]",
      "text/plain": [
       "<Figure size 1058.88x500 with 2 Axes>"
      ]
     },
     "metadata": {},
     "output_type": "display_data"
    }
   ],
   "source": [
    "sns.catplot(data=train, x='Embarked', col='Survived', hue='Pclass' , kind='count' )"
   ]
  },
  {
   "cell_type": "markdown",
   "id": "b28eef29-2968-4c9c-b971-5da9ced6fb1a",
   "metadata": {},
   "source": [
    "##### 4.3.5 Ticket"
   ]
  },
  {
   "cell_type": "code",
   "execution_count": null,
   "id": "04bbc7ca-a8a4-4d1e-8166-62d8ccf1eabc",
   "metadata": {},
   "outputs": [],
   "source": []
  },
  {
   "cell_type": "code",
   "execution_count": null,
   "id": "2c0f4e90-f654-4d83-89e7-2eaa8ad9acfd",
   "metadata": {},
   "outputs": [],
   "source": []
  },
  {
   "cell_type": "code",
   "execution_count": null,
   "id": "0ca9d099-da73-4d21-8a99-75dd5ddc341b",
   "metadata": {},
   "outputs": [],
   "source": []
  },
  {
   "cell_type": "code",
   "execution_count": null,
   "id": "4d891837-da5b-4cd6-adb5-e05598267b75",
   "metadata": {},
   "outputs": [],
   "source": []
  },
  {
   "cell_type": "code",
   "execution_count": null,
   "id": "8f08bbec-9903-42fa-ab47-4f724f2d0daf",
   "metadata": {},
   "outputs": [],
   "source": []
  },
  {
   "cell_type": "code",
   "execution_count": null,
   "id": "13043812-26be-4459-b58c-df4d66a10eb4",
   "metadata": {},
   "outputs": [],
   "source": []
  },
  {
   "cell_type": "code",
   "execution_count": null,
   "id": "a9f30aec-fc90-46ce-a771-99c1d27e3b56",
   "metadata": {},
   "outputs": [],
   "source": []
  },
  {
   "cell_type": "code",
   "execution_count": null,
   "id": "898b6b45-33a5-48d8-9c94-14c0470ee9ab",
   "metadata": {},
   "outputs": [],
   "source": []
  },
  {
   "cell_type": "code",
   "execution_count": null,
   "id": "b625729d-abed-4cd1-b2d1-5adcee670198",
   "metadata": {},
   "outputs": [],
   "source": []
  },
  {
   "cell_type": "markdown",
   "id": "f2c48578-9c2f-4792-8ddd-d79c8401a5a5",
   "metadata": {},
   "source": [
    "##### 4.3 Numerical features.\n",
    "* 4.3.1 Detecting and removing outliers\n",
    "* 4.3.2 Age - num\n",
    "* 4.3.3 SibSp - num\n",
    "* 4.3.4 Parch - num\n",
    "* 4.3.5 Fare - num"
   ]
  },
  {
   "cell_type": "markdown",
   "id": "6cfcbc6e-0830-4f35-9859-7b08c535f2cc",
   "metadata": {},
   "source": [
    "##### 4.3.1 Detecting and removing outliers."
   ]
  },
  {
   "cell_type": "code",
   "execution_count": 37,
   "id": "cce312e6-03a8-48b1-bb17-5a004243ab75",
   "metadata": {},
   "outputs": [
    {
     "data": {
      "text/html": [
       "<div>\n",
       "<style scoped>\n",
       "    .dataframe tbody tr th:only-of-type {\n",
       "        vertical-align: middle;\n",
       "    }\n",
       "\n",
       "    .dataframe tbody tr th {\n",
       "        vertical-align: top;\n",
       "    }\n",
       "\n",
       "    .dataframe thead th {\n",
       "        text-align: right;\n",
       "    }\n",
       "</style>\n",
       "<table border=\"1\" class=\"dataframe\">\n",
       "  <thead>\n",
       "    <tr style=\"text-align: right;\">\n",
       "      <th></th>\n",
       "      <th>PassengerId</th>\n",
       "      <th>Survived</th>\n",
       "      <th>Pclass</th>\n",
       "      <th>Name</th>\n",
       "      <th>Sex</th>\n",
       "      <th>Age</th>\n",
       "      <th>SibSp</th>\n",
       "      <th>Parch</th>\n",
       "      <th>Ticket</th>\n",
       "      <th>Fare</th>\n",
       "      <th>Cabin</th>\n",
       "      <th>Embarked</th>\n",
       "    </tr>\n",
       "  </thead>\n",
       "  <tbody>\n",
       "    <tr>\n",
       "      <th>0</th>\n",
       "      <td>1</td>\n",
       "      <td>0</td>\n",
       "      <td>3</td>\n",
       "      <td>Braund, Mr. Owen Harris</td>\n",
       "      <td>male</td>\n",
       "      <td>22.0</td>\n",
       "      <td>1</td>\n",
       "      <td>0</td>\n",
       "      <td>A/5 21171</td>\n",
       "      <td>7.2500</td>\n",
       "      <td>nan</td>\n",
       "      <td>S</td>\n",
       "    </tr>\n",
       "    <tr>\n",
       "      <th>1</th>\n",
       "      <td>2</td>\n",
       "      <td>1</td>\n",
       "      <td>1</td>\n",
       "      <td>Cumings, Mrs. John Bradley (Florence Briggs Th...</td>\n",
       "      <td>female</td>\n",
       "      <td>38.0</td>\n",
       "      <td>1</td>\n",
       "      <td>0</td>\n",
       "      <td>PC 17599</td>\n",
       "      <td>71.2833</td>\n",
       "      <td>C85</td>\n",
       "      <td>C</td>\n",
       "    </tr>\n",
       "    <tr>\n",
       "      <th>2</th>\n",
       "      <td>3</td>\n",
       "      <td>1</td>\n",
       "      <td>3</td>\n",
       "      <td>Heikkinen, Miss. Laina</td>\n",
       "      <td>female</td>\n",
       "      <td>26.0</td>\n",
       "      <td>0</td>\n",
       "      <td>0</td>\n",
       "      <td>STON/O2. 3101282</td>\n",
       "      <td>7.9250</td>\n",
       "      <td>nan</td>\n",
       "      <td>S</td>\n",
       "    </tr>\n",
       "    <tr>\n",
       "      <th>3</th>\n",
       "      <td>4</td>\n",
       "      <td>1</td>\n",
       "      <td>1</td>\n",
       "      <td>Futrelle, Mrs. Jacques Heath (Lily May Peel)</td>\n",
       "      <td>female</td>\n",
       "      <td>35.0</td>\n",
       "      <td>1</td>\n",
       "      <td>0</td>\n",
       "      <td>113803</td>\n",
       "      <td>53.1000</td>\n",
       "      <td>C123</td>\n",
       "      <td>S</td>\n",
       "    </tr>\n",
       "    <tr>\n",
       "      <th>4</th>\n",
       "      <td>5</td>\n",
       "      <td>0</td>\n",
       "      <td>3</td>\n",
       "      <td>Allen, Mr. William Henry</td>\n",
       "      <td>male</td>\n",
       "      <td>35.0</td>\n",
       "      <td>0</td>\n",
       "      <td>0</td>\n",
       "      <td>373450</td>\n",
       "      <td>8.0500</td>\n",
       "      <td>nan</td>\n",
       "      <td>S</td>\n",
       "    </tr>\n",
       "  </tbody>\n",
       "</table>\n",
       "</div>"
      ],
      "text/plain": [
       "   PassengerId  Survived  Pclass  \\\n",
       "0            1         0       3   \n",
       "1            2         1       1   \n",
       "2            3         1       3   \n",
       "3            4         1       1   \n",
       "4            5         0       3   \n",
       "\n",
       "                                                Name     Sex   Age  SibSp  \\\n",
       "0                            Braund, Mr. Owen Harris    male  22.0      1   \n",
       "1  Cumings, Mrs. John Bradley (Florence Briggs Th...  female  38.0      1   \n",
       "2                             Heikkinen, Miss. Laina  female  26.0      0   \n",
       "3       Futrelle, Mrs. Jacques Heath (Lily May Peel)  female  35.0      1   \n",
       "4                           Allen, Mr. William Henry    male  35.0      0   \n",
       "\n",
       "   Parch            Ticket     Fare Cabin Embarked  \n",
       "0      0         A/5 21171   7.2500   nan        S  \n",
       "1      0          PC 17599  71.2833   C85        C  \n",
       "2      0  STON/O2. 3101282   7.9250   nan        S  \n",
       "3      0            113803  53.1000  C123        S  \n",
       "4      0            373450   8.0500   nan        S  "
      ]
     },
     "execution_count": 37,
     "metadata": {},
     "output_type": "execute_result"
    }
   ],
   "source": [
    "train.head()"
   ]
  },
  {
   "cell_type": "code",
   "execution_count": 38,
   "id": "18a0b462-3361-449f-a47d-1f6808827111",
   "metadata": {},
   "outputs": [
    {
     "name": "stdout",
     "output_type": "stream",
     "text": [
      "[27, 88, 159, 180, 201, 324, 341, 792, 846, 863]\n"
     ]
    }
   ],
   "source": [
    "def outlier_detection(df, n, features):\n",
    "    outlier_indices = []\n",
    "    for col in features:\n",
    "        Q1 = np.percentile(df[col], 25)\n",
    "        Q3 = np.percentile(df[col], 75)\n",
    "        IQR = Q3 - Q1\n",
    "        outlier_step = 1.5 * IQR\n",
    "        outlier = df[(df[col] < Q1 - outlier_step) | (df[col] > Q3 + outlier_step)].index\n",
    "        outlier_indices.extend(outlier)\n",
    "    outlier_indices = Counter(outlier_indices)\n",
    "    outlier_frequency = list(key for key, value in outlier_indices.items() if value > n)\n",
    "    return outlier_frequency\n",
    "\n",
    "print(outlier_detection(train, 2, ['Age', 'SibSp', 'Parch', 'Fare']))"
   ]
  },
  {
   "cell_type": "code",
   "execution_count": 39,
   "id": "cb11f4ef-71fb-49a5-9113-06f70a939a47",
   "metadata": {},
   "outputs": [
    {
     "data": {
      "text/html": [
       "<div>\n",
       "<style scoped>\n",
       "    .dataframe tbody tr th:only-of-type {\n",
       "        vertical-align: middle;\n",
       "    }\n",
       "\n",
       "    .dataframe tbody tr th {\n",
       "        vertical-align: top;\n",
       "    }\n",
       "\n",
       "    .dataframe thead th {\n",
       "        text-align: right;\n",
       "    }\n",
       "</style>\n",
       "<table border=\"1\" class=\"dataframe\">\n",
       "  <thead>\n",
       "    <tr style=\"text-align: right;\">\n",
       "      <th></th>\n",
       "      <th>PassengerId</th>\n",
       "      <th>Survived</th>\n",
       "      <th>Pclass</th>\n",
       "      <th>Name</th>\n",
       "      <th>Sex</th>\n",
       "      <th>Age</th>\n",
       "      <th>SibSp</th>\n",
       "      <th>Parch</th>\n",
       "      <th>Ticket</th>\n",
       "      <th>Fare</th>\n",
       "      <th>Cabin</th>\n",
       "      <th>Embarked</th>\n",
       "    </tr>\n",
       "  </thead>\n",
       "  <tbody>\n",
       "    <tr>\n",
       "      <th>27</th>\n",
       "      <td>28</td>\n",
       "      <td>0</td>\n",
       "      <td>1</td>\n",
       "      <td>Fortune, Mr. Charles Alexander</td>\n",
       "      <td>male</td>\n",
       "      <td>19.0</td>\n",
       "      <td>3</td>\n",
       "      <td>2</td>\n",
       "      <td>19950</td>\n",
       "      <td>263.00</td>\n",
       "      <td>C23 C25 C27</td>\n",
       "      <td>S</td>\n",
       "    </tr>\n",
       "    <tr>\n",
       "      <th>88</th>\n",
       "      <td>89</td>\n",
       "      <td>1</td>\n",
       "      <td>1</td>\n",
       "      <td>Fortune, Miss. Mabel Helen</td>\n",
       "      <td>female</td>\n",
       "      <td>23.0</td>\n",
       "      <td>3</td>\n",
       "      <td>2</td>\n",
       "      <td>19950</td>\n",
       "      <td>263.00</td>\n",
       "      <td>C23 C25 C27</td>\n",
       "      <td>S</td>\n",
       "    </tr>\n",
       "    <tr>\n",
       "      <th>341</th>\n",
       "      <td>342</td>\n",
       "      <td>1</td>\n",
       "      <td>1</td>\n",
       "      <td>Fortune, Miss. Alice Elizabeth</td>\n",
       "      <td>female</td>\n",
       "      <td>24.0</td>\n",
       "      <td>3</td>\n",
       "      <td>2</td>\n",
       "      <td>19950</td>\n",
       "      <td>263.00</td>\n",
       "      <td>C23 C25 C27</td>\n",
       "      <td>S</td>\n",
       "    </tr>\n",
       "    <tr>\n",
       "      <th>159</th>\n",
       "      <td>160</td>\n",
       "      <td>0</td>\n",
       "      <td>3</td>\n",
       "      <td>Sage, Master. Thomas Henry</td>\n",
       "      <td>male</td>\n",
       "      <td>NaN</td>\n",
       "      <td>8</td>\n",
       "      <td>2</td>\n",
       "      <td>CA. 2343</td>\n",
       "      <td>69.55</td>\n",
       "      <td>nan</td>\n",
       "      <td>S</td>\n",
       "    </tr>\n",
       "    <tr>\n",
       "      <th>180</th>\n",
       "      <td>181</td>\n",
       "      <td>0</td>\n",
       "      <td>3</td>\n",
       "      <td>Sage, Miss. Constance Gladys</td>\n",
       "      <td>female</td>\n",
       "      <td>NaN</td>\n",
       "      <td>8</td>\n",
       "      <td>2</td>\n",
       "      <td>CA. 2343</td>\n",
       "      <td>69.55</td>\n",
       "      <td>nan</td>\n",
       "      <td>S</td>\n",
       "    </tr>\n",
       "    <tr>\n",
       "      <th>201</th>\n",
       "      <td>202</td>\n",
       "      <td>0</td>\n",
       "      <td>3</td>\n",
       "      <td>Sage, Mr. Frederick</td>\n",
       "      <td>male</td>\n",
       "      <td>NaN</td>\n",
       "      <td>8</td>\n",
       "      <td>2</td>\n",
       "      <td>CA. 2343</td>\n",
       "      <td>69.55</td>\n",
       "      <td>nan</td>\n",
       "      <td>S</td>\n",
       "    </tr>\n",
       "    <tr>\n",
       "      <th>324</th>\n",
       "      <td>325</td>\n",
       "      <td>0</td>\n",
       "      <td>3</td>\n",
       "      <td>Sage, Mr. George John Jr</td>\n",
       "      <td>male</td>\n",
       "      <td>NaN</td>\n",
       "      <td>8</td>\n",
       "      <td>2</td>\n",
       "      <td>CA. 2343</td>\n",
       "      <td>69.55</td>\n",
       "      <td>nan</td>\n",
       "      <td>S</td>\n",
       "    </tr>\n",
       "    <tr>\n",
       "      <th>792</th>\n",
       "      <td>793</td>\n",
       "      <td>0</td>\n",
       "      <td>3</td>\n",
       "      <td>Sage, Miss. Stella Anna</td>\n",
       "      <td>female</td>\n",
       "      <td>NaN</td>\n",
       "      <td>8</td>\n",
       "      <td>2</td>\n",
       "      <td>CA. 2343</td>\n",
       "      <td>69.55</td>\n",
       "      <td>nan</td>\n",
       "      <td>S</td>\n",
       "    </tr>\n",
       "    <tr>\n",
       "      <th>846</th>\n",
       "      <td>847</td>\n",
       "      <td>0</td>\n",
       "      <td>3</td>\n",
       "      <td>Sage, Mr. Douglas Bullen</td>\n",
       "      <td>male</td>\n",
       "      <td>NaN</td>\n",
       "      <td>8</td>\n",
       "      <td>2</td>\n",
       "      <td>CA. 2343</td>\n",
       "      <td>69.55</td>\n",
       "      <td>nan</td>\n",
       "      <td>S</td>\n",
       "    </tr>\n",
       "    <tr>\n",
       "      <th>863</th>\n",
       "      <td>864</td>\n",
       "      <td>0</td>\n",
       "      <td>3</td>\n",
       "      <td>Sage, Miss. Dorothy Edith \"Dolly\"</td>\n",
       "      <td>female</td>\n",
       "      <td>NaN</td>\n",
       "      <td>8</td>\n",
       "      <td>2</td>\n",
       "      <td>CA. 2343</td>\n",
       "      <td>69.55</td>\n",
       "      <td>nan</td>\n",
       "      <td>S</td>\n",
       "    </tr>\n",
       "  </tbody>\n",
       "</table>\n",
       "</div>"
      ],
      "text/plain": [
       "     PassengerId  Survived  Pclass                               Name     Sex  \\\n",
       "27            28         0       1     Fortune, Mr. Charles Alexander    male   \n",
       "88            89         1       1         Fortune, Miss. Mabel Helen  female   \n",
       "341          342         1       1     Fortune, Miss. Alice Elizabeth  female   \n",
       "159          160         0       3         Sage, Master. Thomas Henry    male   \n",
       "180          181         0       3       Sage, Miss. Constance Gladys  female   \n",
       "201          202         0       3                Sage, Mr. Frederick    male   \n",
       "324          325         0       3           Sage, Mr. George John Jr    male   \n",
       "792          793         0       3            Sage, Miss. Stella Anna  female   \n",
       "846          847         0       3           Sage, Mr. Douglas Bullen    male   \n",
       "863          864         0       3  Sage, Miss. Dorothy Edith \"Dolly\"  female   \n",
       "\n",
       "      Age  SibSp  Parch    Ticket    Fare        Cabin Embarked  \n",
       "27   19.0      3      2     19950  263.00  C23 C25 C27        S  \n",
       "88   23.0      3      2     19950  263.00  C23 C25 C27        S  \n",
       "341  24.0      3      2     19950  263.00  C23 C25 C27        S  \n",
       "159   NaN      8      2  CA. 2343   69.55          nan        S  \n",
       "180   NaN      8      2  CA. 2343   69.55          nan        S  \n",
       "201   NaN      8      2  CA. 2343   69.55          nan        S  \n",
       "324   NaN      8      2  CA. 2343   69.55          nan        S  \n",
       "792   NaN      8      2  CA. 2343   69.55          nan        S  \n",
       "846   NaN      8      2  CA. 2343   69.55          nan        S  \n",
       "863   NaN      8      2  CA. 2343   69.55          nan        S  "
      ]
     },
     "execution_count": 39,
     "metadata": {},
     "output_type": "execute_result"
    }
   ],
   "source": [
    "outlier_indices = outlier_detection(train, 2, ['Age', 'SibSp','Parch', 'Fare'])\n",
    "filtered_train = train.query('index in @outlier_indices').sort_values('Fare', ascending=False)\n",
    "filtered_train"
   ]
  },
  {
   "cell_type": "markdown",
   "id": "409e3f3e-072b-4a52-a336-b03d1d962801",
   "metadata": {},
   "source": [
    "Although using a general definition of outliers, we have found 10 indices that fit the definition after close inspection I dont belive they should be removed. Those 10 indices are people that payed a lot more then the median for their ticket and are very young or have a lot of siblings. The purpose of finding outliers is to  identify and remove sensor errors, spreadsheet sums, typos or unuasal high values. After close inspection I belive all 10 indices to be valued data points and not outliers."
   ]
  },
  {
   "cell_type": "code",
   "execution_count": 40,
   "id": "9d98fd19-9f57-4648-a2df-0334d4c2ec3e",
   "metadata": {
    "scrolled": true
   },
   "outputs": [
    {
     "data": {
      "text/html": [
       "<div>\n",
       "<style scoped>\n",
       "    .dataframe tbody tr th:only-of-type {\n",
       "        vertical-align: middle;\n",
       "    }\n",
       "\n",
       "    .dataframe tbody tr th {\n",
       "        vertical-align: top;\n",
       "    }\n",
       "\n",
       "    .dataframe thead th {\n",
       "        text-align: right;\n",
       "    }\n",
       "</style>\n",
       "<table border=\"1\" class=\"dataframe\">\n",
       "  <thead>\n",
       "    <tr style=\"text-align: right;\">\n",
       "      <th></th>\n",
       "      <th>PassengerId</th>\n",
       "      <th>Survived</th>\n",
       "      <th>Pclass</th>\n",
       "      <th>Name</th>\n",
       "      <th>Sex</th>\n",
       "      <th>Age</th>\n",
       "      <th>SibSp</th>\n",
       "      <th>Parch</th>\n",
       "      <th>Ticket</th>\n",
       "      <th>Fare</th>\n",
       "      <th>Cabin</th>\n",
       "      <th>Embarked</th>\n",
       "    </tr>\n",
       "  </thead>\n",
       "  <tbody>\n",
       "    <tr>\n",
       "      <th>737</th>\n",
       "      <td>738</td>\n",
       "      <td>1</td>\n",
       "      <td>1</td>\n",
       "      <td>Lesurer, Mr. Gustave J</td>\n",
       "      <td>male</td>\n",
       "      <td>35.00</td>\n",
       "      <td>0</td>\n",
       "      <td>0</td>\n",
       "      <td>PC 17755</td>\n",
       "      <td>512.3292</td>\n",
       "      <td>B101</td>\n",
       "      <td>C</td>\n",
       "    </tr>\n",
       "    <tr>\n",
       "      <th>258</th>\n",
       "      <td>259</td>\n",
       "      <td>1</td>\n",
       "      <td>1</td>\n",
       "      <td>Ward, Miss. Anna</td>\n",
       "      <td>female</td>\n",
       "      <td>35.00</td>\n",
       "      <td>0</td>\n",
       "      <td>0</td>\n",
       "      <td>PC 17755</td>\n",
       "      <td>512.3292</td>\n",
       "      <td>nan</td>\n",
       "      <td>C</td>\n",
       "    </tr>\n",
       "    <tr>\n",
       "      <th>679</th>\n",
       "      <td>680</td>\n",
       "      <td>1</td>\n",
       "      <td>1</td>\n",
       "      <td>Cardeza, Mr. Thomas Drake Martinez</td>\n",
       "      <td>male</td>\n",
       "      <td>36.00</td>\n",
       "      <td>0</td>\n",
       "      <td>1</td>\n",
       "      <td>PC 17755</td>\n",
       "      <td>512.3292</td>\n",
       "      <td>B51 B53 B55</td>\n",
       "      <td>C</td>\n",
       "    </tr>\n",
       "    <tr>\n",
       "      <th>27</th>\n",
       "      <td>28</td>\n",
       "      <td>0</td>\n",
       "      <td>1</td>\n",
       "      <td>Fortune, Mr. Charles Alexander</td>\n",
       "      <td>male</td>\n",
       "      <td>19.00</td>\n",
       "      <td>3</td>\n",
       "      <td>2</td>\n",
       "      <td>19950</td>\n",
       "      <td>263.0000</td>\n",
       "      <td>C23 C25 C27</td>\n",
       "      <td>S</td>\n",
       "    </tr>\n",
       "    <tr>\n",
       "      <th>341</th>\n",
       "      <td>342</td>\n",
       "      <td>1</td>\n",
       "      <td>1</td>\n",
       "      <td>Fortune, Miss. Alice Elizabeth</td>\n",
       "      <td>female</td>\n",
       "      <td>24.00</td>\n",
       "      <td>3</td>\n",
       "      <td>2</td>\n",
       "      <td>19950</td>\n",
       "      <td>263.0000</td>\n",
       "      <td>C23 C25 C27</td>\n",
       "      <td>S</td>\n",
       "    </tr>\n",
       "    <tr>\n",
       "      <th>88</th>\n",
       "      <td>89</td>\n",
       "      <td>1</td>\n",
       "      <td>1</td>\n",
       "      <td>Fortune, Miss. Mabel Helen</td>\n",
       "      <td>female</td>\n",
       "      <td>23.00</td>\n",
       "      <td>3</td>\n",
       "      <td>2</td>\n",
       "      <td>19950</td>\n",
       "      <td>263.0000</td>\n",
       "      <td>C23 C25 C27</td>\n",
       "      <td>S</td>\n",
       "    </tr>\n",
       "    <tr>\n",
       "      <th>438</th>\n",
       "      <td>439</td>\n",
       "      <td>0</td>\n",
       "      <td>1</td>\n",
       "      <td>Fortune, Mr. Mark</td>\n",
       "      <td>male</td>\n",
       "      <td>64.00</td>\n",
       "      <td>1</td>\n",
       "      <td>4</td>\n",
       "      <td>19950</td>\n",
       "      <td>263.0000</td>\n",
       "      <td>C23 C25 C27</td>\n",
       "      <td>S</td>\n",
       "    </tr>\n",
       "    <tr>\n",
       "      <th>742</th>\n",
       "      <td>743</td>\n",
       "      <td>1</td>\n",
       "      <td>1</td>\n",
       "      <td>Ryerson, Miss. Susan Parker \"Suzette\"</td>\n",
       "      <td>female</td>\n",
       "      <td>21.00</td>\n",
       "      <td>2</td>\n",
       "      <td>2</td>\n",
       "      <td>PC 17608</td>\n",
       "      <td>262.3750</td>\n",
       "      <td>B57 B59 B63 B66</td>\n",
       "      <td>C</td>\n",
       "    </tr>\n",
       "    <tr>\n",
       "      <th>311</th>\n",
       "      <td>312</td>\n",
       "      <td>1</td>\n",
       "      <td>1</td>\n",
       "      <td>Ryerson, Miss. Emily Borie</td>\n",
       "      <td>female</td>\n",
       "      <td>18.00</td>\n",
       "      <td>2</td>\n",
       "      <td>2</td>\n",
       "      <td>PC 17608</td>\n",
       "      <td>262.3750</td>\n",
       "      <td>B57 B59 B63 B66</td>\n",
       "      <td>C</td>\n",
       "    </tr>\n",
       "    <tr>\n",
       "      <th>299</th>\n",
       "      <td>300</td>\n",
       "      <td>1</td>\n",
       "      <td>1</td>\n",
       "      <td>Baxter, Mrs. James (Helene DeLaudeniere Chaput)</td>\n",
       "      <td>female</td>\n",
       "      <td>50.00</td>\n",
       "      <td>0</td>\n",
       "      <td>1</td>\n",
       "      <td>PC 17558</td>\n",
       "      <td>247.5208</td>\n",
       "      <td>B58 B60</td>\n",
       "      <td>C</td>\n",
       "    </tr>\n",
       "    <tr>\n",
       "      <th>118</th>\n",
       "      <td>119</td>\n",
       "      <td>0</td>\n",
       "      <td>1</td>\n",
       "      <td>Baxter, Mr. Quigg Edmond</td>\n",
       "      <td>male</td>\n",
       "      <td>24.00</td>\n",
       "      <td>0</td>\n",
       "      <td>1</td>\n",
       "      <td>PC 17558</td>\n",
       "      <td>247.5208</td>\n",
       "      <td>B58 B60</td>\n",
       "      <td>C</td>\n",
       "    </tr>\n",
       "    <tr>\n",
       "      <th>716</th>\n",
       "      <td>717</td>\n",
       "      <td>1</td>\n",
       "      <td>1</td>\n",
       "      <td>Endres, Miss. Caroline Louise</td>\n",
       "      <td>female</td>\n",
       "      <td>38.00</td>\n",
       "      <td>0</td>\n",
       "      <td>0</td>\n",
       "      <td>PC 17757</td>\n",
       "      <td>227.5250</td>\n",
       "      <td>C45</td>\n",
       "      <td>C</td>\n",
       "    </tr>\n",
       "    <tr>\n",
       "      <th>380</th>\n",
       "      <td>381</td>\n",
       "      <td>1</td>\n",
       "      <td>1</td>\n",
       "      <td>Bidois, Miss. Rosalie</td>\n",
       "      <td>female</td>\n",
       "      <td>42.00</td>\n",
       "      <td>0</td>\n",
       "      <td>0</td>\n",
       "      <td>PC 17757</td>\n",
       "      <td>227.5250</td>\n",
       "      <td>nan</td>\n",
       "      <td>C</td>\n",
       "    </tr>\n",
       "    <tr>\n",
       "      <th>557</th>\n",
       "      <td>558</td>\n",
       "      <td>0</td>\n",
       "      <td>1</td>\n",
       "      <td>Robbins, Mr. Victor</td>\n",
       "      <td>male</td>\n",
       "      <td>NaN</td>\n",
       "      <td>0</td>\n",
       "      <td>0</td>\n",
       "      <td>PC 17757</td>\n",
       "      <td>227.5250</td>\n",
       "      <td>nan</td>\n",
       "      <td>C</td>\n",
       "    </tr>\n",
       "    <tr>\n",
       "      <th>700</th>\n",
       "      <td>701</td>\n",
       "      <td>1</td>\n",
       "      <td>1</td>\n",
       "      <td>Astor, Mrs. John Jacob (Madeleine Talmadge Force)</td>\n",
       "      <td>female</td>\n",
       "      <td>18.00</td>\n",
       "      <td>1</td>\n",
       "      <td>0</td>\n",
       "      <td>PC 17757</td>\n",
       "      <td>227.5250</td>\n",
       "      <td>C62 C64</td>\n",
       "      <td>C</td>\n",
       "    </tr>\n",
       "    <tr>\n",
       "      <th>527</th>\n",
       "      <td>528</td>\n",
       "      <td>0</td>\n",
       "      <td>1</td>\n",
       "      <td>Farthing, Mr. John</td>\n",
       "      <td>male</td>\n",
       "      <td>NaN</td>\n",
       "      <td>0</td>\n",
       "      <td>0</td>\n",
       "      <td>PC 17483</td>\n",
       "      <td>221.7792</td>\n",
       "      <td>C95</td>\n",
       "      <td>S</td>\n",
       "    </tr>\n",
       "    <tr>\n",
       "      <th>377</th>\n",
       "      <td>378</td>\n",
       "      <td>0</td>\n",
       "      <td>1</td>\n",
       "      <td>Widener, Mr. Harry Elkins</td>\n",
       "      <td>male</td>\n",
       "      <td>27.00</td>\n",
       "      <td>0</td>\n",
       "      <td>2</td>\n",
       "      <td>113503</td>\n",
       "      <td>211.5000</td>\n",
       "      <td>C82</td>\n",
       "      <td>C</td>\n",
       "    </tr>\n",
       "    <tr>\n",
       "      <th>779</th>\n",
       "      <td>780</td>\n",
       "      <td>1</td>\n",
       "      <td>1</td>\n",
       "      <td>Robert, Mrs. Edward Scott (Elisabeth Walton Mc...</td>\n",
       "      <td>female</td>\n",
       "      <td>43.00</td>\n",
       "      <td>0</td>\n",
       "      <td>1</td>\n",
       "      <td>24160</td>\n",
       "      <td>211.3375</td>\n",
       "      <td>B3</td>\n",
       "      <td>S</td>\n",
       "    </tr>\n",
       "    <tr>\n",
       "      <th>730</th>\n",
       "      <td>731</td>\n",
       "      <td>1</td>\n",
       "      <td>1</td>\n",
       "      <td>Allen, Miss. Elisabeth Walton</td>\n",
       "      <td>female</td>\n",
       "      <td>29.00</td>\n",
       "      <td>0</td>\n",
       "      <td>0</td>\n",
       "      <td>24160</td>\n",
       "      <td>211.3375</td>\n",
       "      <td>B5</td>\n",
       "      <td>S</td>\n",
       "    </tr>\n",
       "    <tr>\n",
       "      <th>689</th>\n",
       "      <td>690</td>\n",
       "      <td>1</td>\n",
       "      <td>1</td>\n",
       "      <td>Madill, Miss. Georgette Alexandra</td>\n",
       "      <td>female</td>\n",
       "      <td>15.00</td>\n",
       "      <td>0</td>\n",
       "      <td>1</td>\n",
       "      <td>24160</td>\n",
       "      <td>211.3375</td>\n",
       "      <td>B5</td>\n",
       "      <td>S</td>\n",
       "    </tr>\n",
       "    <tr>\n",
       "      <th>856</th>\n",
       "      <td>857</td>\n",
       "      <td>1</td>\n",
       "      <td>1</td>\n",
       "      <td>Wick, Mrs. George Dennick (Mary Hitchcock)</td>\n",
       "      <td>female</td>\n",
       "      <td>45.00</td>\n",
       "      <td>1</td>\n",
       "      <td>1</td>\n",
       "      <td>36928</td>\n",
       "      <td>164.8667</td>\n",
       "      <td>nan</td>\n",
       "      <td>S</td>\n",
       "    </tr>\n",
       "    <tr>\n",
       "      <th>318</th>\n",
       "      <td>319</td>\n",
       "      <td>1</td>\n",
       "      <td>1</td>\n",
       "      <td>Wick, Miss. Mary Natalie</td>\n",
       "      <td>female</td>\n",
       "      <td>31.00</td>\n",
       "      <td>0</td>\n",
       "      <td>2</td>\n",
       "      <td>36928</td>\n",
       "      <td>164.8667</td>\n",
       "      <td>C7</td>\n",
       "      <td>S</td>\n",
       "    </tr>\n",
       "    <tr>\n",
       "      <th>609</th>\n",
       "      <td>610</td>\n",
       "      <td>1</td>\n",
       "      <td>1</td>\n",
       "      <td>Shutes, Miss. Elizabeth W</td>\n",
       "      <td>female</td>\n",
       "      <td>40.00</td>\n",
       "      <td>0</td>\n",
       "      <td>0</td>\n",
       "      <td>PC 17582</td>\n",
       "      <td>153.4625</td>\n",
       "      <td>C125</td>\n",
       "      <td>S</td>\n",
       "    </tr>\n",
       "    <tr>\n",
       "      <th>268</th>\n",
       "      <td>269</td>\n",
       "      <td>1</td>\n",
       "      <td>1</td>\n",
       "      <td>Graham, Mrs. William Thompson (Edith Junkins)</td>\n",
       "      <td>female</td>\n",
       "      <td>58.00</td>\n",
       "      <td>0</td>\n",
       "      <td>1</td>\n",
       "      <td>PC 17582</td>\n",
       "      <td>153.4625</td>\n",
       "      <td>C125</td>\n",
       "      <td>S</td>\n",
       "    </tr>\n",
       "    <tr>\n",
       "      <th>332</th>\n",
       "      <td>333</td>\n",
       "      <td>0</td>\n",
       "      <td>1</td>\n",
       "      <td>Graham, Mr. George Edward</td>\n",
       "      <td>male</td>\n",
       "      <td>38.00</td>\n",
       "      <td>0</td>\n",
       "      <td>1</td>\n",
       "      <td>PC 17582</td>\n",
       "      <td>153.4625</td>\n",
       "      <td>C91</td>\n",
       "      <td>S</td>\n",
       "    </tr>\n",
       "    <tr>\n",
       "      <th>708</th>\n",
       "      <td>709</td>\n",
       "      <td>1</td>\n",
       "      <td>1</td>\n",
       "      <td>Cleaver, Miss. Alice</td>\n",
       "      <td>female</td>\n",
       "      <td>22.00</td>\n",
       "      <td>0</td>\n",
       "      <td>0</td>\n",
       "      <td>113781</td>\n",
       "      <td>151.5500</td>\n",
       "      <td>nan</td>\n",
       "      <td>S</td>\n",
       "    </tr>\n",
       "    <tr>\n",
       "      <th>498</th>\n",
       "      <td>499</td>\n",
       "      <td>0</td>\n",
       "      <td>1</td>\n",
       "      <td>Allison, Mrs. Hudson J C (Bessie Waldo Daniels)</td>\n",
       "      <td>female</td>\n",
       "      <td>25.00</td>\n",
       "      <td>1</td>\n",
       "      <td>2</td>\n",
       "      <td>113781</td>\n",
       "      <td>151.5500</td>\n",
       "      <td>C22 C26</td>\n",
       "      <td>S</td>\n",
       "    </tr>\n",
       "    <tr>\n",
       "      <th>297</th>\n",
       "      <td>298</td>\n",
       "      <td>0</td>\n",
       "      <td>1</td>\n",
       "      <td>Allison, Miss. Helen Loraine</td>\n",
       "      <td>female</td>\n",
       "      <td>2.00</td>\n",
       "      <td>1</td>\n",
       "      <td>2</td>\n",
       "      <td>113781</td>\n",
       "      <td>151.5500</td>\n",
       "      <td>C22 C26</td>\n",
       "      <td>S</td>\n",
       "    </tr>\n",
       "    <tr>\n",
       "      <th>305</th>\n",
       "      <td>306</td>\n",
       "      <td>1</td>\n",
       "      <td>1</td>\n",
       "      <td>Allison, Master. Hudson Trevor</td>\n",
       "      <td>male</td>\n",
       "      <td>0.92</td>\n",
       "      <td>1</td>\n",
       "      <td>2</td>\n",
       "      <td>113781</td>\n",
       "      <td>151.5500</td>\n",
       "      <td>C22 C26</td>\n",
       "      <td>S</td>\n",
       "    </tr>\n",
       "  </tbody>\n",
       "</table>\n",
       "</div>"
      ],
      "text/plain": [
       "     PassengerId  Survived  Pclass  \\\n",
       "737          738         1       1   \n",
       "258          259         1       1   \n",
       "679          680         1       1   \n",
       "27            28         0       1   \n",
       "341          342         1       1   \n",
       "88            89         1       1   \n",
       "438          439         0       1   \n",
       "742          743         1       1   \n",
       "311          312         1       1   \n",
       "299          300         1       1   \n",
       "118          119         0       1   \n",
       "716          717         1       1   \n",
       "380          381         1       1   \n",
       "557          558         0       1   \n",
       "700          701         1       1   \n",
       "527          528         0       1   \n",
       "377          378         0       1   \n",
       "779          780         1       1   \n",
       "730          731         1       1   \n",
       "689          690         1       1   \n",
       "856          857         1       1   \n",
       "318          319         1       1   \n",
       "609          610         1       1   \n",
       "268          269         1       1   \n",
       "332          333         0       1   \n",
       "708          709         1       1   \n",
       "498          499         0       1   \n",
       "297          298         0       1   \n",
       "305          306         1       1   \n",
       "\n",
       "                                                  Name     Sex    Age  SibSp  \\\n",
       "737                             Lesurer, Mr. Gustave J    male  35.00      0   \n",
       "258                                   Ward, Miss. Anna  female  35.00      0   \n",
       "679                 Cardeza, Mr. Thomas Drake Martinez    male  36.00      0   \n",
       "27                      Fortune, Mr. Charles Alexander    male  19.00      3   \n",
       "341                     Fortune, Miss. Alice Elizabeth  female  24.00      3   \n",
       "88                          Fortune, Miss. Mabel Helen  female  23.00      3   \n",
       "438                                  Fortune, Mr. Mark    male  64.00      1   \n",
       "742              Ryerson, Miss. Susan Parker \"Suzette\"  female  21.00      2   \n",
       "311                         Ryerson, Miss. Emily Borie  female  18.00      2   \n",
       "299    Baxter, Mrs. James (Helene DeLaudeniere Chaput)  female  50.00      0   \n",
       "118                           Baxter, Mr. Quigg Edmond    male  24.00      0   \n",
       "716                      Endres, Miss. Caroline Louise  female  38.00      0   \n",
       "380                              Bidois, Miss. Rosalie  female  42.00      0   \n",
       "557                                Robbins, Mr. Victor    male    NaN      0   \n",
       "700  Astor, Mrs. John Jacob (Madeleine Talmadge Force)  female  18.00      1   \n",
       "527                                 Farthing, Mr. John    male    NaN      0   \n",
       "377                          Widener, Mr. Harry Elkins    male  27.00      0   \n",
       "779  Robert, Mrs. Edward Scott (Elisabeth Walton Mc...  female  43.00      0   \n",
       "730                      Allen, Miss. Elisabeth Walton  female  29.00      0   \n",
       "689                  Madill, Miss. Georgette Alexandra  female  15.00      0   \n",
       "856         Wick, Mrs. George Dennick (Mary Hitchcock)  female  45.00      1   \n",
       "318                           Wick, Miss. Mary Natalie  female  31.00      0   \n",
       "609                          Shutes, Miss. Elizabeth W  female  40.00      0   \n",
       "268      Graham, Mrs. William Thompson (Edith Junkins)  female  58.00      0   \n",
       "332                          Graham, Mr. George Edward    male  38.00      0   \n",
       "708                               Cleaver, Miss. Alice  female  22.00      0   \n",
       "498    Allison, Mrs. Hudson J C (Bessie Waldo Daniels)  female  25.00      1   \n",
       "297                       Allison, Miss. Helen Loraine  female   2.00      1   \n",
       "305                     Allison, Master. Hudson Trevor    male   0.92      1   \n",
       "\n",
       "     Parch    Ticket      Fare            Cabin Embarked  \n",
       "737      0  PC 17755  512.3292             B101        C  \n",
       "258      0  PC 17755  512.3292              nan        C  \n",
       "679      1  PC 17755  512.3292      B51 B53 B55        C  \n",
       "27       2     19950  263.0000      C23 C25 C27        S  \n",
       "341      2     19950  263.0000      C23 C25 C27        S  \n",
       "88       2     19950  263.0000      C23 C25 C27        S  \n",
       "438      4     19950  263.0000      C23 C25 C27        S  \n",
       "742      2  PC 17608  262.3750  B57 B59 B63 B66        C  \n",
       "311      2  PC 17608  262.3750  B57 B59 B63 B66        C  \n",
       "299      1  PC 17558  247.5208          B58 B60        C  \n",
       "118      1  PC 17558  247.5208          B58 B60        C  \n",
       "716      0  PC 17757  227.5250              C45        C  \n",
       "380      0  PC 17757  227.5250              nan        C  \n",
       "557      0  PC 17757  227.5250              nan        C  \n",
       "700      0  PC 17757  227.5250          C62 C64        C  \n",
       "527      0  PC 17483  221.7792              C95        S  \n",
       "377      2    113503  211.5000              C82        C  \n",
       "779      1     24160  211.3375               B3        S  \n",
       "730      0     24160  211.3375               B5        S  \n",
       "689      1     24160  211.3375               B5        S  \n",
       "856      1     36928  164.8667              nan        S  \n",
       "318      2     36928  164.8667               C7        S  \n",
       "609      0  PC 17582  153.4625             C125        S  \n",
       "268      1  PC 17582  153.4625             C125        S  \n",
       "332      1  PC 17582  153.4625              C91        S  \n",
       "708      0    113781  151.5500              nan        S  \n",
       "498      2    113781  151.5500          C22 C26        S  \n",
       "297      2    113781  151.5500          C22 C26        S  \n",
       "305      2    113781  151.5500          C22 C26        S  "
      ]
     },
     "execution_count": 40,
     "metadata": {},
     "output_type": "execute_result"
    }
   ],
   "source": [
    "train.query('Pclass == 1 & Fare > 150').sort_values('Fare', ascending=False)"
   ]
  },
  {
   "cell_type": "markdown",
   "id": "86f16b0a-bf27-4155-9c60-c61b4e0fd750",
   "metadata": {},
   "source": [
    "##### 4.3.2 Age."
   ]
  },
  {
   "cell_type": "code",
   "execution_count": 41,
   "id": "37731a01-dca7-4268-ad9f-523a1b485f90",
   "metadata": {},
   "outputs": [
    {
     "data": {
      "text/plain": [
       "177"
      ]
     },
     "execution_count": 41,
     "metadata": {},
     "output_type": "execute_result"
    }
   ],
   "source": [
    "train.Age.isnull().sum()"
   ]
  },
  {
   "cell_type": "code",
   "execution_count": 42,
   "id": "6c7cc880-e297-4bd1-a9c1-69854014490e",
   "metadata": {},
   "outputs": [
    {
     "data": {
      "text/plain": [
       "<matplotlib.legend.Legend at 0x1f2bcac8510>"
      ]
     },
     "execution_count": 42,
     "metadata": {},
     "output_type": "execute_result"
    },
    {
     "data": {
      "image/png": "[encoded data removed]",
      "text/plain": [
       "<Figure size 500x500 with 1 Axes>"
      ]
     },
     "metadata": {},
     "output_type": "display_data"
    }
   ],
   "source": [
    "sns.displot(data=train, x='Age', kde=True, label='Skewness: %.2f'%(train['Age'].skew()))\n",
    "plt.legend(loc='best')"
   ]
  },
  {
   "cell_type": "code",
   "execution_count": 43,
   "id": "daee6fbb-196a-4273-b8af-a8d4600a6f44",
   "metadata": {},
   "outputs": [
    {
     "data": {
      "text/plain": [
       "Age\n",
       "0.42     1.0\n",
       "0.67     1.0\n",
       "0.75     1.0\n",
       "0.83     1.0\n",
       "0.92     1.0\n",
       "        ... \n",
       "70.00    0.0\n",
       "70.50    0.0\n",
       "71.00    0.0\n",
       "74.00    0.0\n",
       "80.00    1.0\n",
       "Name: Survived, Length: 88, dtype: float64"
      ]
     },
     "execution_count": 43,
     "metadata": {},
     "output_type": "execute_result"
    }
   ],
   "source": [
    "train.groupby('Age')['Survived'].mean()"
   ]
  },
  {
   "cell_type": "code",
   "execution_count": 44,
   "id": "30091f3a-124a-4f4d-afa8-c05552f270df",
   "metadata": {},
   "outputs": [
    {
     "data": {
      "text/plain": [
       "<seaborn.axisgrid.FacetGrid at 0x1f2bcb5fa10>"
      ]
     },
     "execution_count": 44,
     "metadata": {},
     "output_type": "execute_result"
    },
    {
     "data": {
      "image/png": "[encoded data removed]",
      "text/plain": [
       "<Figure size 600x300 with 2 Axes>"
      ]
     },
     "metadata": {},
     "output_type": "display_data"
    }
   ],
   "source": [
    "g = sns.FacetGrid(train, col='Survived')\n",
    "\n",
    "g.map(sns.distplot, 'Age')"
   ]
  },
  {
   "cell_type": "markdown",
   "id": "29fbce80-5747-4ff1-b4e7-e5b7b6db813f",
   "metadata": {},
   "source": [
    "##### 4.3.3 SibSp."
   ]
  },
  {
   "cell_type": "code",
   "execution_count": 45,
   "id": "881dd50b-4eff-4550-93ce-b61432afeab8",
   "metadata": {},
   "outputs": [
    {
     "data": {
      "text/plain": [
       "SibSp\n",
       "0    608\n",
       "1    209\n",
       "2     28\n",
       "4     18\n",
       "3     16\n",
       "8      7\n",
       "5      5\n",
       "Name: count, dtype: int64"
      ]
     },
     "execution_count": 45,
     "metadata": {},
     "output_type": "execute_result"
    }
   ],
   "source": [
    "train.SibSp.value_counts(dropna=False)"
   ]
  },
  {
   "cell_type": "code",
   "execution_count": 46,
   "id": "807c4c79-148b-4a3d-95f0-c0d8abd6bc7a",
   "metadata": {},
   "outputs": [
    {
     "data": {
      "text/plain": [
       "0"
      ]
     },
     "execution_count": 46,
     "metadata": {},
     "output_type": "execute_result"
    }
   ],
   "source": [
    "train.SibSp.isnull().sum()"
   ]
  },
  {
   "cell_type": "code",
   "execution_count": 47,
   "id": "4fbe1250-62e4-4a49-a91b-ea24eff6b6fc",
   "metadata": {},
   "outputs": [
    {
     "data": {
      "text/plain": [
       "SibSp\n",
       "0    0.345395\n",
       "1    0.535885\n",
       "2    0.464286\n",
       "3    0.250000\n",
       "4    0.166667\n",
       "5    0.000000\n",
       "8    0.000000\n",
       "Name: Survived, dtype: float64"
      ]
     },
     "execution_count": 47,
     "metadata": {},
     "output_type": "execute_result"
    }
   ],
   "source": [
    "train.groupby('SibSp')['Survived'].mean()"
   ]
  },
  {
   "cell_type": "code",
   "execution_count": 48,
   "id": "9ca1cff3-7392-4819-81b6-e8e863d8cbb2",
   "metadata": {},
   "outputs": [
    {
     "data": {
      "image/png": "[encoded data removed]",
      "text/plain": [
       "<Figure size 640x480 with 1 Axes>"
      ]
     },
     "metadata": {},
     "output_type": "display_data"
    }
   ],
   "source": [
    "sns.barplot(data=train, x='SibSp', y='Survived')\n",
    "plt.show()"
   ]
  },
  {
   "cell_type": "markdown",
   "id": "9dc1497f-0bf6-4937-8f89-9b314424aacb",
   "metadata": {},
   "source": [
    "#### 4.3.4 Parch."
   ]
  },
  {
   "cell_type": "code",
   "execution_count": 49,
   "id": "8cb30cd1-2ea1-4d11-a02c-ef5f22fad41b",
   "metadata": {},
   "outputs": [
    {
     "data": {
      "text/plain": [
       "Parch\n",
       "0    678\n",
       "1    118\n",
       "2     80\n",
       "5      5\n",
       "3      5\n",
       "4      4\n",
       "6      1\n",
       "Name: count, dtype: int64"
      ]
     },
     "execution_count": 49,
     "metadata": {},
     "output_type": "execute_result"
    }
   ],
   "source": [
    "train.Parch.value_counts(dropna=False)"
   ]
  },
  {
   "cell_type": "code",
   "execution_count": 50,
   "id": "23ac3683-a53b-4dc0-bcb7-229e4aafc492",
   "metadata": {},
   "outputs": [
    {
     "data": {
      "text/plain": [
       "0"
      ]
     },
     "execution_count": 50,
     "metadata": {},
     "output_type": "execute_result"
    }
   ],
   "source": [
    "train.Parch.isnull().sum()"
   ]
  },
  {
   "cell_type": "code",
   "execution_count": 51,
   "id": "2a06e23a-771c-4294-8753-0c6f0825648e",
   "metadata": {},
   "outputs": [
    {
     "data": {
      "text/plain": [
       "Parch\n",
       "0    0.343658\n",
       "1    0.550847\n",
       "2    0.500000\n",
       "3    0.600000\n",
       "4    0.000000\n",
       "5    0.200000\n",
       "6    0.000000\n",
       "Name: Survived, dtype: float64"
      ]
     },
     "execution_count": 51,
     "metadata": {},
     "output_type": "execute_result"
    }
   ],
   "source": [
    "train.groupby('Parch')['Survived'].mean()"
   ]
  },
  {
   "cell_type": "code",
   "execution_count": 52,
   "id": "e4980412-b03e-4a93-b4ee-60bddbc12f82",
   "metadata": {},
   "outputs": [
    {
     "data": {
      "image/png": "[encoded data removed]",
      "text/plain": [
       "<Figure size 640x480 with 1 Axes>"
      ]
     },
     "metadata": {},
     "output_type": "display_data"
    }
   ],
   "source": [
    "sns.barplot(data=train, x='Parch', y='Survived')\n",
    "plt.show()"
   ]
  },
  {
   "cell_type": "code",
   "execution_count": 53,
   "id": "84ef6833-1072-4606-bcb3-d0b80da16bef",
   "metadata": {},
   "outputs": [
    {
     "data": {
      "text/plain": [
       "<seaborn.axisgrid.FacetGrid at 0x1f2c1498c50>"
      ]
     },
     "execution_count": 53,
     "metadata": {},
     "output_type": "execute_result"
    },
    {
     "data": {
      "image/png": "[encoded data removed]",
      "text/plain": [
       "<Figure size 1058.88x500 with 2 Axes>"
      ]
     },
     "metadata": {},
     "output_type": "display_data"
    }
   ],
   "source": [
    "sns.catplot(data=train, x='Parch', col='Survived', hue='Pclass', kind='count')"
   ]
  },
  {
   "cell_type": "markdown",
   "id": "1d0f5b0b-5acf-432f-87fa-69c02444400c",
   "metadata": {},
   "source": [
    "##### 4.3.5 Fare"
   ]
  },
  {
   "cell_type": "code",
   "execution_count": 54,
   "id": "b3e4003f-9f97-4b86-b934-ecaaf610572e",
   "metadata": {},
   "outputs": [
    {
     "data": {
      "text/plain": [
       "<matplotlib.legend.Legend at 0x1f2bd5a97d0>"
      ]
     },
     "execution_count": 54,
     "metadata": {},
     "output_type": "execute_result"
    },
    {
     "data": {
      "image/png": "[encoded data removed]",
      "text/plain": [
       "<Figure size 500x500 with 1 Axes>"
      ]
     },
     "metadata": {},
     "output_type": "display_data"
    }
   ],
   "source": [
    "sns.displot(data=train, x='Fare', kde='True', label='Skewness: %.2f'%(train['Fare'].skew()))\n",
    "plt.legend(loc='best')"
   ]
  },
  {
   "cell_type": "markdown",
   "id": "9a65fd33-55fc-4b01-a28d-075542bc6dea",
   "metadata": {},
   "source": [
    "### 5. Data preprocesing\r\n",
    "Data preprocesing is the process of getting our dataset ready for model training.\r\n",
    "In this section we will perform the following preprocessing steps:* 5.1\n",
    "\r\n",
    "* Drop and fill missing va in train and test datasets.\n",
    "*  5.1.1 concat datasets train and test.\n",
    "*      5.1.1.1 Embarked.\n",
    "*      5.1.1.2 Age.ati 5.1.2 on\r\n",
    "* Feature engin.\n",
    "*      5.1.2 \"Title\"eering\r\n",
    "* Feature e\n",
    "* Data transformationncoding"
   ]
  },
  {
   "cell_type": "markdown",
   "id": "f3160b32-334a-40be-8ef0-46492e12c506",
   "metadata": {},
   "source": [
    "##### 5.1 Drop and fill missing values in train and test datasets.\n",
    "*  5.1.1 Train dataset.\n"
   ]
  },
  {
   "cell_type": "markdown",
   "id": "0833bd7f-6631-44ed-9ff6-0198e96142e1",
   "metadata": {},
   "source": [
    "##### 5.1.1.1 Embarked."
   ]
  },
  {
   "cell_type": "code",
   "execution_count": 55,
   "id": "bf5901b2-77f2-4429-9329-af1432dc215c",
   "metadata": {},
   "outputs": [
    {
     "data": {
      "text/plain": [
       "'S'"
      ]
     },
     "execution_count": 55,
     "metadata": {},
     "output_type": "execute_result"
    }
   ],
   "source": [
    "mode = train.Embarked.dropna().mode()[0]\n",
    "mode"
   ]
  },
  {
   "cell_type": "code",
   "execution_count": 56,
   "id": "b3b2717c-d8ef-4e6f-b94c-8b067b878256",
   "metadata": {},
   "outputs": [],
   "source": [
    "train['Embarked'] = train.Embarked.fillna(mode)"
   ]
  },
  {
   "cell_type": "code",
   "execution_count": 57,
   "id": "a3027725-778a-42ef-b896-59a452407e38",
   "metadata": {},
   "outputs": [
    {
     "data": {
      "text/plain": [
       "14.4542"
      ]
     },
     "execution_count": 57,
     "metadata": {},
     "output_type": "execute_result"
    }
   ],
   "source": [
    "median = test.Fare.dropna().median()\n",
    "median"
   ]
  },
  {
   "cell_type": "code",
   "execution_count": 58,
   "id": "92987042-de3c-4017-aa55-9e05bab4efaa",
   "metadata": {},
   "outputs": [],
   "source": [
    "test.Fare = test.Fare.fillna(median)"
   ]
  },
  {
   "cell_type": "code",
   "execution_count": 59,
   "id": "dd9f4ba7-77e9-4b3c-951a-093917ddc25f",
   "metadata": {},
   "outputs": [],
   "source": [
    "combine = pd.concat([train,test], axis=0).reset_index(drop=True)"
   ]
  },
  {
   "cell_type": "code",
   "execution_count": 60,
   "id": "34303f4d-0a89-457d-8c8e-ed6d347ab250",
   "metadata": {},
   "outputs": [],
   "source": [
    "combine['Sex'] = combine['Sex'].map({'male': 0, 'female': 1})\n"
   ]
  },
  {
   "cell_type": "code",
   "execution_count": 61,
   "id": "0928d9ba-2487-4d88-9b36-2f599aa2b4c2",
   "metadata": {},
   "outputs": [
    {
     "data": {
      "text/html": [
       "<div>\n",
       "<style scoped>\n",
       "    .dataframe tbody tr th:only-of-type {\n",
       "        vertical-align: middle;\n",
       "    }\n",
       "\n",
       "    .dataframe tbody tr th {\n",
       "        vertical-align: top;\n",
       "    }\n",
       "\n",
       "    .dataframe thead th {\n",
       "        text-align: right;\n",
       "    }\n",
       "</style>\n",
       "<table border=\"1\" class=\"dataframe\">\n",
       "  <thead>\n",
       "    <tr style=\"text-align: right;\">\n",
       "      <th></th>\n",
       "      <th>PassengerId</th>\n",
       "      <th>Survived</th>\n",
       "      <th>Pclass</th>\n",
       "      <th>Name</th>\n",
       "      <th>Sex</th>\n",
       "      <th>Age</th>\n",
       "      <th>SibSp</th>\n",
       "      <th>Parch</th>\n",
       "      <th>Ticket</th>\n",
       "      <th>Fare</th>\n",
       "      <th>Cabin</th>\n",
       "      <th>Embarked</th>\n",
       "    </tr>\n",
       "  </thead>\n",
       "  <tbody>\n",
       "    <tr>\n",
       "      <th>0</th>\n",
       "      <td>1</td>\n",
       "      <td>0.0</td>\n",
       "      <td>3</td>\n",
       "      <td>Braund, Mr. Owen Harris</td>\n",
       "      <td>0</td>\n",
       "      <td>22.0</td>\n",
       "      <td>1</td>\n",
       "      <td>0</td>\n",
       "      <td>A/5 21171</td>\n",
       "      <td>7.2500</td>\n",
       "      <td>nan</td>\n",
       "      <td>S</td>\n",
       "    </tr>\n",
       "    <tr>\n",
       "      <th>1</th>\n",
       "      <td>2</td>\n",
       "      <td>1.0</td>\n",
       "      <td>1</td>\n",
       "      <td>Cumings, Mrs. John Bradley (Florence Briggs Th...</td>\n",
       "      <td>1</td>\n",
       "      <td>38.0</td>\n",
       "      <td>1</td>\n",
       "      <td>0</td>\n",
       "      <td>PC 17599</td>\n",
       "      <td>71.2833</td>\n",
       "      <td>C85</td>\n",
       "      <td>C</td>\n",
       "    </tr>\n",
       "    <tr>\n",
       "      <th>2</th>\n",
       "      <td>3</td>\n",
       "      <td>1.0</td>\n",
       "      <td>3</td>\n",
       "      <td>Heikkinen, Miss. Laina</td>\n",
       "      <td>1</td>\n",
       "      <td>26.0</td>\n",
       "      <td>0</td>\n",
       "      <td>0</td>\n",
       "      <td>STON/O2. 3101282</td>\n",
       "      <td>7.9250</td>\n",
       "      <td>nan</td>\n",
       "      <td>S</td>\n",
       "    </tr>\n",
       "    <tr>\n",
       "      <th>3</th>\n",
       "      <td>4</td>\n",
       "      <td>1.0</td>\n",
       "      <td>1</td>\n",
       "      <td>Futrelle, Mrs. Jacques Heath (Lily May Peel)</td>\n",
       "      <td>1</td>\n",
       "      <td>35.0</td>\n",
       "      <td>1</td>\n",
       "      <td>0</td>\n",
       "      <td>113803</td>\n",
       "      <td>53.1000</td>\n",
       "      <td>C123</td>\n",
       "      <td>S</td>\n",
       "    </tr>\n",
       "    <tr>\n",
       "      <th>4</th>\n",
       "      <td>5</td>\n",
       "      <td>0.0</td>\n",
       "      <td>3</td>\n",
       "      <td>Allen, Mr. William Henry</td>\n",
       "      <td>0</td>\n",
       "      <td>35.0</td>\n",
       "      <td>0</td>\n",
       "      <td>0</td>\n",
       "      <td>373450</td>\n",
       "      <td>8.0500</td>\n",
       "      <td>nan</td>\n",
       "      <td>S</td>\n",
       "    </tr>\n",
       "  </tbody>\n",
       "</table>\n",
       "</div>"
      ],
      "text/plain": [
       "   PassengerId  Survived  Pclass  \\\n",
       "0            1       0.0       3   \n",
       "1            2       1.0       1   \n",
       "2            3       1.0       3   \n",
       "3            4       1.0       1   \n",
       "4            5       0.0       3   \n",
       "\n",
       "                                                Name  Sex   Age  SibSp  Parch  \\\n",
       "0                            Braund, Mr. Owen Harris    0  22.0      1      0   \n",
       "1  Cumings, Mrs. John Bradley (Florence Briggs Th...    1  38.0      1      0   \n",
       "2                             Heikkinen, Miss. Laina    1  26.0      0      0   \n",
       "3       Futrelle, Mrs. Jacques Heath (Lily May Peel)    1  35.0      1      0   \n",
       "4                           Allen, Mr. William Henry    0  35.0      0      0   \n",
       "\n",
       "             Ticket     Fare Cabin Embarked  \n",
       "0         A/5 21171   7.2500   nan        S  \n",
       "1          PC 17599  71.2833   C85        C  \n",
       "2  STON/O2. 3101282   7.9250   nan        S  \n",
       "3            113803  53.1000  C123        S  \n",
       "4            373450   8.0500   nan        S  "
      ]
     },
     "execution_count": 61,
     "metadata": {},
     "output_type": "execute_result"
    }
   ],
   "source": [
    "combine.head()"
   ]
  },
  {
   "cell_type": "code",
   "execution_count": 62,
   "id": "43f27436-bc8c-41b9-a4ed-2225533e9baf",
   "metadata": {},
   "outputs": [
    {
     "data": {
      "text/plain": [
       "<Axes: >"
      ]
     },
     "execution_count": 62,
     "metadata": {},
     "output_type": "execute_result"
    },
    {
     "data": {
      "image/png": "[encoded data removed]",
      "text/plain": [
       "<Figure size 640x480 with 2 Axes>"
      ]
     },
     "metadata": {},
     "output_type": "display_data"
    }
   ],
   "source": [
    "sns.heatmap(combine.drop(['Survived', 'Name', 'PassengerId','Ticket', 'Cabin', 'Fare', 'Embarked'], axis=1).corr(), annot=True, fmt='.2f', cmap='coolwarm')"
   ]
  },
  {
   "cell_type": "markdown",
   "id": "ad2fb88b-6a89-49cd-8269-5d65e18e4ef7",
   "metadata": {},
   "source": [
    "##### 5.1.1.2 Age."
   ]
  },
  {
   "cell_type": "code",
   "execution_count": 63,
   "id": "d55d71f4-9eba-4c66-acdf-16ad18037869",
   "metadata": {},
   "outputs": [],
   "source": [
    "combine['Title'] = [title.split(',')[1].split('.')[0].strip() for title in combine.Name]"
   ]
  },
  {
   "cell_type": "code",
   "execution_count": 64,
   "id": "54367dd2-1230-41e0-945b-5d6e3b6b5938",
   "metadata": {},
   "outputs": [
    {
     "data": {
      "text/plain": [
       "Title\n",
       "Mr              757\n",
       "Miss            260\n",
       "Mrs             197\n",
       "Master           61\n",
       "Rev               8\n",
       "Dr                8\n",
       "Col               4\n",
       "Mlle              2\n",
       "Major             2\n",
       "Ms                2\n",
       "Lady              1\n",
       "Sir               1\n",
       "Mme               1\n",
       "Don               1\n",
       "Capt              1\n",
       "the Countess      1\n",
       "Jonkheer          1\n",
       "Dona              1\n",
       "Name: count, dtype: int64"
      ]
     },
     "execution_count": 64,
     "metadata": {},
     "output_type": "execute_result"
    }
   ],
   "source": [
    "combine.Title.value_counts()"
   ]
  },
  {
   "cell_type": "code",
   "execution_count": 65,
   "id": "f4f9f961-c3b5-4011-a1ac-4286391cd770",
   "metadata": {
    "scrolled": true
   },
   "outputs": [
    {
     "data": {
      "text/plain": [
       "Index([   5,   17,   19,   26,   28,   29,   31,   32,   36,   42,\n",
       "       ...\n",
       "       1256, 1257, 1271, 1273, 1275, 1299, 1301, 1304, 1307, 1308],\n",
       "      dtype='int64', length=263)"
      ]
     },
     "execution_count": 65,
     "metadata": {},
     "output_type": "execute_result"
    }
   ],
   "source": [
    "nan_idx = combine.query('Age.isnull()').index\n",
    "nan_idx"
   ]
  },
  {
   "cell_type": "code",
   "execution_count": 66,
   "id": "1a8151a2-78f2-48ae-a5c5-bd78f0ccfc17",
   "metadata": {},
   "outputs": [
    {
     "data": {
      "text/plain": [
       "<seaborn.axisgrid.FacetGrid at 0x1f2be229e50>"
      ]
     },
     "execution_count": 66,
     "metadata": {},
     "output_type": "execute_result"
    },
    {
     "data": {
      "image/png": "[encoded data removed]",
      "text/plain": [
       "<Figure size 1500x500 with 3 Axes>"
      ]
     },
     "metadata": {},
     "output_type": "display_data"
    }
   ],
   "source": [
    "sns.catplot(data=combine, x='Age', y='Title',col='Pclass', kind='bar')"
   ]
  },
  {
   "cell_type": "code",
   "execution_count": 67,
   "id": "4f4d7268-77bc-4983-9ff2-6ea70f315262",
   "metadata": {},
   "outputs": [],
   "source": [
    "# no_people = []\n",
    "# for idx in nan_idx:\n",
    "#     age_val = train['Age'][(train['Title'] == train.loc[idx, 'Title'])\n",
    "#                             & (train['Pclass'] == train.loc[idx,'Pclass'])\n",
    "#                             & (train['SibSp'] == train.loc[idx,'SibSp'])\n",
    "#                             & (train['Parch'] == train.loc[idx,'Parch'])]\n",
    "    \n",
    "#     plt.bar(range(len(age_val)), age_val)\n",
    "#     plt.title(f'Ages for Index {idx}')\n",
    "#     plt.xlabel('Person Index')\n",
    "#     plt.ylabel('Age')\n",
    "#     plt.show()\n",
    "#     no_people.append(age_val)\n",
    "\n"
   ]
  },
  {
   "cell_type": "code",
   "execution_count": 68,
   "id": "c67de31f-9e0b-454b-93ed-a629f47bfde1",
   "metadata": {},
   "outputs": [],
   "source": [
    "for idx in nan_idx:\n",
    "    median_age = combine['Age'][(combine['Title'] == combine.loc[idx, 'Title'])].median()\n",
    "    sibsp_val = combine.loc[idx, 'SibSp']\n",
    "    pclass_val = combine.loc[idx, 'Pclass']\n",
    "    predicted_age = combine['Age'][ (combine['Title'] == combine.loc[idx, 'Title'])\n",
    "                                & (combine['Pclass'] == pclass_val)\n",
    "                                & (combine['SibSp'] == sibsp_val)\n",
    "                                & (combine['Parch'] == combine.loc[idx,'Parch'])].median()\n",
    "    if np.isnan(predicted_age):\n",
    "        combine.loc[idx,'Age'] = median_age\n",
    "        \n",
    "    else:\n",
    "        combine.loc[idx,'Age'] = predicted_age\n",
    "\n",
    "    "
   ]
  },
  {
   "cell_type": "code",
   "execution_count": 69,
   "id": "093e4c27-1a96-4a8f-bc26-24271310afa8",
   "metadata": {},
   "outputs": [
    {
     "data": {
      "text/plain": [
       "0"
      ]
     },
     "execution_count": 69,
     "metadata": {},
     "output_type": "execute_result"
    }
   ],
   "source": [
    "combine.Age.isnull().sum()"
   ]
  },
  {
   "cell_type": "code",
   "execution_count": 70,
   "id": "36d8a7d2-c73e-46f5-93db-7065dc20d766",
   "metadata": {},
   "outputs": [
    {
     "data": {
      "text/plain": [
       "<matplotlib.legend.Legend at 0x1f2c1f3ce90>"
      ]
     },
     "execution_count": 70,
     "metadata": {},
     "output_type": "execute_result"
    },
    {
     "data": {
      "image/png": "[encoded data removed]",
      "text/plain": [
       "<Figure size 500x500 with 1 Axes>"
      ]
     },
     "metadata": {},
     "output_type": "display_data"
    }
   ],
   "source": [
    "sns.displot(data=combine, x='Age', kde=True, label='Skewness: %.2f'%(train['Age'].skew()))\n",
    "plt.legend(loc='best')"
   ]
  },
  {
   "cell_type": "markdown",
   "id": "db002280-bd99-44c2-a44e-d8c3e8ccefa6",
   "metadata": {},
   "source": [
    "#####  5.1.2 Feature engineering.\n",
    "*      5.1.2 \"Title\" - Alredy created for filling NaN values in Age feature."
   ]
  },
  {
   "cell_type": "code",
   "execution_count": 71,
   "id": "6151e134-f512-4edf-a383-625326e1b40a",
   "metadata": {},
   "outputs": [],
   "source": [
    "combine['Title'] = combine['Title'].replace(['Mlle', 'Ms'], 'Miss')\n",
    "combine['Title'] = combine['Title'].replace('Mme', 'Mrs')"
   ]
  },
  {
   "cell_type": "code",
   "execution_count": 72,
   "id": "92badbb1-3d33-459e-aa5e-3ce51c732a0c",
   "metadata": {},
   "outputs": [],
   "source": [
    "combine['Title'] = combine['Title'].replace(['Don','Capt','Jonkheer'], 'Mr')\n",
    "combine['Title'] = combine['Title'].replace(['Dona','Lady'], 'Mrs')\n",
    "combine['Title'] = combine['Title'].replace(['the Countess','Sir','Major','Col'], 'Rare')"
   ]
  },
  {
   "cell_type": "code",
   "execution_count": 73,
   "id": "1429fccb-1894-45fa-a6c9-30229ee6f08c",
   "metadata": {},
   "outputs": [
    {
     "data": {
      "text/plain": [
       "Title\n",
       "Mr        760\n",
       "Miss      264\n",
       "Mrs       200\n",
       "Master     61\n",
       "Rev         8\n",
       "Dr          8\n",
       "Rare        8\n",
       "Name: count, dtype: int64"
      ]
     },
     "execution_count": 73,
     "metadata": {},
     "output_type": "execute_result"
    }
   ],
   "source": [
    "combine.Title.value_counts()"
   ]
  },
  {
   "cell_type": "code",
   "execution_count": 74,
   "id": "831325df-cf14-45c8-b3c9-9d4019604a4e",
   "metadata": {},
   "outputs": [
    {
     "data": {
      "text/html": [
       "<div>\n",
       "<style scoped>\n",
       "    .dataframe tbody tr th:only-of-type {\n",
       "        vertical-align: middle;\n",
       "    }\n",
       "\n",
       "    .dataframe tbody tr th {\n",
       "        vertical-align: top;\n",
       "    }\n",
       "\n",
       "    .dataframe thead th {\n",
       "        text-align: right;\n",
       "    }\n",
       "</style>\n",
       "<table border=\"1\" class=\"dataframe\">\n",
       "  <thead>\n",
       "    <tr style=\"text-align: right;\">\n",
       "      <th></th>\n",
       "      <th>Title</th>\n",
       "      <th>Survived</th>\n",
       "    </tr>\n",
       "  </thead>\n",
       "  <tbody>\n",
       "    <tr>\n",
       "      <th>4</th>\n",
       "      <td>Mrs</td>\n",
       "      <td>0.795276</td>\n",
       "    </tr>\n",
       "    <tr>\n",
       "      <th>2</th>\n",
       "      <td>Miss</td>\n",
       "      <td>0.702703</td>\n",
       "    </tr>\n",
       "    <tr>\n",
       "      <th>5</th>\n",
       "      <td>Rare</td>\n",
       "      <td>0.666667</td>\n",
       "    </tr>\n",
       "    <tr>\n",
       "      <th>1</th>\n",
       "      <td>Master</td>\n",
       "      <td>0.575000</td>\n",
       "    </tr>\n",
       "    <tr>\n",
       "      <th>0</th>\n",
       "      <td>Dr</td>\n",
       "      <td>0.428571</td>\n",
       "    </tr>\n",
       "    <tr>\n",
       "      <th>3</th>\n",
       "      <td>Mr</td>\n",
       "      <td>0.155769</td>\n",
       "    </tr>\n",
       "    <tr>\n",
       "      <th>6</th>\n",
       "      <td>Rev</td>\n",
       "      <td>0.000000</td>\n",
       "    </tr>\n",
       "  </tbody>\n",
       "</table>\n",
       "</div>"
      ],
      "text/plain": [
       "    Title  Survived\n",
       "4     Mrs  0.795276\n",
       "2    Miss  0.702703\n",
       "5    Rare  0.666667\n",
       "1  Master  0.575000\n",
       "0      Dr  0.428571\n",
       "3      Mr  0.155769\n",
       "6     Rev  0.000000"
      ]
     },
     "execution_count": 74,
     "metadata": {},
     "output_type": "execute_result"
    }
   ],
   "source": [
    "combine[['Title','Survived']].groupby('Title', as_index=False).mean().sort_values('Survived', ascending=False)"
   ]
  },
  {
   "cell_type": "code",
   "execution_count": 75,
   "id": "467a3d6d-e538-4b6e-8c61-670c6eea2a4d",
   "metadata": {},
   "outputs": [
    {
     "data": {
      "text/plain": [
       "Cabin_letter\n",
       "n    1014\n",
       "C      94\n",
       "B      65\n",
       "D      46\n",
       "E      41\n",
       "A      22\n",
       "F      21\n",
       "G       5\n",
       "T       1\n",
       "Name: count, dtype: int64"
      ]
     },
     "execution_count": 75,
     "metadata": {},
     "output_type": "execute_result"
    }
   ],
   "source": [
    "combine.query('Cabin != \"nan\"  & Pclass == 3')\n",
    "combine['Cabin_letter'] = combine['Cabin'].str.extract(r'([A-Za-z])')\n",
    "combine['Cabin_letter'].value_counts()\n"
   ]
  },
  {
   "cell_type": "code",
   "execution_count": 76,
   "id": "47493140-9995-4346-a3f8-845a702dd993",
   "metadata": {},
   "outputs": [
    {
     "data": {
      "text/plain": [
       "Cabin_letter\n",
       "D    0.757576\n",
       "E    0.750000\n",
       "B    0.744681\n",
       "F    0.615385\n",
       "C    0.593220\n",
       "G    0.500000\n",
       "A    0.466667\n",
       "n    0.299854\n",
       "T    0.000000\n",
       "Name: Survived, dtype: float64"
      ]
     },
     "execution_count": 76,
     "metadata": {},
     "output_type": "execute_result"
    }
   ],
   "source": [
    "combine.groupby('Cabin_letter')['Survived'].mean().sort_values(ascending=False)\n"
   ]
  },
  {
   "cell_type": "code",
   "execution_count": 77,
   "id": "62cd6692-50d2-4ea5-a1b2-872309b3c416",
   "metadata": {},
   "outputs": [
    {
     "data": {
      "text/html": [
       "<div>\n",
       "<style scoped>\n",
       "    .dataframe tbody tr th:only-of-type {\n",
       "        vertical-align: middle;\n",
       "    }\n",
       "\n",
       "    .dataframe tbody tr th {\n",
       "        vertical-align: top;\n",
       "    }\n",
       "\n",
       "    .dataframe thead th {\n",
       "        text-align: right;\n",
       "    }\n",
       "</style>\n",
       "<table border=\"1\" class=\"dataframe\">\n",
       "  <thead>\n",
       "    <tr style=\"text-align: right;\">\n",
       "      <th>Sex</th>\n",
       "      <th>0</th>\n",
       "      <th>1</th>\n",
       "    </tr>\n",
       "    <tr>\n",
       "      <th>Cabin_letter</th>\n",
       "      <th></th>\n",
       "      <th></th>\n",
       "    </tr>\n",
       "  </thead>\n",
       "  <tbody>\n",
       "    <tr>\n",
       "      <th>A</th>\n",
       "      <td>18</td>\n",
       "      <td>4</td>\n",
       "    </tr>\n",
       "    <tr>\n",
       "      <th>B</th>\n",
       "      <td>29</td>\n",
       "      <td>36</td>\n",
       "    </tr>\n",
       "    <tr>\n",
       "      <th>C</th>\n",
       "      <td>48</td>\n",
       "      <td>46</td>\n",
       "    </tr>\n",
       "    <tr>\n",
       "      <th>D</th>\n",
       "      <td>23</td>\n",
       "      <td>23</td>\n",
       "    </tr>\n",
       "    <tr>\n",
       "      <th>E</th>\n",
       "      <td>22</td>\n",
       "      <td>19</td>\n",
       "    </tr>\n",
       "    <tr>\n",
       "      <th>F</th>\n",
       "      <td>13</td>\n",
       "      <td>8</td>\n",
       "    </tr>\n",
       "    <tr>\n",
       "      <th>G</th>\n",
       "      <td>0</td>\n",
       "      <td>5</td>\n",
       "    </tr>\n",
       "    <tr>\n",
       "      <th>T</th>\n",
       "      <td>1</td>\n",
       "      <td>0</td>\n",
       "    </tr>\n",
       "    <tr>\n",
       "      <th>n</th>\n",
       "      <td>689</td>\n",
       "      <td>325</td>\n",
       "    </tr>\n",
       "  </tbody>\n",
       "</table>\n",
       "</div>"
      ],
      "text/plain": [
       "Sex             0    1\n",
       "Cabin_letter          \n",
       "A              18    4\n",
       "B              29   36\n",
       "C              48   46\n",
       "D              23   23\n",
       "E              22   19\n",
       "F              13    8\n",
       "G               0    5\n",
       "T               1    0\n",
       "n             689  325"
      ]
     },
     "execution_count": 77,
     "metadata": {},
     "output_type": "execute_result"
    }
   ],
   "source": [
    "combine[['Cabin_letter', 'Sex']].groupby(['Cabin_letter', 'Sex']).size().unstack(fill_value=0)\n",
    "\n"
   ]
  },
  {
   "cell_type": "code",
   "execution_count": 78,
   "id": "26c49adb-6011-49bd-93e9-ea4265893ca0",
   "metadata": {},
   "outputs": [
    {
     "data": {
      "text/plain": [
       "Cabin_letter  Pclass\n",
       "B             1         122.383078\n",
       "C             1         107.926598\n",
       "n             1          70.268157\n",
       "E             1          63.464706\n",
       "D             1          58.919065\n",
       "A             1          41.244314\n",
       "T             1          35.500000\n",
       "F             2          23.423077\n",
       "n             2          21.394537\n",
       "G             3          14.205000\n",
       "D             2          13.595833\n",
       "n             3          13.353114\n",
       "E             2          11.587500\n",
       "              3          11.000000\n",
       "F             3           9.395837\n",
       "Name: Fare, dtype: float64"
      ]
     },
     "execution_count": 78,
     "metadata": {},
     "output_type": "execute_result"
    }
   ],
   "source": [
    "combine.groupby(['Cabin_letter', 'Pclass'])['Fare'].mean().sort_values(ascending=False)"
   ]
  },
  {
   "cell_type": "code",
   "execution_count": 79,
   "id": "b46f10c5-9ba6-426e-a212-ac7672963425",
   "metadata": {},
   "outputs": [
    {
     "data": {
      "text/plain": [
       "<seaborn.axisgrid.FacetGrid at 0x1f2c1768410>"
      ]
     },
     "execution_count": 79,
     "metadata": {},
     "output_type": "execute_result"
    },
    {
     "data": {
      "image/png": "[encoded data removed]",
      "text/plain": [
       "<Figure size 558.875x500 with 1 Axes>"
      ]
     },
     "metadata": {},
     "output_type": "display_data"
    }
   ],
   "source": [
    "sns.catplot(data=combine, x='Cabin_letter', y='Survived', hue='Sex', kind='bar')"
   ]
  },
  {
   "cell_type": "code",
   "execution_count": 80,
   "id": "05a7628d-227e-4567-bfe5-b9d27e6c0b01",
   "metadata": {},
   "outputs": [],
   "source": [
    "combine = combine.drop(['PassengerId', 'Name', 'Cabin','Ticket'],axis=1)"
   ]
  },
  {
   "cell_type": "code",
   "execution_count": 81,
   "id": "728f451f-2e90-4ab1-92ba-6cba06c85415",
   "metadata": {},
   "outputs": [
    {
     "data": {
      "text/plain": [
       "<seaborn.axisgrid.FacetGrid at 0x1f2c1e99850>"
      ]
     },
     "execution_count": 81,
     "metadata": {},
     "output_type": "execute_result"
    },
    {
     "data": {
      "image/png": "[encoded data removed]",
      "text/plain": [
       "<Figure size 1058.88x500 with 2 Axes>"
      ]
     },
     "metadata": {},
     "output_type": "display_data"
    }
   ],
   "source": [
    "sns.catplot(data=train, x='Sex', y='Age', col='Survived', hue='Pclass', kind='box')"
   ]
  },
  {
   "cell_type": "code",
   "execution_count": 82,
   "id": "cdfcfc82-3575-4df5-a421-229927e32db8",
   "metadata": {},
   "outputs": [],
   "source": [
    "combine['Age'] = combine['Age'].astype(int)\n",
    "combine['Pclass'] = combine['Pclass'].astype(int)"
   ]
  },
  {
   "cell_type": "code",
   "execution_count": 83,
   "id": "097f76a2-02c0-4148-a176-109cc5949819",
   "metadata": {},
   "outputs": [],
   "source": [
    "combine['Age/Pclass'] = combine['Age'] / combine['Pclass']"
   ]
  },
  {
   "cell_type": "code",
   "execution_count": 84,
   "id": "121b3f37-ccf2-4d6a-a3c8-e74205a178d4",
   "metadata": {},
   "outputs": [
    {
     "data": {
      "text/html": [
       "<div>\n",
       "<style scoped>\n",
       "    .dataframe tbody tr th:only-of-type {\n",
       "        vertical-align: middle;\n",
       "    }\n",
       "\n",
       "    .dataframe tbody tr th {\n",
       "        vertical-align: top;\n",
       "    }\n",
       "\n",
       "    .dataframe thead th {\n",
       "        text-align: right;\n",
       "    }\n",
       "</style>\n",
       "<table border=\"1\" class=\"dataframe\">\n",
       "  <thead>\n",
       "    <tr style=\"text-align: right;\">\n",
       "      <th></th>\n",
       "      <th>Survived</th>\n",
       "      <th>Pclass</th>\n",
       "      <th>Sex</th>\n",
       "      <th>Age</th>\n",
       "      <th>SibSp</th>\n",
       "      <th>Parch</th>\n",
       "      <th>Fare</th>\n",
       "      <th>Embarked</th>\n",
       "      <th>Title</th>\n",
       "      <th>Cabin_letter</th>\n",
       "      <th>Age/Pclass</th>\n",
       "    </tr>\n",
       "  </thead>\n",
       "  <tbody>\n",
       "    <tr>\n",
       "      <th>0</th>\n",
       "      <td>0.0</td>\n",
       "      <td>3</td>\n",
       "      <td>0</td>\n",
       "      <td>22</td>\n",
       "      <td>1</td>\n",
       "      <td>0</td>\n",
       "      <td>7.2500</td>\n",
       "      <td>S</td>\n",
       "      <td>Mr</td>\n",
       "      <td>n</td>\n",
       "      <td>7.333333</td>\n",
       "    </tr>\n",
       "    <tr>\n",
       "      <th>1</th>\n",
       "      <td>1.0</td>\n",
       "      <td>1</td>\n",
       "      <td>1</td>\n",
       "      <td>38</td>\n",
       "      <td>1</td>\n",
       "      <td>0</td>\n",
       "      <td>71.2833</td>\n",
       "      <td>C</td>\n",
       "      <td>Mrs</td>\n",
       "      <td>C</td>\n",
       "      <td>38.000000</td>\n",
       "    </tr>\n",
       "    <tr>\n",
       "      <th>2</th>\n",
       "      <td>1.0</td>\n",
       "      <td>3</td>\n",
       "      <td>1</td>\n",
       "      <td>26</td>\n",
       "      <td>0</td>\n",
       "      <td>0</td>\n",
       "      <td>7.9250</td>\n",
       "      <td>S</td>\n",
       "      <td>Miss</td>\n",
       "      <td>n</td>\n",
       "      <td>8.666667</td>\n",
       "    </tr>\n",
       "    <tr>\n",
       "      <th>3</th>\n",
       "      <td>1.0</td>\n",
       "      <td>1</td>\n",
       "      <td>1</td>\n",
       "      <td>35</td>\n",
       "      <td>1</td>\n",
       "      <td>0</td>\n",
       "      <td>53.1000</td>\n",
       "      <td>S</td>\n",
       "      <td>Mrs</td>\n",
       "      <td>C</td>\n",
       "      <td>35.000000</td>\n",
       "    </tr>\n",
       "    <tr>\n",
       "      <th>4</th>\n",
       "      <td>0.0</td>\n",
       "      <td>3</td>\n",
       "      <td>0</td>\n",
       "      <td>35</td>\n",
       "      <td>0</td>\n",
       "      <td>0</td>\n",
       "      <td>8.0500</td>\n",
       "      <td>S</td>\n",
       "      <td>Mr</td>\n",
       "      <td>n</td>\n",
       "      <td>11.666667</td>\n",
       "    </tr>\n",
       "  </tbody>\n",
       "</table>\n",
       "</div>"
      ],
      "text/plain": [
       "   Survived  Pclass  Sex  Age  SibSp  Parch     Fare Embarked Title  \\\n",
       "0       0.0       3    0   22      1      0   7.2500        S    Mr   \n",
       "1       1.0       1    1   38      1      0  71.2833        C   Mrs   \n",
       "2       1.0       3    1   26      0      0   7.9250        S  Miss   \n",
       "3       1.0       1    1   35      1      0  53.1000        S   Mrs   \n",
       "4       0.0       3    0   35      0      0   8.0500        S    Mr   \n",
       "\n",
       "  Cabin_letter  Age/Pclass  \n",
       "0            n    7.333333  \n",
       "1            C   38.000000  \n",
       "2            n    8.666667  \n",
       "3            C   35.000000  \n",
       "4            n   11.666667  "
      ]
     },
     "execution_count": 84,
     "metadata": {},
     "output_type": "execute_result"
    }
   ],
   "source": [
    "combine.head()"
   ]
  },
  {
   "cell_type": "code",
   "execution_count": 85,
   "id": "f09e56a0-5a2d-44f2-9df3-e477665a3060",
   "metadata": {},
   "outputs": [],
   "source": [
    "combine['Family_size'] = combine.SibSp + combine.Parch + 1\n"
   ]
  },
  {
   "cell_type": "code",
   "execution_count": 86,
   "id": "2a7ac959-e9d0-4071-8613-7799e572ace3",
   "metadata": {
    "scrolled": true
   },
   "outputs": [
    {
     "data": {
      "text/plain": [
       "Family_size\n",
       "1     790\n",
       "2     235\n",
       "3     159\n",
       "4      43\n",
       "6      25\n",
       "5      22\n",
       "7      16\n",
       "11     11\n",
       "8       8\n",
       "Name: count, dtype: int64"
      ]
     },
     "execution_count": 86,
     "metadata": {},
     "output_type": "execute_result"
    }
   ],
   "source": [
    "combine['Family_size'].value_counts()"
   ]
  },
  {
   "cell_type": "code",
   "execution_count": 87,
   "id": "9eef8b10-a96c-414b-8a28-75c8c6494ca0",
   "metadata": {},
   "outputs": [],
   "source": [
    "combine['Is_Alone'] = 0\n",
    "combine.loc[combine['Family_size']==1, 'Is_Alone'] = 1\n",
    "combine = combine.drop(['SibSp', 'Parch', 'Family_size'],axis=1)"
   ]
  },
  {
   "cell_type": "markdown",
   "id": "478116bb-23f5-4d07-a09b-cf3daf9c651d",
   "metadata": {},
   "source": [
    "##### 6. Modeling.\n",
    "* 6.1 Encoding categorical values.\n",
    "* 6.2 Scaling numerical values.\n",
    "* 6.3 Applying ML models with evaluation (score, f1, precision, recall).\n",
    "    * Logistic Regression.\n",
    "    * SVC Support Vector Machines.\n",
    "    * Linear SVC.\n",
    "    * SGD - Stochastic Gradient Decent.\n",
    "    * K- Nearest Neigbours.\n",
    "    * GNB - Gaussian Naive Base.\n",
    "    * Perceptron.\n",
    "    * DTC - Decision Tree CLassifier.\n",
    "    * RF - Random Forest (ensable method).\n",
    "    * Catboost.\n",
    "    * Adaboost.\n",
    "* 6.4 Compering all models & chosing the best performing one.\n",
    "* 6.5 One more look at features, engineered features, Ticket, trying new features and reload models.\n",
    "* 6.6 Creating a pipeline with selected models, applying PCA, Select-K features, hyperparameter tuning and cross validation."
   ]
  },
  {
   "cell_type": "markdown",
   "id": "16f301c1-aa1a-4bdc-8e47-ed20719aef52",
   "metadata": {},
   "source": [
    "##### 6.1 Encoding categorical values."
   ]
  },
  {
   "cell_type": "code",
   "execution_count": 89,
   "id": "df2eb431-1f74-46f1-b1de-bf7ce218e13a",
   "metadata": {},
   "outputs": [],
   "source": [
    "combine = pd.get_dummies(combine, columns=['Title'], dtype=int)\n",
    "combine = pd.get_dummies(combine, columns=['Embarked'], prefix='Em', dtype=int)\n",
    "combine = pd.get_dummies(combine, columns=['Cabin_letter'],prefix='Cl',dtype=int)"
   ]
  },
  {
   "cell_type": "code",
   "execution_count": 90,
   "id": "b605853e-b606-4fd5-9b70-9a161d0028eb",
   "metadata": {
    "scrolled": true
   },
   "outputs": [
    {
     "data": {
      "text/html": [
       "<div>\n",
       "<style scoped>\n",
       "    .dataframe tbody tr th:only-of-type {\n",
       "        vertical-align: middle;\n",
       "    }\n",
       "\n",
       "    .dataframe tbody tr th {\n",
       "        vertical-align: top;\n",
       "    }\n",
       "\n",
       "    .dataframe thead th {\n",
       "        text-align: right;\n",
       "    }\n",
       "</style>\n",
       "<table border=\"1\" class=\"dataframe\">\n",
       "  <thead>\n",
       "    <tr style=\"text-align: right;\">\n",
       "      <th></th>\n",
       "      <th>Survived</th>\n",
       "      <th>Pclass</th>\n",
       "      <th>Sex</th>\n",
       "      <th>Age</th>\n",
       "      <th>Fare</th>\n",
       "      <th>Age/Pclass</th>\n",
       "      <th>Is_Alone</th>\n",
       "      <th>Title_Dr</th>\n",
       "      <th>Title_Master</th>\n",
       "      <th>Title_Miss</th>\n",
       "      <th>...</th>\n",
       "      <th>Em_S</th>\n",
       "      <th>Cl_A</th>\n",
       "      <th>Cl_B</th>\n",
       "      <th>Cl_C</th>\n",
       "      <th>Cl_D</th>\n",
       "      <th>Cl_E</th>\n",
       "      <th>Cl_F</th>\n",
       "      <th>Cl_G</th>\n",
       "      <th>Cl_T</th>\n",
       "      <th>Cl_n</th>\n",
       "    </tr>\n",
       "  </thead>\n",
       "  <tbody>\n",
       "    <tr>\n",
       "      <th>0</th>\n",
       "      <td>0.0</td>\n",
       "      <td>3</td>\n",
       "      <td>0</td>\n",
       "      <td>22</td>\n",
       "      <td>7.2500</td>\n",
       "      <td>7.333333</td>\n",
       "      <td>0</td>\n",
       "      <td>0</td>\n",
       "      <td>0</td>\n",
       "      <td>0</td>\n",
       "      <td>...</td>\n",
       "      <td>1</td>\n",
       "      <td>0</td>\n",
       "      <td>0</td>\n",
       "      <td>0</td>\n",
       "      <td>0</td>\n",
       "      <td>0</td>\n",
       "      <td>0</td>\n",
       "      <td>0</td>\n",
       "      <td>0</td>\n",
       "      <td>1</td>\n",
       "    </tr>\n",
       "    <tr>\n",
       "      <th>1</th>\n",
       "      <td>1.0</td>\n",
       "      <td>1</td>\n",
       "      <td>1</td>\n",
       "      <td>38</td>\n",
       "      <td>71.2833</td>\n",
       "      <td>38.000000</td>\n",
       "      <td>0</td>\n",
       "      <td>0</td>\n",
       "      <td>0</td>\n",
       "      <td>0</td>\n",
       "      <td>...</td>\n",
       "      <td>0</td>\n",
       "      <td>0</td>\n",
       "      <td>0</td>\n",
       "      <td>1</td>\n",
       "      <td>0</td>\n",
       "      <td>0</td>\n",
       "      <td>0</td>\n",
       "      <td>0</td>\n",
       "      <td>0</td>\n",
       "      <td>0</td>\n",
       "    </tr>\n",
       "    <tr>\n",
       "      <th>2</th>\n",
       "      <td>1.0</td>\n",
       "      <td>3</td>\n",
       "      <td>1</td>\n",
       "      <td>26</td>\n",
       "      <td>7.9250</td>\n",
       "      <td>8.666667</td>\n",
       "      <td>1</td>\n",
       "      <td>0</td>\n",
       "      <td>0</td>\n",
       "      <td>1</td>\n",
       "      <td>...</td>\n",
       "      <td>1</td>\n",
       "      <td>0</td>\n",
       "      <td>0</td>\n",
       "      <td>0</td>\n",
       "      <td>0</td>\n",
       "      <td>0</td>\n",
       "      <td>0</td>\n",
       "      <td>0</td>\n",
       "      <td>0</td>\n",
       "      <td>1</td>\n",
       "    </tr>\n",
       "    <tr>\n",
       "      <th>3</th>\n",
       "      <td>1.0</td>\n",
       "      <td>1</td>\n",
       "      <td>1</td>\n",
       "      <td>35</td>\n",
       "      <td>53.1000</td>\n",
       "      <td>35.000000</td>\n",
       "      <td>0</td>\n",
       "      <td>0</td>\n",
       "      <td>0</td>\n",
       "      <td>0</td>\n",
       "      <td>...</td>\n",
       "      <td>1</td>\n",
       "      <td>0</td>\n",
       "      <td>0</td>\n",
       "      <td>1</td>\n",
       "      <td>0</td>\n",
       "      <td>0</td>\n",
       "      <td>0</td>\n",
       "      <td>0</td>\n",
       "      <td>0</td>\n",
       "      <td>0</td>\n",
       "    </tr>\n",
       "    <tr>\n",
       "      <th>4</th>\n",
       "      <td>0.0</td>\n",
       "      <td>3</td>\n",
       "      <td>0</td>\n",
       "      <td>35</td>\n",
       "      <td>8.0500</td>\n",
       "      <td>11.666667</td>\n",
       "      <td>1</td>\n",
       "      <td>0</td>\n",
       "      <td>0</td>\n",
       "      <td>0</td>\n",
       "      <td>...</td>\n",
       "      <td>1</td>\n",
       "      <td>0</td>\n",
       "      <td>0</td>\n",
       "      <td>0</td>\n",
       "      <td>0</td>\n",
       "      <td>0</td>\n",
       "      <td>0</td>\n",
       "      <td>0</td>\n",
       "      <td>0</td>\n",
       "      <td>1</td>\n",
       "    </tr>\n",
       "  </tbody>\n",
       "</table>\n",
       "<p>5 rows × 26 columns</p>\n",
       "</div>"
      ],
      "text/plain": [
       "   Survived  Pclass  Sex  Age     Fare  Age/Pclass  Is_Alone  Title_Dr  \\\n",
       "0       0.0       3    0   22   7.2500    7.333333         0         0   \n",
       "1       1.0       1    1   38  71.2833   38.000000         0         0   \n",
       "2       1.0       3    1   26   7.9250    8.666667         1         0   \n",
       "3       1.0       1    1   35  53.1000   35.000000         0         0   \n",
       "4       0.0       3    0   35   8.0500   11.666667         1         0   \n",
       "\n",
       "   Title_Master  Title_Miss  ...  Em_S  Cl_A  Cl_B  Cl_C  Cl_D  Cl_E  Cl_F  \\\n",
       "0             0           0  ...     1     0     0     0     0     0     0   \n",
       "1             0           0  ...     0     0     0     1     0     0     0   \n",
       "2             0           1  ...     1     0     0     0     0     0     0   \n",
       "3             0           0  ...     1     0     0     1     0     0     0   \n",
       "4             0           0  ...     1     0     0     0     0     0     0   \n",
       "\n",
       "   Cl_G  Cl_T  Cl_n  \n",
       "0     0     0     1  \n",
       "1     0     0     0  \n",
       "2     0     0     1  \n",
       "3     0     0     0  \n",
       "4     0     0     1  \n",
       "\n",
       "[5 rows x 26 columns]"
      ]
     },
     "execution_count": 90,
     "metadata": {},
     "output_type": "execute_result"
    }
   ],
   "source": [
    "combine.head()"
   ]
  },
  {
   "cell_type": "markdown",
   "id": "2063f34e-80d6-4a50-8960-7ba5e10c21a4",
   "metadata": {},
   "source": [
    "##### 6.2 Scaling numerical values."
   ]
  },
  {
   "cell_type": "code",
   "execution_count": 91,
   "id": "10124481-596b-4f9c-8276-7583be1a2f82",
   "metadata": {},
   "outputs": [],
   "source": [
    "from sklearn.preprocessing import MinMaxScaler"
   ]
  },
  {
   "cell_type": "code",
   "execution_count": 92,
   "id": "743bd365-29e3-407c-8ffc-566b6aa3e206",
   "metadata": {},
   "outputs": [],
   "source": [
    "scaler = MinMaxScaler()"
   ]
  },
  {
   "cell_type": "code",
   "execution_count": 97,
   "id": "8e1dead6-ce9e-498a-a54c-04e9674fc8aa",
   "metadata": {},
   "outputs": [],
   "source": [
    "features_selected = combine[['Age', 'Fare','Age/Pclass']]"
   ]
  },
  {
   "cell_type": "code",
   "execution_count": 98,
   "id": "f0c248a2-3b70-4abb-948d-a09495f62182",
   "metadata": {},
   "outputs": [],
   "source": [
    "combine[['Age', 'Fare', 'Age/Pclass']] = scaler.fit_transform(features_selected)"
   ]
  },
  {
   "cell_type": "code",
   "execution_count": 100,
   "id": "5a8fe5cc-38b9-40ed-8ca6-f0bd3173e852",
   "metadata": {
    "scrolled": true
   },
   "outputs": [
    {
     "data": {
      "text/html": [
       "<div>\n",
       "<style scoped>\n",
       "    .dataframe tbody tr th:only-of-type {\n",
       "        vertical-align: middle;\n",
       "    }\n",
       "\n",
       "    .dataframe tbody tr th {\n",
       "        vertical-align: top;\n",
       "    }\n",
       "\n",
       "    .dataframe thead th {\n",
       "        text-align: right;\n",
       "    }\n",
       "</style>\n",
       "<table border=\"1\" class=\"dataframe\">\n",
       "  <thead>\n",
       "    <tr style=\"text-align: right;\">\n",
       "      <th></th>\n",
       "      <th>Survived</th>\n",
       "      <th>Pclass</th>\n",
       "      <th>Sex</th>\n",
       "      <th>Age</th>\n",
       "      <th>Fare</th>\n",
       "      <th>Age/Pclass</th>\n",
       "      <th>Is_Alone</th>\n",
       "      <th>Title_Dr</th>\n",
       "      <th>Title_Master</th>\n",
       "      <th>Title_Miss</th>\n",
       "      <th>...</th>\n",
       "      <th>Em_S</th>\n",
       "      <th>Cl_A</th>\n",
       "      <th>Cl_B</th>\n",
       "      <th>Cl_C</th>\n",
       "      <th>Cl_D</th>\n",
       "      <th>Cl_E</th>\n",
       "      <th>Cl_F</th>\n",
       "      <th>Cl_G</th>\n",
       "      <th>Cl_T</th>\n",
       "      <th>Cl_n</th>\n",
       "    </tr>\n",
       "  </thead>\n",
       "  <tbody>\n",
       "    <tr>\n",
       "      <th>0</th>\n",
       "      <td>0.0</td>\n",
       "      <td>3</td>\n",
       "      <td>0</td>\n",
       "      <td>0.2750</td>\n",
       "      <td>0.014151</td>\n",
       "      <td>0.091667</td>\n",
       "      <td>0</td>\n",
       "      <td>0</td>\n",
       "      <td>0</td>\n",
       "      <td>0</td>\n",
       "      <td>...</td>\n",
       "      <td>1</td>\n",
       "      <td>0</td>\n",
       "      <td>0</td>\n",
       "      <td>0</td>\n",
       "      <td>0</td>\n",
       "      <td>0</td>\n",
       "      <td>0</td>\n",
       "      <td>0</td>\n",
       "      <td>0</td>\n",
       "      <td>1</td>\n",
       "    </tr>\n",
       "    <tr>\n",
       "      <th>1</th>\n",
       "      <td>1.0</td>\n",
       "      <td>1</td>\n",
       "      <td>1</td>\n",
       "      <td>0.4750</td>\n",
       "      <td>0.139136</td>\n",
       "      <td>0.475000</td>\n",
       "      <td>0</td>\n",
       "      <td>0</td>\n",
       "      <td>0</td>\n",
       "      <td>0</td>\n",
       "      <td>...</td>\n",
       "      <td>0</td>\n",
       "      <td>0</td>\n",
       "      <td>0</td>\n",
       "      <td>1</td>\n",
       "      <td>0</td>\n",
       "      <td>0</td>\n",
       "      <td>0</td>\n",
       "      <td>0</td>\n",
       "      <td>0</td>\n",
       "      <td>0</td>\n",
       "    </tr>\n",
       "    <tr>\n",
       "      <th>2</th>\n",
       "      <td>1.0</td>\n",
       "      <td>3</td>\n",
       "      <td>1</td>\n",
       "      <td>0.3250</td>\n",
       "      <td>0.015469</td>\n",
       "      <td>0.108333</td>\n",
       "      <td>1</td>\n",
       "      <td>0</td>\n",
       "      <td>0</td>\n",
       "      <td>1</td>\n",
       "      <td>...</td>\n",
       "      <td>1</td>\n",
       "      <td>0</td>\n",
       "      <td>0</td>\n",
       "      <td>0</td>\n",
       "      <td>0</td>\n",
       "      <td>0</td>\n",
       "      <td>0</td>\n",
       "      <td>0</td>\n",
       "      <td>0</td>\n",
       "      <td>1</td>\n",
       "    </tr>\n",
       "    <tr>\n",
       "      <th>3</th>\n",
       "      <td>1.0</td>\n",
       "      <td>1</td>\n",
       "      <td>1</td>\n",
       "      <td>0.4375</td>\n",
       "      <td>0.103644</td>\n",
       "      <td>0.437500</td>\n",
       "      <td>0</td>\n",
       "      <td>0</td>\n",
       "      <td>0</td>\n",
       "      <td>0</td>\n",
       "      <td>...</td>\n",
       "      <td>1</td>\n",
       "      <td>0</td>\n",
       "      <td>0</td>\n",
       "      <td>1</td>\n",
       "      <td>0</td>\n",
       "      <td>0</td>\n",
       "      <td>0</td>\n",
       "      <td>0</td>\n",
       "      <td>0</td>\n",
       "      <td>0</td>\n",
       "    </tr>\n",
       "    <tr>\n",
       "      <th>4</th>\n",
       "      <td>0.0</td>\n",
       "      <td>3</td>\n",
       "      <td>0</td>\n",
       "      <td>0.4375</td>\n",
       "      <td>0.015713</td>\n",
       "      <td>0.145833</td>\n",
       "      <td>1</td>\n",
       "      <td>0</td>\n",
       "      <td>0</td>\n",
       "      <td>0</td>\n",
       "      <td>...</td>\n",
       "      <td>1</td>\n",
       "      <td>0</td>\n",
       "      <td>0</td>\n",
       "      <td>0</td>\n",
       "      <td>0</td>\n",
       "      <td>0</td>\n",
       "      <td>0</td>\n",
       "      <td>0</td>\n",
       "      <td>0</td>\n",
       "      <td>1</td>\n",
       "    </tr>\n",
       "  </tbody>\n",
       "</table>\n",
       "<p>5 rows × 26 columns</p>\n",
       "</div>"
      ],
      "text/plain": [
       "   Survived  Pclass  Sex     Age      Fare  Age/Pclass  Is_Alone  Title_Dr  \\\n",
       "0       0.0       3    0  0.2750  0.014151    0.091667         0         0   \n",
       "1       1.0       1    1  0.4750  0.139136    0.475000         0         0   \n",
       "2       1.0       3    1  0.3250  0.015469    0.108333         1         0   \n",
       "3       1.0       1    1  0.4375  0.103644    0.437500         0         0   \n",
       "4       0.0       3    0  0.4375  0.015713    0.145833         1         0   \n",
       "\n",
       "   Title_Master  Title_Miss  ...  Em_S  Cl_A  Cl_B  Cl_C  Cl_D  Cl_E  Cl_F  \\\n",
       "0             0           0  ...     1     0     0     0     0     0     0   \n",
       "1             0           0  ...     0     0     0     1     0     0     0   \n",
       "2             0           1  ...     1     0     0     0     0     0     0   \n",
       "3             0           0  ...     1     0     0     1     0     0     0   \n",
       "4             0           0  ...     1     0     0     0     0     0     0   \n",
       "\n",
       "   Cl_G  Cl_T  Cl_n  \n",
       "0     0     0     1  \n",
       "1     0     0     0  \n",
       "2     0     0     1  \n",
       "3     0     0     0  \n",
       "4     0     0     1  \n",
       "\n",
       "[5 rows x 26 columns]"
      ]
     },
     "execution_count": 100,
     "metadata": {},
     "output_type": "execute_result"
    }
   ],
   "source": [
    "combine.head()"
   ]
  },
  {
   "cell_type": "code",
   "execution_count": 102,
   "id": "96f9899d-c591-4bd3-900a-41011aeea522",
   "metadata": {},
   "outputs": [],
   "source": [
    "train = combine[:len(train)]\n",
    "test = combine[len(train):]"
   ]
  },
  {
   "cell_type": "code",
   "execution_count": 103,
   "id": "fde77fd4-dccd-45e1-8328-e8fdd7546352",
   "metadata": {},
   "outputs": [
    {
     "data": {
      "text/plain": [
       "(891, 26)"
      ]
     },
     "execution_count": 103,
     "metadata": {},
     "output_type": "execute_result"
    }
   ],
   "source": [
    "train.shape"
   ]
  },
  {
   "cell_type": "code",
   "execution_count": 105,
   "id": "708a73fa-b08f-4951-bdc9-bb5bf14864ba",
   "metadata": {},
   "outputs": [
    {
     "data": {
      "text/plain": [
       "(418, 26)"
      ]
     },
     "execution_count": 105,
     "metadata": {},
     "output_type": "execute_result"
    }
   ],
   "source": [
    "test.shape"
   ]
  },
  {
   "cell_type": "code",
   "execution_count": 109,
   "id": "ed1feef5-65e1-4143-9137-7a647fff755b",
   "metadata": {},
   "outputs": [],
   "source": [
    "features = train.drop('Survived', axis=1)\n",
    "labels = train['Survived']\n",
    "s_test = test"
   ]
  },
  {
   "cell_type": "code",
   "execution_count": 112,
   "id": "97225c84-a662-4e31-9cf9-cd4123795bc6",
   "metadata": {},
   "outputs": [],
   "source": [
    "from sklearn.model_selection import train_test_split\n",
    "\n",
    "X_train, X_test, y_train, y_test = train_test_split(features, labels, test_size=0.3, random_state=42)"
   ]
  },
  {
   "cell_type": "markdown",
   "id": "1fd71b30-c1c1-40b0-a005-8242f6bc83ef",
   "metadata": {},
   "source": [
    "##### 6.3 Applying ML models with evaluation (score, f1, precision, recall)."
   ]
  },
  {
   "cell_type": "code",
   "execution_count": 121,
   "id": "394ebc67-29aa-4992-87aa-6075453ec298",
   "metadata": {},
   "outputs": [],
   "source": [
    "from sklearn.linear_model import LogisticRegression\n",
    "from sklearn.metrics import f1_score, recall_score, precision_score\n",
    "PERF_FORMAT_STRING =\" \\tAccuracy: {:>0.{round}f}\\tF1_score: {:>0.{round}f}\\tPrecision: {:>0.{round}f}\\tRecall: {:>0.{round}f} \""
   ]
  },
  {
   "cell_type": "code",
   "execution_count": 122,
   "id": "8a53f91f-99e6-42db-a0e6-56914d841abe",
   "metadata": {},
   "outputs": [
    {
     "name": "stdout",
     "output_type": "stream",
     "text": [
      " \tAccuracy: 0.8379\tF1_score: 0.7727\tPrecision: 0.7798\tRecall: 0.7658 \n"
     ]
    }
   ],
   "source": [
    "lr_clf = LogisticRegression()\n",
    "lr_clf.fit(X_train, y_train)\n",
    "lr_pred = lr_clf.predict(X_test)\n",
    "lr_acc = lr_clf.score(X_train, y_train)\n",
    "lr_f1_score = f1_score(y_test, lr_pred)\n",
    "lr_precision = precision_score(y_test, lr_pred)\n",
    "lr_recall = recall_score(y_test, lr_pred)\n",
    "print(PERF_FORMAT_STRING.format(lr_acc, lr_f1_score, lr_precision, lr_recall, round = 4))\n"
   ]
  },
  {
   "cell_type": "code",
   "execution_count": 125,
   "id": "1d446f5b-3bec-436d-9f16-9989a474c89f",
   "metadata": {},
   "outputs": [
    {
     "name": "stdout",
     "output_type": "stream",
     "text": [
      " \tAccuracy: 0.8411\tF1_score: 0.7449\tPrecision: 0.8588\tRecall: 0.6577 \n"
     ]
    }
   ],
   "source": [
    "from sklearn.svm import SVC\n",
    "svc_clf = SVC()\n",
    "svc_clf.fit(X_train, y_train)\n",
    "svc_pred = svc_clf.predict(X_test)\n",
    "svc_acc = svc_clf.score(X_train, y_train)\n",
    "svc_f1_score = f1_score(y_test, svc_pred)\n",
    "svc_precision = precision_score(y_test, svc_pred)\n",
    "svc_recall = recall_score(y_test, svc_pred)\n",
    "print(PERF_FORMAT_STRING.format(svc_acc, svc_f1_score, svc_precision, svc_recall, round = 4))"
   ]
  },
  {
   "cell_type": "code",
   "execution_count": 132,
   "id": "c77538f2-b8d8-4eec-871e-b2a6b2320981",
   "metadata": {},
   "outputs": [
    {
     "name": "stdout",
     "output_type": "stream",
     "text": [
      " \tAccuracy: 0.8283\tF1_score: 0.7727\tPrecision: 0.7798\tRecall: 0.7658 \n"
     ]
    }
   ],
   "source": [
    "from sklearn.svm import LinearSVC\n",
    "lsvc_clf = LinearSVC()\n",
    "lsvc_clf.fit(X_train, y_train)\n",
    "lsvc_pred = lsvc_clf.predict(X_test)\n",
    "lsvc_acc = lsvc_clf.score(X_train, y_train)\n",
    "lsvc_f1_score = f1_score(y_test, lsvc_pred)\n",
    "lsvc_precision = precision_score(y_test, lsvc_pred)\n",
    "lsvc_recall =recall_score(y_test, lsvc_pred)\n",
    "print(PERF_FORMAT_STRING.format(lsvc_acc, lsvc_f1_score, lsvc_precision, lsvc_recall, round = 4))"
   ]
  },
  {
   "cell_type": "code",
   "execution_count": 134,
   "id": "7ce9d291-cdde-4bf0-ac57-58fe54c11c2d",
   "metadata": {},
   "outputs": [
    {
     "name": "stdout",
     "output_type": "stream",
     "text": [
      " \tAccuracy: 0.8283\tF1_score: 0.7727\tPrecision: 0.7798\tRecall: 0.7658 \n"
     ]
    }
   ],
   "source": [
    "from sklearn.linear_model import SGDClassifier\n",
    "sgd_clf = SGDClassifier()\n",
    "sgd_clf.fit(X_train, y_train)\n",
    "sgd_pred = lsvc_clf.predict(X_test)\n",
    "sgd_acc = lsvc_clf.score(X_train, y_train)\n",
    "sgd_f1_score = f1_score(y_test, sgd_pred)\n",
    "sgd_precision = precision_score(y_test, sgd_pred)\n",
    "sgd_recall =recall_score(y_test, sgd_pred)\n",
    "print(PERF_FORMAT_STRING.format(sgd_acc, sgd_f1_score, sgd_precision, sgd_recall, round = 4))"
   ]
  },
  {
   "cell_type": "code",
   "execution_count": 141,
   "id": "fb1071d8-a158-47b9-9b04-f95f15e8a4c8",
   "metadata": {},
   "outputs": [
    {
     "name": "stdout",
     "output_type": "stream",
     "text": [
      " \tAccuracy: 0.8636\tF1_score: 0.7220\tPrecision: 0.7872\tRecall: 0.6667 \n"
     ]
    }
   ],
   "source": [
    "from sklearn.neighbors import KNeighborsClassifier\n",
    "knn_clf = KNeighborsClassifier(n_neighbors = 5)\n",
    "knn_clf.fit(X_train, y_train)\n",
    "knn_pred = knn_clf.predict(X_test)\n",
    "knn_acc = knn_clf.score(X_train, y_train)\n",
    "knn_f1_score = f1_score(y_test, knn_pred)\n",
    "knn_precision = precision_score(y_test, knn_pred)\n",
    "knn_recall =recall_score(y_test, knn_pred)\n",
    "print(PERF_FORMAT_STRING.format(knn_acc, knn_f1_score, knn_precision, knn_recall, round = 4))"
   ]
  },
  {
   "cell_type": "code",
   "execution_count": 144,
   "id": "7fa5d300-43c4-4928-a978-5099d4af39d5",
   "metadata": {},
   "outputs": [
    {
     "name": "stdout",
     "output_type": "stream",
     "text": [
      " \tAccuracy: 0.3820\tF1_score: 0.5829\tPrecision: 0.4144\tRecall: 0.9820 \n"
     ]
    }
   ],
   "source": [
    "from sklearn.naive_bayes import GaussianNB\n",
    "gnb_clf = GaussianNB()\n",
    "gnb_clf.fit(X_train, y_train)\n",
    "gnb_pred = gnb_clf.predict(X_test)\n",
    "gnb_acc = gnb_clf.score(X_train, y_train)\n",
    "gnb_f1_score = f1_score(y_test, gnb_pred)\n",
    "gnb_precision = precision_score(y_test, gnb_pred)\n",
    "gnb_recall = recall_score(y_test, gnb_pred)\n",
    "print(PERF_FORMAT_STRING.format(gnb_acc, gnb_f1_score, gnb_precision, gnb_recall, round = 4))"
   ]
  },
  {
   "cell_type": "code",
   "execution_count": 146,
   "id": "629dda6b-992c-4cf1-84d2-03681cf6d917",
   "metadata": {},
   "outputs": [
    {
     "name": "stdout",
     "output_type": "stream",
     "text": [
      " \tAccuracy: 0.3820\tF1_score: 0.6845\tPrecision: 0.8421\tRecall: 0.5766 \n"
     ]
    }
   ],
   "source": [
    "from sklearn.linear_model import Perceptron\n",
    "\n",
    "p_clf = Perceptron()\n",
    "p_clf.fit(X_train, y_train)\n",
    "p_pred = p_clf.predict(X_test)\n",
    "p_acc = gnb_clf.score(X_train, y_train)\n",
    "p_f1_score = f1_score(y_test, p_pred)\n",
    "p_precision = precision_score(y_test, p_pred)\n",
    "p_recall = recall_score(y_test, p_pred)\n",
    "print(PERF_FORMAT_STRING.format(p_acc, p_f1_score, p_precision, p_recall, round = 4))"
   ]
  },
  {
   "cell_type": "code",
   "execution_count": 148,
   "id": "0dd510cc-1e19-4e35-afb4-06d35e8c9163",
   "metadata": {},
   "outputs": [
    {
     "name": "stdout",
     "output_type": "stream",
     "text": [
      " \tAccuracy: 0.3820\tF1_score: 0.7130\tPrecision: 0.7333\tRecall: 0.6937 \n"
     ]
    }
   ],
   "source": [
    "from sklearn.tree import DecisionTreeClassifier\n",
    "dt_clf = DecisionTreeClassifier()\n",
    "dt_clf.fit(X_train, y_train)\n",
    "dt_pred = dt_clf.predict(X_test)\n",
    "dt_acc = gnb_clf.score(X_train, y_train)\n",
    "dt_f1_score = f1_score(y_test, dt_pred)\n",
    "dt_precision = precision_score(y_test, dt_pred)\n",
    "dt_recall = recall_score(y_test, dt_pred)\n",
    "print(PERF_FORMAT_STRING.format(dt_acc, dt_f1_score, dt_precision, dt_recall, round = 4))"
   ]
  },
  {
   "cell_type": "code",
   "execution_count": 155,
   "id": "0321bcf4-87fa-4242-8218-f69a6f01eccd",
   "metadata": {},
   "outputs": [
    {
     "name": "stdout",
     "output_type": "stream",
     "text": [
      " \tAccuracy: 0.3820\tF1_score: 0.7130\tPrecision: 0.7333\tRecall: 0.6937 \n"
     ]
    }
   ],
   "source": [
    "from sklearn.ensemble import RandomForestClassifier\n",
    "rf_clf = RandomForestClassifier()\n",
    "rf_clf.fit(X_train, y_train)\n",
    "rf_pred = dt_clf.predict(X_test)\n",
    "rf_acc = gnb_clf.score(X_train, y_train)\n",
    "rf_f1_score = f1_score(y_test, rf_pred)\n",
    "rf_precision = precision_score(y_test, rf_pred)\n",
    "rf_recall = recall_score(y_test, rf_pred)\n",
    "print(PERF_FORMAT_STRING.format(rf_acc, rf_f1_score, rf_precision, rf_recall, round = 4))"
   ]
  },
  {
   "cell_type": "code",
   "execution_count": 156,
   "id": "af9429cd-05de-4c12-92cc-e2e404cf80e4",
   "metadata": {},
   "outputs": [
    {
     "name": "stdout",
     "output_type": "stream",
     "text": [
      "Learning rate set to 0.008417\n",
      "0:\tlearn: 0.6881197\ttotal: 162ms\tremaining: 2m 41s\n",
      "1:\tlearn: 0.6826920\ttotal: 164ms\tremaining: 1m 21s\n",
      "2:\tlearn: 0.6779672\ttotal: 166ms\tremaining: 55.3s\n",
      "3:\tlearn: 0.6734862\ttotal: 168ms\tremaining: 41.9s\n",
      "4:\tlearn: 0.6685502\ttotal: 170ms\tremaining: 33.9s\n",
      "5:\tlearn: 0.6629902\ttotal: 173ms\tremaining: 28.6s\n",
      "6:\tlearn: 0.6577373\ttotal: 175ms\tremaining: 24.8s\n",
      "7:\tlearn: 0.6526453\ttotal: 177ms\tremaining: 22s\n",
      "8:\tlearn: 0.6475056\ttotal: 180ms\tremaining: 19.8s\n",
      "9:\tlearn: 0.6429229\ttotal: 182ms\tremaining: 18s\n",
      "10:\tlearn: 0.6388952\ttotal: 184ms\tremaining: 16.6s\n",
      "11:\tlearn: 0.6344190\ttotal: 187ms\tremaining: 15.4s\n",
      "12:\tlearn: 0.6295986\ttotal: 189ms\tremaining: 14.4s\n",
      "13:\tlearn: 0.6257937\ttotal: 191ms\tremaining: 13.4s\n",
      "14:\tlearn: 0.6216119\ttotal: 193ms\tremaining: 12.7s\n",
      "15:\tlearn: 0.6169757\ttotal: 195ms\tremaining: 12s\n",
      "16:\tlearn: 0.6137248\ttotal: 197ms\tremaining: 11.4s\n",
      "17:\tlearn: 0.6097161\ttotal: 199ms\tremaining: 10.9s\n",
      "18:\tlearn: 0.6075048\ttotal: 202ms\tremaining: 10.4s\n",
      "19:\tlearn: 0.6037299\ttotal: 204ms\tremaining: 10s\n",
      "20:\tlearn: 0.6002919\ttotal: 206ms\tremaining: 9.61s\n",
      "21:\tlearn: 0.5968380\ttotal: 208ms\tremaining: 9.26s\n",
      "22:\tlearn: 0.5937400\ttotal: 211ms\tremaining: 8.95s\n",
      "23:\tlearn: 0.5898741\ttotal: 213ms\tremaining: 8.66s\n",
      "24:\tlearn: 0.5872334\ttotal: 215ms\tremaining: 8.37s\n",
      "25:\tlearn: 0.5837631\ttotal: 217ms\tremaining: 8.12s\n",
      "26:\tlearn: 0.5801428\ttotal: 219ms\tremaining: 7.89s\n",
      "27:\tlearn: 0.5764378\ttotal: 221ms\tremaining: 7.68s\n",
      "28:\tlearn: 0.5736400\ttotal: 223ms\tremaining: 7.48s\n",
      "29:\tlearn: 0.5701995\ttotal: 226ms\tremaining: 7.3s\n",
      "30:\tlearn: 0.5664057\ttotal: 227ms\tremaining: 7.11s\n",
      "31:\tlearn: 0.5623839\ttotal: 230ms\tremaining: 6.94s\n",
      "32:\tlearn: 0.5590873\ttotal: 232ms\tremaining: 6.79s\n",
      "33:\tlearn: 0.5559334\ttotal: 234ms\tremaining: 6.64s\n",
      "34:\tlearn: 0.5531172\ttotal: 236ms\tremaining: 6.5s\n",
      "35:\tlearn: 0.5509947\ttotal: 238ms\tremaining: 6.38s\n",
      "36:\tlearn: 0.5482513\ttotal: 240ms\tremaining: 6.25s\n",
      "37:\tlearn: 0.5449275\ttotal: 242ms\tremaining: 6.14s\n",
      "38:\tlearn: 0.5415688\ttotal: 245ms\tremaining: 6.03s\n",
      "39:\tlearn: 0.5382871\ttotal: 247ms\tremaining: 5.93s\n",
      "40:\tlearn: 0.5363389\ttotal: 249ms\tremaining: 5.83s\n",
      "41:\tlearn: 0.5332035\ttotal: 252ms\tremaining: 5.74s\n",
      "42:\tlearn: 0.5308518\ttotal: 254ms\tremaining: 5.65s\n",
      "43:\tlearn: 0.5281860\ttotal: 256ms\tremaining: 5.56s\n",
      "44:\tlearn: 0.5255638\ttotal: 258ms\tremaining: 5.48s\n",
      "45:\tlearn: 0.5233627\ttotal: 260ms\tremaining: 5.4s\n",
      "46:\tlearn: 0.5209538\ttotal: 263ms\tremaining: 5.32s\n",
      "47:\tlearn: 0.5186224\ttotal: 265ms\tremaining: 5.25s\n",
      "48:\tlearn: 0.5162725\ttotal: 267ms\tremaining: 5.18s\n",
      "49:\tlearn: 0.5132948\ttotal: 269ms\tremaining: 5.12s\n",
      "50:\tlearn: 0.5113493\ttotal: 271ms\tremaining: 5.05s\n",
      "51:\tlearn: 0.5095254\ttotal: 274ms\tremaining: 4.99s\n",
      "52:\tlearn: 0.5078054\ttotal: 276ms\tremaining: 4.93s\n",
      "53:\tlearn: 0.5057804\ttotal: 278ms\tremaining: 4.87s\n",
      "54:\tlearn: 0.5031305\ttotal: 280ms\tremaining: 4.82s\n",
      "55:\tlearn: 0.5010266\ttotal: 282ms\tremaining: 4.76s\n",
      "56:\tlearn: 0.4991289\ttotal: 285ms\tremaining: 4.71s\n",
      "57:\tlearn: 0.4979292\ttotal: 286ms\tremaining: 4.65s\n",
      "58:\tlearn: 0.4956392\ttotal: 289ms\tremaining: 4.6s\n",
      "59:\tlearn: 0.4936003\ttotal: 291ms\tremaining: 4.55s\n",
      "60:\tlearn: 0.4915678\ttotal: 293ms\tremaining: 4.51s\n",
      "61:\tlearn: 0.4896161\ttotal: 295ms\tremaining: 4.46s\n",
      "62:\tlearn: 0.4876003\ttotal: 297ms\tremaining: 4.42s\n",
      "63:\tlearn: 0.4861611\ttotal: 299ms\tremaining: 4.38s\n",
      "64:\tlearn: 0.4841636\ttotal: 302ms\tremaining: 4.34s\n",
      "65:\tlearn: 0.4832386\ttotal: 303ms\tremaining: 4.29s\n",
      "66:\tlearn: 0.4813438\ttotal: 305ms\tremaining: 4.25s\n",
      "67:\tlearn: 0.4796702\ttotal: 307ms\tremaining: 4.21s\n",
      "68:\tlearn: 0.4778154\ttotal: 309ms\tremaining: 4.17s\n",
      "69:\tlearn: 0.4762449\ttotal: 311ms\tremaining: 4.14s\n",
      "70:\tlearn: 0.4742969\ttotal: 314ms\tremaining: 4.1s\n",
      "71:\tlearn: 0.4735052\ttotal: 315ms\tremaining: 4.06s\n",
      "72:\tlearn: 0.4719211\ttotal: 317ms\tremaining: 4.02s\n",
      "73:\tlearn: 0.4706979\ttotal: 319ms\tremaining: 3.99s\n",
      "74:\tlearn: 0.4689231\ttotal: 321ms\tremaining: 3.96s\n",
      "75:\tlearn: 0.4672734\ttotal: 323ms\tremaining: 3.93s\n",
      "76:\tlearn: 0.4657886\ttotal: 325ms\tremaining: 3.9s\n",
      "77:\tlearn: 0.4645493\ttotal: 327ms\tremaining: 3.87s\n",
      "78:\tlearn: 0.4635884\ttotal: 330ms\tremaining: 3.84s\n",
      "79:\tlearn: 0.4624369\ttotal: 332ms\tremaining: 3.82s\n",
      "80:\tlearn: 0.4608349\ttotal: 334ms\tremaining: 3.79s\n",
      "81:\tlearn: 0.4593157\ttotal: 337ms\tremaining: 3.77s\n",
      "82:\tlearn: 0.4577541\ttotal: 339ms\tremaining: 3.75s\n",
      "83:\tlearn: 0.4562353\ttotal: 341ms\tremaining: 3.72s\n",
      "84:\tlearn: 0.4548723\ttotal: 343ms\tremaining: 3.69s\n",
      "85:\tlearn: 0.4533804\ttotal: 345ms\tremaining: 3.67s\n",
      "86:\tlearn: 0.4524352\ttotal: 348ms\tremaining: 3.65s\n",
      "87:\tlearn: 0.4509151\ttotal: 350ms\tremaining: 3.63s\n",
      "88:\tlearn: 0.4495075\ttotal: 352ms\tremaining: 3.6s\n",
      "89:\tlearn: 0.4482161\ttotal: 354ms\tremaining: 3.58s\n",
      "90:\tlearn: 0.4474350\ttotal: 356ms\tremaining: 3.56s\n",
      "91:\tlearn: 0.4460553\ttotal: 359ms\tremaining: 3.54s\n",
      "92:\tlearn: 0.4446734\ttotal: 361ms\tremaining: 3.52s\n",
      "93:\tlearn: 0.4436210\ttotal: 364ms\tremaining: 3.5s\n",
      "94:\tlearn: 0.4429721\ttotal: 365ms\tremaining: 3.48s\n",
      "95:\tlearn: 0.4422797\ttotal: 367ms\tremaining: 3.46s\n",
      "96:\tlearn: 0.4414212\ttotal: 369ms\tremaining: 3.44s\n",
      "97:\tlearn: 0.4405208\ttotal: 372ms\tremaining: 3.42s\n",
      "98:\tlearn: 0.4396656\ttotal: 374ms\tremaining: 3.4s\n",
      "99:\tlearn: 0.4387145\ttotal: 375ms\tremaining: 3.38s\n",
      "100:\tlearn: 0.4375696\ttotal: 378ms\tremaining: 3.36s\n",
      "101:\tlearn: 0.4364561\ttotal: 380ms\tremaining: 3.35s\n",
      "102:\tlearn: 0.4352650\ttotal: 383ms\tremaining: 3.33s\n",
      "103:\tlearn: 0.4348427\ttotal: 384ms\tremaining: 3.31s\n",
      "104:\tlearn: 0.4339453\ttotal: 386ms\tremaining: 3.29s\n",
      "105:\tlearn: 0.4330017\ttotal: 388ms\tremaining: 3.27s\n",
      "106:\tlearn: 0.4321439\ttotal: 391ms\tremaining: 3.26s\n",
      "107:\tlearn: 0.4311022\ttotal: 393ms\tremaining: 3.24s\n",
      "108:\tlearn: 0.4304274\ttotal: 395ms\tremaining: 3.23s\n",
      "109:\tlearn: 0.4295737\ttotal: 397ms\tremaining: 3.21s\n",
      "110:\tlearn: 0.4287256\ttotal: 399ms\tremaining: 3.2s\n",
      "111:\tlearn: 0.4274755\ttotal: 402ms\tremaining: 3.18s\n",
      "112:\tlearn: 0.4265062\ttotal: 404ms\tremaining: 3.17s\n",
      "113:\tlearn: 0.4256653\ttotal: 406ms\tremaining: 3.15s\n",
      "114:\tlearn: 0.4246449\ttotal: 408ms\tremaining: 3.14s\n",
      "115:\tlearn: 0.4238606\ttotal: 410ms\tremaining: 3.13s\n",
      "116:\tlearn: 0.4231888\ttotal: 412ms\tremaining: 3.11s\n",
      "117:\tlearn: 0.4220380\ttotal: 415ms\tremaining: 3.1s\n",
      "118:\tlearn: 0.4213120\ttotal: 417ms\tremaining: 3.08s\n",
      "119:\tlearn: 0.4204336\ttotal: 419ms\tremaining: 3.07s\n",
      "120:\tlearn: 0.4197727\ttotal: 421ms\tremaining: 3.06s\n",
      "121:\tlearn: 0.4190170\ttotal: 423ms\tremaining: 3.04s\n",
      "122:\tlearn: 0.4180176\ttotal: 425ms\tremaining: 3.03s\n",
      "123:\tlearn: 0.4171545\ttotal: 428ms\tremaining: 3.02s\n",
      "124:\tlearn: 0.4166063\ttotal: 430ms\tremaining: 3.01s\n",
      "125:\tlearn: 0.4157723\ttotal: 432ms\tremaining: 3s\n",
      "126:\tlearn: 0.4150479\ttotal: 434ms\tremaining: 2.98s\n",
      "127:\tlearn: 0.4142683\ttotal: 436ms\tremaining: 2.97s\n",
      "128:\tlearn: 0.4136409\ttotal: 438ms\tremaining: 2.96s\n",
      "129:\tlearn: 0.4129118\ttotal: 440ms\tremaining: 2.94s\n",
      "130:\tlearn: 0.4122456\ttotal: 442ms\tremaining: 2.93s\n",
      "131:\tlearn: 0.4112412\ttotal: 445ms\tremaining: 2.92s\n",
      "132:\tlearn: 0.4107761\ttotal: 447ms\tremaining: 2.91s\n",
      "133:\tlearn: 0.4103744\ttotal: 449ms\tremaining: 2.9s\n",
      "134:\tlearn: 0.4095778\ttotal: 451ms\tremaining: 2.89s\n",
      "135:\tlearn: 0.4091725\ttotal: 453ms\tremaining: 2.88s\n",
      "136:\tlearn: 0.4083159\ttotal: 456ms\tremaining: 2.87s\n",
      "137:\tlearn: 0.4075583\ttotal: 458ms\tremaining: 2.86s\n",
      "138:\tlearn: 0.4068160\ttotal: 460ms\tremaining: 2.85s\n",
      "139:\tlearn: 0.4061269\ttotal: 462ms\tremaining: 2.84s\n",
      "140:\tlearn: 0.4055831\ttotal: 464ms\tremaining: 2.83s\n",
      "141:\tlearn: 0.4048487\ttotal: 466ms\tremaining: 2.82s\n",
      "142:\tlearn: 0.4040481\ttotal: 468ms\tremaining: 2.81s\n",
      "143:\tlearn: 0.4035291\ttotal: 471ms\tremaining: 2.8s\n",
      "144:\tlearn: 0.4028593\ttotal: 473ms\tremaining: 2.79s\n",
      "145:\tlearn: 0.4022371\ttotal: 475ms\tremaining: 2.78s\n",
      "146:\tlearn: 0.4016674\ttotal: 477ms\tremaining: 2.77s\n",
      "147:\tlearn: 0.4012754\ttotal: 479ms\tremaining: 2.76s\n",
      "148:\tlearn: 0.4008749\ttotal: 481ms\tremaining: 2.75s\n",
      "149:\tlearn: 0.4003720\ttotal: 484ms\tremaining: 2.74s\n",
      "150:\tlearn: 0.4000121\ttotal: 486ms\tremaining: 2.73s\n",
      "151:\tlearn: 0.3992992\ttotal: 488ms\tremaining: 2.72s\n",
      "152:\tlearn: 0.3987099\ttotal: 490ms\tremaining: 2.71s\n",
      "153:\tlearn: 0.3980476\ttotal: 492ms\tremaining: 2.71s\n",
      "154:\tlearn: 0.3975752\ttotal: 495ms\tremaining: 2.7s\n",
      "155:\tlearn: 0.3970404\ttotal: 497ms\tremaining: 2.69s\n",
      "156:\tlearn: 0.3965336\ttotal: 499ms\tremaining: 2.68s\n",
      "157:\tlearn: 0.3961781\ttotal: 501ms\tremaining: 2.67s\n",
      "158:\tlearn: 0.3954207\ttotal: 503ms\tremaining: 2.66s\n",
      "159:\tlearn: 0.3946234\ttotal: 505ms\tremaining: 2.65s\n",
      "160:\tlearn: 0.3938788\ttotal: 508ms\tremaining: 2.65s\n",
      "161:\tlearn: 0.3934165\ttotal: 510ms\tremaining: 2.64s\n",
      "162:\tlearn: 0.3931644\ttotal: 512ms\tremaining: 2.63s\n",
      "163:\tlearn: 0.3924340\ttotal: 514ms\tremaining: 2.62s\n",
      "164:\tlearn: 0.3919685\ttotal: 516ms\tremaining: 2.61s\n",
      "165:\tlearn: 0.3915431\ttotal: 518ms\tremaining: 2.6s\n",
      "166:\tlearn: 0.3910294\ttotal: 521ms\tremaining: 2.6s\n",
      "167:\tlearn: 0.3904818\ttotal: 523ms\tremaining: 2.59s\n",
      "168:\tlearn: 0.3901544\ttotal: 525ms\tremaining: 2.58s\n",
      "169:\tlearn: 0.3895734\ttotal: 527ms\tremaining: 2.57s\n",
      "170:\tlearn: 0.3891299\ttotal: 529ms\tremaining: 2.56s\n",
      "171:\tlearn: 0.3884409\ttotal: 531ms\tremaining: 2.56s\n",
      "172:\tlearn: 0.3878818\ttotal: 533ms\tremaining: 2.55s\n",
      "173:\tlearn: 0.3874046\ttotal: 536ms\tremaining: 2.54s\n",
      "174:\tlearn: 0.3870010\ttotal: 538ms\tremaining: 2.53s\n",
      "175:\tlearn: 0.3867227\ttotal: 540ms\tremaining: 2.53s\n",
      "176:\tlearn: 0.3862936\ttotal: 542ms\tremaining: 2.52s\n",
      "177:\tlearn: 0.3858848\ttotal: 544ms\tremaining: 2.51s\n",
      "178:\tlearn: 0.3855680\ttotal: 546ms\tremaining: 2.5s\n",
      "179:\tlearn: 0.3849837\ttotal: 548ms\tremaining: 2.5s\n",
      "180:\tlearn: 0.3844284\ttotal: 551ms\tremaining: 2.49s\n",
      "181:\tlearn: 0.3840217\ttotal: 553ms\tremaining: 2.48s\n",
      "182:\tlearn: 0.3838244\ttotal: 555ms\tremaining: 2.48s\n",
      "183:\tlearn: 0.3832757\ttotal: 557ms\tremaining: 2.47s\n",
      "184:\tlearn: 0.3828930\ttotal: 559ms\tremaining: 2.46s\n",
      "185:\tlearn: 0.3826491\ttotal: 562ms\tremaining: 2.46s\n",
      "186:\tlearn: 0.3821341\ttotal: 564ms\tremaining: 2.45s\n",
      "187:\tlearn: 0.3816406\ttotal: 566ms\tremaining: 2.44s\n",
      "188:\tlearn: 0.3811588\ttotal: 568ms\tremaining: 2.44s\n",
      "189:\tlearn: 0.3808439\ttotal: 571ms\tremaining: 2.43s\n",
      "190:\tlearn: 0.3806104\ttotal: 573ms\tremaining: 2.43s\n",
      "191:\tlearn: 0.3802715\ttotal: 575ms\tremaining: 2.42s\n",
      "192:\tlearn: 0.3797154\ttotal: 577ms\tremaining: 2.41s\n",
      "193:\tlearn: 0.3793502\ttotal: 580ms\tremaining: 2.41s\n",
      "194:\tlearn: 0.3790826\ttotal: 582ms\tremaining: 2.4s\n",
      "195:\tlearn: 0.3787095\ttotal: 585ms\tremaining: 2.4s\n",
      "196:\tlearn: 0.3783560\ttotal: 587ms\tremaining: 2.39s\n",
      "197:\tlearn: 0.3781720\ttotal: 589ms\tremaining: 2.39s\n",
      "198:\tlearn: 0.3779290\ttotal: 592ms\tremaining: 2.38s\n",
      "199:\tlearn: 0.3776121\ttotal: 594ms\tremaining: 2.38s\n",
      "200:\tlearn: 0.3772718\ttotal: 596ms\tremaining: 2.37s\n",
      "201:\tlearn: 0.3771011\ttotal: 599ms\tremaining: 2.36s\n",
      "202:\tlearn: 0.3765276\ttotal: 601ms\tremaining: 2.36s\n",
      "203:\tlearn: 0.3761360\ttotal: 603ms\tremaining: 2.35s\n",
      "204:\tlearn: 0.3758458\ttotal: 605ms\tremaining: 2.35s\n",
      "205:\tlearn: 0.3754074\ttotal: 607ms\tremaining: 2.34s\n",
      "206:\tlearn: 0.3747300\ttotal: 610ms\tremaining: 2.33s\n",
      "207:\tlearn: 0.3743736\ttotal: 612ms\tremaining: 2.33s\n",
      "208:\tlearn: 0.3740287\ttotal: 614ms\tremaining: 2.32s\n",
      "209:\tlearn: 0.3735436\ttotal: 616ms\tremaining: 2.32s\n",
      "210:\tlearn: 0.3732096\ttotal: 618ms\tremaining: 2.31s\n",
      "211:\tlearn: 0.3729265\ttotal: 620ms\tremaining: 2.31s\n",
      "212:\tlearn: 0.3724421\ttotal: 623ms\tremaining: 2.3s\n",
      "213:\tlearn: 0.3721747\ttotal: 625ms\tremaining: 2.29s\n",
      "214:\tlearn: 0.3720028\ttotal: 627ms\tremaining: 2.29s\n",
      "215:\tlearn: 0.3716292\ttotal: 629ms\tremaining: 2.28s\n",
      "216:\tlearn: 0.3714824\ttotal: 631ms\tremaining: 2.28s\n",
      "217:\tlearn: 0.3712268\ttotal: 634ms\tremaining: 2.27s\n",
      "218:\tlearn: 0.3710196\ttotal: 636ms\tremaining: 2.27s\n",
      "219:\tlearn: 0.3708113\ttotal: 638ms\tremaining: 2.26s\n",
      "220:\tlearn: 0.3704416\ttotal: 640ms\tremaining: 2.26s\n",
      "221:\tlearn: 0.3701367\ttotal: 642ms\tremaining: 2.25s\n",
      "222:\tlearn: 0.3698318\ttotal: 645ms\tremaining: 2.25s\n",
      "223:\tlearn: 0.3696429\ttotal: 647ms\tremaining: 2.24s\n",
      "224:\tlearn: 0.3694107\ttotal: 649ms\tremaining: 2.23s\n",
      "225:\tlearn: 0.3692277\ttotal: 651ms\tremaining: 2.23s\n",
      "226:\tlearn: 0.3690276\ttotal: 653ms\tremaining: 2.22s\n",
      "227:\tlearn: 0.3689157\ttotal: 655ms\tremaining: 2.22s\n",
      "228:\tlearn: 0.3687469\ttotal: 657ms\tremaining: 2.21s\n",
      "229:\tlearn: 0.3681270\ttotal: 660ms\tremaining: 2.21s\n",
      "230:\tlearn: 0.3678804\ttotal: 662ms\tremaining: 2.2s\n",
      "231:\tlearn: 0.3674091\ttotal: 664ms\tremaining: 2.2s\n",
      "232:\tlearn: 0.3670705\ttotal: 666ms\tremaining: 2.19s\n",
      "233:\tlearn: 0.3668447\ttotal: 669ms\tremaining: 2.19s\n",
      "234:\tlearn: 0.3667104\ttotal: 671ms\tremaining: 2.18s\n",
      "235:\tlearn: 0.3664362\ttotal: 673ms\tremaining: 2.18s\n",
      "236:\tlearn: 0.3662274\ttotal: 676ms\tremaining: 2.17s\n",
      "237:\tlearn: 0.3660479\ttotal: 678ms\tremaining: 2.17s\n",
      "238:\tlearn: 0.3655389\ttotal: 680ms\tremaining: 2.16s\n",
      "239:\tlearn: 0.3654011\ttotal: 682ms\tremaining: 2.16s\n",
      "240:\tlearn: 0.3651431\ttotal: 684ms\tremaining: 2.15s\n",
      "241:\tlearn: 0.3650767\ttotal: 686ms\tremaining: 2.15s\n",
      "242:\tlearn: 0.3648149\ttotal: 688ms\tremaining: 2.14s\n",
      "243:\tlearn: 0.3645183\ttotal: 690ms\tremaining: 2.14s\n",
      "244:\tlearn: 0.3643879\ttotal: 692ms\tremaining: 2.13s\n",
      "245:\tlearn: 0.3641009\ttotal: 694ms\tremaining: 2.13s\n",
      "246:\tlearn: 0.3638977\ttotal: 697ms\tremaining: 2.12s\n",
      "247:\tlearn: 0.3637267\ttotal: 699ms\tremaining: 2.12s\n",
      "248:\tlearn: 0.3636113\ttotal: 701ms\tremaining: 2.11s\n",
      "249:\tlearn: 0.3633381\ttotal: 703ms\tremaining: 2.11s\n",
      "250:\tlearn: 0.3631294\ttotal: 705ms\tremaining: 2.1s\n",
      "251:\tlearn: 0.3629196\ttotal: 707ms\tremaining: 2.1s\n",
      "252:\tlearn: 0.3626709\ttotal: 710ms\tremaining: 2.1s\n",
      "253:\tlearn: 0.3623906\ttotal: 712ms\tremaining: 2.09s\n",
      "254:\tlearn: 0.3619710\ttotal: 714ms\tremaining: 2.09s\n",
      "255:\tlearn: 0.3616296\ttotal: 717ms\tremaining: 2.08s\n",
      "256:\tlearn: 0.3613358\ttotal: 719ms\tremaining: 2.08s\n",
      "257:\tlearn: 0.3612778\ttotal: 721ms\tremaining: 2.07s\n",
      "258:\tlearn: 0.3610423\ttotal: 723ms\tremaining: 2.07s\n",
      "259:\tlearn: 0.3608655\ttotal: 725ms\tremaining: 2.06s\n",
      "260:\tlearn: 0.3608042\ttotal: 727ms\tremaining: 2.06s\n",
      "261:\tlearn: 0.3607694\ttotal: 728ms\tremaining: 2.05s\n",
      "262:\tlearn: 0.3605197\ttotal: 730ms\tremaining: 2.04s\n",
      "263:\tlearn: 0.3602764\ttotal: 732ms\tremaining: 2.04s\n",
      "264:\tlearn: 0.3600870\ttotal: 734ms\tremaining: 2.04s\n",
      "265:\tlearn: 0.3596699\ttotal: 737ms\tremaining: 2.03s\n",
      "266:\tlearn: 0.3594465\ttotal: 739ms\tremaining: 2.03s\n",
      "267:\tlearn: 0.3593082\ttotal: 741ms\tremaining: 2.02s\n",
      "268:\tlearn: 0.3588956\ttotal: 743ms\tremaining: 2.02s\n",
      "269:\tlearn: 0.3584929\ttotal: 745ms\tremaining: 2.02s\n",
      "270:\tlearn: 0.3580522\ttotal: 748ms\tremaining: 2.01s\n",
      "271:\tlearn: 0.3579645\ttotal: 750ms\tremaining: 2.01s\n",
      "272:\tlearn: 0.3577297\ttotal: 753ms\tremaining: 2s\n",
      "273:\tlearn: 0.3574904\ttotal: 755ms\tremaining: 2s\n",
      "274:\tlearn: 0.3572062\ttotal: 757ms\tremaining: 2s\n",
      "275:\tlearn: 0.3568064\ttotal: 759ms\tremaining: 1.99s\n",
      "276:\tlearn: 0.3565628\ttotal: 761ms\tremaining: 1.99s\n",
      "277:\tlearn: 0.3565254\ttotal: 763ms\tremaining: 1.98s\n",
      "278:\tlearn: 0.3564229\ttotal: 765ms\tremaining: 1.98s\n",
      "279:\tlearn: 0.3563144\ttotal: 767ms\tremaining: 1.97s\n",
      "280:\tlearn: 0.3561415\ttotal: 770ms\tremaining: 1.97s\n",
      "281:\tlearn: 0.3560921\ttotal: 772ms\tremaining: 1.97s\n",
      "282:\tlearn: 0.3558598\ttotal: 774ms\tremaining: 1.96s\n",
      "283:\tlearn: 0.3555036\ttotal: 777ms\tremaining: 1.96s\n",
      "284:\tlearn: 0.3551943\ttotal: 779ms\tremaining: 1.96s\n",
      "285:\tlearn: 0.3548553\ttotal: 781ms\tremaining: 1.95s\n",
      "286:\tlearn: 0.3546792\ttotal: 784ms\tremaining: 1.95s\n",
      "287:\tlearn: 0.3545573\ttotal: 786ms\tremaining: 1.94s\n",
      "288:\tlearn: 0.3544000\ttotal: 788ms\tremaining: 1.94s\n",
      "289:\tlearn: 0.3542372\ttotal: 790ms\tremaining: 1.93s\n",
      "290:\tlearn: 0.3540159\ttotal: 792ms\tremaining: 1.93s\n",
      "291:\tlearn: 0.3537144\ttotal: 794ms\tremaining: 1.93s\n",
      "292:\tlearn: 0.3535330\ttotal: 797ms\tremaining: 1.92s\n",
      "293:\tlearn: 0.3531477\ttotal: 799ms\tremaining: 1.92s\n",
      "294:\tlearn: 0.3529130\ttotal: 801ms\tremaining: 1.91s\n",
      "295:\tlearn: 0.3528036\ttotal: 803ms\tremaining: 1.91s\n",
      "296:\tlearn: 0.3526355\ttotal: 805ms\tremaining: 1.91s\n",
      "297:\tlearn: 0.3525019\ttotal: 807ms\tremaining: 1.9s\n",
      "298:\tlearn: 0.3522573\ttotal: 810ms\tremaining: 1.9s\n",
      "299:\tlearn: 0.3520575\ttotal: 812ms\tremaining: 1.89s\n",
      "300:\tlearn: 0.3519011\ttotal: 814ms\tremaining: 1.89s\n",
      "301:\tlearn: 0.3517929\ttotal: 816ms\tremaining: 1.89s\n",
      "302:\tlearn: 0.3515209\ttotal: 818ms\tremaining: 1.88s\n",
      "303:\tlearn: 0.3511581\ttotal: 820ms\tremaining: 1.88s\n",
      "304:\tlearn: 0.3510671\ttotal: 822ms\tremaining: 1.87s\n",
      "305:\tlearn: 0.3507455\ttotal: 825ms\tremaining: 1.87s\n",
      "306:\tlearn: 0.3505463\ttotal: 827ms\tremaining: 1.87s\n",
      "307:\tlearn: 0.3503966\ttotal: 829ms\tremaining: 1.86s\n",
      "308:\tlearn: 0.3501825\ttotal: 832ms\tremaining: 1.86s\n",
      "309:\tlearn: 0.3500527\ttotal: 834ms\tremaining: 1.86s\n",
      "310:\tlearn: 0.3497790\ttotal: 836ms\tremaining: 1.85s\n",
      "311:\tlearn: 0.3495918\ttotal: 838ms\tremaining: 1.85s\n",
      "312:\tlearn: 0.3493475\ttotal: 841ms\tremaining: 1.84s\n",
      "313:\tlearn: 0.3490669\ttotal: 843ms\tremaining: 1.84s\n",
      "314:\tlearn: 0.3489380\ttotal: 845ms\tremaining: 1.84s\n",
      "315:\tlearn: 0.3486766\ttotal: 847ms\tremaining: 1.83s\n",
      "316:\tlearn: 0.3484649\ttotal: 849ms\tremaining: 1.83s\n",
      "317:\tlearn: 0.3482261\ttotal: 851ms\tremaining: 1.82s\n",
      "318:\tlearn: 0.3479609\ttotal: 853ms\tremaining: 1.82s\n",
      "319:\tlearn: 0.3478755\ttotal: 856ms\tremaining: 1.82s\n",
      "320:\tlearn: 0.3477047\ttotal: 858ms\tremaining: 1.81s\n",
      "321:\tlearn: 0.3473781\ttotal: 860ms\tremaining: 1.81s\n",
      "322:\tlearn: 0.3472498\ttotal: 862ms\tremaining: 1.81s\n",
      "323:\tlearn: 0.3470421\ttotal: 864ms\tremaining: 1.8s\n",
      "324:\tlearn: 0.3468774\ttotal: 867ms\tremaining: 1.8s\n",
      "325:\tlearn: 0.3467487\ttotal: 869ms\tremaining: 1.79s\n",
      "326:\tlearn: 0.3466127\ttotal: 871ms\tremaining: 1.79s\n",
      "327:\tlearn: 0.3465035\ttotal: 873ms\tremaining: 1.79s\n",
      "328:\tlearn: 0.3463903\ttotal: 875ms\tremaining: 1.78s\n",
      "329:\tlearn: 0.3462341\ttotal: 877ms\tremaining: 1.78s\n",
      "330:\tlearn: 0.3460973\ttotal: 879ms\tremaining: 1.78s\n",
      "331:\tlearn: 0.3459123\ttotal: 881ms\tremaining: 1.77s\n",
      "332:\tlearn: 0.3456940\ttotal: 884ms\tremaining: 1.77s\n",
      "333:\tlearn: 0.3455131\ttotal: 886ms\tremaining: 1.77s\n",
      "334:\tlearn: 0.3453448\ttotal: 888ms\tremaining: 1.76s\n",
      "335:\tlearn: 0.3451164\ttotal: 890ms\tremaining: 1.76s\n",
      "336:\tlearn: 0.3450208\ttotal: 892ms\tremaining: 1.75s\n",
      "337:\tlearn: 0.3449123\ttotal: 895ms\tremaining: 1.75s\n",
      "338:\tlearn: 0.3447729\ttotal: 897ms\tremaining: 1.75s\n",
      "339:\tlearn: 0.3446310\ttotal: 899ms\tremaining: 1.74s\n",
      "340:\tlearn: 0.3443949\ttotal: 901ms\tremaining: 1.74s\n",
      "341:\tlearn: 0.3442407\ttotal: 903ms\tremaining: 1.74s\n",
      "342:\tlearn: 0.3440617\ttotal: 906ms\tremaining: 1.73s\n",
      "343:\tlearn: 0.3438824\ttotal: 908ms\tremaining: 1.73s\n",
      "344:\tlearn: 0.3437270\ttotal: 910ms\tremaining: 1.73s\n",
      "345:\tlearn: 0.3436169\ttotal: 912ms\tremaining: 1.72s\n",
      "346:\tlearn: 0.3432660\ttotal: 914ms\tremaining: 1.72s\n",
      "347:\tlearn: 0.3430801\ttotal: 917ms\tremaining: 1.72s\n",
      "348:\tlearn: 0.3428899\ttotal: 919ms\tremaining: 1.71s\n",
      "349:\tlearn: 0.3426580\ttotal: 921ms\tremaining: 1.71s\n",
      "350:\tlearn: 0.3422803\ttotal: 923ms\tremaining: 1.71s\n",
      "351:\tlearn: 0.3420078\ttotal: 926ms\tremaining: 1.7s\n",
      "352:\tlearn: 0.3417429\ttotal: 928ms\tremaining: 1.7s\n",
      "353:\tlearn: 0.3417268\ttotal: 930ms\tremaining: 1.7s\n",
      "354:\tlearn: 0.3416325\ttotal: 932ms\tremaining: 1.69s\n",
      "355:\tlearn: 0.3414799\ttotal: 934ms\tremaining: 1.69s\n",
      "356:\tlearn: 0.3413765\ttotal: 936ms\tremaining: 1.69s\n",
      "357:\tlearn: 0.3412081\ttotal: 939ms\tremaining: 1.68s\n",
      "358:\tlearn: 0.3409134\ttotal: 941ms\tremaining: 1.68s\n",
      "359:\tlearn: 0.3408318\ttotal: 943ms\tremaining: 1.68s\n",
      "360:\tlearn: 0.3405579\ttotal: 946ms\tremaining: 1.67s\n",
      "361:\tlearn: 0.3403828\ttotal: 948ms\tremaining: 1.67s\n",
      "362:\tlearn: 0.3402820\ttotal: 950ms\tremaining: 1.67s\n",
      "363:\tlearn: 0.3402109\ttotal: 953ms\tremaining: 1.66s\n",
      "364:\tlearn: 0.3399518\ttotal: 955ms\tremaining: 1.66s\n",
      "365:\tlearn: 0.3398265\ttotal: 957ms\tremaining: 1.66s\n",
      "366:\tlearn: 0.3397087\ttotal: 959ms\tremaining: 1.65s\n",
      "367:\tlearn: 0.3395760\ttotal: 962ms\tremaining: 1.65s\n",
      "368:\tlearn: 0.3393820\ttotal: 964ms\tremaining: 1.65s\n",
      "369:\tlearn: 0.3392949\ttotal: 966ms\tremaining: 1.65s\n",
      "370:\tlearn: 0.3390504\ttotal: 968ms\tremaining: 1.64s\n",
      "371:\tlearn: 0.3389804\ttotal: 971ms\tremaining: 1.64s\n",
      "372:\tlearn: 0.3388992\ttotal: 973ms\tremaining: 1.64s\n",
      "373:\tlearn: 0.3387382\ttotal: 975ms\tremaining: 1.63s\n",
      "374:\tlearn: 0.3385156\ttotal: 978ms\tremaining: 1.63s\n",
      "375:\tlearn: 0.3382519\ttotal: 980ms\tremaining: 1.63s\n",
      "376:\tlearn: 0.3382087\ttotal: 981ms\tremaining: 1.62s\n",
      "377:\tlearn: 0.3381200\ttotal: 983ms\tremaining: 1.62s\n",
      "378:\tlearn: 0.3379471\ttotal: 986ms\tremaining: 1.61s\n",
      "379:\tlearn: 0.3378706\ttotal: 988ms\tremaining: 1.61s\n",
      "380:\tlearn: 0.3376657\ttotal: 990ms\tremaining: 1.61s\n",
      "381:\tlearn: 0.3375943\ttotal: 992ms\tremaining: 1.6s\n",
      "382:\tlearn: 0.3373710\ttotal: 994ms\tremaining: 1.6s\n",
      "383:\tlearn: 0.3370754\ttotal: 996ms\tremaining: 1.6s\n",
      "384:\tlearn: 0.3369240\ttotal: 998ms\tremaining: 1.59s\n",
      "385:\tlearn: 0.3367263\ttotal: 1s\tremaining: 1.59s\n",
      "386:\tlearn: 0.3365457\ttotal: 1s\tremaining: 1.59s\n",
      "387:\tlearn: 0.3363902\ttotal: 1s\tremaining: 1.58s\n",
      "388:\tlearn: 0.3363173\ttotal: 1.01s\tremaining: 1.58s\n",
      "389:\tlearn: 0.3362048\ttotal: 1.01s\tremaining: 1.58s\n",
      "390:\tlearn: 0.3360969\ttotal: 1.01s\tremaining: 1.57s\n",
      "391:\tlearn: 0.3359087\ttotal: 1.01s\tremaining: 1.57s\n",
      "392:\tlearn: 0.3357198\ttotal: 1.02s\tremaining: 1.57s\n",
      "393:\tlearn: 0.3355862\ttotal: 1.02s\tremaining: 1.57s\n",
      "394:\tlearn: 0.3354726\ttotal: 1.02s\tremaining: 1.56s\n",
      "395:\tlearn: 0.3352849\ttotal: 1.02s\tremaining: 1.56s\n",
      "396:\tlearn: 0.3351888\ttotal: 1.02s\tremaining: 1.56s\n",
      "397:\tlearn: 0.3350252\ttotal: 1.03s\tremaining: 1.55s\n",
      "398:\tlearn: 0.3348173\ttotal: 1.03s\tremaining: 1.55s\n",
      "399:\tlearn: 0.3347341\ttotal: 1.03s\tremaining: 1.55s\n",
      "400:\tlearn: 0.3345353\ttotal: 1.03s\tremaining: 1.54s\n",
      "401:\tlearn: 0.3344792\ttotal: 1.04s\tremaining: 1.54s\n",
      "402:\tlearn: 0.3343851\ttotal: 1.04s\tremaining: 1.54s\n",
      "403:\tlearn: 0.3342693\ttotal: 1.04s\tremaining: 1.53s\n",
      "404:\tlearn: 0.3340575\ttotal: 1.04s\tremaining: 1.53s\n",
      "405:\tlearn: 0.3338852\ttotal: 1.04s\tremaining: 1.53s\n",
      "406:\tlearn: 0.3337152\ttotal: 1.05s\tremaining: 1.53s\n",
      "407:\tlearn: 0.3334917\ttotal: 1.05s\tremaining: 1.52s\n",
      "408:\tlearn: 0.3333885\ttotal: 1.05s\tremaining: 1.52s\n",
      "409:\tlearn: 0.3332651\ttotal: 1.05s\tremaining: 1.52s\n",
      "410:\tlearn: 0.3331524\ttotal: 1.06s\tremaining: 1.51s\n",
      "411:\tlearn: 0.3329258\ttotal: 1.06s\tremaining: 1.51s\n",
      "412:\tlearn: 0.3326284\ttotal: 1.06s\tremaining: 1.51s\n",
      "413:\tlearn: 0.3325351\ttotal: 1.06s\tremaining: 1.5s\n",
      "414:\tlearn: 0.3324268\ttotal: 1.06s\tremaining: 1.5s\n",
      "415:\tlearn: 0.3321990\ttotal: 1.07s\tremaining: 1.5s\n",
      "416:\tlearn: 0.3320269\ttotal: 1.07s\tremaining: 1.5s\n",
      "417:\tlearn: 0.3318364\ttotal: 1.07s\tremaining: 1.49s\n",
      "418:\tlearn: 0.3317469\ttotal: 1.07s\tremaining: 1.49s\n",
      "419:\tlearn: 0.3316705\ttotal: 1.07s\tremaining: 1.49s\n",
      "420:\tlearn: 0.3316637\ttotal: 1.08s\tremaining: 1.48s\n",
      "421:\tlearn: 0.3315407\ttotal: 1.08s\tremaining: 1.48s\n",
      "422:\tlearn: 0.3314362\ttotal: 1.08s\tremaining: 1.48s\n",
      "423:\tlearn: 0.3313945\ttotal: 1.08s\tremaining: 1.47s\n",
      "424:\tlearn: 0.3313033\ttotal: 1.08s\tremaining: 1.47s\n",
      "425:\tlearn: 0.3312205\ttotal: 1.09s\tremaining: 1.46s\n",
      "426:\tlearn: 0.3311083\ttotal: 1.09s\tremaining: 1.46s\n",
      "427:\tlearn: 0.3310631\ttotal: 1.09s\tremaining: 1.46s\n",
      "428:\tlearn: 0.3309186\ttotal: 1.09s\tremaining: 1.46s\n",
      "429:\tlearn: 0.3306948\ttotal: 1.09s\tremaining: 1.45s\n",
      "430:\tlearn: 0.3306276\ttotal: 1.1s\tremaining: 1.45s\n",
      "431:\tlearn: 0.3304931\ttotal: 1.1s\tremaining: 1.45s\n",
      "432:\tlearn: 0.3303884\ttotal: 1.1s\tremaining: 1.44s\n",
      "433:\tlearn: 0.3302612\ttotal: 1.1s\tremaining: 1.44s\n",
      "434:\tlearn: 0.3301874\ttotal: 1.1s\tremaining: 1.44s\n",
      "435:\tlearn: 0.3299453\ttotal: 1.11s\tremaining: 1.43s\n",
      "436:\tlearn: 0.3298700\ttotal: 1.11s\tremaining: 1.43s\n",
      "437:\tlearn: 0.3296916\ttotal: 1.11s\tremaining: 1.43s\n",
      "438:\tlearn: 0.3295309\ttotal: 1.11s\tremaining: 1.42s\n",
      "439:\tlearn: 0.3293657\ttotal: 1.12s\tremaining: 1.42s\n",
      "440:\tlearn: 0.3292375\ttotal: 1.12s\tremaining: 1.42s\n",
      "441:\tlearn: 0.3290912\ttotal: 1.12s\tremaining: 1.42s\n",
      "442:\tlearn: 0.3289451\ttotal: 1.12s\tremaining: 1.41s\n",
      "443:\tlearn: 0.3288235\ttotal: 1.13s\tremaining: 1.41s\n",
      "444:\tlearn: 0.3285826\ttotal: 1.13s\tremaining: 1.41s\n",
      "445:\tlearn: 0.3284893\ttotal: 1.13s\tremaining: 1.4s\n",
      "446:\tlearn: 0.3284280\ttotal: 1.13s\tremaining: 1.4s\n",
      "447:\tlearn: 0.3282152\ttotal: 1.13s\tremaining: 1.4s\n",
      "448:\tlearn: 0.3280486\ttotal: 1.14s\tremaining: 1.39s\n",
      "449:\tlearn: 0.3279361\ttotal: 1.14s\tremaining: 1.39s\n",
      "450:\tlearn: 0.3278179\ttotal: 1.14s\tremaining: 1.39s\n",
      "451:\tlearn: 0.3277851\ttotal: 1.14s\tremaining: 1.39s\n",
      "452:\tlearn: 0.3277745\ttotal: 1.14s\tremaining: 1.38s\n",
      "453:\tlearn: 0.3275288\ttotal: 1.15s\tremaining: 1.38s\n",
      "454:\tlearn: 0.3273065\ttotal: 1.15s\tremaining: 1.38s\n",
      "455:\tlearn: 0.3272182\ttotal: 1.15s\tremaining: 1.37s\n",
      "456:\tlearn: 0.3271335\ttotal: 1.15s\tremaining: 1.37s\n",
      "457:\tlearn: 0.3269236\ttotal: 1.16s\tremaining: 1.37s\n",
      "458:\tlearn: 0.3267589\ttotal: 1.16s\tremaining: 1.36s\n",
      "459:\tlearn: 0.3266315\ttotal: 1.16s\tremaining: 1.36s\n",
      "460:\tlearn: 0.3263568\ttotal: 1.16s\tremaining: 1.36s\n",
      "461:\tlearn: 0.3262890\ttotal: 1.16s\tremaining: 1.36s\n",
      "462:\tlearn: 0.3261647\ttotal: 1.17s\tremaining: 1.35s\n",
      "463:\tlearn: 0.3259796\ttotal: 1.17s\tremaining: 1.35s\n",
      "464:\tlearn: 0.3258803\ttotal: 1.17s\tremaining: 1.35s\n",
      "465:\tlearn: 0.3257836\ttotal: 1.17s\tremaining: 1.34s\n",
      "466:\tlearn: 0.3257105\ttotal: 1.18s\tremaining: 1.34s\n",
      "467:\tlearn: 0.3255311\ttotal: 1.18s\tremaining: 1.34s\n",
      "468:\tlearn: 0.3253851\ttotal: 1.18s\tremaining: 1.34s\n",
      "469:\tlearn: 0.3253073\ttotal: 1.18s\tremaining: 1.33s\n",
      "470:\tlearn: 0.3251309\ttotal: 1.19s\tremaining: 1.33s\n",
      "471:\tlearn: 0.3250493\ttotal: 1.19s\tremaining: 1.33s\n",
      "472:\tlearn: 0.3249278\ttotal: 1.19s\tremaining: 1.32s\n",
      "473:\tlearn: 0.3246345\ttotal: 1.19s\tremaining: 1.32s\n",
      "474:\tlearn: 0.3245884\ttotal: 1.19s\tremaining: 1.32s\n",
      "475:\tlearn: 0.3245303\ttotal: 1.2s\tremaining: 1.32s\n",
      "476:\tlearn: 0.3244153\ttotal: 1.2s\tremaining: 1.31s\n",
      "477:\tlearn: 0.3242602\ttotal: 1.2s\tremaining: 1.31s\n",
      "478:\tlearn: 0.3240873\ttotal: 1.2s\tremaining: 1.31s\n",
      "479:\tlearn: 0.3239430\ttotal: 1.21s\tremaining: 1.3s\n",
      "480:\tlearn: 0.3238316\ttotal: 1.21s\tremaining: 1.3s\n",
      "481:\tlearn: 0.3237834\ttotal: 1.21s\tremaining: 1.3s\n",
      "482:\tlearn: 0.3235645\ttotal: 1.21s\tremaining: 1.3s\n",
      "483:\tlearn: 0.3233782\ttotal: 1.21s\tremaining: 1.29s\n",
      "484:\tlearn: 0.3232785\ttotal: 1.22s\tremaining: 1.29s\n",
      "485:\tlearn: 0.3231854\ttotal: 1.22s\tremaining: 1.29s\n",
      "486:\tlearn: 0.3231284\ttotal: 1.22s\tremaining: 1.29s\n",
      "487:\tlearn: 0.3230583\ttotal: 1.22s\tremaining: 1.28s\n",
      "488:\tlearn: 0.3228415\ttotal: 1.23s\tremaining: 1.28s\n",
      "489:\tlearn: 0.3227257\ttotal: 1.23s\tremaining: 1.28s\n",
      "490:\tlearn: 0.3226103\ttotal: 1.23s\tremaining: 1.27s\n",
      "491:\tlearn: 0.3222488\ttotal: 1.23s\tremaining: 1.27s\n",
      "492:\tlearn: 0.3221491\ttotal: 1.24s\tremaining: 1.27s\n",
      "493:\tlearn: 0.3220897\ttotal: 1.24s\tremaining: 1.27s\n",
      "494:\tlearn: 0.3220223\ttotal: 1.24s\tremaining: 1.26s\n",
      "495:\tlearn: 0.3219405\ttotal: 1.24s\tremaining: 1.26s\n",
      "496:\tlearn: 0.3219231\ttotal: 1.24s\tremaining: 1.26s\n",
      "497:\tlearn: 0.3217041\ttotal: 1.25s\tremaining: 1.25s\n",
      "498:\tlearn: 0.3215955\ttotal: 1.25s\tremaining: 1.25s\n",
      "499:\tlearn: 0.3214423\ttotal: 1.25s\tremaining: 1.25s\n",
      "500:\tlearn: 0.3213218\ttotal: 1.25s\tremaining: 1.25s\n",
      "501:\tlearn: 0.3211306\ttotal: 1.25s\tremaining: 1.24s\n",
      "502:\tlearn: 0.3210798\ttotal: 1.26s\tremaining: 1.24s\n",
      "503:\tlearn: 0.3209761\ttotal: 1.26s\tremaining: 1.24s\n",
      "504:\tlearn: 0.3208714\ttotal: 1.26s\tremaining: 1.24s\n",
      "505:\tlearn: 0.3206871\ttotal: 1.26s\tremaining: 1.23s\n",
      "506:\tlearn: 0.3206707\ttotal: 1.26s\tremaining: 1.23s\n",
      "507:\tlearn: 0.3206218\ttotal: 1.27s\tremaining: 1.23s\n",
      "508:\tlearn: 0.3204508\ttotal: 1.27s\tremaining: 1.22s\n",
      "509:\tlearn: 0.3201693\ttotal: 1.27s\tremaining: 1.22s\n",
      "510:\tlearn: 0.3199739\ttotal: 1.27s\tremaining: 1.22s\n",
      "511:\tlearn: 0.3197095\ttotal: 1.28s\tremaining: 1.22s\n",
      "512:\tlearn: 0.3196096\ttotal: 1.28s\tremaining: 1.21s\n",
      "513:\tlearn: 0.3194945\ttotal: 1.28s\tremaining: 1.21s\n",
      "514:\tlearn: 0.3193892\ttotal: 1.28s\tremaining: 1.21s\n",
      "515:\tlearn: 0.3192410\ttotal: 1.28s\tremaining: 1.21s\n",
      "516:\tlearn: 0.3191342\ttotal: 1.29s\tremaining: 1.2s\n",
      "517:\tlearn: 0.3191016\ttotal: 1.29s\tremaining: 1.2s\n",
      "518:\tlearn: 0.3190262\ttotal: 1.29s\tremaining: 1.2s\n",
      "519:\tlearn: 0.3188555\ttotal: 1.29s\tremaining: 1.19s\n",
      "520:\tlearn: 0.3187075\ttotal: 1.3s\tremaining: 1.19s\n",
      "521:\tlearn: 0.3186326\ttotal: 1.3s\tremaining: 1.19s\n",
      "522:\tlearn: 0.3183455\ttotal: 1.3s\tremaining: 1.19s\n",
      "523:\tlearn: 0.3182727\ttotal: 1.3s\tremaining: 1.18s\n",
      "524:\tlearn: 0.3181564\ttotal: 1.3s\tremaining: 1.18s\n",
      "525:\tlearn: 0.3180993\ttotal: 1.31s\tremaining: 1.18s\n",
      "526:\tlearn: 0.3179590\ttotal: 1.31s\tremaining: 1.18s\n",
      "527:\tlearn: 0.3179222\ttotal: 1.31s\tremaining: 1.17s\n",
      "528:\tlearn: 0.3177620\ttotal: 1.31s\tremaining: 1.17s\n",
      "529:\tlearn: 0.3176337\ttotal: 1.31s\tremaining: 1.17s\n",
      "530:\tlearn: 0.3175762\ttotal: 1.32s\tremaining: 1.16s\n",
      "531:\tlearn: 0.3171663\ttotal: 1.32s\tremaining: 1.16s\n",
      "532:\tlearn: 0.3169931\ttotal: 1.32s\tremaining: 1.16s\n",
      "533:\tlearn: 0.3168829\ttotal: 1.32s\tremaining: 1.16s\n",
      "534:\tlearn: 0.3167684\ttotal: 1.33s\tremaining: 1.15s\n",
      "535:\tlearn: 0.3166063\ttotal: 1.33s\tremaining: 1.15s\n",
      "536:\tlearn: 0.3165402\ttotal: 1.33s\tremaining: 1.15s\n",
      "537:\tlearn: 0.3164806\ttotal: 1.33s\tremaining: 1.15s\n",
      "538:\tlearn: 0.3162057\ttotal: 1.33s\tremaining: 1.14s\n",
      "539:\tlearn: 0.3160637\ttotal: 1.34s\tremaining: 1.14s\n",
      "540:\tlearn: 0.3159887\ttotal: 1.34s\tremaining: 1.14s\n",
      "541:\tlearn: 0.3157997\ttotal: 1.34s\tremaining: 1.13s\n",
      "542:\tlearn: 0.3157531\ttotal: 1.34s\tremaining: 1.13s\n",
      "543:\tlearn: 0.3156932\ttotal: 1.35s\tremaining: 1.13s\n",
      "544:\tlearn: 0.3155884\ttotal: 1.35s\tremaining: 1.13s\n",
      "545:\tlearn: 0.3154607\ttotal: 1.35s\tremaining: 1.12s\n",
      "546:\tlearn: 0.3153568\ttotal: 1.35s\tremaining: 1.12s\n",
      "547:\tlearn: 0.3153186\ttotal: 1.36s\tremaining: 1.12s\n",
      "548:\tlearn: 0.3152552\ttotal: 1.36s\tremaining: 1.11s\n",
      "549:\tlearn: 0.3151536\ttotal: 1.36s\tremaining: 1.11s\n",
      "550:\tlearn: 0.3150775\ttotal: 1.36s\tremaining: 1.11s\n",
      "551:\tlearn: 0.3149227\ttotal: 1.36s\tremaining: 1.11s\n",
      "552:\tlearn: 0.3148158\ttotal: 1.37s\tremaining: 1.1s\n",
      "553:\tlearn: 0.3147405\ttotal: 1.37s\tremaining: 1.1s\n",
      "554:\tlearn: 0.3146093\ttotal: 1.37s\tremaining: 1.1s\n",
      "555:\tlearn: 0.3145210\ttotal: 1.37s\tremaining: 1.1s\n",
      "556:\tlearn: 0.3142955\ttotal: 1.38s\tremaining: 1.09s\n",
      "557:\tlearn: 0.3142192\ttotal: 1.38s\tremaining: 1.09s\n",
      "558:\tlearn: 0.3140629\ttotal: 1.38s\tremaining: 1.09s\n",
      "559:\tlearn: 0.3138896\ttotal: 1.38s\tremaining: 1.09s\n",
      "560:\tlearn: 0.3137915\ttotal: 1.39s\tremaining: 1.08s\n",
      "561:\tlearn: 0.3136865\ttotal: 1.39s\tremaining: 1.08s\n",
      "562:\tlearn: 0.3135007\ttotal: 1.39s\tremaining: 1.08s\n",
      "563:\tlearn: 0.3133481\ttotal: 1.39s\tremaining: 1.07s\n",
      "564:\tlearn: 0.3132156\ttotal: 1.39s\tremaining: 1.07s\n",
      "565:\tlearn: 0.3130901\ttotal: 1.4s\tremaining: 1.07s\n",
      "566:\tlearn: 0.3129680\ttotal: 1.4s\tremaining: 1.07s\n",
      "567:\tlearn: 0.3128175\ttotal: 1.4s\tremaining: 1.06s\n",
      "568:\tlearn: 0.3127561\ttotal: 1.4s\tremaining: 1.06s\n",
      "569:\tlearn: 0.3126985\ttotal: 1.4s\tremaining: 1.06s\n",
      "570:\tlearn: 0.3125979\ttotal: 1.41s\tremaining: 1.06s\n",
      "571:\tlearn: 0.3125162\ttotal: 1.41s\tremaining: 1.05s\n",
      "572:\tlearn: 0.3122109\ttotal: 1.41s\tremaining: 1.05s\n",
      "573:\tlearn: 0.3121666\ttotal: 1.41s\tremaining: 1.05s\n",
      "574:\tlearn: 0.3120452\ttotal: 1.42s\tremaining: 1.05s\n",
      "575:\tlearn: 0.3119072\ttotal: 1.42s\tremaining: 1.04s\n",
      "576:\tlearn: 0.3117910\ttotal: 1.42s\tremaining: 1.04s\n",
      "577:\tlearn: 0.3117237\ttotal: 1.42s\tremaining: 1.04s\n",
      "578:\tlearn: 0.3116176\ttotal: 1.42s\tremaining: 1.03s\n",
      "579:\tlearn: 0.3114967\ttotal: 1.43s\tremaining: 1.03s\n",
      "580:\tlearn: 0.3114524\ttotal: 1.43s\tremaining: 1.03s\n",
      "581:\tlearn: 0.3113679\ttotal: 1.43s\tremaining: 1.03s\n",
      "582:\tlearn: 0.3112261\ttotal: 1.43s\tremaining: 1.02s\n",
      "583:\tlearn: 0.3111601\ttotal: 1.44s\tremaining: 1.02s\n",
      "584:\tlearn: 0.3110215\ttotal: 1.44s\tremaining: 1.02s\n",
      "585:\tlearn: 0.3109650\ttotal: 1.44s\tremaining: 1.02s\n",
      "586:\tlearn: 0.3106536\ttotal: 1.44s\tremaining: 1.01s\n",
      "587:\tlearn: 0.3104901\ttotal: 1.44s\tremaining: 1.01s\n",
      "588:\tlearn: 0.3103802\ttotal: 1.45s\tremaining: 1.01s\n",
      "589:\tlearn: 0.3102901\ttotal: 1.45s\tremaining: 1s\n",
      "590:\tlearn: 0.3102577\ttotal: 1.45s\tremaining: 1s\n",
      "591:\tlearn: 0.3101309\ttotal: 1.45s\tremaining: 1s\n",
      "592:\tlearn: 0.3099071\ttotal: 1.45s\tremaining: 998ms\n",
      "593:\tlearn: 0.3098054\ttotal: 1.46s\tremaining: 995ms\n",
      "594:\tlearn: 0.3094958\ttotal: 1.46s\tremaining: 993ms\n",
      "595:\tlearn: 0.3094151\ttotal: 1.46s\tremaining: 990ms\n",
      "596:\tlearn: 0.3093487\ttotal: 1.46s\tremaining: 987ms\n",
      "597:\tlearn: 0.3092228\ttotal: 1.46s\tremaining: 984ms\n",
      "598:\tlearn: 0.3091303\ttotal: 1.47s\tremaining: 982ms\n",
      "599:\tlearn: 0.3090858\ttotal: 1.47s\tremaining: 979ms\n",
      "600:\tlearn: 0.3089903\ttotal: 1.47s\tremaining: 977ms\n",
      "601:\tlearn: 0.3088377\ttotal: 1.47s\tremaining: 974ms\n",
      "602:\tlearn: 0.3087016\ttotal: 1.48s\tremaining: 971ms\n",
      "603:\tlearn: 0.3085998\ttotal: 1.48s\tremaining: 969ms\n",
      "604:\tlearn: 0.3081980\ttotal: 1.48s\tremaining: 966ms\n",
      "605:\tlearn: 0.3081477\ttotal: 1.48s\tremaining: 964ms\n",
      "606:\tlearn: 0.3080801\ttotal: 1.48s\tremaining: 961ms\n",
      "607:\tlearn: 0.3079576\ttotal: 1.49s\tremaining: 958ms\n",
      "608:\tlearn: 0.3078277\ttotal: 1.49s\tremaining: 956ms\n",
      "609:\tlearn: 0.3077580\ttotal: 1.49s\tremaining: 953ms\n",
      "610:\tlearn: 0.3076387\ttotal: 1.49s\tremaining: 951ms\n",
      "611:\tlearn: 0.3075907\ttotal: 1.5s\tremaining: 948ms\n",
      "612:\tlearn: 0.3075250\ttotal: 1.5s\tremaining: 945ms\n",
      "613:\tlearn: 0.3074166\ttotal: 1.5s\tremaining: 943ms\n",
      "614:\tlearn: 0.3073468\ttotal: 1.5s\tremaining: 940ms\n",
      "615:\tlearn: 0.3072544\ttotal: 1.5s\tremaining: 937ms\n",
      "616:\tlearn: 0.3071758\ttotal: 1.5s\tremaining: 935ms\n",
      "617:\tlearn: 0.3070652\ttotal: 1.51s\tremaining: 932ms\n",
      "618:\tlearn: 0.3068954\ttotal: 1.51s\tremaining: 929ms\n",
      "619:\tlearn: 0.3067862\ttotal: 1.51s\tremaining: 927ms\n",
      "620:\tlearn: 0.3067422\ttotal: 1.51s\tremaining: 924ms\n",
      "621:\tlearn: 0.3065687\ttotal: 1.52s\tremaining: 922ms\n",
      "622:\tlearn: 0.3064089\ttotal: 1.52s\tremaining: 919ms\n",
      "623:\tlearn: 0.3063562\ttotal: 1.52s\tremaining: 916ms\n",
      "624:\tlearn: 0.3061943\ttotal: 1.52s\tremaining: 914ms\n",
      "625:\tlearn: 0.3061515\ttotal: 1.52s\tremaining: 911ms\n",
      "626:\tlearn: 0.3059892\ttotal: 1.53s\tremaining: 908ms\n",
      "627:\tlearn: 0.3059443\ttotal: 1.53s\tremaining: 906ms\n",
      "628:\tlearn: 0.3057975\ttotal: 1.53s\tremaining: 903ms\n",
      "629:\tlearn: 0.3055917\ttotal: 1.53s\tremaining: 901ms\n",
      "630:\tlearn: 0.3054885\ttotal: 1.53s\tremaining: 898ms\n",
      "631:\tlearn: 0.3052395\ttotal: 1.54s\tremaining: 896ms\n",
      "632:\tlearn: 0.3051824\ttotal: 1.54s\tremaining: 893ms\n",
      "633:\tlearn: 0.3049458\ttotal: 1.54s\tremaining: 891ms\n",
      "634:\tlearn: 0.3048407\ttotal: 1.54s\tremaining: 888ms\n",
      "635:\tlearn: 0.3047836\ttotal: 1.55s\tremaining: 886ms\n",
      "636:\tlearn: 0.3045750\ttotal: 1.55s\tremaining: 883ms\n",
      "637:\tlearn: 0.3045023\ttotal: 1.55s\tremaining: 881ms\n",
      "638:\tlearn: 0.3043973\ttotal: 1.55s\tremaining: 878ms\n",
      "639:\tlearn: 0.3043839\ttotal: 1.55s\tremaining: 875ms\n",
      "640:\tlearn: 0.3043245\ttotal: 1.56s\tremaining: 873ms\n",
      "641:\tlearn: 0.3042195\ttotal: 1.56s\tremaining: 870ms\n",
      "642:\tlearn: 0.3041716\ttotal: 1.56s\tremaining: 868ms\n",
      "643:\tlearn: 0.3041248\ttotal: 1.56s\tremaining: 865ms\n",
      "644:\tlearn: 0.3040268\ttotal: 1.57s\tremaining: 863ms\n",
      "645:\tlearn: 0.3035854\ttotal: 1.57s\tremaining: 860ms\n",
      "646:\tlearn: 0.3034273\ttotal: 1.57s\tremaining: 858ms\n",
      "647:\tlearn: 0.3032751\ttotal: 1.57s\tremaining: 855ms\n",
      "648:\tlearn: 0.3031842\ttotal: 1.58s\tremaining: 853ms\n",
      "649:\tlearn: 0.3030552\ttotal: 1.58s\tremaining: 850ms\n",
      "650:\tlearn: 0.3028292\ttotal: 1.58s\tremaining: 848ms\n",
      "651:\tlearn: 0.3027397\ttotal: 1.58s\tremaining: 845ms\n",
      "652:\tlearn: 0.3026554\ttotal: 1.58s\tremaining: 843ms\n",
      "653:\tlearn: 0.3024428\ttotal: 1.59s\tremaining: 840ms\n",
      "654:\tlearn: 0.3023921\ttotal: 1.59s\tremaining: 837ms\n",
      "655:\tlearn: 0.3022868\ttotal: 1.59s\tremaining: 835ms\n",
      "656:\tlearn: 0.3021004\ttotal: 1.59s\tremaining: 832ms\n",
      "657:\tlearn: 0.3020521\ttotal: 1.6s\tremaining: 830ms\n",
      "658:\tlearn: 0.3020020\ttotal: 1.6s\tremaining: 827ms\n",
      "659:\tlearn: 0.3018795\ttotal: 1.6s\tremaining: 825ms\n",
      "660:\tlearn: 0.3018723\ttotal: 1.6s\tremaining: 822ms\n",
      "661:\tlearn: 0.3018037\ttotal: 1.6s\tremaining: 819ms\n",
      "662:\tlearn: 0.3017106\ttotal: 1.61s\tremaining: 817ms\n",
      "663:\tlearn: 0.3015940\ttotal: 1.61s\tremaining: 814ms\n",
      "664:\tlearn: 0.3014962\ttotal: 1.61s\tremaining: 812ms\n",
      "665:\tlearn: 0.3014692\ttotal: 1.61s\tremaining: 809ms\n",
      "666:\tlearn: 0.3013870\ttotal: 1.61s\tremaining: 806ms\n",
      "667:\tlearn: 0.3013552\ttotal: 1.62s\tremaining: 804ms\n",
      "668:\tlearn: 0.3012193\ttotal: 1.62s\tremaining: 801ms\n",
      "669:\tlearn: 0.3010918\ttotal: 1.62s\tremaining: 799ms\n",
      "670:\tlearn: 0.3009324\ttotal: 1.62s\tremaining: 796ms\n",
      "671:\tlearn: 0.3007844\ttotal: 1.63s\tremaining: 794ms\n",
      "672:\tlearn: 0.3007015\ttotal: 1.63s\tremaining: 791ms\n",
      "673:\tlearn: 0.3005552\ttotal: 1.63s\tremaining: 789ms\n",
      "674:\tlearn: 0.3004250\ttotal: 1.63s\tremaining: 786ms\n",
      "675:\tlearn: 0.3003548\ttotal: 1.64s\tremaining: 784ms\n",
      "676:\tlearn: 0.3002936\ttotal: 1.64s\tremaining: 781ms\n",
      "677:\tlearn: 0.3001954\ttotal: 1.64s\tremaining: 779ms\n",
      "678:\tlearn: 0.3001249\ttotal: 1.64s\tremaining: 776ms\n",
      "679:\tlearn: 0.3000488\ttotal: 1.64s\tremaining: 773ms\n",
      "680:\tlearn: 0.3000171\ttotal: 1.65s\tremaining: 771ms\n",
      "681:\tlearn: 0.2999010\ttotal: 1.65s\tremaining: 768ms\n",
      "682:\tlearn: 0.2998311\ttotal: 1.65s\tremaining: 766ms\n",
      "683:\tlearn: 0.2997097\ttotal: 1.65s\tremaining: 763ms\n",
      "684:\tlearn: 0.2995321\ttotal: 1.65s\tremaining: 761ms\n",
      "685:\tlearn: 0.2993190\ttotal: 1.66s\tremaining: 758ms\n",
      "686:\tlearn: 0.2992708\ttotal: 1.66s\tremaining: 756ms\n",
      "687:\tlearn: 0.2992203\ttotal: 1.66s\tremaining: 753ms\n",
      "688:\tlearn: 0.2990637\ttotal: 1.66s\tremaining: 751ms\n",
      "689:\tlearn: 0.2989580\ttotal: 1.67s\tremaining: 748ms\n",
      "690:\tlearn: 0.2989053\ttotal: 1.67s\tremaining: 746ms\n",
      "691:\tlearn: 0.2988475\ttotal: 1.67s\tremaining: 743ms\n",
      "692:\tlearn: 0.2986834\ttotal: 1.67s\tremaining: 741ms\n",
      "693:\tlearn: 0.2985735\ttotal: 1.67s\tremaining: 738ms\n",
      "694:\tlearn: 0.2984492\ttotal: 1.68s\tremaining: 736ms\n",
      "695:\tlearn: 0.2984250\ttotal: 1.68s\tremaining: 733ms\n",
      "696:\tlearn: 0.2983075\ttotal: 1.68s\tremaining: 730ms\n",
      "697:\tlearn: 0.2982544\ttotal: 1.68s\tremaining: 728ms\n",
      "698:\tlearn: 0.2979852\ttotal: 1.68s\tremaining: 725ms\n",
      "699:\tlearn: 0.2979136\ttotal: 1.69s\tremaining: 723ms\n",
      "700:\tlearn: 0.2978950\ttotal: 1.69s\tremaining: 720ms\n",
      "701:\tlearn: 0.2977901\ttotal: 1.69s\tremaining: 718ms\n",
      "702:\tlearn: 0.2977434\ttotal: 1.69s\tremaining: 716ms\n",
      "703:\tlearn: 0.2976673\ttotal: 1.7s\tremaining: 713ms\n",
      "704:\tlearn: 0.2975188\ttotal: 1.7s\tremaining: 711ms\n",
      "705:\tlearn: 0.2973823\ttotal: 1.7s\tremaining: 708ms\n",
      "706:\tlearn: 0.2970527\ttotal: 1.7s\tremaining: 706ms\n",
      "707:\tlearn: 0.2968990\ttotal: 1.7s\tremaining: 703ms\n",
      "708:\tlearn: 0.2968049\ttotal: 1.71s\tremaining: 701ms\n",
      "709:\tlearn: 0.2967306\ttotal: 1.71s\tremaining: 698ms\n",
      "710:\tlearn: 0.2965312\ttotal: 1.71s\tremaining: 696ms\n",
      "711:\tlearn: 0.2964620\ttotal: 1.71s\tremaining: 693ms\n",
      "712:\tlearn: 0.2963213\ttotal: 1.72s\tremaining: 691ms\n",
      "713:\tlearn: 0.2962154\ttotal: 1.72s\tremaining: 688ms\n",
      "714:\tlearn: 0.2960132\ttotal: 1.72s\tremaining: 686ms\n",
      "715:\tlearn: 0.2958666\ttotal: 1.72s\tremaining: 683ms\n",
      "716:\tlearn: 0.2958512\ttotal: 1.72s\tremaining: 681ms\n",
      "717:\tlearn: 0.2956795\ttotal: 1.73s\tremaining: 678ms\n",
      "718:\tlearn: 0.2956459\ttotal: 1.73s\tremaining: 676ms\n",
      "719:\tlearn: 0.2955486\ttotal: 1.73s\tremaining: 673ms\n",
      "720:\tlearn: 0.2955133\ttotal: 1.73s\tremaining: 671ms\n",
      "721:\tlearn: 0.2952131\ttotal: 1.74s\tremaining: 668ms\n",
      "722:\tlearn: 0.2951174\ttotal: 1.74s\tremaining: 666ms\n",
      "723:\tlearn: 0.2950573\ttotal: 1.74s\tremaining: 663ms\n",
      "724:\tlearn: 0.2948295\ttotal: 1.74s\tremaining: 661ms\n",
      "725:\tlearn: 0.2946599\ttotal: 1.74s\tremaining: 658ms\n",
      "726:\tlearn: 0.2945631\ttotal: 1.75s\tremaining: 656ms\n",
      "727:\tlearn: 0.2944322\ttotal: 1.75s\tremaining: 654ms\n",
      "728:\tlearn: 0.2942513\ttotal: 1.75s\tremaining: 651ms\n",
      "729:\tlearn: 0.2941784\ttotal: 1.75s\tremaining: 649ms\n",
      "730:\tlearn: 0.2939738\ttotal: 1.76s\tremaining: 646ms\n",
      "731:\tlearn: 0.2939297\ttotal: 1.76s\tremaining: 644ms\n",
      "732:\tlearn: 0.2938279\ttotal: 1.76s\tremaining: 641ms\n",
      "733:\tlearn: 0.2936577\ttotal: 1.76s\tremaining: 639ms\n",
      "734:\tlearn: 0.2935258\ttotal: 1.76s\tremaining: 637ms\n",
      "735:\tlearn: 0.2934598\ttotal: 1.77s\tremaining: 634ms\n",
      "736:\tlearn: 0.2934197\ttotal: 1.77s\tremaining: 632ms\n",
      "737:\tlearn: 0.2933207\ttotal: 1.77s\tremaining: 629ms\n",
      "738:\tlearn: 0.2932201\ttotal: 1.77s\tremaining: 627ms\n",
      "739:\tlearn: 0.2931346\ttotal: 1.78s\tremaining: 624ms\n",
      "740:\tlearn: 0.2931031\ttotal: 1.78s\tremaining: 622ms\n",
      "741:\tlearn: 0.2930029\ttotal: 1.78s\tremaining: 619ms\n",
      "742:\tlearn: 0.2929463\ttotal: 1.78s\tremaining: 617ms\n",
      "743:\tlearn: 0.2928271\ttotal: 1.78s\tremaining: 614ms\n",
      "744:\tlearn: 0.2927203\ttotal: 1.79s\tremaining: 612ms\n",
      "745:\tlearn: 0.2926401\ttotal: 1.79s\tremaining: 609ms\n",
      "746:\tlearn: 0.2925499\ttotal: 1.79s\tremaining: 607ms\n",
      "747:\tlearn: 0.2924309\ttotal: 1.79s\tremaining: 605ms\n",
      "748:\tlearn: 0.2922451\ttotal: 1.8s\tremaining: 602ms\n",
      "749:\tlearn: 0.2922029\ttotal: 1.8s\tremaining: 600ms\n",
      "750:\tlearn: 0.2921356\ttotal: 1.8s\tremaining: 597ms\n",
      "751:\tlearn: 0.2920026\ttotal: 1.8s\tremaining: 595ms\n",
      "752:\tlearn: 0.2918084\ttotal: 1.8s\tremaining: 592ms\n",
      "753:\tlearn: 0.2916684\ttotal: 1.81s\tremaining: 590ms\n",
      "754:\tlearn: 0.2916074\ttotal: 1.81s\tremaining: 587ms\n",
      "755:\tlearn: 0.2914747\ttotal: 1.81s\tremaining: 585ms\n",
      "756:\tlearn: 0.2913267\ttotal: 1.81s\tremaining: 582ms\n",
      "757:\tlearn: 0.2912699\ttotal: 1.82s\tremaining: 580ms\n",
      "758:\tlearn: 0.2911302\ttotal: 1.82s\tremaining: 577ms\n",
      "759:\tlearn: 0.2908409\ttotal: 1.82s\tremaining: 575ms\n",
      "760:\tlearn: 0.2907664\ttotal: 1.82s\tremaining: 572ms\n",
      "761:\tlearn: 0.2907035\ttotal: 1.82s\tremaining: 570ms\n",
      "762:\tlearn: 0.2905623\ttotal: 1.83s\tremaining: 567ms\n",
      "763:\tlearn: 0.2903448\ttotal: 1.83s\tremaining: 565ms\n",
      "764:\tlearn: 0.2901968\ttotal: 1.83s\tremaining: 562ms\n",
      "765:\tlearn: 0.2900788\ttotal: 1.83s\tremaining: 560ms\n",
      "766:\tlearn: 0.2897707\ttotal: 1.83s\tremaining: 557ms\n",
      "767:\tlearn: 0.2896365\ttotal: 1.84s\tremaining: 555ms\n",
      "768:\tlearn: 0.2894433\ttotal: 1.84s\tremaining: 553ms\n",
      "769:\tlearn: 0.2891405\ttotal: 1.84s\tremaining: 550ms\n",
      "770:\tlearn: 0.2890311\ttotal: 1.84s\tremaining: 548ms\n",
      "771:\tlearn: 0.2889147\ttotal: 1.84s\tremaining: 545ms\n",
      "772:\tlearn: 0.2887801\ttotal: 1.85s\tremaining: 543ms\n",
      "773:\tlearn: 0.2886794\ttotal: 1.85s\tremaining: 540ms\n",
      "774:\tlearn: 0.2885670\ttotal: 1.85s\tremaining: 538ms\n",
      "775:\tlearn: 0.2885310\ttotal: 1.85s\tremaining: 535ms\n",
      "776:\tlearn: 0.2884947\ttotal: 1.86s\tremaining: 533ms\n",
      "777:\tlearn: 0.2883970\ttotal: 1.86s\tremaining: 530ms\n",
      "778:\tlearn: 0.2882618\ttotal: 1.86s\tremaining: 528ms\n",
      "779:\tlearn: 0.2881815\ttotal: 1.86s\tremaining: 525ms\n",
      "780:\tlearn: 0.2881518\ttotal: 1.86s\tremaining: 523ms\n",
      "781:\tlearn: 0.2881038\ttotal: 1.87s\tremaining: 520ms\n",
      "782:\tlearn: 0.2879734\ttotal: 1.87s\tremaining: 518ms\n",
      "783:\tlearn: 0.2878671\ttotal: 1.87s\tremaining: 516ms\n",
      "784:\tlearn: 0.2877052\ttotal: 1.87s\tremaining: 513ms\n",
      "785:\tlearn: 0.2876383\ttotal: 1.88s\tremaining: 511ms\n",
      "786:\tlearn: 0.2872939\ttotal: 1.88s\tremaining: 508ms\n",
      "787:\tlearn: 0.2872581\ttotal: 1.88s\tremaining: 506ms\n",
      "788:\tlearn: 0.2871860\ttotal: 1.88s\tremaining: 503ms\n",
      "789:\tlearn: 0.2870719\ttotal: 1.88s\tremaining: 501ms\n",
      "790:\tlearn: 0.2869062\ttotal: 1.89s\tremaining: 498ms\n",
      "791:\tlearn: 0.2866405\ttotal: 1.89s\tremaining: 496ms\n",
      "792:\tlearn: 0.2865485\ttotal: 1.89s\tremaining: 493ms\n",
      "793:\tlearn: 0.2864235\ttotal: 1.89s\tremaining: 491ms\n",
      "794:\tlearn: 0.2862811\ttotal: 1.89s\tremaining: 489ms\n",
      "795:\tlearn: 0.2861599\ttotal: 1.9s\tremaining: 486ms\n",
      "796:\tlearn: 0.2860869\ttotal: 1.9s\tremaining: 484ms\n",
      "797:\tlearn: 0.2860527\ttotal: 1.9s\tremaining: 481ms\n",
      "798:\tlearn: 0.2859637\ttotal: 1.9s\tremaining: 479ms\n",
      "799:\tlearn: 0.2857714\ttotal: 1.91s\tremaining: 476ms\n",
      "800:\tlearn: 0.2856739\ttotal: 1.91s\tremaining: 474ms\n",
      "801:\tlearn: 0.2856121\ttotal: 1.91s\tremaining: 471ms\n",
      "802:\tlearn: 0.2854899\ttotal: 1.91s\tremaining: 469ms\n",
      "803:\tlearn: 0.2852713\ttotal: 1.91s\tremaining: 467ms\n",
      "804:\tlearn: 0.2850193\ttotal: 1.92s\tremaining: 464ms\n",
      "805:\tlearn: 0.2848191\ttotal: 1.92s\tremaining: 462ms\n",
      "806:\tlearn: 0.2846148\ttotal: 1.92s\tremaining: 459ms\n",
      "807:\tlearn: 0.2845192\ttotal: 1.92s\tremaining: 457ms\n",
      "808:\tlearn: 0.2844068\ttotal: 1.93s\tremaining: 455ms\n",
      "809:\tlearn: 0.2843024\ttotal: 1.93s\tremaining: 452ms\n",
      "810:\tlearn: 0.2841394\ttotal: 1.93s\tremaining: 450ms\n",
      "811:\tlearn: 0.2840469\ttotal: 1.93s\tremaining: 447ms\n",
      "812:\tlearn: 0.2839644\ttotal: 1.93s\tremaining: 445ms\n",
      "813:\tlearn: 0.2836521\ttotal: 1.94s\tremaining: 443ms\n",
      "814:\tlearn: 0.2835857\ttotal: 1.94s\tremaining: 440ms\n",
      "815:\tlearn: 0.2832841\ttotal: 1.94s\tremaining: 438ms\n",
      "816:\tlearn: 0.2832109\ttotal: 1.95s\tremaining: 436ms\n",
      "817:\tlearn: 0.2829914\ttotal: 1.95s\tremaining: 434ms\n",
      "818:\tlearn: 0.2829265\ttotal: 1.95s\tremaining: 431ms\n",
      "819:\tlearn: 0.2827697\ttotal: 1.96s\tremaining: 429ms\n",
      "820:\tlearn: 0.2826326\ttotal: 1.96s\tremaining: 427ms\n",
      "821:\tlearn: 0.2825883\ttotal: 1.96s\tremaining: 425ms\n",
      "822:\tlearn: 0.2824661\ttotal: 1.97s\tremaining: 425ms\n",
      "823:\tlearn: 0.2823224\ttotal: 1.98s\tremaining: 422ms\n",
      "824:\tlearn: 0.2822026\ttotal: 1.98s\tremaining: 420ms\n",
      "825:\tlearn: 0.2821186\ttotal: 1.98s\tremaining: 417ms\n",
      "826:\tlearn: 0.2820969\ttotal: 1.98s\tremaining: 415ms\n",
      "827:\tlearn: 0.2820457\ttotal: 1.99s\tremaining: 412ms\n",
      "828:\tlearn: 0.2819963\ttotal: 1.99s\tremaining: 410ms\n",
      "829:\tlearn: 0.2819288\ttotal: 1.99s\tremaining: 408ms\n",
      "830:\tlearn: 0.2817719\ttotal: 1.99s\tremaining: 405ms\n",
      "831:\tlearn: 0.2816542\ttotal: 1.99s\tremaining: 403ms\n",
      "832:\tlearn: 0.2815798\ttotal: 2s\tremaining: 400ms\n",
      "833:\tlearn: 0.2814375\ttotal: 2s\tremaining: 398ms\n",
      "834:\tlearn: 0.2812559\ttotal: 2s\tremaining: 395ms\n",
      "835:\tlearn: 0.2811486\ttotal: 2s\tremaining: 393ms\n",
      "836:\tlearn: 0.2808138\ttotal: 2s\tremaining: 391ms\n",
      "837:\tlearn: 0.2806505\ttotal: 2.01s\tremaining: 388ms\n",
      "838:\tlearn: 0.2804762\ttotal: 2.01s\tremaining: 386ms\n",
      "839:\tlearn: 0.2803250\ttotal: 2.01s\tremaining: 383ms\n",
      "840:\tlearn: 0.2802777\ttotal: 2.01s\tremaining: 381ms\n",
      "841:\tlearn: 0.2799203\ttotal: 2.02s\tremaining: 378ms\n",
      "842:\tlearn: 0.2798641\ttotal: 2.02s\tremaining: 376ms\n",
      "843:\tlearn: 0.2797909\ttotal: 2.02s\tremaining: 374ms\n",
      "844:\tlearn: 0.2796785\ttotal: 2.02s\tremaining: 371ms\n",
      "845:\tlearn: 0.2795620\ttotal: 2.03s\tremaining: 369ms\n",
      "846:\tlearn: 0.2795138\ttotal: 2.03s\tremaining: 366ms\n",
      "847:\tlearn: 0.2793261\ttotal: 2.03s\tremaining: 364ms\n",
      "848:\tlearn: 0.2791759\ttotal: 2.03s\tremaining: 362ms\n",
      "849:\tlearn: 0.2791128\ttotal: 2.04s\tremaining: 359ms\n",
      "850:\tlearn: 0.2790221\ttotal: 2.04s\tremaining: 357ms\n",
      "851:\tlearn: 0.2787836\ttotal: 2.04s\tremaining: 354ms\n",
      "852:\tlearn: 0.2787173\ttotal: 2.04s\tremaining: 352ms\n",
      "853:\tlearn: 0.2786282\ttotal: 2.04s\tremaining: 350ms\n",
      "854:\tlearn: 0.2782699\ttotal: 2.05s\tremaining: 347ms\n",
      "855:\tlearn: 0.2781790\ttotal: 2.05s\tremaining: 345ms\n",
      "856:\tlearn: 0.2781284\ttotal: 2.05s\tremaining: 342ms\n",
      "857:\tlearn: 0.2780121\ttotal: 2.05s\tremaining: 340ms\n",
      "858:\tlearn: 0.2779240\ttotal: 2.06s\tremaining: 337ms\n",
      "859:\tlearn: 0.2775874\ttotal: 2.06s\tremaining: 335ms\n",
      "860:\tlearn: 0.2775601\ttotal: 2.06s\tremaining: 333ms\n",
      "861:\tlearn: 0.2773174\ttotal: 2.06s\tremaining: 330ms\n",
      "862:\tlearn: 0.2771487\ttotal: 2.06s\tremaining: 328ms\n",
      "863:\tlearn: 0.2769086\ttotal: 2.07s\tremaining: 325ms\n",
      "864:\tlearn: 0.2768395\ttotal: 2.07s\tremaining: 323ms\n",
      "865:\tlearn: 0.2767760\ttotal: 2.07s\tremaining: 320ms\n",
      "866:\tlearn: 0.2767080\ttotal: 2.07s\tremaining: 318ms\n",
      "867:\tlearn: 0.2763621\ttotal: 2.08s\tremaining: 316ms\n",
      "868:\tlearn: 0.2762707\ttotal: 2.08s\tremaining: 313ms\n",
      "869:\tlearn: 0.2761807\ttotal: 2.08s\tremaining: 311ms\n",
      "870:\tlearn: 0.2760957\ttotal: 2.08s\tremaining: 308ms\n",
      "871:\tlearn: 0.2759985\ttotal: 2.08s\tremaining: 306ms\n",
      "872:\tlearn: 0.2758629\ttotal: 2.09s\tremaining: 304ms\n",
      "873:\tlearn: 0.2757857\ttotal: 2.09s\tremaining: 301ms\n",
      "874:\tlearn: 0.2756721\ttotal: 2.09s\tremaining: 299ms\n",
      "875:\tlearn: 0.2755651\ttotal: 2.09s\tremaining: 296ms\n",
      "876:\tlearn: 0.2752492\ttotal: 2.1s\tremaining: 294ms\n",
      "877:\tlearn: 0.2751127\ttotal: 2.1s\tremaining: 292ms\n",
      "878:\tlearn: 0.2750454\ttotal: 2.1s\tremaining: 289ms\n",
      "879:\tlearn: 0.2749814\ttotal: 2.1s\tremaining: 287ms\n",
      "880:\tlearn: 0.2748498\ttotal: 2.1s\tremaining: 284ms\n",
      "881:\tlearn: 0.2747311\ttotal: 2.11s\tremaining: 282ms\n",
      "882:\tlearn: 0.2746681\ttotal: 2.11s\tremaining: 279ms\n",
      "883:\tlearn: 0.2745511\ttotal: 2.11s\tremaining: 277ms\n",
      "884:\tlearn: 0.2745200\ttotal: 2.11s\tremaining: 275ms\n",
      "885:\tlearn: 0.2744412\ttotal: 2.12s\tremaining: 272ms\n",
      "886:\tlearn: 0.2743902\ttotal: 2.12s\tremaining: 270ms\n",
      "887:\tlearn: 0.2743216\ttotal: 2.12s\tremaining: 267ms\n",
      "888:\tlearn: 0.2742168\ttotal: 2.12s\tremaining: 265ms\n",
      "889:\tlearn: 0.2739621\ttotal: 2.12s\tremaining: 263ms\n",
      "890:\tlearn: 0.2736917\ttotal: 2.13s\tremaining: 260ms\n",
      "891:\tlearn: 0.2735631\ttotal: 2.13s\tremaining: 258ms\n",
      "892:\tlearn: 0.2734356\ttotal: 2.13s\tremaining: 255ms\n",
      "893:\tlearn: 0.2731167\ttotal: 2.13s\tremaining: 253ms\n",
      "894:\tlearn: 0.2730800\ttotal: 2.14s\tremaining: 251ms\n",
      "895:\tlearn: 0.2730138\ttotal: 2.14s\tremaining: 248ms\n",
      "896:\tlearn: 0.2728616\ttotal: 2.14s\tremaining: 246ms\n",
      "897:\tlearn: 0.2727366\ttotal: 2.14s\tremaining: 243ms\n",
      "898:\tlearn: 0.2725252\ttotal: 2.15s\tremaining: 241ms\n",
      "899:\tlearn: 0.2723660\ttotal: 2.15s\tremaining: 239ms\n",
      "900:\tlearn: 0.2722564\ttotal: 2.15s\tremaining: 236ms\n",
      "901:\tlearn: 0.2722266\ttotal: 2.15s\tremaining: 234ms\n",
      "902:\tlearn: 0.2720891\ttotal: 2.15s\tremaining: 231ms\n",
      "903:\tlearn: 0.2719953\ttotal: 2.16s\tremaining: 229ms\n",
      "904:\tlearn: 0.2719613\ttotal: 2.16s\tremaining: 227ms\n",
      "905:\tlearn: 0.2719043\ttotal: 2.16s\tremaining: 224ms\n",
      "906:\tlearn: 0.2717330\ttotal: 2.16s\tremaining: 222ms\n",
      "907:\tlearn: 0.2716705\ttotal: 2.17s\tremaining: 220ms\n",
      "908:\tlearn: 0.2715476\ttotal: 2.17s\tremaining: 217ms\n",
      "909:\tlearn: 0.2714696\ttotal: 2.17s\tremaining: 215ms\n",
      "910:\tlearn: 0.2713947\ttotal: 2.17s\tremaining: 212ms\n",
      "911:\tlearn: 0.2712618\ttotal: 2.18s\tremaining: 210ms\n",
      "912:\tlearn: 0.2709578\ttotal: 2.18s\tremaining: 208ms\n",
      "913:\tlearn: 0.2708322\ttotal: 2.18s\tremaining: 205ms\n",
      "914:\tlearn: 0.2707959\ttotal: 2.18s\tremaining: 203ms\n",
      "915:\tlearn: 0.2707592\ttotal: 2.19s\tremaining: 200ms\n",
      "916:\tlearn: 0.2705719\ttotal: 2.19s\tremaining: 198ms\n",
      "917:\tlearn: 0.2705183\ttotal: 2.19s\tremaining: 196ms\n",
      "918:\tlearn: 0.2704065\ttotal: 2.19s\tremaining: 193ms\n",
      "919:\tlearn: 0.2702703\ttotal: 2.19s\tremaining: 191ms\n",
      "920:\tlearn: 0.2702386\ttotal: 2.2s\tremaining: 188ms\n",
      "921:\tlearn: 0.2700212\ttotal: 2.2s\tremaining: 186ms\n",
      "922:\tlearn: 0.2698380\ttotal: 2.2s\tremaining: 184ms\n",
      "923:\tlearn: 0.2697680\ttotal: 2.2s\tremaining: 181ms\n",
      "924:\tlearn: 0.2696685\ttotal: 2.21s\tremaining: 179ms\n",
      "925:\tlearn: 0.2694960\ttotal: 2.21s\tremaining: 176ms\n",
      "926:\tlearn: 0.2694153\ttotal: 2.21s\tremaining: 174ms\n",
      "927:\tlearn: 0.2693730\ttotal: 2.21s\tremaining: 172ms\n",
      "928:\tlearn: 0.2693000\ttotal: 2.21s\tremaining: 169ms\n",
      "929:\tlearn: 0.2691430\ttotal: 2.22s\tremaining: 167ms\n",
      "930:\tlearn: 0.2689867\ttotal: 2.22s\tremaining: 164ms\n",
      "931:\tlearn: 0.2688718\ttotal: 2.22s\tremaining: 162ms\n",
      "932:\tlearn: 0.2687696\ttotal: 2.22s\tremaining: 160ms\n",
      "933:\tlearn: 0.2685918\ttotal: 2.23s\tremaining: 157ms\n",
      "934:\tlearn: 0.2684621\ttotal: 2.23s\tremaining: 155ms\n",
      "935:\tlearn: 0.2682419\ttotal: 2.23s\tremaining: 152ms\n",
      "936:\tlearn: 0.2679921\ttotal: 2.23s\tremaining: 150ms\n",
      "937:\tlearn: 0.2676570\ttotal: 2.23s\tremaining: 148ms\n",
      "938:\tlearn: 0.2673430\ttotal: 2.24s\tremaining: 145ms\n",
      "939:\tlearn: 0.2672463\ttotal: 2.24s\tremaining: 143ms\n",
      "940:\tlearn: 0.2672109\ttotal: 2.24s\tremaining: 141ms\n",
      "941:\tlearn: 0.2668754\ttotal: 2.24s\tremaining: 138ms\n",
      "942:\tlearn: 0.2666090\ttotal: 2.25s\tremaining: 136ms\n",
      "943:\tlearn: 0.2662861\ttotal: 2.25s\tremaining: 133ms\n",
      "944:\tlearn: 0.2662358\ttotal: 2.25s\tremaining: 131ms\n",
      "945:\tlearn: 0.2659317\ttotal: 2.25s\tremaining: 129ms\n",
      "946:\tlearn: 0.2658945\ttotal: 2.25s\tremaining: 126ms\n",
      "947:\tlearn: 0.2658659\ttotal: 2.26s\tremaining: 124ms\n",
      "948:\tlearn: 0.2656938\ttotal: 2.26s\tremaining: 121ms\n",
      "949:\tlearn: 0.2654204\ttotal: 2.26s\tremaining: 119ms\n",
      "950:\tlearn: 0.2653898\ttotal: 2.26s\tremaining: 117ms\n",
      "951:\tlearn: 0.2653802\ttotal: 2.27s\tremaining: 114ms\n",
      "952:\tlearn: 0.2651484\ttotal: 2.27s\tremaining: 112ms\n",
      "953:\tlearn: 0.2649018\ttotal: 2.27s\tremaining: 109ms\n",
      "954:\tlearn: 0.2648275\ttotal: 2.27s\tremaining: 107ms\n",
      "955:\tlearn: 0.2646770\ttotal: 2.27s\tremaining: 105ms\n",
      "956:\tlearn: 0.2645814\ttotal: 2.28s\tremaining: 102ms\n",
      "957:\tlearn: 0.2642916\ttotal: 2.28s\tremaining: 99.9ms\n",
      "958:\tlearn: 0.2642036\ttotal: 2.28s\tremaining: 97.5ms\n",
      "959:\tlearn: 0.2639390\ttotal: 2.28s\tremaining: 95.1ms\n",
      "960:\tlearn: 0.2636487\ttotal: 2.29s\tremaining: 92.7ms\n",
      "961:\tlearn: 0.2635780\ttotal: 2.29s\tremaining: 90.4ms\n",
      "962:\tlearn: 0.2634620\ttotal: 2.29s\tremaining: 88ms\n",
      "963:\tlearn: 0.2632260\ttotal: 2.29s\tremaining: 85.6ms\n",
      "964:\tlearn: 0.2631765\ttotal: 2.29s\tremaining: 83.2ms\n",
      "965:\tlearn: 0.2629721\ttotal: 2.3s\tremaining: 80.8ms\n",
      "966:\tlearn: 0.2626730\ttotal: 2.3s\tremaining: 78.4ms\n",
      "967:\tlearn: 0.2624028\ttotal: 2.3s\tremaining: 76.1ms\n",
      "968:\tlearn: 0.2623635\ttotal: 2.3s\tremaining: 73.7ms\n",
      "969:\tlearn: 0.2621219\ttotal: 2.31s\tremaining: 71.3ms\n",
      "970:\tlearn: 0.2618510\ttotal: 2.31s\tremaining: 68.9ms\n",
      "971:\tlearn: 0.2617718\ttotal: 2.31s\tremaining: 66.5ms\n",
      "972:\tlearn: 0.2616317\ttotal: 2.31s\tremaining: 64.2ms\n",
      "973:\tlearn: 0.2616043\ttotal: 2.31s\tremaining: 61.8ms\n",
      "974:\tlearn: 0.2614035\ttotal: 2.32s\tremaining: 59.4ms\n",
      "975:\tlearn: 0.2612742\ttotal: 2.32s\tremaining: 57ms\n",
      "976:\tlearn: 0.2611725\ttotal: 2.32s\tremaining: 54.6ms\n",
      "977:\tlearn: 0.2611310\ttotal: 2.32s\tremaining: 52.3ms\n",
      "978:\tlearn: 0.2609867\ttotal: 2.33s\tremaining: 49.9ms\n",
      "979:\tlearn: 0.2608172\ttotal: 2.33s\tremaining: 47.5ms\n",
      "980:\tlearn: 0.2607252\ttotal: 2.33s\tremaining: 45.1ms\n",
      "981:\tlearn: 0.2604750\ttotal: 2.33s\tremaining: 42.8ms\n",
      "982:\tlearn: 0.2601872\ttotal: 2.33s\tremaining: 40.4ms\n",
      "983:\tlearn: 0.2601432\ttotal: 2.34s\tremaining: 38ms\n",
      "984:\tlearn: 0.2600376\ttotal: 2.34s\tremaining: 35.6ms\n",
      "985:\tlearn: 0.2600000\ttotal: 2.34s\tremaining: 33.2ms\n",
      "986:\tlearn: 0.2597415\ttotal: 2.34s\tremaining: 30.9ms\n",
      "987:\tlearn: 0.2595269\ttotal: 2.35s\tremaining: 28.5ms\n",
      "988:\tlearn: 0.2594299\ttotal: 2.35s\tremaining: 26.1ms\n",
      "989:\tlearn: 0.2593664\ttotal: 2.35s\tremaining: 23.7ms\n",
      "990:\tlearn: 0.2591742\ttotal: 2.35s\tremaining: 21.4ms\n",
      "991:\tlearn: 0.2589739\ttotal: 2.35s\tremaining: 19ms\n",
      "992:\tlearn: 0.2589056\ttotal: 2.36s\tremaining: 16.6ms\n",
      "993:\tlearn: 0.2588315\ttotal: 2.36s\tremaining: 14.2ms\n",
      "994:\tlearn: 0.2586425\ttotal: 2.36s\tremaining: 11.9ms\n",
      "995:\tlearn: 0.2584294\ttotal: 2.36s\tremaining: 9.49ms\n",
      "996:\tlearn: 0.2581798\ttotal: 2.37s\tremaining: 7.12ms\n",
      "997:\tlearn: 0.2580528\ttotal: 2.37s\tremaining: 4.75ms\n",
      "998:\tlearn: 0.2580163\ttotal: 2.37s\tremaining: 2.37ms\n",
      "999:\tlearn: 0.2577569\ttotal: 2.37s\tremaining: 0us\n",
      " \tAccuracy: 0.3820\tF1_score: 0.7130\tPrecision: 0.7333\tRecall: 0.6937 \n"
     ]
    }
   ],
   "source": [
    "from catboost import CatBoostClassifier\n",
    "cb_clf = CatBoostClassifier()\n",
    "cb_clf.fit(X_train, y_train)\n",
    "cb_pred = dt_clf.predict(X_test)\n",
    "cb_acc = gnb_clf.score(X_train, y_train)\n",
    "cb_f1_score = f1_score(y_test, cb_pred)\n",
    "cb_precision = precision_score(y_test, cb_pred)\n",
    "cb_recall = recall_score(y_test, cb_pred)\n",
    "print(PERF_FORMAT_STRING.format(cb_acc, cb_f1_score, cb_precision, cb_recall, round = 4))"
   ]
  },
  {
   "cell_type": "code",
   "execution_count": 158,
   "id": "99d7963c-b14a-48a1-bdad-efea18ca3651",
   "metadata": {},
   "outputs": [
    {
     "name": "stdout",
     "output_type": "stream",
     "text": [
      " \tAccuracy: 0.3820\tF1_score: 0.7130\tPrecision: 0.7333\tRecall: 0.6937 \n"
     ]
    }
   ],
   "source": [
    "from sklearn.ensemble import AdaBoostClassifier\n",
    "ab_clf = AdaBoostClassifier()\n",
    "ab_clf.fit(X_train, y_train)\n",
    "ab_pred = dt_clf.predict(X_test)\n",
    "ab_acc = gnb_clf.score(X_train, y_train)\n",
    "ab_f1_score = f1_score(y_test, ab_pred)\n",
    "ab_precision = precision_score(y_test, ab_pred)\n",
    "ab_recall = recall_score(y_test, ab_pred)\n",
    "print(PERF_FORMAT_STRING.format(ab_acc, ab_f1_score, ab_precision, ab_recall, round = 4))"
   ]
  },
  {
   "cell_type": "code",
   "execution_count": null,
   "id": "90c64b1b-0cac-42f7-800b-4363f527678b",
   "metadata": {},
   "outputs": [],
   "source": []
  }
 ],
 "metadata": {
  "kernelspec": {
   "display_name": "Python 3 (ipykernel)",
   "language": "python",
   "name": "python3"
  },
  "language_info": {
   "codemirror_mode": {
    "name": "ipython",
    "version": 3
   },
   "file_extension": ".py",
   "mimetype": "text/x-python",
   "name": "python",
   "nbconvert_exporter": "python",
   "pygments_lexer": "ipython3",
   "version": "3.11.3"
  }
 },
 "nbformat": 4,
 "nbformat_minor": 5
}
